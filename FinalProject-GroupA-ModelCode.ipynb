{
 "cells": [
  {
   "cell_type": "markdown",
   "metadata": {},
   "source": [
    "# Source Code:  Model Building for Mortality in the United States\n",
    "\n",
    "## Introduction \n",
    "This file contains the source code supporting the GLM models that were built during work on the `Mortality in the United States` report created by the following individuals, as a part of Washington University's Foundations of Analytics course. \n",
    "\n",
    "* Kunihiro Fujita \n",
    "* Qi Lu\n",
    "* Segun Akinyemi\n",
    "* Gowtham Anbumani"
   ]
  },
  {
   "cell_type": "code",
   "execution_count": null,
   "metadata": {},
   "outputs": [],
   "source": [
    "import json\n",
    "import math\n",
    "import warnings\n",
    "import pandas as pd\n",
    "import numpy as np\n",
    "import statsmodels.api as sm\n",
    "import matplotlib.pyplot as plt\n"
   ]
  },
  {
   "cell_type": "markdown",
   "metadata": {},
   "source": [
    "# Prepare for using 'age_recode_12'"
   ]
  },
  {
   "cell_type": "code",
   "execution_count": 59,
   "metadata": {},
   "outputs": [],
   "source": [
    "unuseful_colnames=[\n",
    "       'resident_status',\n",
    "       'education_reporting_flag', 'detail_age_type',\n",
    "       'detail_age', 'age_substitution_flag', 'age_recode_52','age_recode_27', 'icd_code_10th_revision',\n",
    "       'infant_age_recode_22',\n",
    "       'place_of_death_and_decedents_status', \n",
    "       'day_of_week_of_death', \n",
    "       'method_of_disposition','autopsy', \n",
    "       'place_of_injury_for_causes_w00_y34_except_y06_and_y07_',\n",
    "       '358_cause_recode', 'activity_code',\n",
    "       '130_infant_cause_recode', '39_cause_recode',\n",
    "       'number_of_entity_axis_conditions', 'entity_condition_1',\n",
    "       'entity_condition_2', 'entity_condition_3', 'entity_condition_4',\n",
    "       'entity_condition_5', 'entity_condition_6', 'entity_condition_7',\n",
    "       'entity_condition_8', 'entity_condition_9', 'entity_condition_10',\n",
    "       'entity_condition_11', 'entity_condition_12', 'entity_condition_13',\n",
    "       'entity_condition_14', 'entity_condition_15', 'entity_condition_16',\n",
    "       'entity_condition_17', 'entity_condition_18', 'entity_condition_19',\n",
    "       'entity_condition_20', 'number_of_record_axis_conditions',\n",
    "       'record_condition_1', 'record_condition_2', 'record_condition_3',\n",
    "       'record_condition_4', 'record_condition_5', 'record_condition_6',\n",
    "       'record_condition_7', 'record_condition_8', 'record_condition_9',\n",
    "       'record_condition_10', 'record_condition_11', 'record_condition_12',\n",
    "       'record_condition_13', 'record_condition_14', 'record_condition_15',\n",
    "       'record_condition_16', 'record_condition_17', 'record_condition_18',\n",
    "       'record_condition_19', 'record_condition_20', \n",
    "       'race','bridged_race_flag', 'race_imputation_flag', 'race_recode_3',\n",
    "       'hispanic_origin', 'hispanic_originrace_recode']"
   ]
  },
  {
   "cell_type": "code",
   "execution_count": 36,
   "metadata": {},
   "outputs": [],
   "source": [
    "unuseful_colnames2=[\n",
    "    'education_1989_revision', 'education_2003_revision', \n",
    "    'month_of_death', 'sex', 'marital_status', 'current_data_year', \n",
    "    'injury_at_work', 'manner_of_death', '113_cause_recode',\n",
    "    'race_recode_5']"
   ]
  },
  {
   "cell_type": "markdown",
   "metadata": {},
   "source": [
    "# Import Data from CSV\n",
    "### 'df.csv' file includes data between 2005 to 2015, which drops all useless colums. Useless columns are shown below. In addition, column of education are converted appropriately. That is, this file includes all necessary variables we chose and their data."
   ]
  },
  {
   "cell_type": "code",
   "execution_count": 2,
   "metadata": {},
   "outputs": [],
   "source": [
    "# read df.csv\n",
    "warnings.filterwarnings('ignore')\n",
    "df = pd.read_csv( './df.csv', na_values=['NA','?'])\n",
    "age_recode_12 = pd.read_csv( './age_recode_12.csv', na_values=['NA','?'])"
   ]
  },
  {
   "cell_type": "code",
   "execution_count": 3,
   "metadata": {},
   "outputs": [],
   "source": [
    "df = pd.concat([df, age_recode_12], axis=1)"
   ]
  },
  {
   "cell_type": "code",
   "execution_count": 4,
   "metadata": {},
   "outputs": [
    {
     "data": {
      "text/html": [
       "<div>\n",
       "<style scoped>\n",
       "    .dataframe tbody tr th:only-of-type {\n",
       "        vertical-align: middle;\n",
       "    }\n",
       "\n",
       "    .dataframe tbody tr th {\n",
       "        vertical-align: top;\n",
       "    }\n",
       "\n",
       "    .dataframe thead th {\n",
       "        text-align: right;\n",
       "    }\n",
       "</style>\n",
       "<table border=\"1\" class=\"dataframe\">\n",
       "  <thead>\n",
       "    <tr style=\"text-align: right;\">\n",
       "      <th></th>\n",
       "      <th>Unnamed: 0</th>\n",
       "      <th>113_cause_recode</th>\n",
       "      <th>age_recode_27</th>\n",
       "      <th>current_data_year</th>\n",
       "      <th>education_2003_revision</th>\n",
       "      <th>injury_at_work</th>\n",
       "      <th>manner_of_death</th>\n",
       "      <th>marital_status</th>\n",
       "      <th>month_of_death</th>\n",
       "      <th>race_recode_5</th>\n",
       "      <th>sex</th>\n",
       "      <th>Unnamed: 0</th>\n",
       "      <th>age_recode_12</th>\n",
       "    </tr>\n",
       "  </thead>\n",
       "  <tbody>\n",
       "    <tr>\n",
       "      <th>0</th>\n",
       "      <td>0</td>\n",
       "      <td>28</td>\n",
       "      <td>15</td>\n",
       "      <td>2005</td>\n",
       "      <td>2.0</td>\n",
       "      <td>U</td>\n",
       "      <td>7.0</td>\n",
       "      <td>M</td>\n",
       "      <td>1</td>\n",
       "      <td>1</td>\n",
       "      <td>F</td>\n",
       "      <td>0</td>\n",
       "      <td>7</td>\n",
       "    </tr>\n",
       "    <tr>\n",
       "      <th>1</th>\n",
       "      <td>1</td>\n",
       "      <td>84</td>\n",
       "      <td>18</td>\n",
       "      <td>2005</td>\n",
       "      <td>4.0</td>\n",
       "      <td>U</td>\n",
       "      <td>7.0</td>\n",
       "      <td>D</td>\n",
       "      <td>1</td>\n",
       "      <td>1</td>\n",
       "      <td>M</td>\n",
       "      <td>1</td>\n",
       "      <td>8</td>\n",
       "    </tr>\n",
       "    <tr>\n",
       "      <th>2</th>\n",
       "      <td>2</td>\n",
       "      <td>70</td>\n",
       "      <td>21</td>\n",
       "      <td>2005</td>\n",
       "      <td>3.0</td>\n",
       "      <td>U</td>\n",
       "      <td>7.0</td>\n",
       "      <td>D</td>\n",
       "      <td>1</td>\n",
       "      <td>1</td>\n",
       "      <td>F</td>\n",
       "      <td>2</td>\n",
       "      <td>10</td>\n",
       "    </tr>\n",
       "    <tr>\n",
       "      <th>3</th>\n",
       "      <td>3</td>\n",
       "      <td>46</td>\n",
       "      <td>16</td>\n",
       "      <td>2005</td>\n",
       "      <td>3.0</td>\n",
       "      <td>U</td>\n",
       "      <td>7.0</td>\n",
       "      <td>S</td>\n",
       "      <td>1</td>\n",
       "      <td>1</td>\n",
       "      <td>M</td>\n",
       "      <td>3</td>\n",
       "      <td>7</td>\n",
       "    </tr>\n",
       "    <tr>\n",
       "      <th>4</th>\n",
       "      <td>4</td>\n",
       "      <td>27</td>\n",
       "      <td>19</td>\n",
       "      <td>2005</td>\n",
       "      <td>4.0</td>\n",
       "      <td>U</td>\n",
       "      <td>7.0</td>\n",
       "      <td>M</td>\n",
       "      <td>1</td>\n",
       "      <td>1</td>\n",
       "      <td>F</td>\n",
       "      <td>4</td>\n",
       "      <td>9</td>\n",
       "    </tr>\n",
       "  </tbody>\n",
       "</table>\n",
       "</div>"
      ],
      "text/plain": [
       "   Unnamed: 0  113_cause_recode  age_recode_27  current_data_year  \\\n",
       "0           0                28             15               2005   \n",
       "1           1                84             18               2005   \n",
       "2           2                70             21               2005   \n",
       "3           3                46             16               2005   \n",
       "4           4                27             19               2005   \n",
       "\n",
       "   education_2003_revision injury_at_work  manner_of_death marital_status  \\\n",
       "0                      2.0              U              7.0              M   \n",
       "1                      4.0              U              7.0              D   \n",
       "2                      3.0              U              7.0              D   \n",
       "3                      3.0              U              7.0              S   \n",
       "4                      4.0              U              7.0              M   \n",
       "\n",
       "   month_of_death  race_recode_5 sex  Unnamed: 0  age_recode_12  \n",
       "0               1              1   F           0              7  \n",
       "1               1              1   M           1              8  \n",
       "2               1              1   F           2             10  \n",
       "3               1              1   M           3              7  \n",
       "4               1              1   F           4              9  "
      ]
     },
     "execution_count": 4,
     "metadata": {},
     "output_type": "execute_result"
    }
   ],
   "source": [
    "df.head(5)"
   ]
  },
  {
   "cell_type": "code",
   "execution_count": 4,
   "metadata": {},
   "outputs": [],
   "source": [
    "df = df.drop('age_recode_27', axis=1)"
   ]
  },
  {
   "cell_type": "code",
   "execution_count": 5,
   "metadata": {},
   "outputs": [],
   "source": [
    "df = df.drop('Unnamed: 0', axis=1)"
   ]
  },
  {
   "cell_type": "code",
   "execution_count": 7,
   "metadata": {},
   "outputs": [
    {
     "data": {
      "text/html": [
       "<div>\n",
       "<style scoped>\n",
       "    .dataframe tbody tr th:only-of-type {\n",
       "        vertical-align: middle;\n",
       "    }\n",
       "\n",
       "    .dataframe tbody tr th {\n",
       "        vertical-align: top;\n",
       "    }\n",
       "\n",
       "    .dataframe thead th {\n",
       "        text-align: right;\n",
       "    }\n",
       "</style>\n",
       "<table border=\"1\" class=\"dataframe\">\n",
       "  <thead>\n",
       "    <tr style=\"text-align: right;\">\n",
       "      <th></th>\n",
       "      <th>113_cause_recode</th>\n",
       "      <th>current_data_year</th>\n",
       "      <th>education_2003_revision</th>\n",
       "      <th>injury_at_work</th>\n",
       "      <th>manner_of_death</th>\n",
       "      <th>marital_status</th>\n",
       "      <th>month_of_death</th>\n",
       "      <th>race_recode_5</th>\n",
       "      <th>sex</th>\n",
       "      <th>age_recode_12</th>\n",
       "    </tr>\n",
       "  </thead>\n",
       "  <tbody>\n",
       "    <tr>\n",
       "      <th>0</th>\n",
       "      <td>28</td>\n",
       "      <td>2005</td>\n",
       "      <td>2.0</td>\n",
       "      <td>U</td>\n",
       "      <td>7.0</td>\n",
       "      <td>M</td>\n",
       "      <td>1</td>\n",
       "      <td>1</td>\n",
       "      <td>F</td>\n",
       "      <td>7</td>\n",
       "    </tr>\n",
       "    <tr>\n",
       "      <th>1</th>\n",
       "      <td>84</td>\n",
       "      <td>2005</td>\n",
       "      <td>4.0</td>\n",
       "      <td>U</td>\n",
       "      <td>7.0</td>\n",
       "      <td>D</td>\n",
       "      <td>1</td>\n",
       "      <td>1</td>\n",
       "      <td>M</td>\n",
       "      <td>8</td>\n",
       "    </tr>\n",
       "    <tr>\n",
       "      <th>2</th>\n",
       "      <td>70</td>\n",
       "      <td>2005</td>\n",
       "      <td>3.0</td>\n",
       "      <td>U</td>\n",
       "      <td>7.0</td>\n",
       "      <td>D</td>\n",
       "      <td>1</td>\n",
       "      <td>1</td>\n",
       "      <td>F</td>\n",
       "      <td>10</td>\n",
       "    </tr>\n",
       "    <tr>\n",
       "      <th>3</th>\n",
       "      <td>46</td>\n",
       "      <td>2005</td>\n",
       "      <td>3.0</td>\n",
       "      <td>U</td>\n",
       "      <td>7.0</td>\n",
       "      <td>S</td>\n",
       "      <td>1</td>\n",
       "      <td>1</td>\n",
       "      <td>M</td>\n",
       "      <td>7</td>\n",
       "    </tr>\n",
       "    <tr>\n",
       "      <th>4</th>\n",
       "      <td>27</td>\n",
       "      <td>2005</td>\n",
       "      <td>4.0</td>\n",
       "      <td>U</td>\n",
       "      <td>7.0</td>\n",
       "      <td>M</td>\n",
       "      <td>1</td>\n",
       "      <td>1</td>\n",
       "      <td>F</td>\n",
       "      <td>9</td>\n",
       "    </tr>\n",
       "    <tr>\n",
       "      <th>5</th>\n",
       "      <td>70</td>\n",
       "      <td>2005</td>\n",
       "      <td>1.0</td>\n",
       "      <td>U</td>\n",
       "      <td>7.0</td>\n",
       "      <td>W</td>\n",
       "      <td>1</td>\n",
       "      <td>3</td>\n",
       "      <td>F</td>\n",
       "      <td>11</td>\n",
       "    </tr>\n",
       "    <tr>\n",
       "      <th>6</th>\n",
       "      <td>84</td>\n",
       "      <td>2005</td>\n",
       "      <td>3.0</td>\n",
       "      <td>U</td>\n",
       "      <td>7.0</td>\n",
       "      <td>D</td>\n",
       "      <td>1</td>\n",
       "      <td>1</td>\n",
       "      <td>F</td>\n",
       "      <td>9</td>\n",
       "    </tr>\n",
       "    <tr>\n",
       "      <th>7</th>\n",
       "      <td>86</td>\n",
       "      <td>2005</td>\n",
       "      <td>3.0</td>\n",
       "      <td>U</td>\n",
       "      <td>7.0</td>\n",
       "      <td>S</td>\n",
       "      <td>1</td>\n",
       "      <td>3</td>\n",
       "      <td>M</td>\n",
       "      <td>8</td>\n",
       "    </tr>\n",
       "    <tr>\n",
       "      <th>8</th>\n",
       "      <td>84</td>\n",
       "      <td>2005</td>\n",
       "      <td>4.0</td>\n",
       "      <td>U</td>\n",
       "      <td>7.0</td>\n",
       "      <td>D</td>\n",
       "      <td>1</td>\n",
       "      <td>1</td>\n",
       "      <td>F</td>\n",
       "      <td>9</td>\n",
       "    </tr>\n",
       "    <tr>\n",
       "      <th>9</th>\n",
       "      <td>43</td>\n",
       "      <td>2005</td>\n",
       "      <td>1.0</td>\n",
       "      <td>U</td>\n",
       "      <td>7.0</td>\n",
       "      <td>W</td>\n",
       "      <td>1</td>\n",
       "      <td>1</td>\n",
       "      <td>F</td>\n",
       "      <td>11</td>\n",
       "    </tr>\n",
       "  </tbody>\n",
       "</table>\n",
       "</div>"
      ],
      "text/plain": [
       "   113_cause_recode  current_data_year  education_2003_revision  \\\n",
       "0                28               2005                      2.0   \n",
       "1                84               2005                      4.0   \n",
       "2                70               2005                      3.0   \n",
       "3                46               2005                      3.0   \n",
       "4                27               2005                      4.0   \n",
       "5                70               2005                      1.0   \n",
       "6                84               2005                      3.0   \n",
       "7                86               2005                      3.0   \n",
       "8                84               2005                      4.0   \n",
       "9                43               2005                      1.0   \n",
       "\n",
       "  injury_at_work  manner_of_death marital_status  month_of_death  \\\n",
       "0              U              7.0              M               1   \n",
       "1              U              7.0              D               1   \n",
       "2              U              7.0              D               1   \n",
       "3              U              7.0              S               1   \n",
       "4              U              7.0              M               1   \n",
       "5              U              7.0              W               1   \n",
       "6              U              7.0              D               1   \n",
       "7              U              7.0              S               1   \n",
       "8              U              7.0              D               1   \n",
       "9              U              7.0              W               1   \n",
       "\n",
       "   race_recode_5 sex  age_recode_12  \n",
       "0              1   F              7  \n",
       "1              1   M              8  \n",
       "2              1   F             10  \n",
       "3              1   M              7  \n",
       "4              1   F              9  \n",
       "5              3   F             11  \n",
       "6              1   F              9  \n",
       "7              3   M              8  \n",
       "8              1   F              9  \n",
       "9              1   F             11  "
      ]
     },
     "execution_count": 7,
     "metadata": {},
     "output_type": "execute_result"
    }
   ],
   "source": [
    "df.head(10)"
   ]
  },
  {
   "cell_type": "markdown",
   "metadata": {},
   "source": [
    "### Find Top 10 Causes of Death"
   ]
  },
  {
   "cell_type": "code",
   "execution_count": 55,
   "metadata": {},
   "outputs": [],
   "source": [
    "from collections import Counter\n",
    "def top_k(numbers, k=10):\n",
    "    c = Counter(numbers)\n",
    "    most_common = [key for key, val in c.most_common(k)]\n",
    "\n",
    "    return most_common"
   ]
  },
  {
   "cell_type": "code",
   "execution_count": 56,
   "metadata": {},
   "outputs": [
    {
     "name": "stdout",
     "output_type": "stream",
     "text": [
      "[111, 63, 27, 70, 59, 86, 68, 52, 46, 43]\n"
     ]
    }
   ],
   "source": [
    "print(top_k(df[\"113_cause_recode\"]))"
   ]
  },
  {
   "cell_type": "markdown",
   "metadata": {},
   "source": [
    "# preparation model for 63 \n",
    "## 63 = 'All other forms of chronic ischemic heart disease'"
   ]
  },
  {
   "cell_type": "code",
   "execution_count": 6,
   "metadata": {},
   "outputs": [],
   "source": [
    "df_63= df.loc[df['113_cause_recode'] == 63]"
   ]
  },
  {
   "cell_type": "code",
   "execution_count": 7,
   "metadata": {},
   "outputs": [],
   "source": [
    "# By this code, we can get the Number of death for each age band. (For infant labe, it is not 5 age band...)\n",
    "df_63_age=df_63.groupby(['age_recode_12']).size().reset_index(name=\"Num of death\")"
   ]
  },
  {
   "cell_type": "code",
   "execution_count": 8,
   "metadata": {},
   "outputs": [
    {
     "data": {
      "text/html": [
       "<div>\n",
       "<style scoped>\n",
       "    .dataframe tbody tr th:only-of-type {\n",
       "        vertical-align: middle;\n",
       "    }\n",
       "\n",
       "    .dataframe tbody tr th {\n",
       "        vertical-align: top;\n",
       "    }\n",
       "\n",
       "    .dataframe thead th {\n",
       "        text-align: right;\n",
       "    }\n",
       "</style>\n",
       "<table border=\"1\" class=\"dataframe\">\n",
       "  <thead>\n",
       "    <tr style=\"text-align: right;\">\n",
       "      <th></th>\n",
       "      <th>age_recode_12</th>\n",
       "      <th>Num of death</th>\n",
       "    </tr>\n",
       "  </thead>\n",
       "  <tbody>\n",
       "    <tr>\n",
       "      <th>0</th>\n",
       "      <td>1</td>\n",
       "      <td>62</td>\n",
       "    </tr>\n",
       "    <tr>\n",
       "      <th>1</th>\n",
       "      <td>2</td>\n",
       "      <td>37</td>\n",
       "    </tr>\n",
       "    <tr>\n",
       "      <th>2</th>\n",
       "      <td>3</td>\n",
       "      <td>78</td>\n",
       "    </tr>\n",
       "    <tr>\n",
       "      <th>3</th>\n",
       "      <td>4</td>\n",
       "      <td>612</td>\n",
       "    </tr>\n",
       "    <tr>\n",
       "      <th>4</th>\n",
       "      <td>5</td>\n",
       "      <td>4131</td>\n",
       "    </tr>\n",
       "    <tr>\n",
       "      <th>5</th>\n",
       "      <td>6</td>\n",
       "      <td>21875</td>\n",
       "    </tr>\n",
       "    <tr>\n",
       "      <th>6</th>\n",
       "      <td>7</td>\n",
       "      <td>86650</td>\n",
       "    </tr>\n",
       "    <tr>\n",
       "      <th>7</th>\n",
       "      <td>8</td>\n",
       "      <td>193481</td>\n",
       "    </tr>\n",
       "    <tr>\n",
       "      <th>8</th>\n",
       "      <td>9</td>\n",
       "      <td>325655</td>\n",
       "    </tr>\n",
       "    <tr>\n",
       "      <th>9</th>\n",
       "      <td>10</td>\n",
       "      <td>627655</td>\n",
       "    </tr>\n",
       "    <tr>\n",
       "      <th>10</th>\n",
       "      <td>11</td>\n",
       "      <td>952201</td>\n",
       "    </tr>\n",
       "    <tr>\n",
       "      <th>11</th>\n",
       "      <td>12</td>\n",
       "      <td>83</td>\n",
       "    </tr>\n",
       "  </tbody>\n",
       "</table>\n",
       "</div>"
      ],
      "text/plain": [
       "    age_recode_12  Num of death\n",
       "0               1            62\n",
       "1               2            37\n",
       "2               3            78\n",
       "3               4           612\n",
       "4               5          4131\n",
       "5               6         21875\n",
       "6               7         86650\n",
       "7               8        193481\n",
       "8               9        325655\n",
       "9              10        627655\n",
       "10             11        952201\n",
       "11             12            83"
      ]
     },
     "execution_count": 8,
     "metadata": {},
     "output_type": "execute_result"
    }
   ],
   "source": [
    "df_63_age"
   ]
  },
  {
   "cell_type": "markdown",
   "metadata": {},
   "source": [
    "# Try15 -Single (age only)"
   ]
  },
  {
   "cell_type": "code",
   "execution_count": 11,
   "metadata": {},
   "outputs": [
    {
     "name": "stdout",
     "output_type": "stream",
     "text": [
      "                 Generalized Linear Model Regression Results                  \n",
      "==============================================================================\n",
      "Dep. Variable:           Num of death   No. Observations:                   12\n",
      "Model:                            GLM   Df Residuals:                  2212518\n",
      "Model Family:                 Poisson   Df Model:                            1\n",
      "Link Function:                    log   Scale:                          1.0000\n",
      "Method:                          IRLS   Log-Likelihood:            -2.9965e+09\n",
      "Date:                Wed, 27 Nov 2019   Deviance:                   5.9597e+09\n",
      "Time:                        17:57:01   Pearson chi2:                 5.43e+09\n",
      "No. Iterations:                    14                                         \n",
      "Covariance Type:            nonrobust                                         \n",
      "=================================================================================\n",
      "                    coef    std err          z      P>|z|      [0.025      0.975]\n",
      "---------------------------------------------------------------------------------\n",
      "const             8.0117   1.06e-05   7.54e+05      0.000       8.012       8.012\n",
      "age_recode_12     0.5253   1.01e-06    5.2e+05      0.000       0.525       0.525\n",
      "=================================================================================\n"
     ]
    }
   ],
   "source": [
    "#df_single\n",
    "#Poisson Distribution\n",
    "#not dummies\n",
    "import statsmodels.api as sm\n",
    "x=df_63_age['age_recode_12']\n",
    "x_pd = sm.add_constant(x)\n",
    "#x = sm.add_constant(x_pd)\n",
    "y=df_63_age['Num of death']\n",
    "glm_model = sm.GLM(y, x_pd, family=sm.families.Poisson(), freq_weights=y)\n",
    "glm_model_results = glm_model.fit()\n",
    "print(glm_model_results.summary())"
   ]
  },
  {
   "cell_type": "code",
   "execution_count": 12,
   "metadata": {},
   "outputs": [],
   "source": [
    "ypred = glm_model_results.predict(x_pd)\n",
    "df_63_age['ypred'] = pd.DataFrame(ypred)"
   ]
  },
  {
   "cell_type": "code",
   "execution_count": 17,
   "metadata": {},
   "outputs": [
    {
     "data": {
      "image/png": "[encoded data removed]",
      "text/plain": [
       "<Figure size 720x360 with 1 Axes>"
      ]
     },
     "metadata": {
      "needs_background": "light"
     },
     "output_type": "display_data"
    }
   ],
   "source": [
    "df_63_age_agg=df_63_age[['Num of death', 'ypred','age_recode_12']].groupby('age_recode_12').sum().reset_index()\n",
    "df_63_age_agg.plot(x='age_recode_12', y=['Num of death', 'ypred'], figsize=(10,5), grid=True, style=['o','rx'])\n",
    "plt.xlim(0,11.5)\n",
    "plt.ylim(0,1000000)\n",
    "plt.title('Plot')\n",
    "plt.show()"
   ]
  },
  {
   "cell_type": "markdown",
   "metadata": {},
   "source": [
    "# Try 16 Use dummy variables for age"
   ]
  },
  {
   "cell_type": "code",
   "execution_count": 10,
   "metadata": {},
   "outputs": [],
   "source": [
    "df_63_age_dum=pd.get_dummies(df_63_age['age_recode_12'], prefix='age')\n",
    "df_63_age_dum=pd.concat([df_63_age, df_63_age_dum ], axis=1)"
   ]
  },
  {
   "cell_type": "code",
   "execution_count": 11,
   "metadata": {},
   "outputs": [
    {
     "data": {
      "text/html": [
       "<div>\n",
       "<style scoped>\n",
       "    .dataframe tbody tr th:only-of-type {\n",
       "        vertical-align: middle;\n",
       "    }\n",
       "\n",
       "    .dataframe tbody tr th {\n",
       "        vertical-align: top;\n",
       "    }\n",
       "\n",
       "    .dataframe thead th {\n",
       "        text-align: right;\n",
       "    }\n",
       "</style>\n",
       "<table border=\"1\" class=\"dataframe\">\n",
       "  <thead>\n",
       "    <tr style=\"text-align: right;\">\n",
       "      <th></th>\n",
       "      <th>age_recode_12</th>\n",
       "      <th>Num of death</th>\n",
       "      <th>age_1</th>\n",
       "      <th>age_2</th>\n",
       "      <th>age_3</th>\n",
       "      <th>age_4</th>\n",
       "      <th>age_5</th>\n",
       "      <th>age_6</th>\n",
       "      <th>age_7</th>\n",
       "      <th>age_8</th>\n",
       "      <th>age_9</th>\n",
       "      <th>age_10</th>\n",
       "      <th>age_11</th>\n",
       "      <th>age_12</th>\n",
       "    </tr>\n",
       "  </thead>\n",
       "  <tbody>\n",
       "    <tr>\n",
       "      <th>0</th>\n",
       "      <td>1</td>\n",
       "      <td>62</td>\n",
       "      <td>1</td>\n",
       "      <td>0</td>\n",
       "      <td>0</td>\n",
       "      <td>0</td>\n",
       "      <td>0</td>\n",
       "      <td>0</td>\n",
       "      <td>0</td>\n",
       "      <td>0</td>\n",
       "      <td>0</td>\n",
       "      <td>0</td>\n",
       "      <td>0</td>\n",
       "      <td>0</td>\n",
       "    </tr>\n",
       "    <tr>\n",
       "      <th>1</th>\n",
       "      <td>2</td>\n",
       "      <td>37</td>\n",
       "      <td>0</td>\n",
       "      <td>1</td>\n",
       "      <td>0</td>\n",
       "      <td>0</td>\n",
       "      <td>0</td>\n",
       "      <td>0</td>\n",
       "      <td>0</td>\n",
       "      <td>0</td>\n",
       "      <td>0</td>\n",
       "      <td>0</td>\n",
       "      <td>0</td>\n",
       "      <td>0</td>\n",
       "    </tr>\n",
       "    <tr>\n",
       "      <th>2</th>\n",
       "      <td>3</td>\n",
       "      <td>78</td>\n",
       "      <td>0</td>\n",
       "      <td>0</td>\n",
       "      <td>1</td>\n",
       "      <td>0</td>\n",
       "      <td>0</td>\n",
       "      <td>0</td>\n",
       "      <td>0</td>\n",
       "      <td>0</td>\n",
       "      <td>0</td>\n",
       "      <td>0</td>\n",
       "      <td>0</td>\n",
       "      <td>0</td>\n",
       "    </tr>\n",
       "    <tr>\n",
       "      <th>3</th>\n",
       "      <td>4</td>\n",
       "      <td>612</td>\n",
       "      <td>0</td>\n",
       "      <td>0</td>\n",
       "      <td>0</td>\n",
       "      <td>1</td>\n",
       "      <td>0</td>\n",
       "      <td>0</td>\n",
       "      <td>0</td>\n",
       "      <td>0</td>\n",
       "      <td>0</td>\n",
       "      <td>0</td>\n",
       "      <td>0</td>\n",
       "      <td>0</td>\n",
       "    </tr>\n",
       "    <tr>\n",
       "      <th>4</th>\n",
       "      <td>5</td>\n",
       "      <td>4131</td>\n",
       "      <td>0</td>\n",
       "      <td>0</td>\n",
       "      <td>0</td>\n",
       "      <td>0</td>\n",
       "      <td>1</td>\n",
       "      <td>0</td>\n",
       "      <td>0</td>\n",
       "      <td>0</td>\n",
       "      <td>0</td>\n",
       "      <td>0</td>\n",
       "      <td>0</td>\n",
       "      <td>0</td>\n",
       "    </tr>\n",
       "    <tr>\n",
       "      <th>5</th>\n",
       "      <td>6</td>\n",
       "      <td>21875</td>\n",
       "      <td>0</td>\n",
       "      <td>0</td>\n",
       "      <td>0</td>\n",
       "      <td>0</td>\n",
       "      <td>0</td>\n",
       "      <td>1</td>\n",
       "      <td>0</td>\n",
       "      <td>0</td>\n",
       "      <td>0</td>\n",
       "      <td>0</td>\n",
       "      <td>0</td>\n",
       "      <td>0</td>\n",
       "    </tr>\n",
       "    <tr>\n",
       "      <th>6</th>\n",
       "      <td>7</td>\n",
       "      <td>86650</td>\n",
       "      <td>0</td>\n",
       "      <td>0</td>\n",
       "      <td>0</td>\n",
       "      <td>0</td>\n",
       "      <td>0</td>\n",
       "      <td>0</td>\n",
       "      <td>1</td>\n",
       "      <td>0</td>\n",
       "      <td>0</td>\n",
       "      <td>0</td>\n",
       "      <td>0</td>\n",
       "      <td>0</td>\n",
       "    </tr>\n",
       "    <tr>\n",
       "      <th>7</th>\n",
       "      <td>8</td>\n",
       "      <td>193481</td>\n",
       "      <td>0</td>\n",
       "      <td>0</td>\n",
       "      <td>0</td>\n",
       "      <td>0</td>\n",
       "      <td>0</td>\n",
       "      <td>0</td>\n",
       "      <td>0</td>\n",
       "      <td>1</td>\n",
       "      <td>0</td>\n",
       "      <td>0</td>\n",
       "      <td>0</td>\n",
       "      <td>0</td>\n",
       "    </tr>\n",
       "    <tr>\n",
       "      <th>8</th>\n",
       "      <td>9</td>\n",
       "      <td>325655</td>\n",
       "      <td>0</td>\n",
       "      <td>0</td>\n",
       "      <td>0</td>\n",
       "      <td>0</td>\n",
       "      <td>0</td>\n",
       "      <td>0</td>\n",
       "      <td>0</td>\n",
       "      <td>0</td>\n",
       "      <td>1</td>\n",
       "      <td>0</td>\n",
       "      <td>0</td>\n",
       "      <td>0</td>\n",
       "    </tr>\n",
       "    <tr>\n",
       "      <th>9</th>\n",
       "      <td>10</td>\n",
       "      <td>627655</td>\n",
       "      <td>0</td>\n",
       "      <td>0</td>\n",
       "      <td>0</td>\n",
       "      <td>0</td>\n",
       "      <td>0</td>\n",
       "      <td>0</td>\n",
       "      <td>0</td>\n",
       "      <td>0</td>\n",
       "      <td>0</td>\n",
       "      <td>1</td>\n",
       "      <td>0</td>\n",
       "      <td>0</td>\n",
       "    </tr>\n",
       "    <tr>\n",
       "      <th>10</th>\n",
       "      <td>11</td>\n",
       "      <td>952201</td>\n",
       "      <td>0</td>\n",
       "      <td>0</td>\n",
       "      <td>0</td>\n",
       "      <td>0</td>\n",
       "      <td>0</td>\n",
       "      <td>0</td>\n",
       "      <td>0</td>\n",
       "      <td>0</td>\n",
       "      <td>0</td>\n",
       "      <td>0</td>\n",
       "      <td>1</td>\n",
       "      <td>0</td>\n",
       "    </tr>\n",
       "    <tr>\n",
       "      <th>11</th>\n",
       "      <td>12</td>\n",
       "      <td>83</td>\n",
       "      <td>0</td>\n",
       "      <td>0</td>\n",
       "      <td>0</td>\n",
       "      <td>0</td>\n",
       "      <td>0</td>\n",
       "      <td>0</td>\n",
       "      <td>0</td>\n",
       "      <td>0</td>\n",
       "      <td>0</td>\n",
       "      <td>0</td>\n",
       "      <td>0</td>\n",
       "      <td>1</td>\n",
       "    </tr>\n",
       "  </tbody>\n",
       "</table>\n",
       "</div>"
      ],
      "text/plain": [
       "    age_recode_12  Num of death  age_1  age_2  age_3  age_4  age_5  age_6  \\\n",
       "0               1            62      1      0      0      0      0      0   \n",
       "1               2            37      0      1      0      0      0      0   \n",
       "2               3            78      0      0      1      0      0      0   \n",
       "3               4           612      0      0      0      1      0      0   \n",
       "4               5          4131      0      0      0      0      1      0   \n",
       "5               6         21875      0      0      0      0      0      1   \n",
       "6               7         86650      0      0      0      0      0      0   \n",
       "7               8        193481      0      0      0      0      0      0   \n",
       "8               9        325655      0      0      0      0      0      0   \n",
       "9              10        627655      0      0      0      0      0      0   \n",
       "10             11        952201      0      0      0      0      0      0   \n",
       "11             12            83      0      0      0      0      0      0   \n",
       "\n",
       "    age_7  age_8  age_9  age_10  age_11  age_12  \n",
       "0       0      0      0       0       0       0  \n",
       "1       0      0      0       0       0       0  \n",
       "2       0      0      0       0       0       0  \n",
       "3       0      0      0       0       0       0  \n",
       "4       0      0      0       0       0       0  \n",
       "5       0      0      0       0       0       0  \n",
       "6       1      0      0       0       0       0  \n",
       "7       0      1      0       0       0       0  \n",
       "8       0      0      1       0       0       0  \n",
       "9       0      0      0       1       0       0  \n",
       "10      0      0      0       0       1       0  \n",
       "11      0      0      0       0       0       1  "
      ]
     },
     "execution_count": 11,
     "metadata": {},
     "output_type": "execute_result"
    }
   ],
   "source": [
    "df_63_age_dum.head(12)"
   ]
  },
  {
   "cell_type": "code",
   "execution_count": 20,
   "metadata": {},
   "outputs": [],
   "source": [
    "df_63_age_dum = df_63_age_dum.drop('ypred', axis=1)"
   ]
  },
  {
   "cell_type": "code",
   "execution_count": 21,
   "metadata": {},
   "outputs": [
    {
     "data": {
      "text/plain": [
       "Index(['age_recode_12', 'Num of death', 'age_1', 'age_2', 'age_3', 'age_4',\n",
       "       'age_5', 'age_6', 'age_7', 'age_8', 'age_9', 'age_10', 'age_11',\n",
       "       'age_12'],\n",
       "      dtype='object')"
      ]
     },
     "execution_count": 21,
     "metadata": {},
     "output_type": "execute_result"
    }
   ],
   "source": [
    "df_63_age_dum.columns"
   ]
  },
  {
   "cell_type": "code",
   "execution_count": 23,
   "metadata": {},
   "outputs": [],
   "source": [
    "#df_63_age_dum.head(12)"
   ]
  },
  {
   "cell_type": "code",
   "execution_count": 24,
   "metadata": {},
   "outputs": [],
   "source": [
    "#age_dummy={'age_1', 'age_2', 'age_3', 'age_4', 'age_5', 'age_6', 'age_7', 'age_8',\n",
    "#       'age_9', 'age_10', 'age_11',  'age_12'}\n",
    "age_dummy={'age_5', 'age_6', 'age_7', 'age_8', 'age_9', 'age_10', 'age_11'}"
   ]
  },
  {
   "cell_type": "code",
   "execution_count": 25,
   "metadata": {},
   "outputs": [
    {
     "name": "stdout",
     "output_type": "stream",
     "text": [
      "                 Generalized Linear Model Regression Results                  \n",
      "==============================================================================\n",
      "Dep. Variable:           Num of death   No. Observations:                   12\n",
      "Model:                            GLM   Df Residuals:                  2212512\n",
      "Model Family:                 Poisson   Df Model:                            7\n",
      "Link Function:                    log   Scale:                          1.0000\n",
      "Method:                          IRLS   Log-Likelihood:            -1.6725e+07\n",
      "Date:                Wed, 27 Nov 2019   Deviance:                   1.6298e+05\n",
      "Time:                        18:04:19   Pearson chi2:                 1.19e+05\n",
      "No. Iterations:                   100                                         \n",
      "Covariance Type:            nonrobust                                         \n",
      "==============================================================================\n",
      "                 coef    std err          z      P>|z|      [0.025      0.975]\n",
      "------------------------------------------------------------------------------\n",
      "const          6.1101      0.002   3829.081      0.000       6.107       6.113\n",
      "age_7          5.2595      0.002   3295.974      0.000       5.256       5.263\n",
      "age_10         7.2397      0.002   4536.959      0.000       7.237       7.243\n",
      "age_11         7.6564      0.002   4798.152      0.000       7.653       7.660\n",
      "age_8          6.0628      0.002   3799.455      0.000       6.060       6.066\n",
      "age_6          3.8830      0.002   2432.414      0.000       3.880       3.886\n",
      "age_9          6.5835      0.002   4125.755      0.000       6.580       6.587\n",
      "age_5          2.2162      0.002   1373.133      0.000       2.213       2.219\n",
      "==============================================================================\n"
     ]
    }
   ],
   "source": [
    "x=df_63_age_dum[age_dummy]\n",
    "x_pd = sm.add_constant(x)\n",
    "y=df_63_age_dum['Num of death']\n",
    "glm_model = sm.GLM(y, x_pd, family=sm.families.Poisson(), freq_weights=y)\n",
    "glm_model_results = glm_model.fit()\n",
    "print(glm_model_results.summary())"
   ]
  },
  {
   "cell_type": "code",
   "execution_count": 26,
   "metadata": {},
   "outputs": [],
   "source": [
    "ypred = glm_model_results.predict(x_pd)\n",
    "df_63_age_dum['ypred'] = pd.DataFrame(ypred)"
   ]
  },
  {
   "cell_type": "code",
   "execution_count": 28,
   "metadata": {},
   "outputs": [
    {
     "data": {
      "image/png": "[encoded data removed]",
      "text/plain": [
       "<Figure size 720x360 with 1 Axes>"
      ]
     },
     "metadata": {
      "needs_background": "light"
     },
     "output_type": "display_data"
    }
   ],
   "source": [
    "df_63_age_dum_agg=df_63_age_dum[['age_recode_12','Num of death', 'ypred']].groupby('age_recode_12').mean().reset_index()\n",
    "df_63_age_dum_agg.plot(x='age_recode_12', y=['Num of death', 'ypred'], figsize=(10,5), grid=True, style=['o','rx'])\n",
    "plt.xlim(0,11.5)\n",
    "plt.ylim(0,1000000)\n",
    "plt.legend(loc='upper left')\n",
    "plt.title('Plot')\n",
    "plt.show()"
   ]
  },
  {
   "cell_type": "markdown",
   "metadata": {},
   "source": [
    "# Try 17 Age and year with dummy variables for age"
   ]
  },
  {
   "cell_type": "code",
   "execution_count": 29,
   "metadata": {},
   "outputs": [],
   "source": [
    "df_63_ay=df_63.groupby(['age_recode_12','current_data_year']).size().reset_index(name=\"Num of death\")"
   ]
  },
  {
   "cell_type": "code",
   "execution_count": 30,
   "metadata": {},
   "outputs": [],
   "source": [
    "df_63_ay_dum=pd.get_dummies(df_63_ay['age_recode_12'], prefix='age')\n",
    "df_63_ay_dum=pd.concat([df_63_ay, df_63_ay_dum], axis=1)"
   ]
  },
  {
   "cell_type": "code",
   "execution_count": 31,
   "metadata": {},
   "outputs": [
    {
     "data": {
      "text/html": [
       "<div>\n",
       "<style scoped>\n",
       "    .dataframe tbody tr th:only-of-type {\n",
       "        vertical-align: middle;\n",
       "    }\n",
       "\n",
       "    .dataframe tbody tr th {\n",
       "        vertical-align: top;\n",
       "    }\n",
       "\n",
       "    .dataframe thead th {\n",
       "        text-align: right;\n",
       "    }\n",
       "</style>\n",
       "<table border=\"1\" class=\"dataframe\">\n",
       "  <thead>\n",
       "    <tr style=\"text-align: right;\">\n",
       "      <th></th>\n",
       "      <th>age_recode_12</th>\n",
       "      <th>current_data_year</th>\n",
       "      <th>Num of death</th>\n",
       "      <th>age_1</th>\n",
       "      <th>age_2</th>\n",
       "      <th>age_3</th>\n",
       "      <th>age_4</th>\n",
       "      <th>age_5</th>\n",
       "      <th>age_6</th>\n",
       "      <th>age_7</th>\n",
       "      <th>age_8</th>\n",
       "      <th>age_9</th>\n",
       "      <th>age_10</th>\n",
       "      <th>age_11</th>\n",
       "      <th>age_12</th>\n",
       "    </tr>\n",
       "  </thead>\n",
       "  <tbody>\n",
       "    <tr>\n",
       "      <th>0</th>\n",
       "      <td>1</td>\n",
       "      <td>2005</td>\n",
       "      <td>1</td>\n",
       "      <td>1</td>\n",
       "      <td>0</td>\n",
       "      <td>0</td>\n",
       "      <td>0</td>\n",
       "      <td>0</td>\n",
       "      <td>0</td>\n",
       "      <td>0</td>\n",
       "      <td>0</td>\n",
       "      <td>0</td>\n",
       "      <td>0</td>\n",
       "      <td>0</td>\n",
       "      <td>0</td>\n",
       "    </tr>\n",
       "    <tr>\n",
       "      <th>1</th>\n",
       "      <td>1</td>\n",
       "      <td>2006</td>\n",
       "      <td>9</td>\n",
       "      <td>1</td>\n",
       "      <td>0</td>\n",
       "      <td>0</td>\n",
       "      <td>0</td>\n",
       "      <td>0</td>\n",
       "      <td>0</td>\n",
       "      <td>0</td>\n",
       "      <td>0</td>\n",
       "      <td>0</td>\n",
       "      <td>0</td>\n",
       "      <td>0</td>\n",
       "      <td>0</td>\n",
       "    </tr>\n",
       "    <tr>\n",
       "      <th>2</th>\n",
       "      <td>1</td>\n",
       "      <td>2007</td>\n",
       "      <td>11</td>\n",
       "      <td>1</td>\n",
       "      <td>0</td>\n",
       "      <td>0</td>\n",
       "      <td>0</td>\n",
       "      <td>0</td>\n",
       "      <td>0</td>\n",
       "      <td>0</td>\n",
       "      <td>0</td>\n",
       "      <td>0</td>\n",
       "      <td>0</td>\n",
       "      <td>0</td>\n",
       "      <td>0</td>\n",
       "    </tr>\n",
       "    <tr>\n",
       "      <th>3</th>\n",
       "      <td>1</td>\n",
       "      <td>2008</td>\n",
       "      <td>5</td>\n",
       "      <td>1</td>\n",
       "      <td>0</td>\n",
       "      <td>0</td>\n",
       "      <td>0</td>\n",
       "      <td>0</td>\n",
       "      <td>0</td>\n",
       "      <td>0</td>\n",
       "      <td>0</td>\n",
       "      <td>0</td>\n",
       "      <td>0</td>\n",
       "      <td>0</td>\n",
       "      <td>0</td>\n",
       "    </tr>\n",
       "    <tr>\n",
       "      <th>4</th>\n",
       "      <td>1</td>\n",
       "      <td>2009</td>\n",
       "      <td>7</td>\n",
       "      <td>1</td>\n",
       "      <td>0</td>\n",
       "      <td>0</td>\n",
       "      <td>0</td>\n",
       "      <td>0</td>\n",
       "      <td>0</td>\n",
       "      <td>0</td>\n",
       "      <td>0</td>\n",
       "      <td>0</td>\n",
       "      <td>0</td>\n",
       "      <td>0</td>\n",
       "      <td>0</td>\n",
       "    </tr>\n",
       "    <tr>\n",
       "      <th>5</th>\n",
       "      <td>1</td>\n",
       "      <td>2010</td>\n",
       "      <td>4</td>\n",
       "      <td>1</td>\n",
       "      <td>0</td>\n",
       "      <td>0</td>\n",
       "      <td>0</td>\n",
       "      <td>0</td>\n",
       "      <td>0</td>\n",
       "      <td>0</td>\n",
       "      <td>0</td>\n",
       "      <td>0</td>\n",
       "      <td>0</td>\n",
       "      <td>0</td>\n",
       "      <td>0</td>\n",
       "    </tr>\n",
       "    <tr>\n",
       "      <th>6</th>\n",
       "      <td>1</td>\n",
       "      <td>2011</td>\n",
       "      <td>5</td>\n",
       "      <td>1</td>\n",
       "      <td>0</td>\n",
       "      <td>0</td>\n",
       "      <td>0</td>\n",
       "      <td>0</td>\n",
       "      <td>0</td>\n",
       "      <td>0</td>\n",
       "      <td>0</td>\n",
       "      <td>0</td>\n",
       "      <td>0</td>\n",
       "      <td>0</td>\n",
       "      <td>0</td>\n",
       "    </tr>\n",
       "    <tr>\n",
       "      <th>7</th>\n",
       "      <td>1</td>\n",
       "      <td>2012</td>\n",
       "      <td>7</td>\n",
       "      <td>1</td>\n",
       "      <td>0</td>\n",
       "      <td>0</td>\n",
       "      <td>0</td>\n",
       "      <td>0</td>\n",
       "      <td>0</td>\n",
       "      <td>0</td>\n",
       "      <td>0</td>\n",
       "      <td>0</td>\n",
       "      <td>0</td>\n",
       "      <td>0</td>\n",
       "      <td>0</td>\n",
       "    </tr>\n",
       "    <tr>\n",
       "      <th>8</th>\n",
       "      <td>1</td>\n",
       "      <td>2013</td>\n",
       "      <td>4</td>\n",
       "      <td>1</td>\n",
       "      <td>0</td>\n",
       "      <td>0</td>\n",
       "      <td>0</td>\n",
       "      <td>0</td>\n",
       "      <td>0</td>\n",
       "      <td>0</td>\n",
       "      <td>0</td>\n",
       "      <td>0</td>\n",
       "      <td>0</td>\n",
       "      <td>0</td>\n",
       "      <td>0</td>\n",
       "    </tr>\n",
       "    <tr>\n",
       "      <th>9</th>\n",
       "      <td>1</td>\n",
       "      <td>2014</td>\n",
       "      <td>6</td>\n",
       "      <td>1</td>\n",
       "      <td>0</td>\n",
       "      <td>0</td>\n",
       "      <td>0</td>\n",
       "      <td>0</td>\n",
       "      <td>0</td>\n",
       "      <td>0</td>\n",
       "      <td>0</td>\n",
       "      <td>0</td>\n",
       "      <td>0</td>\n",
       "      <td>0</td>\n",
       "      <td>0</td>\n",
       "    </tr>\n",
       "    <tr>\n",
       "      <th>10</th>\n",
       "      <td>1</td>\n",
       "      <td>2015</td>\n",
       "      <td>3</td>\n",
       "      <td>1</td>\n",
       "      <td>0</td>\n",
       "      <td>0</td>\n",
       "      <td>0</td>\n",
       "      <td>0</td>\n",
       "      <td>0</td>\n",
       "      <td>0</td>\n",
       "      <td>0</td>\n",
       "      <td>0</td>\n",
       "      <td>0</td>\n",
       "      <td>0</td>\n",
       "      <td>0</td>\n",
       "    </tr>\n",
       "    <tr>\n",
       "      <th>11</th>\n",
       "      <td>2</td>\n",
       "      <td>2005</td>\n",
       "      <td>4</td>\n",
       "      <td>0</td>\n",
       "      <td>1</td>\n",
       "      <td>0</td>\n",
       "      <td>0</td>\n",
       "      <td>0</td>\n",
       "      <td>0</td>\n",
       "      <td>0</td>\n",
       "      <td>0</td>\n",
       "      <td>0</td>\n",
       "      <td>0</td>\n",
       "      <td>0</td>\n",
       "      <td>0</td>\n",
       "    </tr>\n",
       "  </tbody>\n",
       "</table>\n",
       "</div>"
      ],
      "text/plain": [
       "    age_recode_12  current_data_year  Num of death  age_1  age_2  age_3  \\\n",
       "0               1               2005             1      1      0      0   \n",
       "1               1               2006             9      1      0      0   \n",
       "2               1               2007            11      1      0      0   \n",
       "3               1               2008             5      1      0      0   \n",
       "4               1               2009             7      1      0      0   \n",
       "5               1               2010             4      1      0      0   \n",
       "6               1               2011             5      1      0      0   \n",
       "7               1               2012             7      1      0      0   \n",
       "8               1               2013             4      1      0      0   \n",
       "9               1               2014             6      1      0      0   \n",
       "10              1               2015             3      1      0      0   \n",
       "11              2               2005             4      0      1      0   \n",
       "\n",
       "    age_4  age_5  age_6  age_7  age_8  age_9  age_10  age_11  age_12  \n",
       "0       0      0      0      0      0      0       0       0       0  \n",
       "1       0      0      0      0      0      0       0       0       0  \n",
       "2       0      0      0      0      0      0       0       0       0  \n",
       "3       0      0      0      0      0      0       0       0       0  \n",
       "4       0      0      0      0      0      0       0       0       0  \n",
       "5       0      0      0      0      0      0       0       0       0  \n",
       "6       0      0      0      0      0      0       0       0       0  \n",
       "7       0      0      0      0      0      0       0       0       0  \n",
       "8       0      0      0      0      0      0       0       0       0  \n",
       "9       0      0      0      0      0      0       0       0       0  \n",
       "10      0      0      0      0      0      0       0       0       0  \n",
       "11      0      0      0      0      0      0       0       0       0  "
      ]
     },
     "execution_count": 31,
     "metadata": {},
     "output_type": "execute_result"
    }
   ],
   "source": [
    "df_63_ay_dum.head(12)"
   ]
  },
  {
   "cell_type": "code",
   "execution_count": 32,
   "metadata": {},
   "outputs": [
    {
     "data": {
      "text/plain": [
       "Index(['age_recode_12', 'current_data_year', 'Num of death', 'age_1', 'age_2',\n",
       "       'age_3', 'age_4', 'age_5', 'age_6', 'age_7', 'age_8', 'age_9', 'age_10',\n",
       "       'age_11', 'age_12'],\n",
       "      dtype='object')"
      ]
     },
     "execution_count": 32,
     "metadata": {},
     "output_type": "execute_result"
    }
   ],
   "source": [
    "df_63_ay_dum.columns"
   ]
  },
  {
   "cell_type": "code",
   "execution_count": 33,
   "metadata": {},
   "outputs": [],
   "source": [
    "features ={'age_5', 'age_6', 'age_7', 'age_8', 'age_9', 'age_10', 'age_11', 'current_data_year'}"
   ]
  },
  {
   "cell_type": "code",
   "execution_count": 34,
   "metadata": {},
   "outputs": [
    {
     "name": "stdout",
     "output_type": "stream",
     "text": [
      "                 Generalized Linear Model Regression Results                  \n",
      "==============================================================================\n",
      "Dep. Variable:           Num of death   No. Observations:                  132\n",
      "Model:                            GLM   Df Residuals:                  2212511\n",
      "Model Family:                 Poisson   Df Model:                            8\n",
      "Link Function:                    log   Scale:                          1.0000\n",
      "Method:                          IRLS   Log-Likelihood:            -1.6410e+08\n",
      "Date:                Wed, 27 Nov 2019   Deviance:                   3.0021e+08\n",
      "Time:                        18:11:10   Pearson chi2:                 3.04e+08\n",
      "No. Iterations:                   100                                         \n",
      "Covariance Type:            nonrobust                                         \n",
      "=====================================================================================\n",
      "                        coef    std err          z      P>|z|      [0.025      0.975]\n",
      "-------------------------------------------------------------------------------------\n",
      "const                43.0932      0.005   7864.620      0.000      43.083      43.104\n",
      "age_7                 5.2320      0.005   1007.024      0.000       5.222       5.242\n",
      "age_10                7.2160      0.005   1388.918      0.000       7.206       7.226\n",
      "age_11                7.6226      0.005   1467.194      0.000       7.612       7.633\n",
      "age_8                 6.0293      0.005   1160.508      0.000       6.019       6.040\n",
      "age_6                 3.8721      0.005    744.990      0.000       3.862       3.882\n",
      "age_9                 6.5516      0.005   1261.042      0.000       6.541       6.562\n",
      "current_data_year    -0.0196   8.66e-07  -2.26e+04      0.000      -0.020      -0.020\n",
      "age_5                 2.1867      0.005    416.006      0.000       2.176       2.197\n",
      "=====================================================================================\n"
     ]
    }
   ],
   "source": [
    "x=df_63_ay_dum[features]\n",
    "x_pd = sm.add_constant(x)\n",
    "y=df_63_ay_dum['Num of death']\n",
    "glm_model = sm.GLM(y, x_pd, family=sm.families.Poisson(), freq_weights=y)\n",
    "glm_model_results = glm_model.fit()\n",
    "print(glm_model_results.summary())"
   ]
  },
  {
   "cell_type": "code",
   "execution_count": 36,
   "metadata": {},
   "outputs": [],
   "source": [
    "#df_63_ay_dum.isnull().any() : no null value"
   ]
  },
  {
   "cell_type": "code",
   "execution_count": 37,
   "metadata": {},
   "outputs": [],
   "source": [
    "ypred = glm_model_results.predict(x_pd)\n",
    "df_63_ay_dum['ypred'] = pd.DataFrame(ypred)"
   ]
  },
  {
   "cell_type": "code",
   "execution_count": 38,
   "metadata": {},
   "outputs": [
    {
     "data": {
      "image/png": "[encoded data removed]",
      "text/plain": [
       "<Figure size 720x360 with 1 Axes>"
      ]
     },
     "metadata": {
      "needs_background": "light"
     },
     "output_type": "display_data"
    }
   ],
   "source": [
    "df_63_ay_dum_agg=df_63_ay_dum[['age_recode_12',  'current_data_year', 'Num of death', 'ypred']].groupby('age_recode_12').sum().reset_index()\n",
    "df_63_ay_dum_agg.plot(x='age_recode_12', y=['Num of death', 'ypred'], figsize=(10,5), grid=True, style=['o','rx'])\n",
    "plt.xlim(0,11.5)\n",
    "plt.ylim(0,1000000)\n",
    "plt.legend(loc='upper left')\n",
    "plt.title('Plot')\n",
    "plt.show()"
   ]
  },
  {
   "cell_type": "code",
   "execution_count": 39,
   "metadata": {},
   "outputs": [
    {
     "data": {
      "image/png": "[encoded data removed]",
      "text/plain": [
       "<Figure size 720x360 with 1 Axes>"
      ]
     },
     "metadata": {
      "needs_background": "light"
     },
     "output_type": "display_data"
    }
   ],
   "source": [
    "df_63_ay_dum_agg =df_63_ay_dum[['current_data_year', 'Num of death', 'ypred']].groupby('current_data_year').sum().reset_index()\n",
    "df_63_ay_dum_agg.plot(x='current_data_year', y=['Num of death', 'ypred'], figsize=(10,5), grid=True, style=['o','rx'])\n",
    "plt.title('Plot')\n",
    "plt.xlim(2004, 2016)\n",
    "plt.show()"
   ]
  },
  {
   "cell_type": "markdown",
   "metadata": {},
   "source": [
    "# Try 18 All our variables with dummy variables for age"
   ]
  },
  {
   "cell_type": "code",
   "execution_count": 40,
   "metadata": {},
   "outputs": [],
   "source": [
    "df_63_all = df_63.groupby(['age_recode_12','current_data_year','education_2003_revision', 'injury_at_work', 'manner_of_death', 'marital_status', 'month_of_death', 'race_recode_5', 'sex']).size().reset_index(name=\"Num of death\")"
   ]
  },
  {
   "cell_type": "code",
   "execution_count": 41,
   "metadata": {},
   "outputs": [],
   "source": [
    "df_63_all_dum=pd.get_dummies(df_63_all['age_recode_12'], prefix='age')\n",
    "df_63_all_dum=pd.concat([df_63_all, df_63_all_dum ], axis=1)"
   ]
  },
  {
   "cell_type": "code",
   "execution_count": 42,
   "metadata": {},
   "outputs": [
    {
     "data": {
      "text/html": [
       "<div>\n",
       "<style scoped>\n",
       "    .dataframe tbody tr th:only-of-type {\n",
       "        vertical-align: middle;\n",
       "    }\n",
       "\n",
       "    .dataframe tbody tr th {\n",
       "        vertical-align: top;\n",
       "    }\n",
       "\n",
       "    .dataframe thead th {\n",
       "        text-align: right;\n",
       "    }\n",
       "</style>\n",
       "<table border=\"1\" class=\"dataframe\">\n",
       "  <thead>\n",
       "    <tr style=\"text-align: right;\">\n",
       "      <th></th>\n",
       "      <th>age_recode_12</th>\n",
       "      <th>current_data_year</th>\n",
       "      <th>education_2003_revision</th>\n",
       "      <th>injury_at_work</th>\n",
       "      <th>manner_of_death</th>\n",
       "      <th>marital_status</th>\n",
       "      <th>month_of_death</th>\n",
       "      <th>race_recode_5</th>\n",
       "      <th>sex</th>\n",
       "      <th>Num of death</th>\n",
       "      <th>...</th>\n",
       "      <th>age_3</th>\n",
       "      <th>age_4</th>\n",
       "      <th>age_5</th>\n",
       "      <th>age_6</th>\n",
       "      <th>age_7</th>\n",
       "      <th>age_8</th>\n",
       "      <th>age_9</th>\n",
       "      <th>age_10</th>\n",
       "      <th>age_11</th>\n",
       "      <th>age_12</th>\n",
       "    </tr>\n",
       "  </thead>\n",
       "  <tbody>\n",
       "    <tr>\n",
       "      <th>0</th>\n",
       "      <td>1</td>\n",
       "      <td>2006</td>\n",
       "      <td>1.0</td>\n",
       "      <td>U</td>\n",
       "      <td>7.0</td>\n",
       "      <td>S</td>\n",
       "      <td>9</td>\n",
       "      <td>1</td>\n",
       "      <td>M</td>\n",
       "      <td>1</td>\n",
       "      <td>...</td>\n",
       "      <td>0</td>\n",
       "      <td>0</td>\n",
       "      <td>0</td>\n",
       "      <td>0</td>\n",
       "      <td>0</td>\n",
       "      <td>0</td>\n",
       "      <td>0</td>\n",
       "      <td>0</td>\n",
       "      <td>0</td>\n",
       "      <td>0</td>\n",
       "    </tr>\n",
       "    <tr>\n",
       "      <th>1</th>\n",
       "      <td>1</td>\n",
       "      <td>2006</td>\n",
       "      <td>9.0</td>\n",
       "      <td>U</td>\n",
       "      <td>7.0</td>\n",
       "      <td>S</td>\n",
       "      <td>2</td>\n",
       "      <td>1</td>\n",
       "      <td>M</td>\n",
       "      <td>1</td>\n",
       "      <td>...</td>\n",
       "      <td>0</td>\n",
       "      <td>0</td>\n",
       "      <td>0</td>\n",
       "      <td>0</td>\n",
       "      <td>0</td>\n",
       "      <td>0</td>\n",
       "      <td>0</td>\n",
       "      <td>0</td>\n",
       "      <td>0</td>\n",
       "      <td>0</td>\n",
       "    </tr>\n",
       "    <tr>\n",
       "      <th>2</th>\n",
       "      <td>1</td>\n",
       "      <td>2006</td>\n",
       "      <td>9.0</td>\n",
       "      <td>U</td>\n",
       "      <td>7.0</td>\n",
       "      <td>S</td>\n",
       "      <td>8</td>\n",
       "      <td>2</td>\n",
       "      <td>M</td>\n",
       "      <td>1</td>\n",
       "      <td>...</td>\n",
       "      <td>0</td>\n",
       "      <td>0</td>\n",
       "      <td>0</td>\n",
       "      <td>0</td>\n",
       "      <td>0</td>\n",
       "      <td>0</td>\n",
       "      <td>0</td>\n",
       "      <td>0</td>\n",
       "      <td>0</td>\n",
       "      <td>0</td>\n",
       "    </tr>\n",
       "    <tr>\n",
       "      <th>3</th>\n",
       "      <td>1</td>\n",
       "      <td>2006</td>\n",
       "      <td>9.0</td>\n",
       "      <td>U</td>\n",
       "      <td>7.0</td>\n",
       "      <td>S</td>\n",
       "      <td>8</td>\n",
       "      <td>4</td>\n",
       "      <td>M</td>\n",
       "      <td>1</td>\n",
       "      <td>...</td>\n",
       "      <td>0</td>\n",
       "      <td>0</td>\n",
       "      <td>0</td>\n",
       "      <td>0</td>\n",
       "      <td>0</td>\n",
       "      <td>0</td>\n",
       "      <td>0</td>\n",
       "      <td>0</td>\n",
       "      <td>0</td>\n",
       "      <td>0</td>\n",
       "    </tr>\n",
       "    <tr>\n",
       "      <th>4</th>\n",
       "      <td>1</td>\n",
       "      <td>2006</td>\n",
       "      <td>9.0</td>\n",
       "      <td>U</td>\n",
       "      <td>7.0</td>\n",
       "      <td>S</td>\n",
       "      <td>11</td>\n",
       "      <td>2</td>\n",
       "      <td>F</td>\n",
       "      <td>1</td>\n",
       "      <td>...</td>\n",
       "      <td>0</td>\n",
       "      <td>0</td>\n",
       "      <td>0</td>\n",
       "      <td>0</td>\n",
       "      <td>0</td>\n",
       "      <td>0</td>\n",
       "      <td>0</td>\n",
       "      <td>0</td>\n",
       "      <td>0</td>\n",
       "      <td>0</td>\n",
       "    </tr>\n",
       "    <tr>\n",
       "      <th>5</th>\n",
       "      <td>1</td>\n",
       "      <td>2006</td>\n",
       "      <td>9.0</td>\n",
       "      <td>U</td>\n",
       "      <td>7.0</td>\n",
       "      <td>S</td>\n",
       "      <td>12</td>\n",
       "      <td>1</td>\n",
       "      <td>M</td>\n",
       "      <td>1</td>\n",
       "      <td>...</td>\n",
       "      <td>0</td>\n",
       "      <td>0</td>\n",
       "      <td>0</td>\n",
       "      <td>0</td>\n",
       "      <td>0</td>\n",
       "      <td>0</td>\n",
       "      <td>0</td>\n",
       "      <td>0</td>\n",
       "      <td>0</td>\n",
       "      <td>0</td>\n",
       "    </tr>\n",
       "    <tr>\n",
       "      <th>6</th>\n",
       "      <td>1</td>\n",
       "      <td>2007</td>\n",
       "      <td>1.0</td>\n",
       "      <td>U</td>\n",
       "      <td>7.0</td>\n",
       "      <td>S</td>\n",
       "      <td>3</td>\n",
       "      <td>1</td>\n",
       "      <td>F</td>\n",
       "      <td>1</td>\n",
       "      <td>...</td>\n",
       "      <td>0</td>\n",
       "      <td>0</td>\n",
       "      <td>0</td>\n",
       "      <td>0</td>\n",
       "      <td>0</td>\n",
       "      <td>0</td>\n",
       "      <td>0</td>\n",
       "      <td>0</td>\n",
       "      <td>0</td>\n",
       "      <td>0</td>\n",
       "    </tr>\n",
       "    <tr>\n",
       "      <th>7</th>\n",
       "      <td>1</td>\n",
       "      <td>2007</td>\n",
       "      <td>1.0</td>\n",
       "      <td>U</td>\n",
       "      <td>7.0</td>\n",
       "      <td>S</td>\n",
       "      <td>7</td>\n",
       "      <td>1</td>\n",
       "      <td>F</td>\n",
       "      <td>1</td>\n",
       "      <td>...</td>\n",
       "      <td>0</td>\n",
       "      <td>0</td>\n",
       "      <td>0</td>\n",
       "      <td>0</td>\n",
       "      <td>0</td>\n",
       "      <td>0</td>\n",
       "      <td>0</td>\n",
       "      <td>0</td>\n",
       "      <td>0</td>\n",
       "      <td>0</td>\n",
       "    </tr>\n",
       "    <tr>\n",
       "      <th>8</th>\n",
       "      <td>1</td>\n",
       "      <td>2007</td>\n",
       "      <td>1.0</td>\n",
       "      <td>U</td>\n",
       "      <td>7.0</td>\n",
       "      <td>S</td>\n",
       "      <td>9</td>\n",
       "      <td>4</td>\n",
       "      <td>F</td>\n",
       "      <td>1</td>\n",
       "      <td>...</td>\n",
       "      <td>0</td>\n",
       "      <td>0</td>\n",
       "      <td>0</td>\n",
       "      <td>0</td>\n",
       "      <td>0</td>\n",
       "      <td>0</td>\n",
       "      <td>0</td>\n",
       "      <td>0</td>\n",
       "      <td>0</td>\n",
       "      <td>0</td>\n",
       "    </tr>\n",
       "    <tr>\n",
       "      <th>9</th>\n",
       "      <td>1</td>\n",
       "      <td>2007</td>\n",
       "      <td>1.0</td>\n",
       "      <td>U</td>\n",
       "      <td>7.0</td>\n",
       "      <td>S</td>\n",
       "      <td>11</td>\n",
       "      <td>1</td>\n",
       "      <td>M</td>\n",
       "      <td>1</td>\n",
       "      <td>...</td>\n",
       "      <td>0</td>\n",
       "      <td>0</td>\n",
       "      <td>0</td>\n",
       "      <td>0</td>\n",
       "      <td>0</td>\n",
       "      <td>0</td>\n",
       "      <td>0</td>\n",
       "      <td>0</td>\n",
       "      <td>0</td>\n",
       "      <td>0</td>\n",
       "    </tr>\n",
       "    <tr>\n",
       "      <th>10</th>\n",
       "      <td>1</td>\n",
       "      <td>2007</td>\n",
       "      <td>9.0</td>\n",
       "      <td>U</td>\n",
       "      <td>7.0</td>\n",
       "      <td>S</td>\n",
       "      <td>1</td>\n",
       "      <td>1</td>\n",
       "      <td>F</td>\n",
       "      <td>1</td>\n",
       "      <td>...</td>\n",
       "      <td>0</td>\n",
       "      <td>0</td>\n",
       "      <td>0</td>\n",
       "      <td>0</td>\n",
       "      <td>0</td>\n",
       "      <td>0</td>\n",
       "      <td>0</td>\n",
       "      <td>0</td>\n",
       "      <td>0</td>\n",
       "      <td>0</td>\n",
       "    </tr>\n",
       "    <tr>\n",
       "      <th>11</th>\n",
       "      <td>1</td>\n",
       "      <td>2007</td>\n",
       "      <td>9.0</td>\n",
       "      <td>U</td>\n",
       "      <td>7.0</td>\n",
       "      <td>S</td>\n",
       "      <td>3</td>\n",
       "      <td>3</td>\n",
       "      <td>F</td>\n",
       "      <td>1</td>\n",
       "      <td>...</td>\n",
       "      <td>0</td>\n",
       "      <td>0</td>\n",
       "      <td>0</td>\n",
       "      <td>0</td>\n",
       "      <td>0</td>\n",
       "      <td>0</td>\n",
       "      <td>0</td>\n",
       "      <td>0</td>\n",
       "      <td>0</td>\n",
       "      <td>0</td>\n",
       "    </tr>\n",
       "    <tr>\n",
       "      <th>12</th>\n",
       "      <td>1</td>\n",
       "      <td>2007</td>\n",
       "      <td>9.0</td>\n",
       "      <td>U</td>\n",
       "      <td>7.0</td>\n",
       "      <td>S</td>\n",
       "      <td>5</td>\n",
       "      <td>1</td>\n",
       "      <td>F</td>\n",
       "      <td>1</td>\n",
       "      <td>...</td>\n",
       "      <td>0</td>\n",
       "      <td>0</td>\n",
       "      <td>0</td>\n",
       "      <td>0</td>\n",
       "      <td>0</td>\n",
       "      <td>0</td>\n",
       "      <td>0</td>\n",
       "      <td>0</td>\n",
       "      <td>0</td>\n",
       "      <td>0</td>\n",
       "    </tr>\n",
       "    <tr>\n",
       "      <th>13</th>\n",
       "      <td>1</td>\n",
       "      <td>2007</td>\n",
       "      <td>9.0</td>\n",
       "      <td>U</td>\n",
       "      <td>7.0</td>\n",
       "      <td>S</td>\n",
       "      <td>7</td>\n",
       "      <td>2</td>\n",
       "      <td>F</td>\n",
       "      <td>1</td>\n",
       "      <td>...</td>\n",
       "      <td>0</td>\n",
       "      <td>0</td>\n",
       "      <td>0</td>\n",
       "      <td>0</td>\n",
       "      <td>0</td>\n",
       "      <td>0</td>\n",
       "      <td>0</td>\n",
       "      <td>0</td>\n",
       "      <td>0</td>\n",
       "      <td>0</td>\n",
       "    </tr>\n",
       "    <tr>\n",
       "      <th>14</th>\n",
       "      <td>1</td>\n",
       "      <td>2007</td>\n",
       "      <td>9.0</td>\n",
       "      <td>U</td>\n",
       "      <td>7.0</td>\n",
       "      <td>S</td>\n",
       "      <td>10</td>\n",
       "      <td>2</td>\n",
       "      <td>M</td>\n",
       "      <td>1</td>\n",
       "      <td>...</td>\n",
       "      <td>0</td>\n",
       "      <td>0</td>\n",
       "      <td>0</td>\n",
       "      <td>0</td>\n",
       "      <td>0</td>\n",
       "      <td>0</td>\n",
       "      <td>0</td>\n",
       "      <td>0</td>\n",
       "      <td>0</td>\n",
       "      <td>0</td>\n",
       "    </tr>\n",
       "  </tbody>\n",
       "</table>\n",
       "<p>15 rows × 22 columns</p>\n",
       "</div>"
      ],
      "text/plain": [
       "    age_recode_12  current_data_year  education_2003_revision injury_at_work  \\\n",
       "0               1               2006                      1.0              U   \n",
       "1               1               2006                      9.0              U   \n",
       "2               1               2006                      9.0              U   \n",
       "3               1               2006                      9.0              U   \n",
       "4               1               2006                      9.0              U   \n",
       "5               1               2006                      9.0              U   \n",
       "6               1               2007                      1.0              U   \n",
       "7               1               2007                      1.0              U   \n",
       "8               1               2007                      1.0              U   \n",
       "9               1               2007                      1.0              U   \n",
       "10              1               2007                      9.0              U   \n",
       "11              1               2007                      9.0              U   \n",
       "12              1               2007                      9.0              U   \n",
       "13              1               2007                      9.0              U   \n",
       "14              1               2007                      9.0              U   \n",
       "\n",
       "    manner_of_death marital_status  month_of_death  race_recode_5 sex  \\\n",
       "0               7.0              S               9              1   M   \n",
       "1               7.0              S               2              1   M   \n",
       "2               7.0              S               8              2   M   \n",
       "3               7.0              S               8              4   M   \n",
       "4               7.0              S              11              2   F   \n",
       "5               7.0              S              12              1   M   \n",
       "6               7.0              S               3              1   F   \n",
       "7               7.0              S               7              1   F   \n",
       "8               7.0              S               9              4   F   \n",
       "9               7.0              S              11              1   M   \n",
       "10              7.0              S               1              1   F   \n",
       "11              7.0              S               3              3   F   \n",
       "12              7.0              S               5              1   F   \n",
       "13              7.0              S               7              2   F   \n",
       "14              7.0              S              10              2   M   \n",
       "\n",
       "    Num of death  ...  age_3  age_4  age_5  age_6  age_7  age_8  age_9  \\\n",
       "0              1  ...      0      0      0      0      0      0      0   \n",
       "1              1  ...      0      0      0      0      0      0      0   \n",
       "2              1  ...      0      0      0      0      0      0      0   \n",
       "3              1  ...      0      0      0      0      0      0      0   \n",
       "4              1  ...      0      0      0      0      0      0      0   \n",
       "5              1  ...      0      0      0      0      0      0      0   \n",
       "6              1  ...      0      0      0      0      0      0      0   \n",
       "7              1  ...      0      0      0      0      0      0      0   \n",
       "8              1  ...      0      0      0      0      0      0      0   \n",
       "9              1  ...      0      0      0      0      0      0      0   \n",
       "10             1  ...      0      0      0      0      0      0      0   \n",
       "11             1  ...      0      0      0      0      0      0      0   \n",
       "12             1  ...      0      0      0      0      0      0      0   \n",
       "13             1  ...      0      0      0      0      0      0      0   \n",
       "14             1  ...      0      0      0      0      0      0      0   \n",
       "\n",
       "    age_10  age_11  age_12  \n",
       "0        0       0       0  \n",
       "1        0       0       0  \n",
       "2        0       0       0  \n",
       "3        0       0       0  \n",
       "4        0       0       0  \n",
       "5        0       0       0  \n",
       "6        0       0       0  \n",
       "7        0       0       0  \n",
       "8        0       0       0  \n",
       "9        0       0       0  \n",
       "10       0       0       0  \n",
       "11       0       0       0  \n",
       "12       0       0       0  \n",
       "13       0       0       0  \n",
       "14       0       0       0  \n",
       "\n",
       "[15 rows x 22 columns]"
      ]
     },
     "execution_count": 42,
     "metadata": {},
     "output_type": "execute_result"
    }
   ],
   "source": [
    "df_63_all_dum.head(15)"
   ]
  },
  {
   "cell_type": "code",
   "execution_count": 43,
   "metadata": {},
   "outputs": [
    {
     "data": {
      "text/plain": [
       "Index(['inj_N', 'inj_U', 'inj_Y'], dtype='object')"
      ]
     },
     "execution_count": 43,
     "metadata": {},
     "output_type": "execute_result"
    }
   ],
   "source": [
    "inj_dummies = pd.get_dummies(df_63_all['injury_at_work'],prefix='inj')\n",
    "inj_dummies.columns"
   ]
  },
  {
   "cell_type": "code",
   "execution_count": 44,
   "metadata": {},
   "outputs": [
    {
     "data": {
      "text/plain": [
       "Index(['mar_D', 'mar_M', 'mar_S', 'mar_U', 'mar_W'], dtype='object')"
      ]
     },
     "execution_count": 44,
     "metadata": {},
     "output_type": "execute_result"
    }
   ],
   "source": [
    "mar_dummies = pd.get_dummies(df_63_all['marital_status'],prefix='mar')\n",
    "mar_dummies.columns"
   ]
  },
  {
   "cell_type": "code",
   "execution_count": 45,
   "metadata": {},
   "outputs": [
    {
     "data": {
      "text/plain": [
       "Index(['sex_F', 'sex_M'], dtype='object')"
      ]
     },
     "execution_count": 45,
     "metadata": {},
     "output_type": "execute_result"
    }
   ],
   "source": [
    "sex_dummies = pd.get_dummies(df_63_all['sex'],prefix='sex')\n",
    "sex_dummies.columns"
   ]
  },
  {
   "cell_type": "code",
   "execution_count": 46,
   "metadata": {},
   "outputs": [],
   "source": [
    "df_63_all_dum = pd.concat([df_63_all_dum, inj_dummies, mar_dummies, sex_dummies], axis=1)"
   ]
  },
  {
   "cell_type": "code",
   "execution_count": 48,
   "metadata": {},
   "outputs": [
    {
     "data": {
      "text/html": [
       "<div>\n",
       "<style scoped>\n",
       "    .dataframe tbody tr th:only-of-type {\n",
       "        vertical-align: middle;\n",
       "    }\n",
       "\n",
       "    .dataframe tbody tr th {\n",
       "        vertical-align: top;\n",
       "    }\n",
       "\n",
       "    .dataframe thead th {\n",
       "        text-align: right;\n",
       "    }\n",
       "</style>\n",
       "<table border=\"1\" class=\"dataframe\">\n",
       "  <thead>\n",
       "    <tr style=\"text-align: right;\">\n",
       "      <th></th>\n",
       "      <th>age_recode_12</th>\n",
       "      <th>current_data_year</th>\n",
       "      <th>education_2003_revision</th>\n",
       "      <th>injury_at_work</th>\n",
       "      <th>manner_of_death</th>\n",
       "      <th>marital_status</th>\n",
       "      <th>month_of_death</th>\n",
       "      <th>race_recode_5</th>\n",
       "      <th>sex</th>\n",
       "      <th>Num of death</th>\n",
       "      <th>...</th>\n",
       "      <th>inj_N</th>\n",
       "      <th>inj_U</th>\n",
       "      <th>inj_Y</th>\n",
       "      <th>mar_D</th>\n",
       "      <th>mar_M</th>\n",
       "      <th>mar_S</th>\n",
       "      <th>mar_U</th>\n",
       "      <th>mar_W</th>\n",
       "      <th>sex_F</th>\n",
       "      <th>sex_M</th>\n",
       "    </tr>\n",
       "  </thead>\n",
       "  <tbody>\n",
       "    <tr>\n",
       "      <th>0</th>\n",
       "      <td>1</td>\n",
       "      <td>2006</td>\n",
       "      <td>1.0</td>\n",
       "      <td>U</td>\n",
       "      <td>7.0</td>\n",
       "      <td>S</td>\n",
       "      <td>9</td>\n",
       "      <td>1</td>\n",
       "      <td>M</td>\n",
       "      <td>1</td>\n",
       "      <td>...</td>\n",
       "      <td>0</td>\n",
       "      <td>1</td>\n",
       "      <td>0</td>\n",
       "      <td>0</td>\n",
       "      <td>0</td>\n",
       "      <td>1</td>\n",
       "      <td>0</td>\n",
       "      <td>0</td>\n",
       "      <td>0</td>\n",
       "      <td>1</td>\n",
       "    </tr>\n",
       "    <tr>\n",
       "      <th>1</th>\n",
       "      <td>1</td>\n",
       "      <td>2006</td>\n",
       "      <td>9.0</td>\n",
       "      <td>U</td>\n",
       "      <td>7.0</td>\n",
       "      <td>S</td>\n",
       "      <td>2</td>\n",
       "      <td>1</td>\n",
       "      <td>M</td>\n",
       "      <td>1</td>\n",
       "      <td>...</td>\n",
       "      <td>0</td>\n",
       "      <td>1</td>\n",
       "      <td>0</td>\n",
       "      <td>0</td>\n",
       "      <td>0</td>\n",
       "      <td>1</td>\n",
       "      <td>0</td>\n",
       "      <td>0</td>\n",
       "      <td>0</td>\n",
       "      <td>1</td>\n",
       "    </tr>\n",
       "    <tr>\n",
       "      <th>2</th>\n",
       "      <td>1</td>\n",
       "      <td>2006</td>\n",
       "      <td>9.0</td>\n",
       "      <td>U</td>\n",
       "      <td>7.0</td>\n",
       "      <td>S</td>\n",
       "      <td>8</td>\n",
       "      <td>2</td>\n",
       "      <td>M</td>\n",
       "      <td>1</td>\n",
       "      <td>...</td>\n",
       "      <td>0</td>\n",
       "      <td>1</td>\n",
       "      <td>0</td>\n",
       "      <td>0</td>\n",
       "      <td>0</td>\n",
       "      <td>1</td>\n",
       "      <td>0</td>\n",
       "      <td>0</td>\n",
       "      <td>0</td>\n",
       "      <td>1</td>\n",
       "    </tr>\n",
       "    <tr>\n",
       "      <th>3</th>\n",
       "      <td>1</td>\n",
       "      <td>2006</td>\n",
       "      <td>9.0</td>\n",
       "      <td>U</td>\n",
       "      <td>7.0</td>\n",
       "      <td>S</td>\n",
       "      <td>8</td>\n",
       "      <td>4</td>\n",
       "      <td>M</td>\n",
       "      <td>1</td>\n",
       "      <td>...</td>\n",
       "      <td>0</td>\n",
       "      <td>1</td>\n",
       "      <td>0</td>\n",
       "      <td>0</td>\n",
       "      <td>0</td>\n",
       "      <td>1</td>\n",
       "      <td>0</td>\n",
       "      <td>0</td>\n",
       "      <td>0</td>\n",
       "      <td>1</td>\n",
       "    </tr>\n",
       "    <tr>\n",
       "      <th>4</th>\n",
       "      <td>1</td>\n",
       "      <td>2006</td>\n",
       "      <td>9.0</td>\n",
       "      <td>U</td>\n",
       "      <td>7.0</td>\n",
       "      <td>S</td>\n",
       "      <td>11</td>\n",
       "      <td>2</td>\n",
       "      <td>F</td>\n",
       "      <td>1</td>\n",
       "      <td>...</td>\n",
       "      <td>0</td>\n",
       "      <td>1</td>\n",
       "      <td>0</td>\n",
       "      <td>0</td>\n",
       "      <td>0</td>\n",
       "      <td>1</td>\n",
       "      <td>0</td>\n",
       "      <td>0</td>\n",
       "      <td>1</td>\n",
       "      <td>0</td>\n",
       "    </tr>\n",
       "    <tr>\n",
       "      <th>5</th>\n",
       "      <td>1</td>\n",
       "      <td>2006</td>\n",
       "      <td>9.0</td>\n",
       "      <td>U</td>\n",
       "      <td>7.0</td>\n",
       "      <td>S</td>\n",
       "      <td>12</td>\n",
       "      <td>1</td>\n",
       "      <td>M</td>\n",
       "      <td>1</td>\n",
       "      <td>...</td>\n",
       "      <td>0</td>\n",
       "      <td>1</td>\n",
       "      <td>0</td>\n",
       "      <td>0</td>\n",
       "      <td>0</td>\n",
       "      <td>1</td>\n",
       "      <td>0</td>\n",
       "      <td>0</td>\n",
       "      <td>0</td>\n",
       "      <td>1</td>\n",
       "    </tr>\n",
       "    <tr>\n",
       "      <th>6</th>\n",
       "      <td>1</td>\n",
       "      <td>2007</td>\n",
       "      <td>1.0</td>\n",
       "      <td>U</td>\n",
       "      <td>7.0</td>\n",
       "      <td>S</td>\n",
       "      <td>3</td>\n",
       "      <td>1</td>\n",
       "      <td>F</td>\n",
       "      <td>1</td>\n",
       "      <td>...</td>\n",
       "      <td>0</td>\n",
       "      <td>1</td>\n",
       "      <td>0</td>\n",
       "      <td>0</td>\n",
       "      <td>0</td>\n",
       "      <td>1</td>\n",
       "      <td>0</td>\n",
       "      <td>0</td>\n",
       "      <td>1</td>\n",
       "      <td>0</td>\n",
       "    </tr>\n",
       "    <tr>\n",
       "      <th>7</th>\n",
       "      <td>1</td>\n",
       "      <td>2007</td>\n",
       "      <td>1.0</td>\n",
       "      <td>U</td>\n",
       "      <td>7.0</td>\n",
       "      <td>S</td>\n",
       "      <td>7</td>\n",
       "      <td>1</td>\n",
       "      <td>F</td>\n",
       "      <td>1</td>\n",
       "      <td>...</td>\n",
       "      <td>0</td>\n",
       "      <td>1</td>\n",
       "      <td>0</td>\n",
       "      <td>0</td>\n",
       "      <td>0</td>\n",
       "      <td>1</td>\n",
       "      <td>0</td>\n",
       "      <td>0</td>\n",
       "      <td>1</td>\n",
       "      <td>0</td>\n",
       "    </tr>\n",
       "    <tr>\n",
       "      <th>8</th>\n",
       "      <td>1</td>\n",
       "      <td>2007</td>\n",
       "      <td>1.0</td>\n",
       "      <td>U</td>\n",
       "      <td>7.0</td>\n",
       "      <td>S</td>\n",
       "      <td>9</td>\n",
       "      <td>4</td>\n",
       "      <td>F</td>\n",
       "      <td>1</td>\n",
       "      <td>...</td>\n",
       "      <td>0</td>\n",
       "      <td>1</td>\n",
       "      <td>0</td>\n",
       "      <td>0</td>\n",
       "      <td>0</td>\n",
       "      <td>1</td>\n",
       "      <td>0</td>\n",
       "      <td>0</td>\n",
       "      <td>1</td>\n",
       "      <td>0</td>\n",
       "    </tr>\n",
       "    <tr>\n",
       "      <th>9</th>\n",
       "      <td>1</td>\n",
       "      <td>2007</td>\n",
       "      <td>1.0</td>\n",
       "      <td>U</td>\n",
       "      <td>7.0</td>\n",
       "      <td>S</td>\n",
       "      <td>11</td>\n",
       "      <td>1</td>\n",
       "      <td>M</td>\n",
       "      <td>1</td>\n",
       "      <td>...</td>\n",
       "      <td>0</td>\n",
       "      <td>1</td>\n",
       "      <td>0</td>\n",
       "      <td>0</td>\n",
       "      <td>0</td>\n",
       "      <td>1</td>\n",
       "      <td>0</td>\n",
       "      <td>0</td>\n",
       "      <td>0</td>\n",
       "      <td>1</td>\n",
       "    </tr>\n",
       "    <tr>\n",
       "      <th>10</th>\n",
       "      <td>1</td>\n",
       "      <td>2007</td>\n",
       "      <td>9.0</td>\n",
       "      <td>U</td>\n",
       "      <td>7.0</td>\n",
       "      <td>S</td>\n",
       "      <td>1</td>\n",
       "      <td>1</td>\n",
       "      <td>F</td>\n",
       "      <td>1</td>\n",
       "      <td>...</td>\n",
       "      <td>0</td>\n",
       "      <td>1</td>\n",
       "      <td>0</td>\n",
       "      <td>0</td>\n",
       "      <td>0</td>\n",
       "      <td>1</td>\n",
       "      <td>0</td>\n",
       "      <td>0</td>\n",
       "      <td>1</td>\n",
       "      <td>0</td>\n",
       "    </tr>\n",
       "    <tr>\n",
       "      <th>11</th>\n",
       "      <td>1</td>\n",
       "      <td>2007</td>\n",
       "      <td>9.0</td>\n",
       "      <td>U</td>\n",
       "      <td>7.0</td>\n",
       "      <td>S</td>\n",
       "      <td>3</td>\n",
       "      <td>3</td>\n",
       "      <td>F</td>\n",
       "      <td>1</td>\n",
       "      <td>...</td>\n",
       "      <td>0</td>\n",
       "      <td>1</td>\n",
       "      <td>0</td>\n",
       "      <td>0</td>\n",
       "      <td>0</td>\n",
       "      <td>1</td>\n",
       "      <td>0</td>\n",
       "      <td>0</td>\n",
       "      <td>1</td>\n",
       "      <td>0</td>\n",
       "    </tr>\n",
       "    <tr>\n",
       "      <th>12</th>\n",
       "      <td>1</td>\n",
       "      <td>2007</td>\n",
       "      <td>9.0</td>\n",
       "      <td>U</td>\n",
       "      <td>7.0</td>\n",
       "      <td>S</td>\n",
       "      <td>5</td>\n",
       "      <td>1</td>\n",
       "      <td>F</td>\n",
       "      <td>1</td>\n",
       "      <td>...</td>\n",
       "      <td>0</td>\n",
       "      <td>1</td>\n",
       "      <td>0</td>\n",
       "      <td>0</td>\n",
       "      <td>0</td>\n",
       "      <td>1</td>\n",
       "      <td>0</td>\n",
       "      <td>0</td>\n",
       "      <td>1</td>\n",
       "      <td>0</td>\n",
       "    </tr>\n",
       "    <tr>\n",
       "      <th>13</th>\n",
       "      <td>1</td>\n",
       "      <td>2007</td>\n",
       "      <td>9.0</td>\n",
       "      <td>U</td>\n",
       "      <td>7.0</td>\n",
       "      <td>S</td>\n",
       "      <td>7</td>\n",
       "      <td>2</td>\n",
       "      <td>F</td>\n",
       "      <td>1</td>\n",
       "      <td>...</td>\n",
       "      <td>0</td>\n",
       "      <td>1</td>\n",
       "      <td>0</td>\n",
       "      <td>0</td>\n",
       "      <td>0</td>\n",
       "      <td>1</td>\n",
       "      <td>0</td>\n",
       "      <td>0</td>\n",
       "      <td>1</td>\n",
       "      <td>0</td>\n",
       "    </tr>\n",
       "    <tr>\n",
       "      <th>14</th>\n",
       "      <td>1</td>\n",
       "      <td>2007</td>\n",
       "      <td>9.0</td>\n",
       "      <td>U</td>\n",
       "      <td>7.0</td>\n",
       "      <td>S</td>\n",
       "      <td>10</td>\n",
       "      <td>2</td>\n",
       "      <td>M</td>\n",
       "      <td>1</td>\n",
       "      <td>...</td>\n",
       "      <td>0</td>\n",
       "      <td>1</td>\n",
       "      <td>0</td>\n",
       "      <td>0</td>\n",
       "      <td>0</td>\n",
       "      <td>1</td>\n",
       "      <td>0</td>\n",
       "      <td>0</td>\n",
       "      <td>0</td>\n",
       "      <td>1</td>\n",
       "    </tr>\n",
       "  </tbody>\n",
       "</table>\n",
       "<p>15 rows × 32 columns</p>\n",
       "</div>"
      ],
      "text/plain": [
       "    age_recode_12  current_data_year  education_2003_revision injury_at_work  \\\n",
       "0               1               2006                      1.0              U   \n",
       "1               1               2006                      9.0              U   \n",
       "2               1               2006                      9.0              U   \n",
       "3               1               2006                      9.0              U   \n",
       "4               1               2006                      9.0              U   \n",
       "5               1               2006                      9.0              U   \n",
       "6               1               2007                      1.0              U   \n",
       "7               1               2007                      1.0              U   \n",
       "8               1               2007                      1.0              U   \n",
       "9               1               2007                      1.0              U   \n",
       "10              1               2007                      9.0              U   \n",
       "11              1               2007                      9.0              U   \n",
       "12              1               2007                      9.0              U   \n",
       "13              1               2007                      9.0              U   \n",
       "14              1               2007                      9.0              U   \n",
       "\n",
       "    manner_of_death marital_status  month_of_death  race_recode_5 sex  \\\n",
       "0               7.0              S               9              1   M   \n",
       "1               7.0              S               2              1   M   \n",
       "2               7.0              S               8              2   M   \n",
       "3               7.0              S               8              4   M   \n",
       "4               7.0              S              11              2   F   \n",
       "5               7.0              S              12              1   M   \n",
       "6               7.0              S               3              1   F   \n",
       "7               7.0              S               7              1   F   \n",
       "8               7.0              S               9              4   F   \n",
       "9               7.0              S              11              1   M   \n",
       "10              7.0              S               1              1   F   \n",
       "11              7.0              S               3              3   F   \n",
       "12              7.0              S               5              1   F   \n",
       "13              7.0              S               7              2   F   \n",
       "14              7.0              S              10              2   M   \n",
       "\n",
       "    Num of death  ...  inj_N  inj_U  inj_Y  mar_D  mar_M  mar_S  mar_U  mar_W  \\\n",
       "0              1  ...      0      1      0      0      0      1      0      0   \n",
       "1              1  ...      0      1      0      0      0      1      0      0   \n",
       "2              1  ...      0      1      0      0      0      1      0      0   \n",
       "3              1  ...      0      1      0      0      0      1      0      0   \n",
       "4              1  ...      0      1      0      0      0      1      0      0   \n",
       "5              1  ...      0      1      0      0      0      1      0      0   \n",
       "6              1  ...      0      1      0      0      0      1      0      0   \n",
       "7              1  ...      0      1      0      0      0      1      0      0   \n",
       "8              1  ...      0      1      0      0      0      1      0      0   \n",
       "9              1  ...      0      1      0      0      0      1      0      0   \n",
       "10             1  ...      0      1      0      0      0      1      0      0   \n",
       "11             1  ...      0      1      0      0      0      1      0      0   \n",
       "12             1  ...      0      1      0      0      0      1      0      0   \n",
       "13             1  ...      0      1      0      0      0      1      0      0   \n",
       "14             1  ...      0      1      0      0      0      1      0      0   \n",
       "\n",
       "    sex_F  sex_M  \n",
       "0       0      1  \n",
       "1       0      1  \n",
       "2       0      1  \n",
       "3       0      1  \n",
       "4       1      0  \n",
       "5       0      1  \n",
       "6       1      0  \n",
       "7       1      0  \n",
       "8       1      0  \n",
       "9       0      1  \n",
       "10      1      0  \n",
       "11      1      0  \n",
       "12      1      0  \n",
       "13      1      0  \n",
       "14      0      1  \n",
       "\n",
       "[15 rows x 32 columns]"
      ]
     },
     "execution_count": 48,
     "metadata": {},
     "output_type": "execute_result"
    }
   ],
   "source": [
    "df_63_all_dum.head(15)"
   ]
  },
  {
   "cell_type": "code",
   "execution_count": 49,
   "metadata": {},
   "outputs": [
    {
     "data": {
      "text/plain": [
       "Index(['age_recode_12', 'current_data_year', 'education_2003_revision',\n",
       "       'injury_at_work', 'manner_of_death', 'marital_status', 'month_of_death',\n",
       "       'race_recode_5', 'sex', 'Num of death', 'age_1', 'age_2', 'age_3',\n",
       "       'age_4', 'age_5', 'age_6', 'age_7', 'age_8', 'age_9', 'age_10',\n",
       "       'age_11', 'age_12', 'inj_N', 'inj_U', 'inj_Y', 'mar_D', 'mar_M',\n",
       "       'mar_S', 'mar_U', 'mar_W', 'sex_F', 'sex_M'],\n",
       "      dtype='object')"
      ]
     },
     "execution_count": 49,
     "metadata": {},
     "output_type": "execute_result"
    }
   ],
   "source": [
    "df_63_all_dum.columns"
   ]
  },
  {
   "cell_type": "code",
   "execution_count": 63,
   "metadata": {},
   "outputs": [],
   "source": [
    "prm = {'age_recode_12', 'current_data_year', 'education_2003_revision',\n",
    "       'injury_at_work', 'manner_of_death', 'marital_status', 'month_of_death',\n",
    "       'race_recode_5', 'sex', 'Num of death', 'age_1', 'age_2', 'age_3',\n",
    "       'age_4', 'age_5', 'age_6', 'age_7', 'age_8', 'age_9', 'age_10',\n",
    "       'age_11', 'age_12', 'inj_N', 'inj_U', 'inj_Y', 'mar_D', 'mar_M',\n",
    "       'mar_S', 'mar_U', 'mar_W', 'sex_F', 'sex_M', 'ypred'}"
   ]
  },
  {
   "cell_type": "code",
   "execution_count": 51,
   "metadata": {},
   "outputs": [],
   "source": [
    "features={'age_5', 'age_6', 'age_7', 'age_8', 'age_9', 'age_10', 'age_11', 'current_data_year', 'education_2003_revision', 'manner_of_death', 'month_of_death', 'race_recode_5', 'inj_N', 'inj_U', 'inj_Y', 'mar_D', 'mar_M', 'mar_S', 'mar_U', 'mar_W', 'sex_F', 'sex_M' }"
   ]
  },
  {
   "cell_type": "code",
   "execution_count": 52,
   "metadata": {},
   "outputs": [
    {
     "name": "stdout",
     "output_type": "stream",
     "text": [
      "                 Generalized Linear Model Regression Results                  \n",
      "==============================================================================\n",
      "Dep. Variable:           Num of death   No. Observations:               127669\n",
      "Model:                            GLM   Df Residuals:                   127649\n",
      "Model Family:                 Poisson   Df Model:                           19\n",
      "Link Function:                    log   Scale:                          1.0000\n",
      "Method:                          IRLS   Log-Likelihood:            -1.2166e+06\n",
      "Date:                Wed, 27 Nov 2019   Deviance:                   2.0410e+06\n",
      "Time:                        18:25:29   Pearson chi2:                 7.25e+06\n",
      "No. Iterations:                     8                                         \n",
      "Covariance Type:            nonrobust                                         \n",
      "===========================================================================================\n",
      "                              coef    std err          z      P>|z|      [0.025      0.975]\n",
      "-------------------------------------------------------------------------------------------\n",
      "const                      -7.7456      0.242    -31.943      0.000      -8.221      -7.270\n",
      "race_recode_5              -1.7579      0.002   -842.490      0.000      -1.762      -1.754\n",
      "age_10                      2.6001      0.036     72.183      0.000       2.529       2.671\n",
      "mar_W                      -0.3407      0.049     -7.021      0.000      -0.436      -0.246\n",
      "inj_U                      -0.6520      0.082     -7.957      0.000      -0.813      -0.491\n",
      "age_6                       0.3638      0.037      9.913      0.000       0.292       0.436\n",
      "age_11                      3.0177      0.036     83.801      0.000       2.947       3.088\n",
      "inj_N                      -3.4549      0.082    -42.184      0.000      -3.615      -3.294\n",
      "age_5                      -0.2369      0.040     -5.996      0.000      -0.314      -0.159\n",
      "age_7                       1.1252      0.036     31.105      0.000       1.054       1.196\n",
      "sex_M                      -3.8048      0.121    -31.382      0.000      -4.042      -3.567\n",
      "mar_S                      -2.0554      0.049    -42.315      0.000      -2.151      -1.960\n",
      "month_of_death             -0.0089      0.000    -39.680      0.000      -0.009      -0.008\n",
      "current_data_year           0.0067      0.000     27.303      0.000       0.006       0.007\n",
      "sex_F                      -3.9409      0.121    -32.504      0.000      -4.179      -3.703\n",
      "mar_D                      -1.5905      0.049    -32.755      0.000      -1.686      -1.495\n",
      "age_9                       2.0037      0.036     55.587      0.000       1.933       2.074\n",
      "mar_M                      -0.5476      0.049    -11.284      0.000      -0.643      -0.452\n",
      "education_2003_revision    -0.2323      0.000   -663.947      0.000      -0.233      -0.232\n",
      "inj_Y                      -3.6388      0.088    -41.462      0.000      -3.811      -3.467\n",
      "manner_of_death             0.5242      0.002    230.953      0.000       0.520       0.529\n",
      "mar_U                      -3.2114      0.049    -65.210      0.000      -3.308      -3.115\n",
      "age_8                       1.6021      0.036     44.405      0.000       1.531       1.673\n",
      "===========================================================================================\n"
     ]
    }
   ],
   "source": [
    "x=df_63_all_dum[features]\n",
    "x_pd = sm.add_constant(x)\n",
    "#x = sm.add_constant(x)\n",
    "y=df_63_all_dum['Num of death']\n",
    "glm_model = sm.GLM(y, x_pd, family=sm.families.Poisson())\n",
    "glm_model_results = glm_model.fit()\n",
    "print(glm_model_results.summary())"
   ]
  },
  {
   "cell_type": "code",
   "execution_count": 53,
   "metadata": {},
   "outputs": [],
   "source": [
    "ypred = glm_model_results.predict(x_pd)\n",
    "df_63_all_dum['ypred'] = pd.DataFrame(ypred)"
   ]
  },
  {
   "cell_type": "code",
   "execution_count": 66,
   "metadata": {},
   "outputs": [
    {
     "data": {
      "image/png": "[encoded data removed]",
      "text/plain": [
       "<Figure size 720x360 with 1 Axes>"
      ]
     },
     "metadata": {
      "needs_background": "light"
     },
     "output_type": "display_data"
    }
   ],
   "source": [
    "df_63_all_dum_agg=df_63_all_dum[['age_recode_12', 'Num of death', 'ypred']].groupby('age_recode_12').sum().reset_index()\n",
    "#df_63_all_dum_agg=df_63_all_dum[prm].groupby('age_recode_12').sum().reset_index()\n",
    "df_63_all_dum_agg.plot(x='age_recode_12', y=['Num of death', 'ypred'], figsize=(10,5), grid=True, style=['o','rx'])\n",
    "plt.xlim(0,11.5)\n",
    "plt.ylim(0,1000000)\n",
    "plt.legend(loc='upper left')\n",
    "plt.title('Plot')\n",
    "plt.show()"
   ]
  },
  {
   "cell_type": "code",
   "execution_count": 67,
   "metadata": {},
   "outputs": [
    {
     "data": {
      "image/png": "[encoded data removed]",
      "text/plain": [
       "<Figure size 720x360 with 1 Axes>"
      ]
     },
     "metadata": {
      "needs_background": "light"
     },
     "output_type": "display_data"
    }
   ],
   "source": [
    "df_63_all_dum_agg =df_63_all_dum[['current_data_year', 'Num of death', 'ypred']].groupby('current_data_year').sum().reset_index()\n",
    "df_63_all_dum_agg.plot(x='current_data_year', y=['Num of death', 'ypred'], figsize=(10,5), grid=True, style=['o','rx'])\n",
    "plt.title('Plot')\n",
    "plt.xlim(2004, 2016)\n",
    "plt.show()"
   ]
  },
  {
   "cell_type": "code",
   "execution_count": 68,
   "metadata": {},
   "outputs": [
    {
     "data": {
      "image/png": "[encoded data removed]",
      "text/plain": [
       "<Figure size 720x360 with 1 Axes>"
      ]
     },
     "metadata": {
      "needs_background": "light"
     },
     "output_type": "display_data"
    }
   ],
   "source": [
    "df_63_all_dum_agg =df_63_all_dum[['sex', 'Num of death', 'ypred']].groupby('sex').sum().reset_index()\n",
    "df_63_all_dum_agg.plot(x='sex', y=['Num of death', 'ypred'], figsize=(10,5), grid=True, style=['o','rx'])\n",
    "plt.title('Plot')\n",
    "plt.show()"
   ]
  },
  {
   "cell_type": "code",
   "execution_count": 69,
   "metadata": {},
   "outputs": [
    {
     "data": {
      "image/png": "[encoded data removed]",
      "text/plain": [
       "<Figure size 720x360 with 1 Axes>"
      ]
     },
     "metadata": {
      "needs_background": "light"
     },
     "output_type": "display_data"
    }
   ],
   "source": [
    "df_63_all_dum_agg =df_63_all_dum[['education_2003_revision', 'Num of death', 'ypred']].groupby('education_2003_revision').sum().reset_index()\n",
    "df_63_all_dum_agg.plot(x='education_2003_revision', y=['Num of death', 'ypred'], figsize=(10,5), grid=True, style=['o','rx'])\n",
    "plt.title('Plot')\n",
    "plt.show()"
   ]
  },
  {
   "cell_type": "code",
   "execution_count": 70,
   "metadata": {},
   "outputs": [
    {
     "data": {
      "image/png": "[encoded data removed]",
      "text/plain": [
       "<Figure size 720x360 with 1 Axes>"
      ]
     },
     "metadata": {
      "needs_background": "light"
     },
     "output_type": "display_data"
    }
   ],
   "source": [
    "df_63_all_dum_agg =df_63_all_dum[['month_of_death', 'Num of death', 'ypred']].groupby('month_of_death').sum().reset_index()\n",
    "df_63_all_dum_agg.plot(x='month_of_death', y=['Num of death', 'ypred'], figsize=(10,5), grid=True, style=['o','rx'])\n",
    "plt.title('Plot')\n",
    "plt.show()"
   ]
  },
  {
   "cell_type": "code",
   "execution_count": 71,
   "metadata": {},
   "outputs": [
    {
     "data": {
      "image/png": "[encoded data removed]",
      "text/plain": [
       "<Figure size 720x360 with 1 Axes>"
      ]
     },
     "metadata": {
      "needs_background": "light"
     },
     "output_type": "display_data"
    }
   ],
   "source": [
    "df_63_all_dum_agg =df_63_all_dum[['manner_of_death', 'Num of death', 'ypred']].groupby('manner_of_death').sum().reset_index()\n",
    "df_63_all_dum_agg.plot(x='manner_of_death', y=['Num of death', 'ypred'], figsize=(10,5), grid=True, style=['o','rx'])\n",
    "plt.title('Plot')\n",
    "plt.show()"
   ]
  },
  {
   "cell_type": "code",
   "execution_count": 72,
   "metadata": {},
   "outputs": [
    {
     "data": {
      "image/png": "[encoded data removed]",
      "text/plain": [
       "<Figure size 720x360 with 1 Axes>"
      ]
     },
     "metadata": {
      "needs_background": "light"
     },
     "output_type": "display_data"
    }
   ],
   "source": [
    "df_63_all_dum_agg =df_63_all_dum[['marital_status', 'Num of death', 'ypred']].groupby('marital_status').sum().reset_index()\n",
    "df_63_all_dum_agg.plot(x='marital_status', y=['Num of death', 'ypred'], figsize=(10,5), grid=True, style=['o','rx'])\n",
    "plt.title('Plot')\n",
    "plt.show()"
   ]
  },
  {
   "cell_type": "code",
   "execution_count": 73,
   "metadata": {},
   "outputs": [
    {
     "data": {
      "image/png": "[encoded data removed]",
      "text/plain": [
       "<Figure size 720x360 with 1 Axes>"
      ]
     },
     "metadata": {
      "needs_background": "light"
     },
     "output_type": "display_data"
    }
   ],
   "source": [
    "df_63_all_dum_agg =df_63_all_dum[['injury_at_work', 'Num of death', 'ypred']].groupby('injury_at_work').sum().reset_index()\n",
    "df_63_all_dum_agg.plot(x='injury_at_work', y=['Num of death', 'ypred'], figsize=(10,5), grid=True, style=['o','rx'])\n",
    "plt.title('Plot')\n",
    "plt.show()"
   ]
  },
  {
   "cell_type": "markdown",
   "metadata": {},
   "source": [
    "# rtry 1"
   ]
  },
  {
   "cell_type": "code",
   "execution_count": 33,
   "metadata": {},
   "outputs": [],
   "source": [
    "df_63_rt1 = df_63.groupby(['age_recode_12','current_data_year','education_2003_revision', 'marital_status', 'month_of_death', 'race_recode_5', 'sex']).size().reset_index(name=\"Num of death\")"
   ]
  },
  {
   "cell_type": "code",
   "execution_count": 34,
   "metadata": {},
   "outputs": [],
   "source": [
    "df_63_rt1_dum=pd.get_dummies(df_63_rt1['age_recode_12'], prefix='age')\n",
    "df_63_rt1_dum=pd.concat([df_63_rt1, df_63_rt1_dum ], axis=1)"
   ]
  },
  {
   "cell_type": "code",
   "execution_count": 35,
   "metadata": {},
   "outputs": [
    {
     "data": {
      "text/plain": [
       "Index(['mar_D', 'mar_M', 'mar_S', 'mar_U', 'mar_W'], dtype='object')"
      ]
     },
     "execution_count": 35,
     "metadata": {},
     "output_type": "execute_result"
    }
   ],
   "source": [
    "mar_dummies = pd.get_dummies(df_63_rt1['marital_status'],prefix='mar')\n",
    "mar_dummies.columns"
   ]
  },
  {
   "cell_type": "code",
   "execution_count": 36,
   "metadata": {},
   "outputs": [
    {
     "data": {
      "text/plain": [
       "Index(['sex_F', 'sex_M'], dtype='object')"
      ]
     },
     "execution_count": 36,
     "metadata": {},
     "output_type": "execute_result"
    }
   ],
   "source": [
    "sex_dummies = pd.get_dummies(df_63_rt1['sex'],prefix='sex')\n",
    "sex_dummies.columns"
   ]
  },
  {
   "cell_type": "code",
   "execution_count": 37,
   "metadata": {},
   "outputs": [
    {
     "data": {
      "text/plain": [
       "Index(['edu_1.0', 'edu_2.0', 'edu_3.0', 'edu_4.0', 'edu_5.0', 'edu_6.0',\n",
       "       'edu_7.0', 'edu_8.0', 'edu_9.0'],\n",
       "      dtype='object')"
      ]
     },
     "execution_count": 37,
     "metadata": {},
     "output_type": "execute_result"
    }
   ],
   "source": [
    "edu_dummies = pd.get_dummies(df_63_rt1['education_2003_revision'],prefix='edu')\n",
    "edu_dummies.columns"
   ]
  },
  {
   "cell_type": "code",
   "execution_count": 40,
   "metadata": {},
   "outputs": [],
   "source": [
    "df_63_rt1_dum = pd.concat([df_63_rt1_dum, mar_dummies, sex_dummies,edu_dummies], axis=1)"
   ]
  },
  {
   "cell_type": "code",
   "execution_count": 41,
   "metadata": {},
   "outputs": [
    {
     "data": {
      "text/plain": [
       "Index(['age_recode_12', 'current_data_year', 'education_2003_revision',\n",
       "       'marital_status', 'month_of_death', 'race_recode_5', 'sex',\n",
       "       'Num of death', 'age_1', 'age_2', 'age_3', 'age_4', 'age_5', 'age_6',\n",
       "       'age_7', 'age_8', 'age_9', 'age_10', 'age_11', 'age_12', 'mar_D',\n",
       "       'mar_M', 'mar_S', 'mar_U', 'mar_W', 'sex_F', 'sex_M', 'mar_D', 'mar_M',\n",
       "       'mar_S', 'mar_U', 'mar_W', 'sex_F', 'sex_M', 'edu_1.0', 'edu_2.0',\n",
       "       'edu_3.0', 'edu_4.0', 'edu_5.0', 'edu_6.0', 'edu_7.0', 'edu_8.0',\n",
       "       'edu_9.0'],\n",
       "      dtype='object')"
      ]
     },
     "execution_count": 41,
     "metadata": {},
     "output_type": "execute_result"
    }
   ],
   "source": [
    "df_63_rt1_dum.columns"
   ]
  },
  {
   "cell_type": "code",
   "execution_count": 42,
   "metadata": {},
   "outputs": [],
   "source": [
    "features={'age_5', 'age_6', 'age_7', 'age_8', 'age_9', 'age_10', 'age_11', 'current_data_year', 'edu_1.0', 'edu_3.0', 'edu_4.0', 'month_of_death', 'race_recode_5', 'mar_D', 'mar_M', 'mar_S', 'mar_U', 'mar_W', 'sex_F', 'sex_M' }"
   ]
  },
  {
   "cell_type": "code",
   "execution_count": 43,
   "metadata": {
    "scrolled": false
   },
   "outputs": [
    {
     "name": "stdout",
     "output_type": "stream",
     "text": [
      "                 Generalized Linear Model Regression Results                  \n",
      "==============================================================================\n",
      "Dep. Variable:           Num of death   No. Observations:               113827\n",
      "Model:                            GLM   Df Residuals:                   113808\n",
      "Model Family:                 Poisson   Df Model:                           18\n",
      "Link Function:                    log   Scale:                          1.0000\n",
      "Method:                          IRLS   Log-Likelihood:            -1.1029e+06\n",
      "Date:                Sat, 30 Nov 2019   Deviance:                   1.8177e+06\n",
      "Time:                        21:46:09   Pearson chi2:                 2.98e+06\n",
      "No. Iterations:                     8                                         \n",
      "Covariance Type:            nonrobust                                         \n",
      "=====================================================================================\n",
      "                        coef    std err          z      P>|z|      [0.025      0.975]\n",
      "-------------------------------------------------------------------------------------\n",
      "const                17.2145      0.179     96.350      0.000      16.864      17.565\n",
      "age_7                 1.4727      0.034     43.238      0.000       1.406       1.539\n",
      "mar_U                 2.5400      0.036     70.826      0.000       2.470       2.610\n",
      "mar_U                 2.5400      0.036     70.826      0.000       2.470       2.610\n",
      "age_8                 2.0822      0.034     61.298      0.000       2.016       2.149\n",
      "edu_1.0               0.9069      0.002    426.352      0.000       0.903       0.911\n",
      "mar_D                 3.4257      0.036     95.824      0.000       3.356       3.496\n",
      "mar_D                 3.4257      0.036     95.824      0.000       3.356       3.496\n",
      "mar_M                 3.9717      0.036    111.118      0.000       3.902       4.042\n",
      "mar_M                 3.9717      0.036    111.118      0.000       3.902       4.042\n",
      "age_5                -0.2406      0.037     -6.453      0.000      -0.314      -0.168\n",
      "mar_W                 4.0833      0.036    114.243      0.000       4.013       4.153\n",
      "mar_W                 4.0833      0.036    114.243      0.000       4.013       4.153\n",
      "edu_4.0               0.6620      0.002    284.642      0.000       0.657       0.667\n",
      "race_recode_5        -1.7005      0.002  -1053.000      0.000      -1.704      -1.697\n",
      "edu_3.0               1.9309      0.002   1219.648      0.000       1.928       1.934\n",
      "sex_F                 8.5793      0.089     96.036      0.000       8.404       8.754\n",
      "sex_F                 8.5793      0.089     96.036      0.000       8.404       8.754\n",
      "age_10                3.1835      0.034     93.861      0.000       3.117       3.250\n",
      "mar_S                 3.1939      0.036     89.332      0.000       3.124       3.264\n",
      "mar_S                 3.1939      0.036     89.332      0.000       3.124       3.264\n",
      "month_of_death       -0.0110      0.000    -56.323      0.000      -0.011      -0.011\n",
      "age_11                3.6071      0.034    106.375      0.000       3.541       3.674\n",
      "age_9                 2.5503      0.034     75.144      0.000       2.484       2.617\n",
      "current_data_year    -0.0199      0.000    -93.701      0.000      -0.020      -0.020\n",
      "age_6                 0.5850      0.035     16.929      0.000       0.517       0.653\n",
      "sex_M                 8.6352      0.089     96.663      0.000       8.460       8.810\n",
      "sex_M                 8.6352      0.089     96.663      0.000       8.460       8.810\n",
      "=====================================================================================\n"
     ]
    }
   ],
   "source": [
    "x=df_63_rt1_dum[features]\n",
    "x_pd = sm.add_constant(x)\n",
    "#x = sm.add_constant(x)\n",
    "y=df_63_rt1_dum['Num of death']\n",
    "glm_model = sm.GLM(y, x_pd, family=sm.families.Poisson())\n",
    "glm_model_results = glm_model.fit()\n",
    "print(glm_model_results.summary())"
   ]
  },
  {
   "cell_type": "code",
   "execution_count": 44,
   "metadata": {},
   "outputs": [],
   "source": [
    "ypred = glm_model_results.predict(x_pd)\n",
    "df_63_rt1_dum['ypred'] = pd.DataFrame(ypred)"
   ]
  },
  {
   "cell_type": "code",
   "execution_count": 51,
   "metadata": {},
   "outputs": [
    {
     "data": {
      "image/png": "[encoded data removed]",
      "text/plain": [
       "<Figure size 720x360 with 1 Axes>"
      ]
     },
     "metadata": {
      "needs_background": "light"
     },
     "output_type": "display_data"
    }
   ],
   "source": [
    "df_63_rt1_dum_agg=df_63_rt1_dum.groupby('age_recode_12').sum().reset_index()\n",
    "df_63_rt1_dum_agg.plot(x='age_recode_12', y=['Num of death', 'ypred'], figsize=(10,5), grid=True, style=['o','rx'], markersize=12)\n",
    "plt.xlim(0,11.5)\n",
    "plt.ylim(0,1000000)\n",
    "plt.legend(loc='upper left')\n",
    "plt.title('Age vs. No. of Death')\n",
    "plt.show()"
   ]
  },
  {
   "cell_type": "code",
   "execution_count": 52,
   "metadata": {},
   "outputs": [
    {
     "data": {
      "image/png": "[encoded data removed]",
      "text/plain": [
       "<Figure size 720x360 with 1 Axes>"
      ]
     },
     "metadata": {
      "needs_background": "light"
     },
     "output_type": "display_data"
    }
   ],
   "source": [
    "df_63_rt1_dum_agg =df_63_rt1_dum.groupby('current_data_year').sum().reset_index()\n",
    "df_63_rt1_dum_agg.plot(x='current_data_year', y=['Num of death', 'ypred'], figsize=(10,5), grid=True, style=['o','rx'],markersize=12)\n",
    "plt.title('Year vs. No. of Death')\n",
    "plt.xlim(2004, 2016)\n",
    "plt.show()"
   ]
  },
  {
   "cell_type": "code",
   "execution_count": 58,
   "metadata": {},
   "outputs": [
    {
     "data": {
      "image/png": "[encoded data removed]",
      "text/plain": [
       "<Figure size 360x360 with 1 Axes>"
      ]
     },
     "metadata": {
      "needs_background": "light"
     },
     "output_type": "display_data"
    }
   ],
   "source": [
    "df_63_rt1_dum_agg =df_63_rt1_dum.groupby('sex').sum().reset_index()\n",
    "df_63_rt1_dum_agg.plot(x='sex', y=['Num of death', 'ypred'], figsize=(5,5), grid=True, style=['o','rx'], markersize=15)\n",
    "plt.title('Sex vs. No. of Death')\n",
    "plt.show()"
   ]
  },
  {
   "cell_type": "code",
   "execution_count": 57,
   "metadata": {},
   "outputs": [
    {
     "data": {
      "image/png": "[encoded data removed]",
      "text/plain": [
       "<Figure size 720x360 with 1 Axes>"
      ]
     },
     "metadata": {
      "needs_background": "light"
     },
     "output_type": "display_data"
    }
   ],
   "source": [
    "df_63_rt1_dum_agg =df_63_rt1_dum.groupby('education_2003_revision').sum().reset_index()\n",
    "df_63_rt1_dum_agg.plot(x='education_2003_revision', y=['Num of death', 'ypred'], figsize=(10,5), grid=True, style=['o','rx'], markersize=12)\n",
    "plt.title('Education vs. No. of Death')\n",
    "plt.show()"
   ]
  },
  {
   "cell_type": "code",
   "execution_count": 61,
   "metadata": {},
   "outputs": [
    {
     "data": {
      "image/png": "[encoded data removed]",
      "text/plain": [
       "<Figure size 720x360 with 1 Axes>"
      ]
     },
     "metadata": {
      "needs_background": "light"
     },
     "output_type": "display_data"
    }
   ],
   "source": [
    "df_63_rt1_dum_agg =df_63_rt1_dum.groupby('month_of_death').sum().reset_index()\n",
    "df_63_rt1_dum_agg.plot(x='month_of_death', y=['Num of death', 'ypred'], figsize=(10,5), grid=True, style=['o','rx'], markersize=12)\n",
    "plt.ylabel(\"Number of Death\")\n",
    "plt.show()"
   ]
  },
  {
   "cell_type": "code",
   "execution_count": 62,
   "metadata": {},
   "outputs": [
    {
     "data": {
      "image/png": "[encoded data removed]",
      "text/plain": [
       "<Figure size 720x360 with 1 Axes>"
      ]
     },
     "metadata": {
      "needs_background": "light"
     },
     "output_type": "display_data"
    }
   ],
   "source": [
    "df_63_rt1_dum_agg =df_63_rt1_dum[['marital_status', 'Num of death', 'ypred']].groupby('marital_status').sum().reset_index()\n",
    "df_63_rt1_dum_agg.plot(x='marital_status', y=['Num of death', 'ypred'], figsize=(10,5), grid=True, style=['o','rx'], markersize=12)\n",
    "plt.ylabel(\"Number of Death\")\n",
    "plt.show()"
   ]
  },
  {
   "cell_type": "code",
   "execution_count": 63,
   "metadata": {},
   "outputs": [
    {
     "data": {
      "image/png": "[encoded data removed]",
      "text/plain": [
       "<Figure size 720x360 with 1 Axes>"
      ]
     },
     "metadata": {
      "needs_background": "light"
     },
     "output_type": "display_data"
    }
   ],
   "source": [
    "df_63_rt1_dum_agg =df_63_rt1_dum.groupby('race_recode_5').sum().reset_index()\n",
    "df_63_rt1_dum_agg.plot(x='race_recode_5', y=['Num of death', 'ypred'], figsize=(10,5), grid=True, style=['o','rx'], markersize=12)\n",
    "plt.ylabel(\"Number of Death\")\n",
    "plt.show()"
   ]
  },
  {
   "cell_type": "markdown",
   "metadata": {},
   "source": [
    "# rtry 2 (month of death include 2-order polynomial)"
   ]
  },
  {
   "cell_type": "code",
   "execution_count": 10,
   "metadata": {},
   "outputs": [],
   "source": [
    "df_63_rt2 = df_63.groupby(['age_recode_12','current_data_year','education_2003_revision', 'marital_status', 'month_of_death', 'sex']).size().reset_index(name=\"Num of death\")"
   ]
  },
  {
   "cell_type": "code",
   "execution_count": 11,
   "metadata": {},
   "outputs": [],
   "source": [
    "df_63_rt2_dum=pd.get_dummies(df_63_rt2['age_recode_12'], prefix='age')\n",
    "df_63_rt2_dum=pd.concat([df_63_rt2, df_63_rt2_dum], axis=1)"
   ]
  },
  {
   "cell_type": "code",
   "execution_count": 12,
   "metadata": {},
   "outputs": [
    {
     "data": {
      "text/plain": [
       "Index(['age_recode_12', 'current_data_year', 'education_2003_revision',\n",
       "       'marital_status', 'month_of_death', 'sex', 'Num of death', 'age_1',\n",
       "       'age_2', 'age_3', 'age_4', 'age_5', 'age_6', 'age_7', 'age_8', 'age_9',\n",
       "       'age_10', 'age_11', 'age_12'],\n",
       "      dtype='object')"
      ]
     },
     "execution_count": 12,
     "metadata": {},
     "output_type": "execute_result"
    }
   ],
   "source": [
    "df_63_rt2_dum.columns"
   ]
  },
  {
   "cell_type": "code",
   "execution_count": 13,
   "metadata": {},
   "outputs": [
    {
     "data": {
      "text/plain": [
       "Index(['mar_D', 'mar_M', 'mar_S', 'mar_U', 'mar_W'], dtype='object')"
      ]
     },
     "execution_count": 13,
     "metadata": {},
     "output_type": "execute_result"
    }
   ],
   "source": [
    "mar_dummies = pd.get_dummies(df_63_rt2['marital_status'],prefix='mar')\n",
    "mar_dummies.columns"
   ]
  },
  {
   "cell_type": "code",
   "execution_count": 14,
   "metadata": {},
   "outputs": [
    {
     "data": {
      "text/plain": [
       "Index(['sex_F', 'sex_M'], dtype='object')"
      ]
     },
     "execution_count": 14,
     "metadata": {},
     "output_type": "execute_result"
    }
   ],
   "source": [
    "sex_dummies = pd.get_dummies(df_63_rt2['sex'],prefix='sex')\n",
    "sex_dummies.columns"
   ]
  },
  {
   "cell_type": "code",
   "execution_count": 15,
   "metadata": {},
   "outputs": [
    {
     "data": {
      "text/plain": [
       "Index(['edu_1.0', 'edu_2.0', 'edu_3.0', 'edu_4.0', 'edu_5.0', 'edu_6.0',\n",
       "       'edu_7.0', 'edu_8.0', 'edu_9.0'],\n",
       "      dtype='object')"
      ]
     },
     "execution_count": 15,
     "metadata": {},
     "output_type": "execute_result"
    }
   ],
   "source": [
    "edu_dummies = pd.get_dummies(df_63_rt2['education_2003_revision'],prefix='edu')\n",
    "edu_dummies.columns"
   ]
  },
  {
   "cell_type": "code",
   "execution_count": 16,
   "metadata": {},
   "outputs": [],
   "source": [
    "df_63_rt2_dum = pd.concat([df_63_rt2_dum, mar_dummies, sex_dummies, edu_dummies], axis=1)"
   ]
  },
  {
   "cell_type": "code",
   "execution_count": 17,
   "metadata": {},
   "outputs": [],
   "source": [
    "df_63_rt2_dum['month_of_death_sq'] = np.power(df_63_rt2_dum['month_of_death'], 2)"
   ]
  },
  {
   "cell_type": "code",
   "execution_count": 20,
   "metadata": {},
   "outputs": [],
   "source": [
    "features={'age_5', 'age_6', 'age_7', 'age_8', 'age_9', 'age_10', 'age_11', 'current_data_year', 'edu_1.0', 'edu_3.0', 'edu_4.0', 'month_of_death', 'month_of_death_sq', 'mar_D', 'mar_M', 'mar_S', 'mar_U', 'mar_W', 'sex_F', 'sex_M' }"
   ]
  },
  {
   "cell_type": "code",
   "execution_count": 21,
   "metadata": {},
   "outputs": [
    {
     "name": "stdout",
     "output_type": "stream",
     "text": [
      "                 Generalized Linear Model Regression Results                  \n",
      "==============================================================================\n",
      "Dep. Variable:           Num of death   No. Observations:                55799\n",
      "Model:                            GLM   Df Residuals:                    55780\n",
      "Model Family:                 Poisson   Df Model:                           18\n",
      "Link Function:                    log   Scale:                          1.0000\n",
      "Method:                          IRLS   Log-Likelihood:            -9.1188e+05\n",
      "Date:                Mon, 02 Dec 2019   Deviance:                   1.5898e+06\n",
      "Time:                        17:07:11   Pearson chi2:                 2.13e+06\n",
      "No. Iterations:                     8                                         \n",
      "Covariance Type:            nonrobust                                         \n",
      "=====================================================================================\n",
      "                        coef    std err          z      P>|z|      [0.025      0.975]\n",
      "-------------------------------------------------------------------------------------\n",
      "const                22.9513      0.252     90.952      0.000      22.457      23.446\n",
      "mar_M                 5.7039      0.050    112.952      0.000       5.605       5.803\n",
      "age_5                -0.1560      0.037     -4.184      0.000      -0.229      -0.083\n",
      "mar_U                 2.6113      0.051     51.372      0.000       2.512       2.711\n",
      "sex_F                11.4177      0.126     90.491      0.000      11.170      11.665\n",
      "age_8                 2.3986      0.034     70.610      0.000       2.332       2.465\n",
      "month_of_death_sq     0.0053   6.28e-05     84.199      0.000       0.005       0.005\n",
      "month_of_death       -0.0793      0.001    -95.255      0.000      -0.081      -0.078\n",
      "age_9                 2.8863      0.034     85.043      0.000       2.820       2.953\n",
      "current_data_year    -0.0197      0.000    -92.535      0.000      -0.020      -0.019\n",
      "edu_3.0               1.9988      0.002   1265.536      0.000       1.996       2.002\n",
      "mar_D                 4.5945      0.051     90.951      0.000       4.495       4.693\n",
      "age_10                3.5282      0.034    104.022      0.000       3.462       3.595\n",
      "age_11                3.9456      0.034    116.357      0.000       3.879       4.012\n",
      "edu_4.0               0.7042      0.002    302.916      0.000       0.700       0.709\n",
      "edu_1.0               0.9608      0.002    452.049      0.000       0.957       0.965\n",
      "mar_W                 5.9250      0.050    117.337      0.000       5.826       6.024\n",
      "sex_M                11.5336      0.126     91.411      0.000      11.286      11.781\n",
      "mar_S                 4.1167      0.051     81.479      0.000       4.018       4.216\n",
      "age_6                 0.7856      0.035     22.734      0.000       0.718       0.853\n",
      "age_7                 1.7364      0.034     50.980      0.000       1.670       1.803\n",
      "=====================================================================================\n"
     ]
    }
   ],
   "source": [
    "x=df_63_rt2_dum[features]\n",
    "x_pd = sm.add_constant(x)\n",
    "#x = sm.add_constant(x)\n",
    "y=df_63_rt2_dum['Num of death']\n",
    "glm_model = sm.GLM(y, x_pd, family=sm.families.Poisson())\n",
    "glm_model_results = glm_model.fit()\n",
    "print(glm_model_results.summary())"
   ]
  },
  {
   "cell_type": "code",
   "execution_count": 22,
   "metadata": {},
   "outputs": [],
   "source": [
    "ypred = glm_model_results.predict(x_pd)\n",
    "df_63_rt2_dum['ypred'] = pd.DataFrame(ypred)"
   ]
  },
  {
   "cell_type": "code",
   "execution_count": 23,
   "metadata": {},
   "outputs": [
    {
     "data": {
      "image/png": "[encoded data removed]",
      "text/plain": [
       "<Figure size 720x360 with 1 Axes>"
      ]
     },
     "metadata": {
      "needs_background": "light"
     },
     "output_type": "display_data"
    }
   ],
   "source": [
    "df_63_rt2_dum_agg=df_63_rt2_dum.groupby('age_recode_12').sum().reset_index()\n",
    "df_63_rt2_dum_agg.plot(x='age_recode_12', y=['Num of death', 'ypred'], figsize=(10,5), grid=True, style=['o','rx'], markersize=12)\n",
    "plt.xlim(0,11.5)\n",
    "plt.ylim(0,1000000)\n",
    "plt.legend(loc='upper left')\n",
    "plt.title('Age vs. No. of Death')\n",
    "plt.show()"
   ]
  },
  {
   "cell_type": "code",
   "execution_count": 24,
   "metadata": {},
   "outputs": [
    {
     "data": {
      "image/png": "[encoded data removed]",
      "text/plain": [
       "<Figure size 720x360 with 1 Axes>"
      ]
     },
     "metadata": {
      "needs_background": "light"
     },
     "output_type": "display_data"
    }
   ],
   "source": [
    "df_63_rt2_dum_agg =df_63_rt2_dum.groupby('current_data_year').sum().reset_index()\n",
    "df_63_rt2_dum_agg.plot(x='current_data_year', y=['Num of death', 'ypred'], figsize=(10,5), grid=True, style=['o','rx'],markersize=12)\n",
    "plt.title('Year vs. No. of Death')\n",
    "plt.xlim(2004, 2016)\n",
    "plt.show()"
   ]
  },
  {
   "cell_type": "code",
   "execution_count": 25,
   "metadata": {},
   "outputs": [
    {
     "data": {
      "image/png": "[encoded data removed]",
      "text/plain": [
       "<Figure size 360x360 with 1 Axes>"
      ]
     },
     "metadata": {
      "needs_background": "light"
     },
     "output_type": "display_data"
    }
   ],
   "source": [
    "df_63_rt2_dum_agg =df_63_rt2_dum.groupby('sex').sum().reset_index()\n",
    "df_63_rt2_dum_agg.plot(x='sex', y=['Num of death', 'ypred'], figsize=(5,5), grid=True, style=['o','rx'], markersize=15)\n",
    "plt.title('Sex vs. No. of Death')\n",
    "plt.show()"
   ]
  },
  {
   "cell_type": "code",
   "execution_count": 26,
   "metadata": {
    "scrolled": true
   },
   "outputs": [
    {
     "data": {
      "image/png": "[encoded data removed]",
      "text/plain": [
       "<Figure size 720x360 with 1 Axes>"
      ]
     },
     "metadata": {
      "needs_background": "light"
     },
     "output_type": "display_data"
    }
   ],
   "source": [
    "df_63_rt2_dum_agg =df_63_rt2_dum.groupby('education_2003_revision').sum().reset_index()\n",
    "df_63_rt2_dum_agg.plot(x='education_2003_revision', y=['Num of death', 'ypred'], figsize=(10,5), grid=True, style=['o','rx'], markersize=12)\n",
    "plt.title('Education vs. No. of Death')\n",
    "plt.show()"
   ]
  },
  {
   "cell_type": "code",
   "execution_count": 27,
   "metadata": {},
   "outputs": [
    {
     "data": {
      "image/png": "[encoded data removed]",
      "text/plain": [
       "<Figure size 720x360 with 1 Axes>"
      ]
     },
     "metadata": {
      "needs_background": "light"
     },
     "output_type": "display_data"
    }
   ],
   "source": [
    "df_63_rt2_dum_agg =df_63_rt2_dum.groupby('month_of_death').sum().reset_index()\n",
    "df_63_rt2_dum_agg.plot(x='month_of_death', y=['Num of death', 'ypred'], figsize=(10,5), grid=True, style=['o','rx'], markersize=12)\n",
    "plt.ylabel(\"Number of Death\")\n",
    "plt.show()"
   ]
  },
  {
   "cell_type": "code",
   "execution_count": 28,
   "metadata": {},
   "outputs": [
    {
     "data": {
      "image/png": "[encoded data removed]",
      "text/plain": [
       "<Figure size 720x360 with 1 Axes>"
      ]
     },
     "metadata": {
      "needs_background": "light"
     },
     "output_type": "display_data"
    }
   ],
   "source": [
    "df_63_rt2_dum_agg =df_63_rt2_dum[['marital_status', 'Num of death', 'ypred']].groupby('marital_status').sum().reset_index()\n",
    "df_63_rt2_dum_agg.plot(x='marital_status', y=['Num of death', 'ypred'], figsize=(10,5), grid=True, style=['o','rx'], markersize=12)\n",
    "plt.ylabel(\"Number of Death\")\n",
    "plt.show()"
   ]
  },
  {
   "cell_type": "code",
   "execution_count": null,
   "metadata": {},
   "outputs": [],
   "source": []
  }
 ],
 "metadata": {
  "kernelspec": {
   "display_name": "Python 3",
   "language": "python",
   "name": "python3"
  },
  "language_info": {
   "codemirror_mode": {
    "name": "ipython",
    "version": 3
   },
   "file_extension": ".py",
   "mimetype": "text/x-python",
   "name": "python",
   "nbconvert_exporter": "python",
   "pygments_lexer": "ipython3",
   "version": "3.7.2"
  }
 },
 "nbformat": 4,
 "nbformat_minor": 2
}
