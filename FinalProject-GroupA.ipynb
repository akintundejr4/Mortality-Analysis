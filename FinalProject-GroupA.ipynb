{
 "cells": [
  {
   "cell_type": "code",
   "execution_count": 3,
   "metadata": {},
   "outputs": [],
   "source": [
    "import sys\n",
    "import warnings\n",
    "import numpy as np\n",
    "import pandas as pd\n",
    "from numpy import genfromtxt\n",
    "#from tabulate import tabulate\n",
    "import numpy.linalg as linalg\n",
    "import matplotlib.pyplot as plt\n",
    "#from prettytable import PrettyTable\n",
    "from sklearn.linear_model import LinearRegression\n",
    "from sklearn.linear_model import LogisticRegression"
   ]
  },
  {
   "cell_type": "code",
   "execution_count": 7,
   "metadata": {},
   "outputs": [
    {
     "name": "stdout",
     "output_type": "stream",
     "text": [
      "TEST\n"
     ]
    }
   ],
   "source": [
    "# Getting rid of annoying warning. \n",
    "warnings.filterwarnings('ignore')\n",
    "\n",
    "# Importing Professor Provided data. \n",
    "#medical_transcriptons_data = genfromtxt('./data-from-canvas/medicaltranscriptions.csv', delimiter=',', skip_header=1)\n",
    "\n",
    "print(\"TEST\")\n",
    "df2005 = pd.read_csv( './mortality-data/2005_data.csv', na_values=['NA','?'])\n",
    "print(\"TEST\")\n",
    "# Importing CDC data. Make sure you have the files in the right folder on your machine. \n",
    "#data_2005 = genfromtxt('./mortality-data/2005_data.csv', delimiter=',', skip_header=1)\n",
    "#data_2006 = genfromtxt('./mortality-data/2006_data.csv', delimiter=',', skip_header=1)\n",
    "#data_2007 = genfromtxt('./mortality-data/2007_data.csv', delimiter=',', skip_header=1)\n",
    "#data_2008 = genfromtxt('./mortality-data/2008_data.csv', delimiter=',', skip_header=1)\n",
    "#data_2009 = genfromtxt('./mortality-data/2009_data.csv', delimiter=',', skip_header=1)\n",
    "#data_2010 = genfromtxt('./mortality-data/2010_data.csv', delimiter=',', skip_header=1)\n",
    "#data_2011 = genfromtxt('./mortality-data/2011_data.csv', delimiter=',', skip_header=1)\n",
    "#data_2012 = genfromtxt('./mortality-data/2012_data.csv', delimiter=',', skip_header=1)\n",
    "#data_2013 = genfromtxt('./mortality-data/2013_data.csv', delimiter=',', skip_header=1)\n",
    "#data_2014 = genfromtxt('./mortality-data/2014_data.csv', delimiter=',', skip_header=1)\n",
    "#data_2015 = genfromtxt('./mortality-data/2015_data.csv', delimiter=',', skip_header=1)"
   ]
  },
  {
   "cell_type": "code",
   "execution_count": null,
   "metadata": {},
   "outputs": [],
   "source": [
    "print ('Gowtham')"
   ]
  },
  {
   "cell_type": "code",
   "execution_count": null,
   "metadata": {},
   "outputs": [],
   "source": []
  }
 ],
 "metadata": {
  "kernelspec": {
   "display_name": "Python 3",
   "language": "python",
   "name": "python3"
  },
  "language_info": {
   "codemirror_mode": {
    "name": "ipython",
    "version": 3
   },
   "file_extension": ".py",
   "mimetype": "text/x-python",
   "name": "python",
   "nbconvert_exporter": "python",
   "pygments_lexer": "ipython3",
   "version": "3.7.4"
  }
 },
 "nbformat": 4,
 "nbformat_minor": 2
}
