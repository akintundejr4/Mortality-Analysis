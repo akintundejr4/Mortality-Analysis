{
 "cells": [
  {
   "cell_type": "code",
   "execution_count": 11,
   "metadata": {},
   "outputs": [],
   "source": [
    "import sys\n",
    "import json\n",
    "import warnings\n",
    "import numpy as np\n",
    "import pandas as pd\n",
    "from numpy import genfromtxt\n",
    "#from tabulate import tabulate\n",
    "import numpy.linalg as linalg\n",
    "import matplotlib.pyplot as plt\n",
    "#from prettytable import PrettyTable\n",
    "from sklearn.linear_model import LinearRegression\n",
    "from sklearn.linear_model import LogisticRegression\n",
    "\n",
    "# Getting rid of annoying warnings. \n",
    "warnings.filterwarnings('ignore')\n",
    "\n",
    "# Segun - 358_cause_recode\n",
    "# Kuni - 113_cause_recode\n",
    "# Gotham - 130_infact_cause_recode\n",
    "# Lukia - 39_cause_recode\n",
    "\n",
    "# Importing Professor Provided data. \n",
    "#medical_transcriptons_data = genfromtxt('./data-from-canvas/medicaltranscriptions.csv', delimiter=',', skip_header=1)\n",
    "\n",
    "# Importing CDC data. Make sure you have the files in the right folder on your machine.\n",
    "data_2005 = pd.read_csv( './mortality-data/2005_data.csv', na_values=['NA','?'])\n",
    "#data_2006 = pd.read_csv( './mortality-data/2006_data.csv', na_values=['NA','?'])\n",
    "#data_2007 = pd.read_csv( './mortality-data/2007_data.csv', na_values=['NA','?'])\n",
    "#data_2008 = pd.read_csv( './mortality-data/2008_data.csv', na_values=['NA','?'])\n",
    "#data_2009 = pd.read_csv( './mortality-data/2009_data.csv', na_values=['NA','?'])\n",
    "#data_2010 = pd.read_csv( './mortality-data/2010_data.csv', na_values=['NA','?'])\n",
    "#data_2011 = pd.read_csv( './mortality-data/2011_data.csv', na_values=['NA','?'])\n",
    "#data_2012 = pd.read_csv( './mortality-data/2012_data.csv', na_values=['NA','?'])\n",
    "#data_2013 = pd.read_csv( './mortality-data/2013_data.csv', na_values=['NA','?'])\n",
    "#data_2014 = pd.read_csv( './mortality-data/2014_data.csv', na_values=['NA','?'])\n",
    "#data_2015 = pd.read_csv( './mortality-data/2015_data.csv', na_values=['NA','?'])\n",
    "\n",
    "# Importing ICD Codes\n",
    "with open ('C:/GitHub/Mortality-Analysis/mortality-data/2005_codes.json') as json_file: \n",
    "    icd_codes_2005 = json.load(json_file)"
   ]
  },
  {
   "cell_type": "code",
   "execution_count": null,
   "metadata": {},
   "outputs": [],
   "source": [
    "# Data into varibales "
   ]
  },
  {
   "cell_type": "markdown",
   "metadata": {},
   "source": [
    "### Defining a Method to find the most frequent cause of Death in a Data Set"
   ]
  },
  {
   "cell_type": "code",
   "execution_count": 12,
   "metadata": {},
   "outputs": [],
   "source": [
    "def FindMostFrequentDeath(data, icd_codes): \n",
    "    most_frequent_death = str(int(data.mode()[0])).zfill(3)\n",
    "    for code in icd_codes: \n",
    "        if code == most_frequent_death: \n",
    "            return icd_codes[code]"
   ]
  },
  {
   "cell_type": "code",
   "execution_count": 13,
   "metadata": {},
   "outputs": [
    {
     "name": "stdout",
     "output_type": "stream",
     "text": [
      "None\n"
     ]
    }
   ],
   "source": [
    "print(FindMostFrequentDeath(data_2005['130_infant_cause_recode'], icd_codes_2005))"
   ]
  },
  {
   "cell_type": "code",
   "execution_count": null,
   "metadata": {},
   "outputs": [],
   "source": [
    "# Histogram of 113_cause_recode\n",
    "hist1 = data_2005.plot( y=['113_cause_recode'], bins=135, alpha=0.5, figsize=(16,4), kind='hist')"
   ]
  },
  {
   "cell_type": "code",
   "execution_count": null,
   "metadata": {},
   "outputs": [],
   "source": [
    "# Display Frequency\n",
    "#https://note.nkmk.me/python-pandas-value-counts/ -- Japanese web site\n",
    "#u = data_2005['113_cause_recode'].unique() : Unique values\n",
    "#print(u)\n",
    "#[ 28  84  70  46  27  86  43 110  23  89 123 133  62 125  44 111  22  24\n",
    "# 100  68 126  78  15  52  25  29  73 109  95  63  32  69  67  21 102   3\n",
    "# 33  20 118  59 116  94  39 108 122  56 121 128  51  55  10  48  74 114\n",
    "#  18   6  40  45  31 129  16  35  77  34  36  41  85   9 120  57  30  60\n",
    "#   5 135 101  26  71  65  88  50  75  90  99  96 115 132  66   7 119  38\n",
    "#  98  87  81  80  92  91  49  83 107 104 103 130   1  42 134   2 106   8\n",
    "#  17  11  13  14]\n",
    "#print(len(u)) -- 112\n",
    "pd.set_option('display.max_rows', 200)\n",
    "frq = data_2005['113_cause_recode'].value_counts()\n",
    "print(frq)"
   ]
  },
  {
   "cell_type": "code",
   "execution_count": null,
   "metadata": {},
   "outputs": [],
   "source": [
    "# From above results, the top 5 of '113_cause_recode' in 2005 data are\n",
    "# 1st:  63 : 228656 --- All other forms of chronic ischemic heart disease (I20,I25.1-I25.9)\n",
    "# 2nd 111 : 217898 --- All other diseases (Residual) (D65-E07,E15-E34,E65-F99,G04-G12,G23-G25,G31-H93, K00-K22,K29-K31,K50-K66,K71-K72,K75-K76,K83-M99, N13.0-N13.5,N13.7-N13.9, N14,N15.0,N15.8-N15.9,N20-N23,N28-N39,N41-N64,N80-N98)\n",
    "# 3rd 27 : 159405 --- Malignant neoplasms of trachea, bronchus and lung (C33-C34)\n",
    "# 4th 59 : 151312 --- Acute myocardial infarction (I21-I22)\n",
    "# 5th 70 : 143789 --- Cerebrovascular diseases (I60-I69)"
   ]
  },
  {
   "cell_type": "code",
   "execution_count": null,
   "metadata": {},
   "outputs": [],
   "source": [
    "# Frequency of ALL data\n",
    "dt_05 = data_2005['113_cause_recode']\n",
    "dt_06 = data_2006['113_cause_recode']\n",
    "dt_07 = data_2007['113_cause_recode']\n",
    "dt_08 = data_2008['113_cause_recode']\n",
    "dt_09 = data_2009['113_cause_recode']\n",
    "dt_10 = data_2010['113_cause_recode']\n",
    "dt_11 = data_2011['113_cause_recode']\n",
    "dt_12 = data_2012['113_cause_recode']\n",
    "dt_13 = data_2013['113_cause_recode']\n",
    "dt_14 = data_2014['113_cause_recode']\n",
    "dt_15 = data_2015['113_cause_recode']\n",
    "\n",
    "# concatenate all data\n",
    "dt_all = pd.concat([dt_05, dt_06, dt_07, dt_08, dt_09, dt_10, dt_11, dt_12, dt_13, dt_14, dt_15])\n",
    "\n",
    "frq_all = dt_all.value_counts()\n",
    "print(frq_all)"
   ]
  },
  {
   "cell_type": "code",
   "execution_count": null,
   "metadata": {},
   "outputs": [],
   "source": [
    "# Histogram of  '113_cause_recode' in ALL data\n",
    "hall= dt_all.plot( y=['113_cause_recode'], bins=135, alpha=0.5, figsize=(16,4), kind='hist')"
   ]
  },
  {
   "cell_type": "markdown",
   "metadata": {},
   "source": [
    "### For 39_cause_recode column"
   ]
  },
  {
   "cell_type": "code",
   "execution_count": null,
   "metadata": {},
   "outputs": [],
   "source": [
    "# A function to print the indexes for top 10 frequent values\n",
    "# k is the number of values\n",
    "from collections import Counter\n",
    "def top_k(numbers, k=10):\n",
    "    c = Counter(numbers)\n",
    "    most_common = [key for key, val in c.most_common(k)]\n",
    "\n",
    "    return most_common\n"
   ]
  },
  {
   "cell_type": "code",
   "execution_count": null,
   "metadata": {},
   "outputs": [],
   "source": [
    "print(top_k(data_2005[\"39_cause_recode\"]))"
   ]
  },
  {
   "cell_type": "code",
   "execution_count": null,
   "metadata": {},
   "outputs": [],
   "source": []
  }
 ],
 "metadata": {
  "kernelspec": {
   "display_name": "Python 3",
   "language": "python",
   "name": "python3"
  },
  "language_info": {
   "codemirror_mode": {
    "name": "ipython",
    "version": 3
   },
   "file_extension": ".py",
   "mimetype": "text/x-python",
   "name": "python",
   "nbconvert_exporter": "python",
   "pygments_lexer": "ipython3",
   "version": "3.7.2"
  },
  "nbdime-conflicts": {
   "local_diff": [
    {
     "diff": [
      {
       "diff": [
        {
         "key": 0,
         "op": "addrange",
         "valuelist": [
          "3.7.2"
         ]
        },
        {
         "key": 0,
         "length": 1,
         "op": "removerange"
        }
       ],
       "key": "version",
       "op": "patch"
      }
     ],
     "key": "language_info",
     "op": "patch"
    }
   ],
   "remote_diff": [
    {
     "diff": [
      {
       "diff": [
        {
         "key": 0,
         "op": "addrange",
         "valuelist": [
          "3.7.4"
         ]
        },
        {
         "key": 0,
         "length": 1,
         "op": "removerange"
        }
       ],
       "key": "version",
       "op": "patch"
      }
     ],
     "key": "language_info",
     "op": "patch"
    }
   ]
  }
 },
 "nbformat": 4,
 "nbformat_minor": 2
}
