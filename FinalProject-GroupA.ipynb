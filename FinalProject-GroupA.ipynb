{
 "cells": [
  {
   "cell_type": "code",
   "execution_count": 3,
   "metadata": {},
   "outputs": [],
   "source": [
    "import sys\n",
    "import warnings\n",
    "import numpy as np\n",
    "import pandas as pd\n",
    "from numpy import genfromtxt\n",
    "#from tabulate import tabulate\n",
    "import numpy.linalg as linalg\n",
    "import matplotlib.pyplot as plt\n",
    "#from prettytable import PrettyTable\n",
    "from sklearn.linear_model import LinearRegression\n",
    "from sklearn.linear_model import LogisticRegression"
   ]
  },
  {
   "cell_type": "code",
   "execution_count": 7,
   "metadata": {},
   "outputs": [
    {
     "name": "stdout",
     "output_type": "stream",
     "text": [
      "TEST\n"
     ]
    }
   ],
   "source": [
    "# Getting rid of annoying warning. \n",
    "warnings.filterwarnings('ignore')\n",
    "\n",
    "# Yo\n",
    "\n",
    "#comment\n",
    "# Importing Professor Provided data. \n",
    "#medical_transcriptons_data = genfromtxt('./data-from-canvas/medicaltranscriptions.csv', delimiter=',', skip_header=1)\n",
    "\n",
    "# THIS IS A TEst\n",
    "\n",
    "# Importing CDC data. Make sure you have the files in the right folder on your machine.\n",
    "data_2005 = pd.read_csv( './mortality-data/2005_data.csv', na_values=['NA','?'])\n",
    "data_2006 = pd.read_csv( './mortality-data/2006_data.csv', na_values=['NA','?'])\n",
    "data_2007 = pd.read_csv( './mortality-data/2007_data.csv', na_values=['NA','?'])\n",
    "data_2008 = pd.read_csv( './mortality-data/2008_data.csv', na_values=['NA','?'])\n",
    "data_2009 = pd.read_csv( './mortality-data/2009_data.csv', na_values=['NA','?'])\n",
    "data_2010 = pd.read_csv( './mortality-data/2010_data.csv', na_values=['NA','?'])\n",
    "data_2011 = pd.read_csv( './mortality-data/2011_data.csv', na_values=['NA','?'])\n",
    "data_2012 = pd.read_csv( './mortality-data/2012_data.csv', na_values=['NA','?'])\n",
    "data_2013 = pd.read_csv( './mortality-data/2013_data.csv', na_values=['NA','?'])\n",
    "data_2014 = pd.read_csv( './mortality-data/2014_data.csv', na_values=['NA','?'])\n",
    "data_2015 = pd.read_csv( './mortality-data/2015_data.csv', na_values=['NA','?'])\n",
    "\n",
    "print(\"TEST\")\n"
   ]
  },
  {
   "cell_type": "code",
   "execution_count": null,
   "metadata": {},
   "outputs": [],
   "source": [
    "print ('Gowtham')"
   ]
  },
  {
   "cell_type": "code",
   "execution_count": 8,
   "metadata": {},
   "outputs": [
    {
     "data": {
      "image/png": "[encoded data removed]",
      "text/plain": [
       "<Figure size 1152x288 with 1 Axes>"
      ]
     },
     "metadata": {
      "needs_background": "light"
     },
     "output_type": "display_data"
    }
   ],
   "source": [
    "# histgram of 113_cause_recode\n",
    "df1 = data_2005[['113_cause_recode']]\n",
    "h1= data_2005.plot( y=['113_cause_recode'], bins=135, alpha=0.5, figsize=(16,4), kind='hist')"
   ]
  },
  {
   "cell_type": "code",
   "execution_count": null,
   "metadata": {},
   "outputs": [],
   "source": []
  }
 ],
 "metadata": {
  "kernelspec": {
   "display_name": "Python 3",
   "language": "python",
   "name": "python3"
  },
  "language_info": {
   "codemirror_mode": {
    "name": "ipython",
    "version": 3
   },
   "file_extension": ".py",
   "mimetype": "text/x-python",
   "name": "python",
   "nbconvert_exporter": "python",
   "pygments_lexer": "ipython3",
   "version": "3.6.8"
  },
  "nbdime-conflicts": {
   "local_diff": [
    {
     "diff": [
      {
       "diff": [
        {
         "key": 0,
         "op": "addrange",
         "valuelist": [
          "3.7.2"
         ]
        },
        {
         "key": 0,
         "length": 1,
         "op": "removerange"
        }
       ],
       "key": "version",
       "op": "patch"
      }
     ],
     "key": "language_info",
     "op": "patch"
    }
   ],
   "remote_diff": [
    {
     "diff": [
      {
       "diff": [
        {
         "key": 0,
         "op": "addrange",
         "valuelist": [
          "3.7.4"
         ]
        },
        {
         "key": 0,
         "length": 1,
         "op": "removerange"
        }
       ],
       "key": "version",
       "op": "patch"
      }
     ],
     "key": "language_info",
     "op": "patch"
    }
   ]
  }
 },
 "nbformat": 4,
 "nbformat_minor": 2
}
