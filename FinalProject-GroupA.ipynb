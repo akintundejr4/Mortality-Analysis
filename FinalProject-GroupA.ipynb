{
 "cells": [
  {
   "cell_type": "markdown",
   "metadata": {},
   "source": [
    "# Final Project: ICD Codes and Mortality\n",
    "\n",
    "## Introduction \n",
    "This project was created by Group A. The members of the group are as follows.  \n",
    "* Kunihiro Fujita \n",
    "* Qi Lu\n",
    "* Segun Akinyemi\n",
    "* Gowtham Anbumani\n",
    "\n",
    "## Background\n",
    "Every year, centers for disease control and prevention (CDC) provides detailed statistics of deaths and their underlying causes in the United States. The CDC mortality data is used by various industries like medical, health and insurance to provide better services. It provides the basis of numerous researches and is widely cited in public papers. Because of your outstanding knowledge, you are hired as a data scientist by a prestigeous insurance company. The VP of your department wants to launch a life insurance product but would like to do an analysis on the cause of death in the US population first. The following questions needs to be answered: \n",
    "\n",
    "## Problems \n",
    "The following are the problems that we will be providing answers to in this project. \n",
    "\n",
    "1. What are the major causes of death in the US <br/><br/>\n",
    "2. For different causes of death, how does the death distribution look like against age (For example, histogram of 5 year age band)? <br/><br/>\n",
    "3. For each age band (5-year band), what are the top 3 causes of death? Do they differ? <br/><br/>\n",
    "4. Are the causes of death changing over time? Are there any significant increasing or decreasing trends in some causes? <br/><br/>\n",
    "5. You have medical transcripts of 5000 patients `medicaltranscriptions.csv`. You want to determine if any patients have medical conditions that are associated with ICD codes of major causes of death. \n",
    "    * Design a similarity measure metric. \n",
    "    * Calculate the similarity measure between ICD code descritption and medical transcirpts. \n",
    "    * Assign ICD code to a medical transcripts only if the similarity score is above certain threshold.\n",
    "\n",
    "### Source Code"
   ]
  },
  {
   "cell_type": "code",
   "execution_count": 1,
   "metadata": {},
   "outputs": [],
   "source": [
    "import sys\n",
    "import json\n",
    "import warnings\n",
    "import numpy as np\n",
    "import pandas as pd\n",
    "from numpy import genfromtxt\n",
    "from tabulate import tabulate\n",
    "import numpy.linalg as linalg\n",
    "import matplotlib.pyplot as plt\n",
    "from collections import Counter\n",
    "from prettytable import PrettyTable\n",
    "from sklearn.linear_model import LinearRegression\n",
    "from sklearn.linear_model import LogisticRegression\n",
    "\n",
    "# Getting rid of annoying warning. \n",
    "warnings.filterwarnings('ignore')"
   ]
  },
  {
   "cell_type": "code",
   "execution_count": 2,
   "metadata": {},
   "outputs": [],
   "source": [
    "# Importing CDC data. \n",
    "cdc_data_2005 = pd.read_csv( './mortality-data/2005_data.csv', na_values=['NA','?'])\n",
    "#cdc_data_2006 = pd.read_csv( './mortality-data/2006_data.csv', na_values=['NA','?'])\n",
    "#cdc_data_2007 = pd.read_csv( './mortality-data/2007_data.csv', na_values=['NA','?'])\n",
    "#cdc_data_2008 = pd.read_csv( './mortality-data/2008_data.csv', na_values=['NA','?'])\n",
    "#cdc_data_2009 = pd.read_csv( './mortality-data/2009_data.csv', na_values=['NA','?'])\n",
    "#cdc_data_2010 = pd.read_csv( './mortality-data/2010_data.csv', na_values=['NA','?'])\n",
    "#cdc_data_2011 = pd.read_csv( './mortality-data/2011_data.csv', na_values=['NA','?'])\n",
    "#cdc_data_2012 = pd.read_csv( './mortality-data/2012_data.csv', na_values=['NA','?'])\n",
    "#cdc_data_2013 = pd.read_csv( './mortality-data/2013_data.csv', na_values=['NA','?'])\n",
    "#cdc_data_2014 = pd.read_csv( './mortality-data/2014_data.csv', na_values=['NA','?'])\n",
    "#cdc_data_2015 = pd.read_csv( './mortality-data/2015_data.csv', na_values=['NA','?'])\n",
    "\n",
    "# Importing ICD Codes\n",
    "with open ('./mortality-data/2005_codes.json') as json_file: \n",
    "    icd_codes_2005 = json.load(json_file)   \n",
    "with open ('./mortality-data/2006_codes.json') as json_file: \n",
    "    icd_codes_2006 = json.load(json_file)\n",
    "with open ('./mortality-data/2007_codes.json') as json_file: \n",
    "    icd_codes_2007 = json.load(json_file)\n",
    "with open ('./mortality-data/2008_codes.json') as json_file: \n",
    "    icd_codes_2008 = json.load(json_file)\n",
    "with open ('./mortality-data/2009_codes.json') as json_file: \n",
    "    icd_codes_2009 = json.load(json_file)\n",
    "with open ('./mortality-data/2010_codes.json') as json_file: \n",
    "    icd_codes_2010 = json.load(json_file)\n",
    "with open ('./mortality-data/2011_codes.json') as json_file: \n",
    "    icd_codes_2011 = json.load(json_file)\n",
    "with open ('./mortality-data/2012_codes.json') as json_file: \n",
    "    icd_codes_2012 = json.load(json_file)\n",
    "with open ('./mortality-data/2013_codes.json') as json_file: \n",
    "    icd_codes_2013 = json.load(json_file)\n",
    "with open ('./mortality-data/2014_codes.json') as json_file: \n",
    "    icd_codes_2014 = json.load(json_file)\n",
    "with open ('./mortality-data/2015_codes.json') as json_file: \n",
    "    icd_codes_2015 = json.load(json_file)"
   ]
  },
  {
   "cell_type": "markdown",
   "metadata": {},
   "source": [
    "### Function Definition: Getting the ICD code death name."
   ]
  },
  {
   "cell_type": "code",
   "execution_count": 3,
   "metadata": {},
   "outputs": [
    {
     "name": "stdout",
     "output_type": "stream",
     "text": [
      "Malignant neoplasms of trachea, bronchus and lung (C33-C34)\n"
     ]
    }
   ],
   "source": [
    "def FindDeathNameFromCode(target_code, icd_codes): \n",
    "    target_code = str(target_code.zfill(3))\n",
    "    for code in icd_codes: \n",
    "        if code == target_code: \n",
    "            return icd_codes[code]\n",
    "# Usage \n",
    "print(FindDeathNameFromCode('8' , icd_codes_2005[\"39_cause_recode\"]))"
   ]
  },
  {
   "cell_type": "markdown",
   "metadata": {},
   "source": [
    "### Function Definition: Finding the most frequent cause of death in a data set"
   ]
  },
  {
   "cell_type": "code",
   "execution_count": 4,
   "metadata": {},
   "outputs": [
    {
     "name": "stdout",
     "output_type": "stream",
     "text": [
      "Extremely low birthweight or extreme immaturity (P07.0,P07.2)\n"
     ]
    }
   ],
   "source": [
    "def MostFrequentCauseOfDeath(data, icd_codes): \n",
    "    most_frequent_death = str(int(data.mode()[0])).zfill(3)\n",
    "    for code in icd_codes: \n",
    "        if code == most_frequent_death: \n",
    "            return icd_codes[code]\n",
    "\n",
    "# Usage \n",
    "mostFrequent2005 = MostFrequentCauseOfDeath(cdc_data_2005['130_infant_cause_recode'], icd_codes_2005['130_infant_cause_recode'])\n",
    "print(mostFrequent2005)"
   ]
  },
  {
   "cell_type": "markdown",
   "metadata": {},
   "source": [
    "### Function Definition: Finding the top `n` causes of death in a data set, defaults to top 10"
   ]
  },
  {
   "cell_type": "code",
   "execution_count": 5,
   "metadata": {},
   "outputs": [
    {
     "name": "stdout",
     "output_type": "stream",
     "text": [
      "[21, 37, 22, 8, 24, 15, 28, 39, 16, 17]\n"
     ]
    }
   ],
   "source": [
    "def TopCausesOfDeath(data, n = 10):\n",
    "    counter = Counter(data)\n",
    "    most_common_causes = [key for key, val in counter.most_common(n)]\n",
    "    return most_common_causes\n",
    "\n",
    "# Usage \n",
    "print(TopCausesOfDeath(cdc_data_2005[\"39_cause_recode\"]))"
   ]
  },
  {
   "cell_type": "markdown",
   "metadata": {},
   "source": [
    "### Example: Mapping the top `n` causes of death to the ICD code name"
   ]
  },
  {
   "cell_type": "code",
   "execution_count": 18,
   "metadata": {},
   "outputs": [
    {
     "name": "stdout",
     "output_type": "stream",
     "text": [
      "Code 21: Ischemic heart diseases (I20-I25)\n",
      "\n",
      "Code 37: All other diseases (Residual) (A00-A09,A20-A49,A54-B19,B25-B99,D00-E07, E15-G25,G31-H93,I80-J06,J20-J39,J60-K22,K29-K66,K71-K72, K75-M99,N10-N15,N20-N23,N28-N98)\n",
      "\n",
      "Code 22: Other diseases of heart (I00-I09,I26-I51)\n",
      "\n",
      "Code 8: Malignant neoplasms of trachea, bronchus and lung (C33-C34)\n",
      "\n",
      "Code 24: Cerebrovascular diseases (I60-I69)\n",
      "\n",
      "Code 15: Other malignant neoplasms (C00-C15,C17,C22-C24,C26-C32,C37-C49,C51-C52, C57-C60,C62-C63,C69-C81,C88,C90,C96-C97)\n",
      "\n",
      "Code 28: Chronic lower respiratory diseases (J40-J47)\n",
      "\n",
      "Code 39: All other and unspecified accidents and adverse effects (V01,V05-V06,V09.1,V09.3-V09.9,V10-V11,V15-V18,V19.3,V19.8-V19.9, V80.0-V80.2,V80.6-V80.9,V81.2-V81.9,V82.2-V82.9,V87.9,V88.9,V89.1, V89.3,V89.9,V90-X59,Y40-Y86,Y88)\n",
      "\n",
      "Code 16: Diabetes mellitus (E10-E14)\n",
      "\n",
      "Code 17: Alzheimer's disease (G30)\n",
      "\n"
     ]
    }
   ],
   "source": [
    "top_causes_2005 = TopCausesOfDeath(cdc_data_2005[\"39_cause_recode\"])\n",
    "\n",
    "final_list = []\n",
    "for cause in top_causes_2005: \n",
    "    final_list.append(\"Code \" + str(cause) + \": \" + FindDeathNameFromCode(str(cause) , icd_codes_2005[\"39_cause_recode\"])) \n",
    "\n",
    "for death in final_list: \n",
    "    print(death + \"\\n\")"
   ]
  }
 ],
 "metadata": {
  "kernelspec": {
   "display_name": "Python 3",
   "language": "python",
   "name": "python3"
  },
  "language_info": {
   "codemirror_mode": {
    "name": "ipython",
    "version": 3
   },
   "file_extension": ".py",
   "mimetype": "text/x-python",
   "name": "python",
   "nbconvert_exporter": "python",
   "pygments_lexer": "ipython3",
   "version": "3.7.2"
  },
  "nbdime-conflicts": {
   "local_diff": [
    {
     "diff": [
      {
       "diff": [
        {
         "key": 0,
         "op": "addrange",
         "valuelist": [
          "3.7.2"
         ]
        },
        {
         "key": 0,
         "length": 1,
         "op": "removerange"
        }
       ],
       "key": "version",
       "op": "patch"
      }
     ],
     "key": "language_info",
     "op": "patch"
    }
   ],
   "remote_diff": [
    {
     "diff": [
      {
       "diff": [
        {
         "key": 0,
         "op": "addrange",
         "valuelist": [
          "3.7.4"
         ]
        },
        {
         "key": 0,
         "length": 1,
         "op": "removerange"
        }
       ],
       "key": "version",
       "op": "patch"
      }
     ],
     "key": "language_info",
     "op": "patch"
    }
   ]
  }
 },
 "nbformat": 4,
 "nbformat_minor": 2
}
