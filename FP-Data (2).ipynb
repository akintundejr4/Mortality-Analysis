{
 "cells": [
  {
   "cell_type": "code",
   "execution_count": 2,
   "metadata": {},
   "outputs": [],
   "source": [
    "import json\n",
    "import warnings\n",
    "import pandas as pd\n",
    "import numpy as np"
   ]
  },
  {
   "cell_type": "markdown",
   "metadata": {},
   "source": [
    "# Import Data from CSV"
   ]
  },
  {
   "cell_type": "code",
   "execution_count": 3,
   "metadata": {},
   "outputs": [],
   "source": [
    "warnings.filterwarnings('ignore')\n",
    "data_2005 = pd.read_csv('./mortality-data/2005_data.csv', delimiter=',')\n",
    "data_2006 = pd.read_csv( './mortality-data/2006_data.csv', na_values=['NA','?'])\n",
    "data_2007 = pd.read_csv( './mortality-data/2007_data.csv', na_values=['NA','?'])"
   ]
  },
  {
   "cell_type": "code",
   "execution_count": 4,
   "metadata": {},
   "outputs": [],
   "source": [
    "warnings.filterwarnings('ignore')\n",
    "data_2008 = pd.read_csv( './mortality-data/2008_data.csv', na_values=['NA','?'])\n",
    "data_2009 = pd.read_csv( './mortality-data/2009_data.csv', na_values=['NA','?'])\n",
    "data_2010 = pd.read_csv( './mortality-data/2010_data.csv', na_values=['NA','?'])"
   ]
  },
  {
   "cell_type": "code",
   "execution_count": 5,
   "metadata": {},
   "outputs": [],
   "source": [
    "warnings.filterwarnings('ignore')\n",
    "data_2011 = pd.read_csv( './mortality-data/2011_data.csv', na_values=['NA','?'])\n",
    "data_2012 = pd.read_csv( './mortality-data/2012_data.csv', na_values=['NA','?'])\n",
    "data_2013 = pd.read_csv( './mortality-data/2013_data.csv', na_values=['NA','?'])"
   ]
  },
  {
   "cell_type": "code",
   "execution_count": 6,
   "metadata": {},
   "outputs": [],
   "source": [
    "warnings.filterwarnings('ignore')\n",
    "data_2014 = pd.read_csv( './mortality-data/2014_data.csv', na_values=['NA','?'])\n",
    "data_2015 = pd.read_csv( './mortality-data/2015_data.csv', na_values=['NA','?'])"
   ]
  },
  {
   "cell_type": "code",
   "execution_count": null,
   "metadata": {},
   "outputs": [],
   "source": [
    "data_2005.columns"
   ]
  },
  {
   "cell_type": "markdown",
   "metadata": {},
   "source": [
    "# Drop Useless Columns"
   ]
  },
  {
   "cell_type": "code",
   "execution_count": 29,
   "metadata": {},
   "outputs": [],
   "source": [
    "unuseful_colnames=[\n",
    "       'resident_status',\n",
    "       'education_reporting_flag', 'detail_age_type',\n",
    "       'detail_age', 'age_substitution_flag', 'age_recode_52','age_recode_12','icd_code_10th_revision',\n",
    "       'infant_age_recode_22',\n",
    "       'place_of_death_and_decedents_status', \n",
    "       'day_of_week_of_death', \n",
    "       'method_of_disposition','autopsy', \n",
    "       'place_of_injury_for_causes_w00_y34_except_y06_and_y07_',\n",
    "       '358_cause_recode', 'activity_code',\n",
    "       '130_infant_cause_recode', '39_cause_recode',\n",
    "       'number_of_entity_axis_conditions', 'entity_condition_1',\n",
    "       'entity_condition_2', 'entity_condition_3', 'entity_condition_4',\n",
    "       'entity_condition_5', 'entity_condition_6', 'entity_condition_7',\n",
    "       'entity_condition_8', 'entity_condition_9', 'entity_condition_10',\n",
    "       'entity_condition_11', 'entity_condition_12', 'entity_condition_13',\n",
    "       'entity_condition_14', 'entity_condition_15', 'entity_condition_16',\n",
    "       'entity_condition_17', 'entity_condition_18', 'entity_condition_19',\n",
    "       'entity_condition_20', 'number_of_record_axis_conditions',\n",
    "       'record_condition_1', 'record_condition_2', 'record_condition_3',\n",
    "       'record_condition_4', 'record_condition_5', 'record_condition_6',\n",
    "       'record_condition_7', 'record_condition_8', 'record_condition_9',\n",
    "       'record_condition_10', 'record_condition_11', 'record_condition_12',\n",
    "       'record_condition_13', 'record_condition_14', 'record_condition_15',\n",
    "       'record_condition_16', 'record_condition_17', 'record_condition_18',\n",
    "       'record_condition_19', 'record_condition_20', \n",
    "       'race','bridged_race_flag', 'race_imputation_flag', 'race_recode_3',\n",
    "       'hispanic_origin', 'hispanic_originrace_recode']"
   ]
  },
  {
   "cell_type": "code",
   "execution_count": 8,
   "metadata": {},
   "outputs": [],
   "source": [
    "df2005=data_2005.drop(unuseful_colnames,axis=1)"
   ]
  },
  {
   "cell_type": "code",
   "execution_count": 9,
   "metadata": {},
   "outputs": [
    {
     "data": {
      "text/html": [
       "<div>\n",
       "<style scoped>\n",
       "    .dataframe tbody tr th:only-of-type {\n",
       "        vertical-align: middle;\n",
       "    }\n",
       "\n",
       "    .dataframe tbody tr th {\n",
       "        vertical-align: top;\n",
       "    }\n",
       "\n",
       "    .dataframe thead th {\n",
       "        text-align: right;\n",
       "    }\n",
       "</style>\n",
       "<table border=\"1\" class=\"dataframe\">\n",
       "  <thead>\n",
       "    <tr style=\"text-align: right;\">\n",
       "      <th></th>\n",
       "      <th>education_1989_revision</th>\n",
       "      <th>education_2003_revision</th>\n",
       "      <th>month_of_death</th>\n",
       "      <th>sex</th>\n",
       "      <th>age_recode_27</th>\n",
       "      <th>marital_status</th>\n",
       "      <th>current_data_year</th>\n",
       "      <th>injury_at_work</th>\n",
       "      <th>manner_of_death</th>\n",
       "      <th>113_cause_recode</th>\n",
       "      <th>race_recode_5</th>\n",
       "    </tr>\n",
       "  </thead>\n",
       "  <tbody>\n",
       "    <tr>\n",
       "      <th>0</th>\n",
       "      <td>11.0</td>\n",
       "      <td>NaN</td>\n",
       "      <td>1</td>\n",
       "      <td>F</td>\n",
       "      <td>15</td>\n",
       "      <td>M</td>\n",
       "      <td>2005</td>\n",
       "      <td>U</td>\n",
       "      <td>7.0</td>\n",
       "      <td>28</td>\n",
       "      <td>1</td>\n",
       "    </tr>\n",
       "    <tr>\n",
       "      <th>1</th>\n",
       "      <td>13.0</td>\n",
       "      <td>NaN</td>\n",
       "      <td>1</td>\n",
       "      <td>M</td>\n",
       "      <td>18</td>\n",
       "      <td>D</td>\n",
       "      <td>2005</td>\n",
       "      <td>U</td>\n",
       "      <td>7.0</td>\n",
       "      <td>84</td>\n",
       "      <td>1</td>\n",
       "    </tr>\n",
       "    <tr>\n",
       "      <th>2</th>\n",
       "      <td>12.0</td>\n",
       "      <td>NaN</td>\n",
       "      <td>1</td>\n",
       "      <td>F</td>\n",
       "      <td>21</td>\n",
       "      <td>D</td>\n",
       "      <td>2005</td>\n",
       "      <td>U</td>\n",
       "      <td>7.0</td>\n",
       "      <td>70</td>\n",
       "      <td>1</td>\n",
       "    </tr>\n",
       "    <tr>\n",
       "      <th>3</th>\n",
       "      <td>12.0</td>\n",
       "      <td>NaN</td>\n",
       "      <td>1</td>\n",
       "      <td>M</td>\n",
       "      <td>16</td>\n",
       "      <td>S</td>\n",
       "      <td>2005</td>\n",
       "      <td>U</td>\n",
       "      <td>7.0</td>\n",
       "      <td>46</td>\n",
       "      <td>1</td>\n",
       "    </tr>\n",
       "    <tr>\n",
       "      <th>4</th>\n",
       "      <td>14.0</td>\n",
       "      <td>NaN</td>\n",
       "      <td>1</td>\n",
       "      <td>F</td>\n",
       "      <td>19</td>\n",
       "      <td>M</td>\n",
       "      <td>2005</td>\n",
       "      <td>U</td>\n",
       "      <td>7.0</td>\n",
       "      <td>27</td>\n",
       "      <td>1</td>\n",
       "    </tr>\n",
       "  </tbody>\n",
       "</table>\n",
       "</div>"
      ],
      "text/plain": [
       "   education_1989_revision  education_2003_revision  month_of_death sex  \\\n",
       "0                     11.0                      NaN               1   F   \n",
       "1                     13.0                      NaN               1   M   \n",
       "2                     12.0                      NaN               1   F   \n",
       "3                     12.0                      NaN               1   M   \n",
       "4                     14.0                      NaN               1   F   \n",
       "\n",
       "   age_recode_27 marital_status  current_data_year injury_at_work  \\\n",
       "0             15              M               2005              U   \n",
       "1             18              D               2005              U   \n",
       "2             21              D               2005              U   \n",
       "3             16              S               2005              U   \n",
       "4             19              M               2005              U   \n",
       "\n",
       "   manner_of_death  113_cause_recode  race_recode_5  \n",
       "0              7.0                28              1  \n",
       "1              7.0                84              1  \n",
       "2              7.0                70              1  \n",
       "3              7.0                46              1  \n",
       "4              7.0                27              1  "
      ]
     },
     "execution_count": 9,
     "metadata": {},
     "output_type": "execute_result"
    }
   ],
   "source": [
    "df2005.head(5)"
   ]
  },
  {
   "cell_type": "code",
   "execution_count": 10,
   "metadata": {},
   "outputs": [],
   "source": [
    "df2006=data_2006.drop(unuseful_colnames,axis=1)"
   ]
  },
  {
   "cell_type": "code",
   "execution_count": 11,
   "metadata": {},
   "outputs": [
    {
     "data": {
      "text/html": [
       "<div>\n",
       "<style scoped>\n",
       "    .dataframe tbody tr th:only-of-type {\n",
       "        vertical-align: middle;\n",
       "    }\n",
       "\n",
       "    .dataframe tbody tr th {\n",
       "        vertical-align: top;\n",
       "    }\n",
       "\n",
       "    .dataframe thead th {\n",
       "        text-align: right;\n",
       "    }\n",
       "</style>\n",
       "<table border=\"1\" class=\"dataframe\">\n",
       "  <thead>\n",
       "    <tr style=\"text-align: right;\">\n",
       "      <th></th>\n",
       "      <th>education_1989_revision</th>\n",
       "      <th>education_2003_revision</th>\n",
       "      <th>month_of_death</th>\n",
       "      <th>sex</th>\n",
       "      <th>age_recode_27</th>\n",
       "      <th>marital_status</th>\n",
       "      <th>current_data_year</th>\n",
       "      <th>injury_at_work</th>\n",
       "      <th>manner_of_death</th>\n",
       "      <th>113_cause_recode</th>\n",
       "      <th>race_recode_5</th>\n",
       "    </tr>\n",
       "  </thead>\n",
       "  <tbody>\n",
       "    <tr>\n",
       "      <th>0</th>\n",
       "      <td>10.0</td>\n",
       "      <td>NaN</td>\n",
       "      <td>1</td>\n",
       "      <td>F</td>\n",
       "      <td>22</td>\n",
       "      <td>W</td>\n",
       "      <td>2006</td>\n",
       "      <td>U</td>\n",
       "      <td>NaN</td>\n",
       "      <td>67</td>\n",
       "      <td>1</td>\n",
       "    </tr>\n",
       "    <tr>\n",
       "      <th>1</th>\n",
       "      <td>6.0</td>\n",
       "      <td>NaN</td>\n",
       "      <td>1</td>\n",
       "      <td>F</td>\n",
       "      <td>24</td>\n",
       "      <td>W</td>\n",
       "      <td>2006</td>\n",
       "      <td>U</td>\n",
       "      <td>NaN</td>\n",
       "      <td>63</td>\n",
       "      <td>1</td>\n",
       "    </tr>\n",
       "    <tr>\n",
       "      <th>2</th>\n",
       "      <td>6.0</td>\n",
       "      <td>NaN</td>\n",
       "      <td>1</td>\n",
       "      <td>M</td>\n",
       "      <td>21</td>\n",
       "      <td>M</td>\n",
       "      <td>2006</td>\n",
       "      <td>U</td>\n",
       "      <td>NaN</td>\n",
       "      <td>100</td>\n",
       "      <td>1</td>\n",
       "    </tr>\n",
       "    <tr>\n",
       "      <th>3</th>\n",
       "      <td>12.0</td>\n",
       "      <td>NaN</td>\n",
       "      <td>1</td>\n",
       "      <td>M</td>\n",
       "      <td>21</td>\n",
       "      <td>W</td>\n",
       "      <td>2006</td>\n",
       "      <td>U</td>\n",
       "      <td>7.0</td>\n",
       "      <td>86</td>\n",
       "      <td>1</td>\n",
       "    </tr>\n",
       "    <tr>\n",
       "      <th>4</th>\n",
       "      <td>13.0</td>\n",
       "      <td>NaN</td>\n",
       "      <td>1</td>\n",
       "      <td>F</td>\n",
       "      <td>20</td>\n",
       "      <td>D</td>\n",
       "      <td>2006</td>\n",
       "      <td>U</td>\n",
       "      <td>7.0</td>\n",
       "      <td>29</td>\n",
       "      <td>2</td>\n",
       "    </tr>\n",
       "  </tbody>\n",
       "</table>\n",
       "</div>"
      ],
      "text/plain": [
       "   education_1989_revision  education_2003_revision  month_of_death sex  \\\n",
       "0                     10.0                      NaN               1   F   \n",
       "1                      6.0                      NaN               1   F   \n",
       "2                      6.0                      NaN               1   M   \n",
       "3                     12.0                      NaN               1   M   \n",
       "4                     13.0                      NaN               1   F   \n",
       "\n",
       "   age_recode_27 marital_status  current_data_year injury_at_work  \\\n",
       "0             22              W               2006              U   \n",
       "1             24              W               2006              U   \n",
       "2             21              M               2006              U   \n",
       "3             21              W               2006              U   \n",
       "4             20              D               2006              U   \n",
       "\n",
       "   manner_of_death  113_cause_recode  race_recode_5  \n",
       "0              NaN                67              1  \n",
       "1              NaN                63              1  \n",
       "2              NaN               100              1  \n",
       "3              7.0                86              1  \n",
       "4              7.0                29              2  "
      ]
     },
     "execution_count": 11,
     "metadata": {},
     "output_type": "execute_result"
    }
   ],
   "source": [
    "df2006.head(5)"
   ]
  },
  {
   "cell_type": "code",
   "execution_count": 13,
   "metadata": {},
   "outputs": [],
   "source": [
    "df2007=data_2007.drop(unuseful_colnames,axis=1)"
   ]
  },
  {
   "cell_type": "code",
   "execution_count": 14,
   "metadata": {},
   "outputs": [
    {
     "data": {
      "text/html": [
       "<div>\n",
       "<style scoped>\n",
       "    .dataframe tbody tr th:only-of-type {\n",
       "        vertical-align: middle;\n",
       "    }\n",
       "\n",
       "    .dataframe tbody tr th {\n",
       "        vertical-align: top;\n",
       "    }\n",
       "\n",
       "    .dataframe thead th {\n",
       "        text-align: right;\n",
       "    }\n",
       "</style>\n",
       "<table border=\"1\" class=\"dataframe\">\n",
       "  <thead>\n",
       "    <tr style=\"text-align: right;\">\n",
       "      <th></th>\n",
       "      <th>education_1989_revision</th>\n",
       "      <th>education_2003_revision</th>\n",
       "      <th>month_of_death</th>\n",
       "      <th>sex</th>\n",
       "      <th>age_recode_27</th>\n",
       "      <th>marital_status</th>\n",
       "      <th>current_data_year</th>\n",
       "      <th>injury_at_work</th>\n",
       "      <th>manner_of_death</th>\n",
       "      <th>113_cause_recode</th>\n",
       "      <th>race_recode_5</th>\n",
       "    </tr>\n",
       "  </thead>\n",
       "  <tbody>\n",
       "    <tr>\n",
       "      <th>0</th>\n",
       "      <td>2.0</td>\n",
       "      <td>NaN</td>\n",
       "      <td>1</td>\n",
       "      <td>M</td>\n",
       "      <td>20</td>\n",
       "      <td>M</td>\n",
       "      <td>2007</td>\n",
       "      <td>U</td>\n",
       "      <td>7.0</td>\n",
       "      <td>25</td>\n",
       "      <td>1</td>\n",
       "    </tr>\n",
       "    <tr>\n",
       "      <th>1</th>\n",
       "      <td>12.0</td>\n",
       "      <td>NaN</td>\n",
       "      <td>1</td>\n",
       "      <td>M</td>\n",
       "      <td>13</td>\n",
       "      <td>M</td>\n",
       "      <td>2007</td>\n",
       "      <td>U</td>\n",
       "      <td>2.0</td>\n",
       "      <td>125</td>\n",
       "      <td>1</td>\n",
       "    </tr>\n",
       "    <tr>\n",
       "      <th>2</th>\n",
       "      <td>12.0</td>\n",
       "      <td>NaN</td>\n",
       "      <td>1</td>\n",
       "      <td>F</td>\n",
       "      <td>19</td>\n",
       "      <td>D</td>\n",
       "      <td>2007</td>\n",
       "      <td>U</td>\n",
       "      <td>7.0</td>\n",
       "      <td>43</td>\n",
       "      <td>1</td>\n",
       "    </tr>\n",
       "    <tr>\n",
       "      <th>3</th>\n",
       "      <td>8.0</td>\n",
       "      <td>NaN</td>\n",
       "      <td>1</td>\n",
       "      <td>M</td>\n",
       "      <td>20</td>\n",
       "      <td>S</td>\n",
       "      <td>2007</td>\n",
       "      <td>U</td>\n",
       "      <td>7.0</td>\n",
       "      <td>23</td>\n",
       "      <td>1</td>\n",
       "    </tr>\n",
       "    <tr>\n",
       "      <th>4</th>\n",
       "      <td>99.0</td>\n",
       "      <td>NaN</td>\n",
       "      <td>1</td>\n",
       "      <td>F</td>\n",
       "      <td>16</td>\n",
       "      <td>M</td>\n",
       "      <td>2007</td>\n",
       "      <td>U</td>\n",
       "      <td>7.0</td>\n",
       "      <td>67</td>\n",
       "      <td>2</td>\n",
       "    </tr>\n",
       "  </tbody>\n",
       "</table>\n",
       "</div>"
      ],
      "text/plain": [
       "   education_1989_revision  education_2003_revision  month_of_death sex  \\\n",
       "0                      2.0                      NaN               1   M   \n",
       "1                     12.0                      NaN               1   M   \n",
       "2                     12.0                      NaN               1   F   \n",
       "3                      8.0                      NaN               1   M   \n",
       "4                     99.0                      NaN               1   F   \n",
       "\n",
       "   age_recode_27 marital_status  current_data_year injury_at_work  \\\n",
       "0             20              M               2007              U   \n",
       "1             13              M               2007              U   \n",
       "2             19              D               2007              U   \n",
       "3             20              S               2007              U   \n",
       "4             16              M               2007              U   \n",
       "\n",
       "   manner_of_death  113_cause_recode  race_recode_5  \n",
       "0              7.0                25              1  \n",
       "1              2.0               125              1  \n",
       "2              7.0                43              1  \n",
       "3              7.0                23              1  \n",
       "4              7.0                67              2  "
      ]
     },
     "execution_count": 14,
     "metadata": {},
     "output_type": "execute_result"
    }
   ],
   "source": [
    "df2007.head(5)"
   ]
  },
  {
   "cell_type": "code",
   "execution_count": 16,
   "metadata": {},
   "outputs": [],
   "source": [
    "df2008=data_2008.drop(unuseful_colnames,axis=1)"
   ]
  },
  {
   "cell_type": "code",
   "execution_count": 17,
   "metadata": {},
   "outputs": [
    {
     "data": {
      "text/html": [
       "<div>\n",
       "<style scoped>\n",
       "    .dataframe tbody tr th:only-of-type {\n",
       "        vertical-align: middle;\n",
       "    }\n",
       "\n",
       "    .dataframe tbody tr th {\n",
       "        vertical-align: top;\n",
       "    }\n",
       "\n",
       "    .dataframe thead th {\n",
       "        text-align: right;\n",
       "    }\n",
       "</style>\n",
       "<table border=\"1\" class=\"dataframe\">\n",
       "  <thead>\n",
       "    <tr style=\"text-align: right;\">\n",
       "      <th></th>\n",
       "      <th>education_1989_revision</th>\n",
       "      <th>education_2003_revision</th>\n",
       "      <th>month_of_death</th>\n",
       "      <th>sex</th>\n",
       "      <th>age_recode_27</th>\n",
       "      <th>marital_status</th>\n",
       "      <th>current_data_year</th>\n",
       "      <th>injury_at_work</th>\n",
       "      <th>manner_of_death</th>\n",
       "      <th>113_cause_recode</th>\n",
       "      <th>race_recode_5</th>\n",
       "    </tr>\n",
       "  </thead>\n",
       "  <tbody>\n",
       "    <tr>\n",
       "      <th>0</th>\n",
       "      <td>12.0</td>\n",
       "      <td>NaN</td>\n",
       "      <td>1</td>\n",
       "      <td>M</td>\n",
       "      <td>19</td>\n",
       "      <td>M</td>\n",
       "      <td>2008</td>\n",
       "      <td>U</td>\n",
       "      <td>7.0</td>\n",
       "      <td>21</td>\n",
       "      <td>1</td>\n",
       "    </tr>\n",
       "    <tr>\n",
       "      <th>1</th>\n",
       "      <td>9.0</td>\n",
       "      <td>NaN</td>\n",
       "      <td>1</td>\n",
       "      <td>M</td>\n",
       "      <td>21</td>\n",
       "      <td>M</td>\n",
       "      <td>2008</td>\n",
       "      <td>U</td>\n",
       "      <td>7.0</td>\n",
       "      <td>63</td>\n",
       "      <td>1</td>\n",
       "    </tr>\n",
       "    <tr>\n",
       "      <th>2</th>\n",
       "      <td>14.0</td>\n",
       "      <td>NaN</td>\n",
       "      <td>1</td>\n",
       "      <td>F</td>\n",
       "      <td>22</td>\n",
       "      <td>W</td>\n",
       "      <td>2008</td>\n",
       "      <td>U</td>\n",
       "      <td>7.0</td>\n",
       "      <td>41</td>\n",
       "      <td>1</td>\n",
       "    </tr>\n",
       "    <tr>\n",
       "      <th>3</th>\n",
       "      <td>12.0</td>\n",
       "      <td>NaN</td>\n",
       "      <td>1</td>\n",
       "      <td>M</td>\n",
       "      <td>16</td>\n",
       "      <td>S</td>\n",
       "      <td>2008</td>\n",
       "      <td>U</td>\n",
       "      <td>7.0</td>\n",
       "      <td>24</td>\n",
       "      <td>1</td>\n",
       "    </tr>\n",
       "    <tr>\n",
       "      <th>4</th>\n",
       "      <td>6.0</td>\n",
       "      <td>NaN</td>\n",
       "      <td>1</td>\n",
       "      <td>F</td>\n",
       "      <td>18</td>\n",
       "      <td>S</td>\n",
       "      <td>2008</td>\n",
       "      <td>U</td>\n",
       "      <td>7.0</td>\n",
       "      <td>95</td>\n",
       "      <td>1</td>\n",
       "    </tr>\n",
       "  </tbody>\n",
       "</table>\n",
       "</div>"
      ],
      "text/plain": [
       "   education_1989_revision  education_2003_revision  month_of_death sex  \\\n",
       "0                     12.0                      NaN               1   M   \n",
       "1                      9.0                      NaN               1   M   \n",
       "2                     14.0                      NaN               1   F   \n",
       "3                     12.0                      NaN               1   M   \n",
       "4                      6.0                      NaN               1   F   \n",
       "\n",
       "   age_recode_27 marital_status  current_data_year injury_at_work  \\\n",
       "0             19              M               2008              U   \n",
       "1             21              M               2008              U   \n",
       "2             22              W               2008              U   \n",
       "3             16              S               2008              U   \n",
       "4             18              S               2008              U   \n",
       "\n",
       "   manner_of_death  113_cause_recode  race_recode_5  \n",
       "0              7.0                21              1  \n",
       "1              7.0                63              1  \n",
       "2              7.0                41              1  \n",
       "3              7.0                24              1  \n",
       "4              7.0                95              1  "
      ]
     },
     "execution_count": 17,
     "metadata": {},
     "output_type": "execute_result"
    }
   ],
   "source": [
    "df2008.head(5)"
   ]
  },
  {
   "cell_type": "code",
   "execution_count": 20,
   "metadata": {},
   "outputs": [],
   "source": [
    "df2009=data_2009.drop(unuseful_colnames,axis=1)"
   ]
  },
  {
   "cell_type": "code",
   "execution_count": 22,
   "metadata": {},
   "outputs": [],
   "source": [
    "df2010=data_2010.drop(unuseful_colnames,axis=1)"
   ]
  },
  {
   "cell_type": "code",
   "execution_count": 24,
   "metadata": {},
   "outputs": [],
   "source": [
    "df2011=data_2011.drop(unuseful_colnames,axis=1)"
   ]
  },
  {
   "cell_type": "code",
   "execution_count": 28,
   "metadata": {},
   "outputs": [],
   "source": [
    "df2012=data_2012.drop(unuseful_colnames,axis=1)"
   ]
  },
  {
   "cell_type": "code",
   "execution_count": 31,
   "metadata": {},
   "outputs": [],
   "source": [
    "df2013=data_2013.drop(unuseful_colnames,axis=1)"
   ]
  },
  {
   "cell_type": "code",
   "execution_count": 33,
   "metadata": {},
   "outputs": [],
   "source": [
    "df2014=data_2014.drop(unuseful_colnames,axis=1)"
   ]
  },
  {
   "cell_type": "code",
   "execution_count": 35,
   "metadata": {},
   "outputs": [],
   "source": [
    "df2015=data_2015.drop(unuseful_colnames,axis=1)"
   ]
  },
  {
   "cell_type": "code",
   "execution_count": 36,
   "metadata": {},
   "outputs": [],
   "source": [
    "df = pd.concat([df, df2015], ignore_index=True)"
   ]
  },
  {
   "cell_type": "code",
   "execution_count": 37,
   "metadata": {},
   "outputs": [
    {
     "data": {
      "text/html": [
       "<div>\n",
       "<style scoped>\n",
       "    .dataframe tbody tr th:only-of-type {\n",
       "        vertical-align: middle;\n",
       "    }\n",
       "\n",
       "    .dataframe tbody tr th {\n",
       "        vertical-align: top;\n",
       "    }\n",
       "\n",
       "    .dataframe thead th {\n",
       "        text-align: right;\n",
       "    }\n",
       "</style>\n",
       "<table border=\"1\" class=\"dataframe\">\n",
       "  <thead>\n",
       "    <tr style=\"text-align: right;\">\n",
       "      <th></th>\n",
       "      <th>113_cause_recode</th>\n",
       "      <th>age_recode_27</th>\n",
       "      <th>current_data_year</th>\n",
       "      <th>education_1989_revision</th>\n",
       "      <th>education_2003_revision</th>\n",
       "      <th>icd_code_10</th>\n",
       "      <th>injury_at_work</th>\n",
       "      <th>manner_of_death</th>\n",
       "      <th>marital_status</th>\n",
       "      <th>month_of_death</th>\n",
       "      <th>race_recode_5</th>\n",
       "      <th>sex</th>\n",
       "    </tr>\n",
       "  </thead>\n",
       "  <tbody>\n",
       "    <tr>\n",
       "      <th>0</th>\n",
       "      <td>28</td>\n",
       "      <td>15</td>\n",
       "      <td>2005</td>\n",
       "      <td>11.0</td>\n",
       "      <td>NaN</td>\n",
       "      <td>NaN</td>\n",
       "      <td>U</td>\n",
       "      <td>7.0</td>\n",
       "      <td>M</td>\n",
       "      <td>1</td>\n",
       "      <td>1</td>\n",
       "      <td>F</td>\n",
       "    </tr>\n",
       "    <tr>\n",
       "      <th>1</th>\n",
       "      <td>84</td>\n",
       "      <td>18</td>\n",
       "      <td>2005</td>\n",
       "      <td>13.0</td>\n",
       "      <td>NaN</td>\n",
       "      <td>NaN</td>\n",
       "      <td>U</td>\n",
       "      <td>7.0</td>\n",
       "      <td>D</td>\n",
       "      <td>1</td>\n",
       "      <td>1</td>\n",
       "      <td>M</td>\n",
       "    </tr>\n",
       "    <tr>\n",
       "      <th>2</th>\n",
       "      <td>70</td>\n",
       "      <td>21</td>\n",
       "      <td>2005</td>\n",
       "      <td>12.0</td>\n",
       "      <td>NaN</td>\n",
       "      <td>NaN</td>\n",
       "      <td>U</td>\n",
       "      <td>7.0</td>\n",
       "      <td>D</td>\n",
       "      <td>1</td>\n",
       "      <td>1</td>\n",
       "      <td>F</td>\n",
       "    </tr>\n",
       "    <tr>\n",
       "      <th>3</th>\n",
       "      <td>46</td>\n",
       "      <td>16</td>\n",
       "      <td>2005</td>\n",
       "      <td>12.0</td>\n",
       "      <td>NaN</td>\n",
       "      <td>NaN</td>\n",
       "      <td>U</td>\n",
       "      <td>7.0</td>\n",
       "      <td>S</td>\n",
       "      <td>1</td>\n",
       "      <td>1</td>\n",
       "      <td>M</td>\n",
       "    </tr>\n",
       "    <tr>\n",
       "      <th>4</th>\n",
       "      <td>27</td>\n",
       "      <td>19</td>\n",
       "      <td>2005</td>\n",
       "      <td>14.0</td>\n",
       "      <td>NaN</td>\n",
       "      <td>NaN</td>\n",
       "      <td>U</td>\n",
       "      <td>7.0</td>\n",
       "      <td>M</td>\n",
       "      <td>1</td>\n",
       "      <td>1</td>\n",
       "      <td>F</td>\n",
       "    </tr>\n",
       "  </tbody>\n",
       "</table>\n",
       "</div>"
      ],
      "text/plain": [
       "   113_cause_recode  age_recode_27  current_data_year  \\\n",
       "0                28             15               2005   \n",
       "1                84             18               2005   \n",
       "2                70             21               2005   \n",
       "3                46             16               2005   \n",
       "4                27             19               2005   \n",
       "\n",
       "   education_1989_revision  education_2003_revision icd_code_10  \\\n",
       "0                     11.0                      NaN         NaN   \n",
       "1                     13.0                      NaN         NaN   \n",
       "2                     12.0                      NaN         NaN   \n",
       "3                     12.0                      NaN         NaN   \n",
       "4                     14.0                      NaN         NaN   \n",
       "\n",
       "  injury_at_work  manner_of_death marital_status  month_of_death  \\\n",
       "0              U              7.0              M               1   \n",
       "1              U              7.0              D               1   \n",
       "2              U              7.0              D               1   \n",
       "3              U              7.0              S               1   \n",
       "4              U              7.0              M               1   \n",
       "\n",
       "   race_recode_5 sex  \n",
       "0              1   F  \n",
       "1              1   M  \n",
       "2              1   F  \n",
       "3              1   M  \n",
       "4              1   F  "
      ]
     },
     "execution_count": 37,
     "metadata": {},
     "output_type": "execute_result"
    }
   ],
   "source": [
    "df.head(5)"
   ]
  },
  {
   "cell_type": "code",
   "execution_count": 38,
   "metadata": {},
   "outputs": [
    {
     "data": {
      "text/plain": [
       "(27720673, 12)"
      ]
     },
     "execution_count": 38,
     "metadata": {},
     "output_type": "execute_result"
    }
   ],
   "source": [
    "df.shape"
   ]
  },
  {
   "cell_type": "code",
   "execution_count": 53,
   "metadata": {},
   "outputs": [],
   "source": [
    "df.to_csv('df.csv')"
   ]
  },
  {
   "cell_type": "code",
   "execution_count": null,
   "metadata": {},
   "outputs": [],
   "source": []
  },
  {
   "cell_type": "markdown",
   "metadata": {},
   "source": [
    "# Try Convert education from 1989 revision to 2003 version"
   ]
  },
  {
   "cell_type": "code",
   "execution_count": 40,
   "metadata": {},
   "outputs": [
    {
     "data": {
      "text/plain": [
       "27720673"
      ]
     },
     "execution_count": 40,
     "metadata": {},
     "output_type": "execute_result"
    }
   ],
   "source": [
    "len(df['education_1989_revision'])"
   ]
  },
  {
   "cell_type": "code",
   "execution_count": 41,
   "metadata": {},
   "outputs": [],
   "source": [
    "edu_1989=df['education_1989_revision']\n",
    "edu_2003=df['education_2003_revision']"
   ]
  },
  {
   "cell_type": "code",
   "execution_count": 42,
   "metadata": {},
   "outputs": [],
   "source": [
    "df_edu = pd.DataFrame(list(zip(edu_1989, edu_2003)), \n",
    "               columns =['edu_1989', 'edu_2003']) "
   ]
  },
  {
   "cell_type": "code",
   "execution_count": 44,
   "metadata": {},
   "outputs": [],
   "source": [
    "#make a dict to map 1989 with 2003 values\n",
    "edu1989 = [0, 1.0, 2.0, 3.0, 4.0, 5.0, 6.0,7.0,8.0,9.0,10.0,11.0,12.0,13.0,14.0,15.0,16.0,17.0,99]\n",
    "edu2003 = [9, 1, 1, 1, 1, 1, 1,1,1,2,2,2,3,4,4,4,6,7,9]\n",
    "\n",
    "df_edu_dict = pd.DataFrame({'edu_1989':edu1989, 'edu_2003':edu2003})\n",
    "\n",
    "dict = df_edu_dict.set_index('edu_1989').to_dict()['edu_2003']\n",
    "\n",
    "df_edu['edu_2003'] = df_edu['edu_2003'].fillna(df_edu['edu_1989'].map(dict))\n",
    "#df_edu['edu_2003'] = df_edu['edu_2003'].fillna(df_edu['edu_1989'].apply(lambda x: dict.get(x)))\n",
    "#df.loc[df_edu['edu_2003'].isnull(), 'edu_2003'] = df_edu['edu_1989'].map(dict)"
   ]
  },
  {
   "cell_type": "code",
   "execution_count": 45,
   "metadata": {},
   "outputs": [
    {
     "data": {
      "text/html": [
       "<div>\n",
       "<style scoped>\n",
       "    .dataframe tbody tr th:only-of-type {\n",
       "        vertical-align: middle;\n",
       "    }\n",
       "\n",
       "    .dataframe tbody tr th {\n",
       "        vertical-align: top;\n",
       "    }\n",
       "\n",
       "    .dataframe thead th {\n",
       "        text-align: right;\n",
       "    }\n",
       "</style>\n",
       "<table border=\"1\" class=\"dataframe\">\n",
       "  <thead>\n",
       "    <tr style=\"text-align: right;\">\n",
       "      <th></th>\n",
       "      <th>edu_1989</th>\n",
       "      <th>edu_2003</th>\n",
       "    </tr>\n",
       "  </thead>\n",
       "  <tbody>\n",
       "    <tr>\n",
       "      <th>0</th>\n",
       "      <td>11.0</td>\n",
       "      <td>2.0</td>\n",
       "    </tr>\n",
       "    <tr>\n",
       "      <th>1</th>\n",
       "      <td>13.0</td>\n",
       "      <td>4.0</td>\n",
       "    </tr>\n",
       "    <tr>\n",
       "      <th>2</th>\n",
       "      <td>12.0</td>\n",
       "      <td>3.0</td>\n",
       "    </tr>\n",
       "    <tr>\n",
       "      <th>3</th>\n",
       "      <td>12.0</td>\n",
       "      <td>3.0</td>\n",
       "    </tr>\n",
       "    <tr>\n",
       "      <th>4</th>\n",
       "      <td>14.0</td>\n",
       "      <td>4.0</td>\n",
       "    </tr>\n",
       "  </tbody>\n",
       "</table>\n",
       "</div>"
      ],
      "text/plain": [
       "   edu_1989  edu_2003\n",
       "0      11.0       2.0\n",
       "1      13.0       4.0\n",
       "2      12.0       3.0\n",
       "3      12.0       3.0\n",
       "4      14.0       4.0"
      ]
     },
     "execution_count": 45,
     "metadata": {},
     "output_type": "execute_result"
    }
   ],
   "source": [
    "df_edu.head(5)"
   ]
  },
  {
   "cell_type": "code",
   "execution_count": 46,
   "metadata": {},
   "outputs": [],
   "source": [
    "df['education_2003_revision'] = df['education_2003_revision'].fillna(df['education_1989_revision'].map(dict))"
   ]
  },
  {
   "cell_type": "code",
   "execution_count": 52,
   "metadata": {},
   "outputs": [
    {
     "data": {
      "text/html": [
       "<div>\n",
       "<style scoped>\n",
       "    .dataframe tbody tr th:only-of-type {\n",
       "        vertical-align: middle;\n",
       "    }\n",
       "\n",
       "    .dataframe tbody tr th {\n",
       "        vertical-align: top;\n",
       "    }\n",
       "\n",
       "    .dataframe thead th {\n",
       "        text-align: right;\n",
       "    }\n",
       "</style>\n",
       "<table border=\"1\" class=\"dataframe\">\n",
       "  <thead>\n",
       "    <tr style=\"text-align: right;\">\n",
       "      <th></th>\n",
       "      <th>113_cause_recode</th>\n",
       "      <th>age_recode_27</th>\n",
       "      <th>current_data_year</th>\n",
       "      <th>education_2003_revision</th>\n",
       "      <th>injury_at_work</th>\n",
       "      <th>manner_of_death</th>\n",
       "      <th>marital_status</th>\n",
       "      <th>month_of_death</th>\n",
       "      <th>race_recode_5</th>\n",
       "      <th>sex</th>\n",
       "    </tr>\n",
       "  </thead>\n",
       "  <tbody>\n",
       "    <tr>\n",
       "      <th>0</th>\n",
       "      <td>28</td>\n",
       "      <td>15</td>\n",
       "      <td>2005</td>\n",
       "      <td>2.0</td>\n",
       "      <td>U</td>\n",
       "      <td>7.0</td>\n",
       "      <td>M</td>\n",
       "      <td>1</td>\n",
       "      <td>1</td>\n",
       "      <td>F</td>\n",
       "    </tr>\n",
       "    <tr>\n",
       "      <th>1</th>\n",
       "      <td>84</td>\n",
       "      <td>18</td>\n",
       "      <td>2005</td>\n",
       "      <td>4.0</td>\n",
       "      <td>U</td>\n",
       "      <td>7.0</td>\n",
       "      <td>D</td>\n",
       "      <td>1</td>\n",
       "      <td>1</td>\n",
       "      <td>M</td>\n",
       "    </tr>\n",
       "    <tr>\n",
       "      <th>2</th>\n",
       "      <td>70</td>\n",
       "      <td>21</td>\n",
       "      <td>2005</td>\n",
       "      <td>3.0</td>\n",
       "      <td>U</td>\n",
       "      <td>7.0</td>\n",
       "      <td>D</td>\n",
       "      <td>1</td>\n",
       "      <td>1</td>\n",
       "      <td>F</td>\n",
       "    </tr>\n",
       "    <tr>\n",
       "      <th>3</th>\n",
       "      <td>46</td>\n",
       "      <td>16</td>\n",
       "      <td>2005</td>\n",
       "      <td>3.0</td>\n",
       "      <td>U</td>\n",
       "      <td>7.0</td>\n",
       "      <td>S</td>\n",
       "      <td>1</td>\n",
       "      <td>1</td>\n",
       "      <td>M</td>\n",
       "    </tr>\n",
       "    <tr>\n",
       "      <th>4</th>\n",
       "      <td>27</td>\n",
       "      <td>19</td>\n",
       "      <td>2005</td>\n",
       "      <td>4.0</td>\n",
       "      <td>U</td>\n",
       "      <td>7.0</td>\n",
       "      <td>M</td>\n",
       "      <td>1</td>\n",
       "      <td>1</td>\n",
       "      <td>F</td>\n",
       "    </tr>\n",
       "  </tbody>\n",
       "</table>\n",
       "</div>"
      ],
      "text/plain": [
       "   113_cause_recode  age_recode_27  current_data_year  \\\n",
       "0                28             15               2005   \n",
       "1                84             18               2005   \n",
       "2                70             21               2005   \n",
       "3                46             16               2005   \n",
       "4                27             19               2005   \n",
       "\n",
       "   education_2003_revision injury_at_work  manner_of_death marital_status  \\\n",
       "0                      2.0              U              7.0              M   \n",
       "1                      4.0              U              7.0              D   \n",
       "2                      3.0              U              7.0              D   \n",
       "3                      3.0              U              7.0              S   \n",
       "4                      4.0              U              7.0              M   \n",
       "\n",
       "   month_of_death  race_recode_5 sex  \n",
       "0               1              1   F  \n",
       "1               1              1   M  \n",
       "2               1              1   F  \n",
       "3               1              1   M  \n",
       "4               1              1   F  "
      ]
     },
     "execution_count": 52,
     "metadata": {},
     "output_type": "execute_result"
    }
   ],
   "source": [
    "df.head(5)"
   ]
  },
  {
   "cell_type": "code",
   "execution_count": 48,
   "metadata": {},
   "outputs": [
    {
     "data": {
      "text/plain": [
       "113_cause_recode                  0\n",
       "age_recode_27                     0\n",
       "current_data_year                 0\n",
       "education_1989_revision    19525734\n",
       "education_2003_revision           0\n",
       "icd_code_10                25172809\n",
       "injury_at_work                    0\n",
       "manner_of_death             5656790\n",
       "marital_status                    0\n",
       "month_of_death                    0\n",
       "race_recode_5                     0\n",
       "sex                               0\n",
       "dtype: int64"
      ]
     },
     "execution_count": 48,
     "metadata": {},
     "output_type": "execute_result"
    }
   ],
   "source": [
    "df.isnull().sum()"
   ]
  },
  {
   "cell_type": "code",
   "execution_count": 49,
   "metadata": {},
   "outputs": [],
   "source": [
    "#drop education_1989_revision\n",
    "df=df.drop(['education_1989_revision'],axis=1)"
   ]
  },
  {
   "cell_type": "code",
   "execution_count": 51,
   "metadata": {},
   "outputs": [],
   "source": [
    "df=df.drop(['icd_code_10'],axis=1)"
   ]
  },
  {
   "cell_type": "markdown",
   "metadata": {},
   "source": [
    "# Find Top 10 Causes of Death"
   ]
  },
  {
   "cell_type": "code",
   "execution_count": 55,
   "metadata": {},
   "outputs": [],
   "source": [
    "from collections import Counter\n",
    "def top_k(numbers, k=10):\n",
    "    c = Counter(numbers)\n",
    "    most_common = [key for key, val in c.most_common(k)]\n",
    "\n",
    "    return most_common"
   ]
  },
  {
   "cell_type": "code",
   "execution_count": 56,
   "metadata": {},
   "outputs": [
    {
     "name": "stdout",
     "output_type": "stream",
     "text": [
      "[111, 63, 27, 70, 59, 86, 68, 52, 46, 43]\n"
     ]
    }
   ],
   "source": [
    "print(top_k(df[\"113_cause_recode\"]))"
   ]
  },
  {
   "cell_type": "markdown",
   "metadata": {},
   "source": [
    "# For different causes of death, how num of death change against age"
   ]
  },
  {
   "cell_type": "code",
   "execution_count": 54,
   "metadata": {},
   "outputs": [
    {
     "data": {
      "text/html": [
       "<div>\n",
       "<style scoped>\n",
       "    .dataframe tbody tr th:only-of-type {\n",
       "        vertical-align: middle;\n",
       "    }\n",
       "\n",
       "    .dataframe tbody tr th {\n",
       "        vertical-align: top;\n",
       "    }\n",
       "\n",
       "    .dataframe thead th {\n",
       "        text-align: right;\n",
       "    }\n",
       "</style>\n",
       "<table border=\"1\" class=\"dataframe\">\n",
       "  <thead>\n",
       "    <tr style=\"text-align: right;\">\n",
       "      <th></th>\n",
       "      <th>113_cause_recode</th>\n",
       "      <th>age_recode_27</th>\n",
       "      <th>current_data_year</th>\n",
       "      <th>education_2003_revision</th>\n",
       "      <th>injury_at_work</th>\n",
       "      <th>manner_of_death</th>\n",
       "      <th>marital_status</th>\n",
       "      <th>month_of_death</th>\n",
       "      <th>race_recode_5</th>\n",
       "      <th>sex</th>\n",
       "    </tr>\n",
       "  </thead>\n",
       "  <tbody>\n",
       "    <tr>\n",
       "      <th>0</th>\n",
       "      <td>28</td>\n",
       "      <td>15</td>\n",
       "      <td>2005</td>\n",
       "      <td>2.0</td>\n",
       "      <td>U</td>\n",
       "      <td>7.0</td>\n",
       "      <td>M</td>\n",
       "      <td>1</td>\n",
       "      <td>1</td>\n",
       "      <td>F</td>\n",
       "    </tr>\n",
       "    <tr>\n",
       "      <th>1</th>\n",
       "      <td>84</td>\n",
       "      <td>18</td>\n",
       "      <td>2005</td>\n",
       "      <td>4.0</td>\n",
       "      <td>U</td>\n",
       "      <td>7.0</td>\n",
       "      <td>D</td>\n",
       "      <td>1</td>\n",
       "      <td>1</td>\n",
       "      <td>M</td>\n",
       "    </tr>\n",
       "    <tr>\n",
       "      <th>2</th>\n",
       "      <td>70</td>\n",
       "      <td>21</td>\n",
       "      <td>2005</td>\n",
       "      <td>3.0</td>\n",
       "      <td>U</td>\n",
       "      <td>7.0</td>\n",
       "      <td>D</td>\n",
       "      <td>1</td>\n",
       "      <td>1</td>\n",
       "      <td>F</td>\n",
       "    </tr>\n",
       "    <tr>\n",
       "      <th>3</th>\n",
       "      <td>46</td>\n",
       "      <td>16</td>\n",
       "      <td>2005</td>\n",
       "      <td>3.0</td>\n",
       "      <td>U</td>\n",
       "      <td>7.0</td>\n",
       "      <td>S</td>\n",
       "      <td>1</td>\n",
       "      <td>1</td>\n",
       "      <td>M</td>\n",
       "    </tr>\n",
       "    <tr>\n",
       "      <th>4</th>\n",
       "      <td>27</td>\n",
       "      <td>19</td>\n",
       "      <td>2005</td>\n",
       "      <td>4.0</td>\n",
       "      <td>U</td>\n",
       "      <td>7.0</td>\n",
       "      <td>M</td>\n",
       "      <td>1</td>\n",
       "      <td>1</td>\n",
       "      <td>F</td>\n",
       "    </tr>\n",
       "  </tbody>\n",
       "</table>\n",
       "</div>"
      ],
      "text/plain": [
       "   113_cause_recode  age_recode_27  current_data_year  \\\n",
       "0                28             15               2005   \n",
       "1                84             18               2005   \n",
       "2                70             21               2005   \n",
       "3                46             16               2005   \n",
       "4                27             19               2005   \n",
       "\n",
       "   education_2003_revision injury_at_work  manner_of_death marital_status  \\\n",
       "0                      2.0              U              7.0              M   \n",
       "1                      4.0              U              7.0              D   \n",
       "2                      3.0              U              7.0              D   \n",
       "3                      3.0              U              7.0              S   \n",
       "4                      4.0              U              7.0              M   \n",
       "\n",
       "   month_of_death  race_recode_5 sex  \n",
       "0               1              1   F  \n",
       "1               1              1   M  \n",
       "2               1              1   F  \n",
       "3               1              1   M  \n",
       "4               1              1   F  "
      ]
     },
     "execution_count": 54,
     "metadata": {},
     "output_type": "execute_result"
    }
   ],
   "source": [
    "df.head(5)"
   ]
  },
  {
   "cell_type": "code",
   "execution_count": 58,
   "metadata": {},
   "outputs": [
    {
     "data": {
      "text/html": [
       "<div>\n",
       "<style scoped>\n",
       "    .dataframe tbody tr th:only-of-type {\n",
       "        vertical-align: middle;\n",
       "    }\n",
       "\n",
       "    .dataframe tbody tr th {\n",
       "        vertical-align: top;\n",
       "    }\n",
       "\n",
       "    .dataframe thead th {\n",
       "        text-align: right;\n",
       "    }\n",
       "</style>\n",
       "<table border=\"1\" class=\"dataframe\">\n",
       "  <thead>\n",
       "    <tr style=\"text-align: right;\">\n",
       "      <th></th>\n",
       "      <th>113_cause_recode</th>\n",
       "      <th>age_recode_27</th>\n",
       "      <th>current_data_year</th>\n",
       "      <th>education_2003_revision</th>\n",
       "      <th>injury_at_work</th>\n",
       "      <th>manner_of_death</th>\n",
       "      <th>marital_status</th>\n",
       "      <th>month_of_death</th>\n",
       "      <th>race_recode_5</th>\n",
       "      <th>sex</th>\n",
       "    </tr>\n",
       "  </thead>\n",
       "  <tbody>\n",
       "    <tr>\n",
       "      <th>24</th>\n",
       "      <td>111</td>\n",
       "      <td>21</td>\n",
       "      <td>2005</td>\n",
       "      <td>3.0</td>\n",
       "      <td>U</td>\n",
       "      <td>7.0</td>\n",
       "      <td>W</td>\n",
       "      <td>1</td>\n",
       "      <td>1</td>\n",
       "      <td>M</td>\n",
       "    </tr>\n",
       "    <tr>\n",
       "      <th>25</th>\n",
       "      <td>111</td>\n",
       "      <td>15</td>\n",
       "      <td>2005</td>\n",
       "      <td>3.0</td>\n",
       "      <td>U</td>\n",
       "      <td>7.0</td>\n",
       "      <td>M</td>\n",
       "      <td>1</td>\n",
       "      <td>3</td>\n",
       "      <td>M</td>\n",
       "    </tr>\n",
       "    <tr>\n",
       "      <th>32</th>\n",
       "      <td>111</td>\n",
       "      <td>21</td>\n",
       "      <td>2005</td>\n",
       "      <td>1.0</td>\n",
       "      <td>U</td>\n",
       "      <td>7.0</td>\n",
       "      <td>W</td>\n",
       "      <td>1</td>\n",
       "      <td>1</td>\n",
       "      <td>M</td>\n",
       "    </tr>\n",
       "    <tr>\n",
       "      <th>47</th>\n",
       "      <td>111</td>\n",
       "      <td>19</td>\n",
       "      <td>2005</td>\n",
       "      <td>4.0</td>\n",
       "      <td>U</td>\n",
       "      <td>7.0</td>\n",
       "      <td>M</td>\n",
       "      <td>1</td>\n",
       "      <td>1</td>\n",
       "      <td>M</td>\n",
       "    </tr>\n",
       "    <tr>\n",
       "      <th>57</th>\n",
       "      <td>111</td>\n",
       "      <td>20</td>\n",
       "      <td>2005</td>\n",
       "      <td>3.0</td>\n",
       "      <td>U</td>\n",
       "      <td>7.0</td>\n",
       "      <td>M</td>\n",
       "      <td>1</td>\n",
       "      <td>1</td>\n",
       "      <td>F</td>\n",
       "    </tr>\n",
       "  </tbody>\n",
       "</table>\n",
       "</div>"
      ],
      "text/plain": [
       "    113_cause_recode  age_recode_27  current_data_year  \\\n",
       "24               111             21               2005   \n",
       "25               111             15               2005   \n",
       "32               111             21               2005   \n",
       "47               111             19               2005   \n",
       "57               111             20               2005   \n",
       "\n",
       "    education_2003_revision injury_at_work  manner_of_death marital_status  \\\n",
       "24                      3.0              U              7.0              W   \n",
       "25                      3.0              U              7.0              M   \n",
       "32                      1.0              U              7.0              W   \n",
       "47                      4.0              U              7.0              M   \n",
       "57                      3.0              U              7.0              M   \n",
       "\n",
       "    month_of_death  race_recode_5 sex  \n",
       "24               1              1   M  \n",
       "25               1              3   M  \n",
       "32               1              1   M  \n",
       "47               1              1   M  \n",
       "57               1              1   F  "
      ]
     },
     "execution_count": 58,
     "metadata": {},
     "output_type": "execute_result"
    }
   ],
   "source": [
    "df_111.head(5)"
   ]
  },
  {
   "cell_type": "code",
   "execution_count": 57,
   "metadata": {},
   "outputs": [],
   "source": [
    "df_111= df.loc[df['113_cause_recode'] == 111]"
   ]
  },
  {
   "cell_type": "code",
   "execution_count": 61,
   "metadata": {},
   "outputs": [],
   "source": [
    "df_111_age=df_111.groupby(['age_recode_27']).size().reset_index(name=\"Num of death\")"
   ]
  },
  {
   "cell_type": "code",
   "execution_count": 64,
   "metadata": {},
   "outputs": [
    {
     "data": {
      "text/html": [
       "<div>\n",
       "<style scoped>\n",
       "    .dataframe tbody tr th:only-of-type {\n",
       "        vertical-align: middle;\n",
       "    }\n",
       "\n",
       "    .dataframe tbody tr th {\n",
       "        vertical-align: top;\n",
       "    }\n",
       "\n",
       "    .dataframe thead th {\n",
       "        text-align: right;\n",
       "    }\n",
       "</style>\n",
       "<table border=\"1\" class=\"dataframe\">\n",
       "  <thead>\n",
       "    <tr style=\"text-align: right;\">\n",
       "      <th></th>\n",
       "      <th>age_recode_27</th>\n",
       "      <th>Num of death</th>\n",
       "    </tr>\n",
       "  </thead>\n",
       "  <tbody>\n",
       "    <tr>\n",
       "      <th>0</th>\n",
       "      <td>1</td>\n",
       "      <td>2465</td>\n",
       "    </tr>\n",
       "    <tr>\n",
       "      <th>1</th>\n",
       "      <td>2</td>\n",
       "      <td>7546</td>\n",
       "    </tr>\n",
       "    <tr>\n",
       "      <th>2</th>\n",
       "      <td>3</td>\n",
       "      <td>2357</td>\n",
       "    </tr>\n",
       "    <tr>\n",
       "      <th>3</th>\n",
       "      <td>4</td>\n",
       "      <td>1410</td>\n",
       "    </tr>\n",
       "    <tr>\n",
       "      <th>4</th>\n",
       "      <td>5</td>\n",
       "      <td>1060</td>\n",
       "    </tr>\n",
       "    <tr>\n",
       "      <th>5</th>\n",
       "      <td>6</td>\n",
       "      <td>889</td>\n",
       "    </tr>\n",
       "    <tr>\n",
       "      <th>6</th>\n",
       "      <td>7</td>\n",
       "      <td>3917</td>\n",
       "    </tr>\n",
       "    <tr>\n",
       "      <th>7</th>\n",
       "      <td>8</td>\n",
       "      <td>4860</td>\n",
       "    </tr>\n",
       "    <tr>\n",
       "      <th>8</th>\n",
       "      <td>9</td>\n",
       "      <td>8098</td>\n",
       "    </tr>\n",
       "    <tr>\n",
       "      <th>9</th>\n",
       "      <td>10</td>\n",
       "      <td>13471</td>\n",
       "    </tr>\n",
       "    <tr>\n",
       "      <th>10</th>\n",
       "      <td>11</td>\n",
       "      <td>16721</td>\n",
       "    </tr>\n",
       "    <tr>\n",
       "      <th>11</th>\n",
       "      <td>12</td>\n",
       "      <td>21037</td>\n",
       "    </tr>\n",
       "    <tr>\n",
       "      <th>12</th>\n",
       "      <td>13</td>\n",
       "      <td>29661</td>\n",
       "    </tr>\n",
       "    <tr>\n",
       "      <th>13</th>\n",
       "      <td>14</td>\n",
       "      <td>47721</td>\n",
       "    </tr>\n",
       "    <tr>\n",
       "      <th>14</th>\n",
       "      <td>15</td>\n",
       "      <td>75964</td>\n",
       "    </tr>\n",
       "    <tr>\n",
       "      <th>15</th>\n",
       "      <td>16</td>\n",
       "      <td>110965</td>\n",
       "    </tr>\n",
       "    <tr>\n",
       "      <th>16</th>\n",
       "      <td>17</td>\n",
       "      <td>136745</td>\n",
       "    </tr>\n",
       "    <tr>\n",
       "      <th>17</th>\n",
       "      <td>18</td>\n",
       "      <td>155994</td>\n",
       "    </tr>\n",
       "    <tr>\n",
       "      <th>18</th>\n",
       "      <td>19</td>\n",
       "      <td>172392</td>\n",
       "    </tr>\n",
       "    <tr>\n",
       "      <th>19</th>\n",
       "      <td>20</td>\n",
       "      <td>207423</td>\n",
       "    </tr>\n",
       "    <tr>\n",
       "      <th>20</th>\n",
       "      <td>21</td>\n",
       "      <td>293227</td>\n",
       "    </tr>\n",
       "    <tr>\n",
       "      <th>21</th>\n",
       "      <td>22</td>\n",
       "      <td>439539</td>\n",
       "    </tr>\n",
       "    <tr>\n",
       "      <th>22</th>\n",
       "      <td>23</td>\n",
       "      <td>556378</td>\n",
       "    </tr>\n",
       "    <tr>\n",
       "      <th>23</th>\n",
       "      <td>24</td>\n",
       "      <td>465914</td>\n",
       "    </tr>\n",
       "    <tr>\n",
       "      <th>24</th>\n",
       "      <td>25</td>\n",
       "      <td>207043</td>\n",
       "    </tr>\n",
       "    <tr>\n",
       "      <th>25</th>\n",
       "      <td>26</td>\n",
       "      <td>45311</td>\n",
       "    </tr>\n",
       "    <tr>\n",
       "      <th>26</th>\n",
       "      <td>27</td>\n",
       "      <td>150</td>\n",
       "    </tr>\n",
       "  </tbody>\n",
       "</table>\n",
       "</div>"
      ],
      "text/plain": [
       "    age_recode_27  Num of death\n",
       "0               1          2465\n",
       "1               2          7546\n",
       "2               3          2357\n",
       "3               4          1410\n",
       "4               5          1060\n",
       "5               6           889\n",
       "6               7          3917\n",
       "7               8          4860\n",
       "8               9          8098\n",
       "9              10         13471\n",
       "10             11         16721\n",
       "11             12         21037\n",
       "12             13         29661\n",
       "13             14         47721\n",
       "14             15         75964\n",
       "15             16        110965\n",
       "16             17        136745\n",
       "17             18        155994\n",
       "18             19        172392\n",
       "19             20        207423\n",
       "20             21        293227\n",
       "21             22        439539\n",
       "22             23        556378\n",
       "23             24        465914\n",
       "24             25        207043\n",
       "25             26         45311\n",
       "26             27           150"
      ]
     },
     "execution_count": 64,
     "metadata": {},
     "output_type": "execute_result"
    }
   ],
   "source": [
    "df_111_age.head(30)"
   ]
  },
  {
   "cell_type": "code",
   "execution_count": 111,
   "metadata": {},
   "outputs": [
    {
     "name": "stdout",
     "output_type": "stream",
     "text": [
      "                 Generalized Linear Model Regression Results                  \n",
      "==============================================================================\n",
      "Dep. Variable:           Num of death   No. Observations:                   27\n",
      "Model:                            GLM   Df Residuals:                       25\n",
      "Model Family:                 Poisson   Df Model:                            1\n",
      "Link Function:                    log   Scale:                          1.0000\n",
      "Method:                          IRLS   Log-Likelihood:            -1.1693e+06\n",
      "Date:                Sat, 23 Nov 2019   Deviance:                   2.3383e+06\n",
      "Time:                        17:59:36   Pearson chi2:                 1.93e+06\n",
      "No. Iterations:                     6                                         \n",
      "Covariance Type:            nonrobust                                         \n",
      "=================================================================================\n",
      "                    coef    std err          z      P>|z|      [0.025      0.975]\n",
      "---------------------------------------------------------------------------------\n",
      "const             9.1478      0.002   4250.994      0.000       9.144       9.152\n",
      "age_recode_27     0.1392    9.9e-05   1406.323      0.000       0.139       0.139\n",
      "=================================================================================\n"
     ]
    }
   ],
   "source": [
    "#try single predictor - 'age_recode_27'\n",
    "#df_single\n",
    "#Poisson Distribution\n",
    "#not dummies\n",
    "import statsmodels.api as sm\n",
    "x=df_111_age['age_recode_27']\n",
    "x_pd = sm.add_constant(x)\n",
    "x = sm.add_constant(x_pd)\n",
    "y=df_111_age['Num of death']\n",
    "glm_model = sm.GLM(y, x_pd, family=sm.families.Poisson())\n",
    "glm_model_results = glm_model.fit()\n",
    "print(glm_model_results.summary())"
   ]
  },
  {
   "cell_type": "code",
   "execution_count": 112,
   "metadata": {},
   "outputs": [
    {
     "name": "stdout",
     "output_type": "stream",
     "text": [
      "[0      10797.203555\n",
      "1      12409.943275\n",
      "2      14263.572165\n",
      "3      16394.070980\n",
      "4      18842.794792\n",
      "5      21657.275731\n",
      "6      24892.145632\n",
      "7      28610.196494\n",
      "8      32883.599329\n",
      "9      37795.305079\n",
      "10     43440.654768\n",
      "11     49929.230171\n",
      "12     57386.980901\n",
      "13     65958.669213\n",
      "14     75810.679984\n",
      "15     87134.250406\n",
      "16    100149.182087\n",
      "17    115108.107614\n",
      "18    132301.394405\n",
      "19    152062.781017\n",
      "20    174775.855346\n",
      "21    200881.500441\n",
      "22    230886.452478\n",
      "23    265373.137002\n",
      "24    305010.974383\n",
      "25    350569.373921\n",
      "26    402932.668833\n",
      "dtype: float64, 0       2465\n",
      "1       7546\n",
      "2       2357\n",
      "3       1410\n",
      "4       1060\n",
      "5        889\n",
      "6       3917\n",
      "7       4860\n",
      "8       8098\n",
      "9      13471\n",
      "10     16721\n",
      "11     21037\n",
      "12     29661\n",
      "13     47721\n",
      "14     75964\n",
      "15    110965\n",
      "16    136745\n",
      "17    155994\n",
      "18    172392\n",
      "19    207423\n",
      "20    293227\n",
      "21    439539\n",
      "22    556378\n",
      "23    465914\n",
      "24    207043\n",
      "25     45311\n",
      "26       150\n",
      "Name: Num of death, dtype: int64]\n"
     ]
    }
   ],
   "source": [
    "print([glm_model_results.predict(x_pd), y])"
   ]
  },
  {
   "cell_type": "code",
   "execution_count": 113,
   "metadata": {},
   "outputs": [
    {
     "name": "stdout",
     "output_type": "stream",
     "text": [
      "[0       8332.203555\n",
      "1       4863.943275\n",
      "2      11906.572165\n",
      "3      14984.070980\n",
      "4      17782.794792\n",
      "5      20768.275731\n",
      "6      20975.145632\n",
      "7      23750.196494\n",
      "8      24785.599329\n",
      "9      24324.305079\n",
      "10     26719.654768\n",
      "11     28892.230171\n",
      "12     27725.980901\n",
      "13     18237.669213\n",
      "14      -153.320016\n",
      "15    -23830.749594\n",
      "16    -36595.817913\n",
      "17    -40885.892386\n",
      "18    -40090.605595\n",
      "19    -55360.218983\n",
      "20   -118451.144654\n",
      "21   -238657.499559\n",
      "22   -325491.547522\n",
      "23   -200540.862998\n",
      "24     97967.974383\n",
      "25    305258.373921\n",
      "26    402782.668833\n",
      "dtype: float64]\n"
     ]
    }
   ],
   "source": [
    "print([glm_model_results.predict(x_pd)-y])"
   ]
  },
  {
   "cell_type": "code",
   "execution_count": 68,
   "metadata": {},
   "outputs": [],
   "source": [
    "df_111_age_dum=pd.get_dummies(df_111_age, columns=['age_recode_27'])"
   ]
  },
  {
   "cell_type": "code",
   "execution_count": 70,
   "metadata": {},
   "outputs": [
    {
     "data": {
      "text/plain": [
       "Index(['Num of death', 'age_recode_27_1', 'age_recode_27_2', 'age_recode_27_3',\n",
       "       'age_recode_27_4', 'age_recode_27_5', 'age_recode_27_6',\n",
       "       'age_recode_27_7', 'age_recode_27_8', 'age_recode_27_9',\n",
       "       'age_recode_27_10', 'age_recode_27_11', 'age_recode_27_12',\n",
       "       'age_recode_27_13', 'age_recode_27_14', 'age_recode_27_15',\n",
       "       'age_recode_27_16', 'age_recode_27_17', 'age_recode_27_18',\n",
       "       'age_recode_27_19', 'age_recode_27_20', 'age_recode_27_21',\n",
       "       'age_recode_27_22', 'age_recode_27_23', 'age_recode_27_24',\n",
       "       'age_recode_27_25', 'age_recode_27_26', 'age_recode_27_27'],\n",
       "      dtype='object')"
      ]
     },
     "execution_count": 70,
     "metadata": {},
     "output_type": "execute_result"
    }
   ],
   "source": [
    "df_111_age_dum.columns"
   ]
  },
  {
   "cell_type": "code",
   "execution_count": 76,
   "metadata": {},
   "outputs": [
    {
     "data": {
      "text/html": [
       "<div>\n",
       "<style scoped>\n",
       "    .dataframe tbody tr th:only-of-type {\n",
       "        vertical-align: middle;\n",
       "    }\n",
       "\n",
       "    .dataframe tbody tr th {\n",
       "        vertical-align: top;\n",
       "    }\n",
       "\n",
       "    .dataframe thead th {\n",
       "        text-align: right;\n",
       "    }\n",
       "</style>\n",
       "<table border=\"1\" class=\"dataframe\">\n",
       "  <thead>\n",
       "    <tr style=\"text-align: right;\">\n",
       "      <th></th>\n",
       "      <th>Num of death</th>\n",
       "      <th>age_recode_27_1</th>\n",
       "      <th>age_recode_27_2</th>\n",
       "      <th>age_recode_27_3</th>\n",
       "      <th>age_recode_27_4</th>\n",
       "      <th>age_recode_27_5</th>\n",
       "      <th>age_recode_27_6</th>\n",
       "      <th>age_recode_27_7</th>\n",
       "      <th>age_recode_27_8</th>\n",
       "      <th>age_recode_27_9</th>\n",
       "      <th>...</th>\n",
       "      <th>age_recode_27_18</th>\n",
       "      <th>age_recode_27_19</th>\n",
       "      <th>age_recode_27_20</th>\n",
       "      <th>age_recode_27_21</th>\n",
       "      <th>age_recode_27_22</th>\n",
       "      <th>age_recode_27_23</th>\n",
       "      <th>age_recode_27_24</th>\n",
       "      <th>age_recode_27_25</th>\n",
       "      <th>age_recode_27_26</th>\n",
       "      <th>age_recode_27_27</th>\n",
       "    </tr>\n",
       "  </thead>\n",
       "  <tbody>\n",
       "    <tr>\n",
       "      <th>0</th>\n",
       "      <td>2465</td>\n",
       "      <td>1</td>\n",
       "      <td>0</td>\n",
       "      <td>0</td>\n",
       "      <td>0</td>\n",
       "      <td>0</td>\n",
       "      <td>0</td>\n",
       "      <td>0</td>\n",
       "      <td>0</td>\n",
       "      <td>0</td>\n",
       "      <td>...</td>\n",
       "      <td>0</td>\n",
       "      <td>0</td>\n",
       "      <td>0</td>\n",
       "      <td>0</td>\n",
       "      <td>0</td>\n",
       "      <td>0</td>\n",
       "      <td>0</td>\n",
       "      <td>0</td>\n",
       "      <td>0</td>\n",
       "      <td>0</td>\n",
       "    </tr>\n",
       "    <tr>\n",
       "      <th>1</th>\n",
       "      <td>7546</td>\n",
       "      <td>0</td>\n",
       "      <td>1</td>\n",
       "      <td>0</td>\n",
       "      <td>0</td>\n",
       "      <td>0</td>\n",
       "      <td>0</td>\n",
       "      <td>0</td>\n",
       "      <td>0</td>\n",
       "      <td>0</td>\n",
       "      <td>...</td>\n",
       "      <td>0</td>\n",
       "      <td>0</td>\n",
       "      <td>0</td>\n",
       "      <td>0</td>\n",
       "      <td>0</td>\n",
       "      <td>0</td>\n",
       "      <td>0</td>\n",
       "      <td>0</td>\n",
       "      <td>0</td>\n",
       "      <td>0</td>\n",
       "    </tr>\n",
       "    <tr>\n",
       "      <th>2</th>\n",
       "      <td>2357</td>\n",
       "      <td>0</td>\n",
       "      <td>0</td>\n",
       "      <td>1</td>\n",
       "      <td>0</td>\n",
       "      <td>0</td>\n",
       "      <td>0</td>\n",
       "      <td>0</td>\n",
       "      <td>0</td>\n",
       "      <td>0</td>\n",
       "      <td>...</td>\n",
       "      <td>0</td>\n",
       "      <td>0</td>\n",
       "      <td>0</td>\n",
       "      <td>0</td>\n",
       "      <td>0</td>\n",
       "      <td>0</td>\n",
       "      <td>0</td>\n",
       "      <td>0</td>\n",
       "      <td>0</td>\n",
       "      <td>0</td>\n",
       "    </tr>\n",
       "    <tr>\n",
       "      <th>3</th>\n",
       "      <td>1410</td>\n",
       "      <td>0</td>\n",
       "      <td>0</td>\n",
       "      <td>0</td>\n",
       "      <td>1</td>\n",
       "      <td>0</td>\n",
       "      <td>0</td>\n",
       "      <td>0</td>\n",
       "      <td>0</td>\n",
       "      <td>0</td>\n",
       "      <td>...</td>\n",
       "      <td>0</td>\n",
       "      <td>0</td>\n",
       "      <td>0</td>\n",
       "      <td>0</td>\n",
       "      <td>0</td>\n",
       "      <td>0</td>\n",
       "      <td>0</td>\n",
       "      <td>0</td>\n",
       "      <td>0</td>\n",
       "      <td>0</td>\n",
       "    </tr>\n",
       "    <tr>\n",
       "      <th>4</th>\n",
       "      <td>1060</td>\n",
       "      <td>0</td>\n",
       "      <td>0</td>\n",
       "      <td>0</td>\n",
       "      <td>0</td>\n",
       "      <td>1</td>\n",
       "      <td>0</td>\n",
       "      <td>0</td>\n",
       "      <td>0</td>\n",
       "      <td>0</td>\n",
       "      <td>...</td>\n",
       "      <td>0</td>\n",
       "      <td>0</td>\n",
       "      <td>0</td>\n",
       "      <td>0</td>\n",
       "      <td>0</td>\n",
       "      <td>0</td>\n",
       "      <td>0</td>\n",
       "      <td>0</td>\n",
       "      <td>0</td>\n",
       "      <td>0</td>\n",
       "    </tr>\n",
       "  </tbody>\n",
       "</table>\n",
       "<p>5 rows × 28 columns</p>\n",
       "</div>"
      ],
      "text/plain": [
       "   Num of death  age_recode_27_1  age_recode_27_2  age_recode_27_3  \\\n",
       "0          2465                1                0                0   \n",
       "1          7546                0                1                0   \n",
       "2          2357                0                0                1   \n",
       "3          1410                0                0                0   \n",
       "4          1060                0                0                0   \n",
       "\n",
       "   age_recode_27_4  age_recode_27_5  age_recode_27_6  age_recode_27_7  \\\n",
       "0                0                0                0                0   \n",
       "1                0                0                0                0   \n",
       "2                0                0                0                0   \n",
       "3                1                0                0                0   \n",
       "4                0                1                0                0   \n",
       "\n",
       "   age_recode_27_8  age_recode_27_9  ...  age_recode_27_18  age_recode_27_19  \\\n",
       "0                0                0  ...                 0                 0   \n",
       "1                0                0  ...                 0                 0   \n",
       "2                0                0  ...                 0                 0   \n",
       "3                0                0  ...                 0                 0   \n",
       "4                0                0  ...                 0                 0   \n",
       "\n",
       "   age_recode_27_20  age_recode_27_21  age_recode_27_22  age_recode_27_23  \\\n",
       "0                 0                 0                 0                 0   \n",
       "1                 0                 0                 0                 0   \n",
       "2                 0                 0                 0                 0   \n",
       "3                 0                 0                 0                 0   \n",
       "4                 0                 0                 0                 0   \n",
       "\n",
       "   age_recode_27_24  age_recode_27_25  age_recode_27_26  age_recode_27_27  \n",
       "0                 0                 0                 0                 0  \n",
       "1                 0                 0                 0                 0  \n",
       "2                 0                 0                 0                 0  \n",
       "3                 0                 0                 0                 0  \n",
       "4                 0                 0                 0                 0  \n",
       "\n",
       "[5 rows x 28 columns]"
      ]
     },
     "execution_count": 76,
     "metadata": {},
     "output_type": "execute_result"
    }
   ],
   "source": [
    "df_111_age_dum.head(5)"
   ]
  },
  {
   "cell_type": "code",
   "execution_count": 108,
   "metadata": {},
   "outputs": [],
   "source": [
    "age_dummy={ 'age_recode_27_1', 'age_recode_27_2', 'age_recode_27_3',\n",
    "       'age_recode_27_4', 'age_recode_27_5', 'age_recode_27_6',\n",
    "       'age_recode_27_7', 'age_recode_27_8', 'age_recode_27_9',\n",
    "       'age_recode_27_10', 'age_recode_27_11', 'age_recode_27_12',\n",
    "       'age_recode_27_13', 'age_recode_27_14', 'age_recode_27_15',\n",
    "       'age_recode_27_16', 'age_recode_27_17', 'age_recode_27_18',\n",
    "       'age_recode_27_19', 'age_recode_27_20', 'age_recode_27_21',\n",
    "       'age_recode_27_22', 'age_recode_27_23', 'age_recode_27_24',\n",
    "       'age_recode_27_25', 'age_recode_27_26', 'age_recode_27_27'}"
   ]
  },
  {
   "cell_type": "code",
   "execution_count": 109,
   "metadata": {},
   "outputs": [
    {
     "ename": "PerfectSeparationError",
     "evalue": "Perfect separation detected, results not available",
     "output_type": "error",
     "traceback": [
      "\u001b[0;31m---------------------------------------------------------------------------\u001b[0m",
      "\u001b[0;31mPerfectSeparationError\u001b[0m                    Traceback (most recent call last)",
      "\u001b[0;32m<ipython-input-109-3e0a040eef7a>\u001b[0m in \u001b[0;36m<module>\u001b[0;34m\u001b[0m\n\u001b[1;32m      3\u001b[0m \u001b[0my\u001b[0m\u001b[0;34m=\u001b[0m\u001b[0mdf_111_age_dum\u001b[0m\u001b[0;34m[\u001b[0m\u001b[0;34m'Num of death'\u001b[0m\u001b[0;34m]\u001b[0m\u001b[0;34m\u001b[0m\u001b[0;34m\u001b[0m\u001b[0m\n\u001b[1;32m      4\u001b[0m \u001b[0mglm_model\u001b[0m \u001b[0;34m=\u001b[0m \u001b[0msm\u001b[0m\u001b[0;34m.\u001b[0m\u001b[0mGLM\u001b[0m\u001b[0;34m(\u001b[0m\u001b[0my\u001b[0m\u001b[0;34m,\u001b[0m \u001b[0mx_pd\u001b[0m\u001b[0;34m,\u001b[0m \u001b[0mfamily\u001b[0m\u001b[0;34m=\u001b[0m\u001b[0msm\u001b[0m\u001b[0;34m.\u001b[0m\u001b[0mfamilies\u001b[0m\u001b[0;34m.\u001b[0m\u001b[0mPoisson\u001b[0m\u001b[0;34m(\u001b[0m\u001b[0;34m)\u001b[0m\u001b[0;34m)\u001b[0m\u001b[0;34m\u001b[0m\u001b[0;34m\u001b[0m\u001b[0m\n\u001b[0;32m----> 5\u001b[0;31m \u001b[0mglm_model_results\u001b[0m \u001b[0;34m=\u001b[0m \u001b[0mglm_model\u001b[0m\u001b[0;34m.\u001b[0m\u001b[0mfit\u001b[0m\u001b[0;34m(\u001b[0m\u001b[0;34m)\u001b[0m\u001b[0;34m\u001b[0m\u001b[0;34m\u001b[0m\u001b[0m\n\u001b[0m\u001b[1;32m      6\u001b[0m \u001b[0mprint\u001b[0m\u001b[0;34m(\u001b[0m\u001b[0mglm_model_results\u001b[0m\u001b[0;34m.\u001b[0m\u001b[0msummary\u001b[0m\u001b[0;34m(\u001b[0m\u001b[0;34m)\u001b[0m\u001b[0;34m)\u001b[0m\u001b[0;34m\u001b[0m\u001b[0;34m\u001b[0m\u001b[0m\n",
      "\u001b[0;32m//miniconda3/envs/tensorflow/lib/python3.6/site-packages/statsmodels/genmod/generalized_linear_model.py\u001b[0m in \u001b[0;36mfit\u001b[0;34m(self, start_params, maxiter, method, tol, scale, cov_type, cov_kwds, use_t, full_output, disp, max_start_irls, **kwargs)\u001b[0m\n\u001b[1;32m   1026\u001b[0m             return self._fit_irls(start_params=start_params, maxiter=maxiter,\n\u001b[1;32m   1027\u001b[0m                                   \u001b[0mtol\u001b[0m\u001b[0;34m=\u001b[0m\u001b[0mtol\u001b[0m\u001b[0;34m,\u001b[0m \u001b[0mscale\u001b[0m\u001b[0;34m=\u001b[0m\u001b[0mscale\u001b[0m\u001b[0;34m,\u001b[0m \u001b[0mcov_type\u001b[0m\u001b[0;34m=\u001b[0m\u001b[0mcov_type\u001b[0m\u001b[0;34m,\u001b[0m\u001b[0;34m\u001b[0m\u001b[0;34m\u001b[0m\u001b[0m\n\u001b[0;32m-> 1028\u001b[0;31m                                   cov_kwds=cov_kwds, use_t=use_t, **kwargs)\n\u001b[0m\u001b[1;32m   1029\u001b[0m         \u001b[0;32melse\u001b[0m\u001b[0;34m:\u001b[0m\u001b[0;34m\u001b[0m\u001b[0;34m\u001b[0m\u001b[0m\n\u001b[1;32m   1030\u001b[0m             \u001b[0mself\u001b[0m\u001b[0;34m.\u001b[0m\u001b[0m_optim_hessian\u001b[0m \u001b[0;34m=\u001b[0m \u001b[0mkwargs\u001b[0m\u001b[0;34m.\u001b[0m\u001b[0mget\u001b[0m\u001b[0;34m(\u001b[0m\u001b[0;34m'optim_hessian'\u001b[0m\u001b[0;34m)\u001b[0m\u001b[0;34m\u001b[0m\u001b[0;34m\u001b[0m\u001b[0m\n",
      "\u001b[0;32m//miniconda3/envs/tensorflow/lib/python3.6/site-packages/statsmodels/genmod/generalized_linear_model.py\u001b[0m in \u001b[0;36m_fit_irls\u001b[0;34m(self, start_params, maxiter, tol, scale, cov_type, cov_kwds, use_t, **kwargs)\u001b[0m\n\u001b[1;32m   1173\u001b[0m             \u001b[0;32mif\u001b[0m \u001b[0mendog\u001b[0m\u001b[0;34m.\u001b[0m\u001b[0msqueeze\u001b[0m\u001b[0;34m(\u001b[0m\u001b[0;34m)\u001b[0m\u001b[0;34m.\u001b[0m\u001b[0mndim\u001b[0m \u001b[0;34m==\u001b[0m \u001b[0;36m1\u001b[0m \u001b[0;32mand\u001b[0m \u001b[0mnp\u001b[0m\u001b[0;34m.\u001b[0m\u001b[0mallclose\u001b[0m\u001b[0;34m(\u001b[0m\u001b[0mmu\u001b[0m \u001b[0;34m-\u001b[0m \u001b[0mendog\u001b[0m\u001b[0;34m,\u001b[0m \u001b[0;36m0\u001b[0m\u001b[0;34m)\u001b[0m\u001b[0;34m:\u001b[0m\u001b[0;34m\u001b[0m\u001b[0;34m\u001b[0m\u001b[0m\n\u001b[1;32m   1174\u001b[0m                 \u001b[0mmsg\u001b[0m \u001b[0;34m=\u001b[0m \u001b[0;34m\"Perfect separation detected, results not available\"\u001b[0m\u001b[0;34m\u001b[0m\u001b[0;34m\u001b[0m\u001b[0m\n\u001b[0;32m-> 1175\u001b[0;31m                 \u001b[0;32mraise\u001b[0m \u001b[0mPerfectSeparationError\u001b[0m\u001b[0;34m(\u001b[0m\u001b[0mmsg\u001b[0m\u001b[0;34m)\u001b[0m\u001b[0;34m\u001b[0m\u001b[0;34m\u001b[0m\u001b[0m\n\u001b[0m\u001b[1;32m   1176\u001b[0m             converged = _check_convergence(criterion, iteration + 1, atol,\n\u001b[1;32m   1177\u001b[0m                                            rtol)\n",
      "\u001b[0;31mPerfectSeparationError\u001b[0m: Perfect separation detected, results not available"
     ]
    }
   ],
   "source": [
    "x=df_111_age_dum[age_dummy]\n",
    "x_pd = sm.add_constant(x)\n",
    "y=df_111_age_dum['Num of death']\n",
    "glm_model = sm.GLM(y, x_pd, family=sm.families.Poisson())\n",
    "glm_model_results = glm_model.fit()\n",
    "print(glm_model_results.summary())"
   ]
  },
  {
   "cell_type": "code",
   "execution_count": 107,
   "metadata": {},
   "outputs": [
    {
     "ename": "ValueError",
     "evalue": "shapes (27,12) and (13,) not aligned: 12 (dim 1) != 13 (dim 0)",
     "output_type": "error",
     "traceback": [
      "\u001b[0;31m---------------------------------------------------------------------------\u001b[0m",
      "\u001b[0;31mValueError\u001b[0m                                Traceback (most recent call last)",
      "\u001b[0;32m<ipython-input-107-c8bc349a74b6>\u001b[0m in \u001b[0;36m<module>\u001b[0;34m\u001b[0m\n\u001b[0;32m----> 1\u001b[0;31m \u001b[0mprint\u001b[0m\u001b[0;34m(\u001b[0m\u001b[0;34m[\u001b[0m\u001b[0mglm_model_results\u001b[0m\u001b[0;34m.\u001b[0m\u001b[0mpredict\u001b[0m\u001b[0;34m(\u001b[0m\u001b[0mx\u001b[0m\u001b[0;34m)\u001b[0m\u001b[0;34m]\u001b[0m\u001b[0;34m)\u001b[0m\u001b[0;34m\u001b[0m\u001b[0;34m\u001b[0m\u001b[0m\n\u001b[0m",
      "\u001b[0;32m//miniconda3/envs/tensorflow/lib/python3.6/site-packages/statsmodels/base/model.py\u001b[0m in \u001b[0;36mpredict\u001b[0;34m(self, exog, transform, *args, **kwargs)\u001b[0m\n\u001b[1;32m   1036\u001b[0m \u001b[0;34m\u001b[0m\u001b[0m\n\u001b[1;32m   1037\u001b[0m         predict_results = self.model.predict(self.params, exog, *args,\n\u001b[0;32m-> 1038\u001b[0;31m                                              **kwargs)\n\u001b[0m\u001b[1;32m   1039\u001b[0m \u001b[0;34m\u001b[0m\u001b[0m\n\u001b[1;32m   1040\u001b[0m         if exog_index is not None and not hasattr(predict_results,\n",
      "\u001b[0;32m//miniconda3/envs/tensorflow/lib/python3.6/site-packages/statsmodels/genmod/generalized_linear_model.py\u001b[0m in \u001b[0;36mpredict\u001b[0;34m(self, params, exog, exposure, offset, linear)\u001b[0m\n\u001b[1;32m    870\u001b[0m             \u001b[0mexog\u001b[0m \u001b[0;34m=\u001b[0m \u001b[0mself\u001b[0m\u001b[0;34m.\u001b[0m\u001b[0mexog\u001b[0m\u001b[0;34m\u001b[0m\u001b[0;34m\u001b[0m\u001b[0m\n\u001b[1;32m    871\u001b[0m \u001b[0;34m\u001b[0m\u001b[0m\n\u001b[0;32m--> 872\u001b[0;31m         \u001b[0mlinpred\u001b[0m \u001b[0;34m=\u001b[0m \u001b[0mnp\u001b[0m\u001b[0;34m.\u001b[0m\u001b[0mdot\u001b[0m\u001b[0;34m(\u001b[0m\u001b[0mexog\u001b[0m\u001b[0;34m,\u001b[0m \u001b[0mparams\u001b[0m\u001b[0;34m)\u001b[0m \u001b[0;34m+\u001b[0m \u001b[0moffset\u001b[0m \u001b[0;34m+\u001b[0m \u001b[0mexposure\u001b[0m\u001b[0;34m\u001b[0m\u001b[0;34m\u001b[0m\u001b[0m\n\u001b[0m\u001b[1;32m    873\u001b[0m         \u001b[0;32mif\u001b[0m \u001b[0mlinear\u001b[0m\u001b[0;34m:\u001b[0m\u001b[0;34m\u001b[0m\u001b[0;34m\u001b[0m\u001b[0m\n\u001b[1;32m    874\u001b[0m             \u001b[0;32mreturn\u001b[0m \u001b[0mlinpred\u001b[0m\u001b[0;34m\u001b[0m\u001b[0;34m\u001b[0m\u001b[0m\n",
      "\u001b[0;31mValueError\u001b[0m: shapes (27,12) and (13,) not aligned: 12 (dim 1) != 13 (dim 0)"
     ]
    }
   ],
   "source": [
    "print([glm_model_results.predict(x)],y)"
   ]
  },
  {
   "cell_type": "code",
   "execution_count": 78,
   "metadata": {},
   "outputs": [],
   "source": [
    "df_111_age_year=df_111.groupby(['age_recode_27','current_data_year']).size().reset_index(name=\"Num of death\")"
   ]
  },
  {
   "cell_type": "code",
   "execution_count": 80,
   "metadata": {},
   "outputs": [
    {
     "data": {
      "text/html": [
       "<div>\n",
       "<style scoped>\n",
       "    .dataframe tbody tr th:only-of-type {\n",
       "        vertical-align: middle;\n",
       "    }\n",
       "\n",
       "    .dataframe tbody tr th {\n",
       "        vertical-align: top;\n",
       "    }\n",
       "\n",
       "    .dataframe thead th {\n",
       "        text-align: right;\n",
       "    }\n",
       "</style>\n",
       "<table border=\"1\" class=\"dataframe\">\n",
       "  <thead>\n",
       "    <tr style=\"text-align: right;\">\n",
       "      <th></th>\n",
       "      <th>age_recode_27</th>\n",
       "      <th>current_data_year</th>\n",
       "      <th>Num of death</th>\n",
       "    </tr>\n",
       "  </thead>\n",
       "  <tbody>\n",
       "    <tr>\n",
       "      <th>0</th>\n",
       "      <td>1</td>\n",
       "      <td>2005</td>\n",
       "      <td>227</td>\n",
       "    </tr>\n",
       "    <tr>\n",
       "      <th>1</th>\n",
       "      <td>1</td>\n",
       "      <td>2006</td>\n",
       "      <td>240</td>\n",
       "    </tr>\n",
       "    <tr>\n",
       "      <th>2</th>\n",
       "      <td>1</td>\n",
       "      <td>2007</td>\n",
       "      <td>272</td>\n",
       "    </tr>\n",
       "    <tr>\n",
       "      <th>3</th>\n",
       "      <td>1</td>\n",
       "      <td>2008</td>\n",
       "      <td>236</td>\n",
       "    </tr>\n",
       "    <tr>\n",
       "      <th>4</th>\n",
       "      <td>1</td>\n",
       "      <td>2009</td>\n",
       "      <td>191</td>\n",
       "    </tr>\n",
       "    <tr>\n",
       "      <th>5</th>\n",
       "      <td>1</td>\n",
       "      <td>2010</td>\n",
       "      <td>203</td>\n",
       "    </tr>\n",
       "    <tr>\n",
       "      <th>6</th>\n",
       "      <td>1</td>\n",
       "      <td>2011</td>\n",
       "      <td>219</td>\n",
       "    </tr>\n",
       "    <tr>\n",
       "      <th>7</th>\n",
       "      <td>1</td>\n",
       "      <td>2012</td>\n",
       "      <td>209</td>\n",
       "    </tr>\n",
       "    <tr>\n",
       "      <th>8</th>\n",
       "      <td>1</td>\n",
       "      <td>2013</td>\n",
       "      <td>201</td>\n",
       "    </tr>\n",
       "    <tr>\n",
       "      <th>9</th>\n",
       "      <td>1</td>\n",
       "      <td>2014</td>\n",
       "      <td>214</td>\n",
       "    </tr>\n",
       "    <tr>\n",
       "      <th>10</th>\n",
       "      <td>1</td>\n",
       "      <td>2015</td>\n",
       "      <td>253</td>\n",
       "    </tr>\n",
       "    <tr>\n",
       "      <th>11</th>\n",
       "      <td>2</td>\n",
       "      <td>2005</td>\n",
       "      <td>975</td>\n",
       "    </tr>\n",
       "    <tr>\n",
       "      <th>12</th>\n",
       "      <td>2</td>\n",
       "      <td>2006</td>\n",
       "      <td>941</td>\n",
       "    </tr>\n",
       "    <tr>\n",
       "      <th>13</th>\n",
       "      <td>2</td>\n",
       "      <td>2007</td>\n",
       "      <td>1070</td>\n",
       "    </tr>\n",
       "    <tr>\n",
       "      <th>14</th>\n",
       "      <td>2</td>\n",
       "      <td>2008</td>\n",
       "      <td>1014</td>\n",
       "    </tr>\n",
       "    <tr>\n",
       "      <th>15</th>\n",
       "      <td>2</td>\n",
       "      <td>2009</td>\n",
       "      <td>600</td>\n",
       "    </tr>\n",
       "    <tr>\n",
       "      <th>16</th>\n",
       "      <td>2</td>\n",
       "      <td>2010</td>\n",
       "      <td>554</td>\n",
       "    </tr>\n",
       "    <tr>\n",
       "      <th>17</th>\n",
       "      <td>2</td>\n",
       "      <td>2011</td>\n",
       "      <td>484</td>\n",
       "    </tr>\n",
       "    <tr>\n",
       "      <th>18</th>\n",
       "      <td>2</td>\n",
       "      <td>2012</td>\n",
       "      <td>470</td>\n",
       "    </tr>\n",
       "    <tr>\n",
       "      <th>19</th>\n",
       "      <td>2</td>\n",
       "      <td>2013</td>\n",
       "      <td>497</td>\n",
       "    </tr>\n",
       "  </tbody>\n",
       "</table>\n",
       "</div>"
      ],
      "text/plain": [
       "    age_recode_27  current_data_year  Num of death\n",
       "0               1               2005           227\n",
       "1               1               2006           240\n",
       "2               1               2007           272\n",
       "3               1               2008           236\n",
       "4               1               2009           191\n",
       "5               1               2010           203\n",
       "6               1               2011           219\n",
       "7               1               2012           209\n",
       "8               1               2013           201\n",
       "9               1               2014           214\n",
       "10              1               2015           253\n",
       "11              2               2005           975\n",
       "12              2               2006           941\n",
       "13              2               2007          1070\n",
       "14              2               2008          1014\n",
       "15              2               2009           600\n",
       "16              2               2010           554\n",
       "17              2               2011           484\n",
       "18              2               2012           470\n",
       "19              2               2013           497"
      ]
     },
     "execution_count": 80,
     "metadata": {},
     "output_type": "execute_result"
    }
   ],
   "source": [
    "df_111_age_year.head(20)"
   ]
  },
  {
   "cell_type": "code",
   "execution_count": 84,
   "metadata": {},
   "outputs": [],
   "source": [
    "features={'age_recode_27','current_data_year'}"
   ]
  },
  {
   "cell_type": "code",
   "execution_count": 86,
   "metadata": {},
   "outputs": [
    {
     "name": "stdout",
     "output_type": "stream",
     "text": [
      "                 Generalized Linear Model Regression Results                  \n",
      "==============================================================================\n",
      "Dep. Variable:           Num of death   No. Observations:                  297\n",
      "Model:                            GLM   Df Residuals:                      294\n",
      "Model Family:                Gaussian   Df Model:                            2\n",
      "Link Function:               identity   Scale:                      1.2300e+08\n",
      "Method:                          IRLS   Log-Likelihood:                -3186.1\n",
      "Date:                Sat, 23 Nov 2019   Deviance:                   3.6163e+10\n",
      "Time:                        17:38:02   Pearson chi2:                 3.62e+10\n",
      "No. Iterations:                     3                                         \n",
      "Covariance Type:            nonrobust                                         \n",
      "=====================================================================================\n",
      "                        coef    std err          z      P>|z|      [0.025      0.975]\n",
      "-------------------------------------------------------------------------------------\n",
      "const             -8.419e+05   4.09e+05     -2.058      0.040   -1.64e+06   -4.02e+04\n",
      "age_recode_27      1168.0028     82.624     14.136      0.000    1006.062    1329.943\n",
      "current_data_year   415.7899    203.509      2.043      0.041      16.920     814.660\n",
      "=====================================================================================\n"
     ]
    }
   ],
   "source": [
    "x=df_111_age_year[features]\n",
    "x_pd = sm.add_constant(x)\n",
    "x = sm.add_constant(x)\n",
    "y=df_111_age_year['Num of death']\n",
    "glm_model = sm.GLM(y, x_pd, family=sm.families.Gaussian())\n",
    "glm_model_results = glm_model.fit()\n",
    "print(glm_model_results.summary())"
   ]
  },
  {
   "cell_type": "code",
   "execution_count": null,
   "metadata": {},
   "outputs": [],
   "source": [
    "#df_111.loc[df_111['B'].isin(['one','three'])]"
   ]
  },
  {
   "cell_type": "code",
   "execution_count": null,
   "metadata": {},
   "outputs": [],
   "source": [
    "#df2 = pd.DataFrame(df.groupby('c1').sum().ix[:,1:].sum(axis=1), columns=['c6']).reset_index()\n",
    "#df3 = pd.merge(df,df2,on='c1').set_index(df.index)"
   ]
  },
  {
   "cell_type": "markdown",
   "metadata": {},
   "source": [
    "# Get data ready for Regression Model"
   ]
  },
  {
   "cell_type": "code",
   "execution_count": null,
   "metadata": {},
   "outputs": [],
   "source": [
    "dummies=['39_cause_recode', 'age_recode_12',\n",
    "       'current_data_year', 'education_2003_revision',\n",
    "        'injury_at_work', 'manner_of_death',\n",
    "       'marital_status', 'race_recode_5', 'sex']"
   ]
  },
  {
   "cell_type": "code",
   "execution_count": null,
   "metadata": {},
   "outputs": [],
   "source": [
    "df_model1=pd.get_dummies(df1, columns=dummies)"
   ]
  },
  {
   "cell_type": "code",
   "execution_count": null,
   "metadata": {},
   "outputs": [],
   "source": [
    "df_model1=df_model1 .drop(['113_cause_recode'],axis=1)"
   ]
  },
  {
   "cell_type": "code",
   "execution_count": null,
   "metadata": {},
   "outputs": [],
   "source": [
    "#data frame has dummies\n",
    "df_model1.head(5)"
   ]
  },
  {
   "cell_type": "code",
   "execution_count": null,
   "metadata": {},
   "outputs": [],
   "source": [
    "df_model.columns"
   ]
  },
  {
   "cell_type": "markdown",
   "metadata": {},
   "source": [
    "# Group by only 'age_recode_12' - Single Predictor"
   ]
  },
  {
   "cell_type": "code",
   "execution_count": null,
   "metadata": {},
   "outputs": [],
   "source": [
    "df_trysingle=df_model1.groupby(['age_recode_12_1', 'age_recode_12_2', 'age_recode_12_3',\n",
    "       'age_recode_12_4', 'age_recode_12_5', 'age_recode_12_6',\n",
    "       'age_recode_12_7', 'age_recode_12_8', 'age_recode_12_9',\n",
    "       'age_recode_12_10', 'age_recode_12_11', 'age_recode_12_12']).size().reset_index(name=\"Num of death\")"
   ]
  },
  {
   "cell_type": "code",
   "execution_count": null,
   "metadata": {},
   "outputs": [],
   "source": [
    "df_trysingle.shape"
   ]
  },
  {
   "cell_type": "code",
   "execution_count": null,
   "metadata": {},
   "outputs": [],
   "source": [
    "df_trysingle.head(15)"
   ]
  },
  {
   "cell_type": "code",
   "execution_count": null,
   "metadata": {},
   "outputs": [],
   "source": [
    "plt.scatter(bikes['weathersit'], bikes['cnt'])\n",
    "plt.title('Scatter plot')\n",
    "plt.show()"
   ]
  },
  {
   "cell_type": "code",
   "execution_count": null,
   "metadata": {},
   "outputs": [],
   "source": [
    "import matplotlib.pyplot as plt\n",
    "age=df1['age_recode_12']"
   ]
  },
  {
   "cell_type": "code",
   "execution_count": null,
   "metadata": {},
   "outputs": [],
   "source": [
    "binblock=np.arange(0, 13,.5)\n",
    "plt.hist(age, bins = binblock, rwidth=1)\n",
    "plt.title(\"histogram for num of death\")\n",
    "plt.show()"
   ]
  },
  {
   "cell_type": "code",
   "execution_count": null,
   "metadata": {},
   "outputs": [],
   "source": [
    "#try single predictor - 'age_recode_12'\n",
    "#df_single\n",
    "#Poisson Distribution\n",
    "#not dummies\n",
    "x=df_trysingle['age_recode_12']\n",
    "x_pd = sm.add_constant(x)\n",
    "x = sm.add_constant(x_pd)\n",
    "y=df_trysingle['Num of death']\n",
    "glm_model = sm.GLM(y, x_pd, family=sm.families.Poisson())\n",
    "glm_model_results = glm_model.fit()\n",
    "print(glm_model_results.summary())"
   ]
  },
  {
   "cell_type": "code",
   "execution_count": null,
   "metadata": {},
   "outputs": [],
   "source": [
    "#try single predictor - 'age_recode_12'\n",
    "#df_single\n",
    "#Poisson Distribution\n",
    "#not dummies\n",
    "x=df_trysingle['age_recode_12']\n",
    "x_pd = sm.add_constant(x)\n",
    "x = sm.add_constant(x_pd)\n",
    "y=df_trysingle['Num of death']\n",
    "glm_model = sm.GLM(y, x_pd, family=sm.families.Gaussion())\n",
    "glm_model_results = glm_model.fit()\n",
    "print(glm_model_results.summary())"
   ]
  },
  {
   "cell_type": "code",
   "execution_count": null,
   "metadata": {},
   "outputs": [],
   "source": [
    "import statsmodels.api as sm"
   ]
  },
  {
   "cell_type": "code",
   "execution_count": null,
   "metadata": {},
   "outputs": [],
   "source": [
    "age_dummy=['age_recode_12_1', 'age_recode_12_2', 'age_recode_12_3',\n",
    "       'age_recode_12_4', 'age_recode_12_5', 'age_recode_12_6',\n",
    "       'age_recode_12_7', 'age_recode_12_8', 'age_recode_12_9',\n",
    "       'age_recode_12_10', 'age_recode_12_11', 'age_recode_12_12']\n",
    "x=df_trysingle[age_dummy]\n",
    "x_pd = sm.add_constant(x)\n",
    "x = sm.add_constant(x_pd)\n",
    "y=df_trysingle['Num of death']\n",
    "glm_model = sm.GLM(y, x_pd, family=sm.families.Poisson())\n",
    "glm_model_results = glm_model.fit()\n",
    "print(glm_model_results.summary())"
   ]
  },
  {
   "cell_type": "code",
   "execution_count": null,
   "metadata": {},
   "outputs": [],
   "source": [
    "print([glm_model_results.predict(x_pd), y])"
   ]
  },
  {
   "cell_type": "markdown",
   "metadata": {},
   "source": [
    "# Group by age, year, education, manner of death, race,sex,marital status, injury at work - single predictor"
   ]
  },
  {
   "cell_type": "code",
   "execution_count": null,
   "metadata": {},
   "outputs": [],
   "source": [
    "df_model.columns"
   ]
  },
  {
   "cell_type": "code",
   "execution_count": null,
   "metadata": {},
   "outputs": [],
   "source": [
    "df_model['113_cause_recode'].unique()"
   ]
  },
  {
   "cell_type": "code",
   "execution_count": null,
   "metadata": {},
   "outputs": [],
   "source": [
    "features=[ 'age_recode_12', \n",
    "       'current_data_year', 'education_2003_revision', 'manner_of_death',\n",
    "       'race_recode_5', 'sex_F', 'sex_M', 'marital_status_D',\n",
    "       'marital_status_M', 'marital_status_S', 'marital_status_U',\n",
    "       'marital_status_W', 'injury_at_work_N', 'injury_at_work_U',\n",
    "       'injury_at_work_Y']"
   ]
  },
  {
   "cell_type": "code",
   "execution_count": null,
   "metadata": {},
   "outputs": [],
   "source": [
    "df_trygroup=df_model.groupby(features).size().reset_index(name=\"Num of death\")"
   ]
  },
  {
   "cell_type": "code",
   "execution_count": null,
   "metadata": {},
   "outputs": [],
   "source": [
    "df_trygroup.head(10)"
   ]
  },
  {
   "cell_type": "code",
   "execution_count": null,
   "metadata": {},
   "outputs": [],
   "source": [
    "df_trygroup.columns"
   ]
  },
  {
   "cell_type": "code",
   "execution_count": null,
   "metadata": {},
   "outputs": [],
   "source": [
    "import statsmodels.api as sm\n",
    "from sklearn.linear_model import LinearRegression"
   ]
  },
  {
   "cell_type": "code",
   "execution_count": null,
   "metadata": {},
   "outputs": [],
   "source": [
    "#try single predictor - 'age_recode_12'\n",
    "#df_trygroup "
   ]
  },
  {
   "cell_type": "code",
   "execution_count": null,
   "metadata": {},
   "outputs": [],
   "source": [
    "#try single predictor - 'age_recode_12'\n",
    "#df_trygroup \n",
    "#GLM-Poisson Distribution\n",
    "x=df_trygroup['age_recode_12']\n",
    "x_pd = sm.add_constant(x)\n",
    "x = sm.add_constant(x_pd)\n",
    "y=df_trygroup['Num of death']\n",
    "glm_model = sm.GLM(y, x_pd, family=sm.families.Poisson())\n",
    "glm_model_results = glm_model.fit()\n",
    "print(glm_model_results.summary())"
   ]
  },
  {
   "cell_type": "markdown",
   "metadata": {},
   "source": [
    "# Group by age, year, education, manner of death, race,sex,marital status, injury at work - Multiple predictors"
   ]
  },
  {
   "cell_type": "code",
   "execution_count": null,
   "metadata": {},
   "outputs": [],
   "source": [
    "#dummies\n",
    "all_features=['39_cause_recode_1', '39_cause_recode_2', '39_cause_recode_3',\n",
    "       '39_cause_recode_5', '39_cause_recode_6', '39_cause_recode_7',\n",
    "       '39_cause_recode_8', '39_cause_recode_9', '39_cause_recode_10',\n",
    "       '39_cause_recode_11', '39_cause_recode_12', '39_cause_recode_13',\n",
    "       '39_cause_recode_14', '39_cause_recode_15', '39_cause_recode_16',\n",
    "       '39_cause_recode_17', '39_cause_recode_20', '39_cause_recode_21',\n",
    "       '39_cause_recode_22', '39_cause_recode_23', '39_cause_recode_24',\n",
    "       '39_cause_recode_25', '39_cause_recode_26', '39_cause_recode_27',\n",
    "       '39_cause_recode_28', '39_cause_recode_29', '39_cause_recode_30',\n",
    "       '39_cause_recode_31', '39_cause_recode_32', '39_cause_recode_33',\n",
    "       '39_cause_recode_34', '39_cause_recode_35', '39_cause_recode_36',\n",
    "       '39_cause_recode_37', '39_cause_recode_38', '39_cause_recode_39',\n",
    "       '39_cause_recode_40', '39_cause_recode_41', '39_cause_recode_42',\n",
    "       'age_recode_12_1', 'age_recode_12_2', 'age_recode_12_3',\n",
    "       'age_recode_12_4', 'age_recode_12_5', 'age_recode_12_6',\n",
    "       'age_recode_12_7', 'age_recode_12_8', 'age_recode_12_9',\n",
    "       'age_recode_12_10', 'age_recode_12_11', 'age_recode_12_12',\n",
    "       'current_data_year_2005', 'current_data_year_2006',\n",
    "       'current_data_year_2009', 'current_data_year_2010',\n",
    "       'current_data_year_2011', 'current_data_year_2012',\n",
    "       'current_data_year_2013', 'current_data_year_2014',\n",
    "       'current_data_year_2015', 'education_2003_revision_1.0',\n",
    "       'education_2003_revision_2.0', 'education_2003_revision_3.0',\n",
    "       'education_2003_revision_4.0', 'education_2003_revision_5.0',\n",
    "       'education_2003_revision_6.0', 'education_2003_revision_7.0',\n",
    "       'education_2003_revision_8.0', 'education_2003_revision_9.0',\n",
    "       'injury_at_work_N', 'injury_at_work_U', 'injury_at_work_Y',\n",
    "       'manner_of_death_1.0', 'manner_of_death_2.0', 'manner_of_death_3.0',\n",
    "       'manner_of_death_4.0', 'manner_of_death_5.0', 'manner_of_death_7.0',\n",
    "       'marital_status_D', 'marital_status_M', 'marital_status_S',\n",
    "       'marital_status_U', 'marital_status_W', 'race_recode_5_1',\n",
    "       'race_recode_5_2', 'race_recode_5_3', 'race_recode_5_4', 'sex_F',\n",
    "       'sex_M']"
   ]
  },
  {
   "cell_type": "code",
   "execution_count": null,
   "metadata": {},
   "outputs": [],
   "source": [
    "df_multidum=df_model1.groupby(all_features).size().reset_index(name=\"Num of death\")"
   ]
  },
  {
   "cell_type": "code",
   "execution_count": null,
   "metadata": {},
   "outputs": [],
   "source": [
    "df_multidum.head(10)"
   ]
  },
  {
   "cell_type": "code",
   "execution_count": null,
   "metadata": {},
   "outputs": [],
   "source": [
    "#have dummies\n",
    "x=df_multidum[all_features]\n",
    "y=df_multidum['Num of death']\n",
    "glm_model = sm.GLM(y, x, family=sm.families.Poisson())\n",
    "glm_model_results = glm_model.fit()\n",
    "print(glm_model_results.summary())"
   ]
  },
  {
   "cell_type": "code",
   "execution_count": null,
   "metadata": {},
   "outputs": [],
   "source": []
  },
  {
   "cell_type": "code",
   "execution_count": null,
   "metadata": {},
   "outputs": [],
   "source": [
    "#try multiple predictors\n",
    "#Gaussian Distribution\n",
    "X=sm.add_constant(df_trygroup[features])\n",
    "y=df_trygroup['Num of death']\n",
    "glm_model = sm.GLM(y, X, family=sm.families.Gaussian())\n",
    "glm_model_results = glm_model.fit()\n",
    "print(glm_model_results.summary())"
   ]
  },
  {
   "cell_type": "code",
   "execution_count": null,
   "metadata": {},
   "outputs": [],
   "source": [
    "#try multiple predictors\n",
    "#Poisson Distribution\n",
    "X=sm.add_constant(df_trygroup[features])\n",
    "y=df_trygroup['Num of death']\n",
    "glm_model = sm.GLM(y, X, family=sm.families.Poisson())\n",
    "glm_model_results = glm_model.fit()\n",
    "print(glm_model_results.summary())"
   ]
  },
  {
   "cell_type": "markdown",
   "metadata": {},
   "source": [
    "# Look at variable significance through visualisations"
   ]
  },
  {
   "cell_type": "code",
   "execution_count": null,
   "metadata": {},
   "outputs": [],
   "source": [
    "df1.head(5)"
   ]
  },
  {
   "cell_type": "code",
   "execution_count": null,
   "metadata": {},
   "outputs": [],
   "source": [
    "features1=['age_recode_12','current_data_year','education_2003_revision']"
   ]
  },
  {
   "cell_type": "code",
   "execution_count": null,
   "metadata": {},
   "outputs": [],
   "source": [
    "df_nondum=df1.groupby(features1).size().reset_index(name=\"Num of death\")"
   ]
  },
  {
   "cell_type": "code",
   "execution_count": null,
   "metadata": {},
   "outputs": [],
   "source": [
    "df_nondum"
   ]
  },
  {
   "cell_type": "code",
   "execution_count": null,
   "metadata": {},
   "outputs": [],
   "source": [
    "import matplotlib.pyplot as plt\n",
    "plt.scatter(df_nondum['age_recode_12'], df_nondum['Num of death'])\n",
    "plt.title('Scatter plot')\n",
    "plt.show()"
   ]
  },
  {
   "cell_type": "code",
   "execution_count": null,
   "metadata": {},
   "outputs": [],
   "source": [
    "df_age=df1.groupby('age_recode_12').size().reset_index(name=\"Num of death\")"
   ]
  },
  {
   "cell_type": "code",
   "execution_count": null,
   "metadata": {},
   "outputs": [],
   "source": [
    "df_age.head(13)"
   ]
  },
  {
   "cell_type": "code",
   "execution_count": null,
   "metadata": {},
   "outputs": [],
   "source": [
    "plt.scatter(df_age['age_recode_12'], df_age['Num of death'])\n",
    "plt.title('Scatter plot')\n",
    "plt.show()"
   ]
  },
  {
   "cell_type": "code",
   "execution_count": null,
   "metadata": {},
   "outputs": [],
   "source": [
    "from sklearn.linear_model import LinearRegression\n",
    "x=df_multidum['age']\n",
    "y=df_multidum['Num of death']\n",
    "reg = LinearRegression().fit(x, y)\n",
    "print (\"beta0 is\", reg.intercept_[0])\n",
    "print (\"beta1 is\",reg.coef_[0][0])"
   ]
  },
  {
   "cell_type": "code",
   "execution_count": null,
   "metadata": {},
   "outputs": [],
   "source": [
    "df.to_csv('df.csv')"
   ]
  },
  {
   "cell_type": "code",
   "execution_count": null,
   "metadata": {},
   "outputs": [],
   "source": []
  }
 ],
 "metadata": {
  "kernelspec": {
   "display_name": "Python 3.6 (tensorflow)",
   "language": "python",
   "name": "tensorflow"
  },
  "language_info": {
   "codemirror_mode": {
    "name": "ipython",
    "version": 3
   },
   "file_extension": ".py",
   "mimetype": "text/x-python",
   "name": "python",
   "nbconvert_exporter": "python",
   "pygments_lexer": "ipython3",
   "version": "3.6.9"
  }
 },
 "nbformat": 4,
 "nbformat_minor": 2
}
