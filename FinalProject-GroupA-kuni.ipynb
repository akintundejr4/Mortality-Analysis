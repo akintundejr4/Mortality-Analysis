{
 "cells": [
  {
   "cell_type": "code",
   "execution_count": 3,
   "metadata": {},
   "outputs": [],
   "source": [
    "import sys\n",
    "import warnings\n",
    "import numpy as np\n",
    "import pandas as pd\n",
    "from numpy import genfromtxt\n",
    "#from tabulate import tabulate\n",
    "import numpy.linalg as linalg\n",
    "import matplotlib.pyplot as plt\n",
    "#from prettytable import PrettyTable\n",
    "from sklearn.linear_model import LinearRegression\n",
    "from sklearn.linear_model import LogisticRegression"
   ]
  },
  {
   "cell_type": "code",
   "execution_count": 4,
   "metadata": {},
   "outputs": [],
   "source": [
    "# Getting rid of annoying warning. \n",
    "warnings.filterwarnings('ignore')\n",
    "\n",
    "# Segun - 358_cause_recode\n",
    "# Kuni - 113_cause_recode\n",
    "# Gotham - 130_infact_cause_recode\n",
    "# Lukia - 39_cause_recode\n",
    "\n",
    "# Importing Professor Provided data. \n",
    "#medical_transcriptons_data = genfromtxt('./data-from-canvas/medicaltranscriptions.csv', delimiter=',', skip_header=1)\n",
    "\n",
    "# Importing CDC data. Make sure you have the files in the right folder on your machine.\n",
    "data_2005 = pd.read_csv( './mortality-data/2005_data.csv', na_values=['NA','?'])\n",
    "#data_2006 = pd.read_csv( './mortality-data/2006_data.csv', na_values=['NA','?'])\n",
    "#data_2007 = pd.read_csv( './mortality-data/2007_data.csv', na_values=['NA','?'])\n",
    "#data_2008 = pd.read_csv( './mortality-data/2008_data.csv', na_values=['NA','?'])\n",
    "#data_2009 = pd.read_csv( './mortality-data/2009_data.csv', na_values=['NA','?'])\n",
    "#data_2010 = pd.read_csv( './mortality-data/2010_data.csv', na_values=['NA','?'])\n",
    "#data_2011 = pd.read_csv( './mortality-data/2011_data.csv', na_values=['NA','?'])\n",
    "#data_2012 = pd.read_csv( './mortality-data/2012_data.csv', na_values=['NA','?'])\n",
    "#data_2013 = pd.read_csv( './mortality-data/2013_data.csv', na_values=['NA','?'])\n",
    "#data_2014 = pd.read_csv( './mortality-data/2014_data.csv', na_values=['NA','?'])\n",
    "#data_2015 = pd.read_csv( './mortality-data/2015_data.csv', na_values=['NA','?'])"
   ]
  },
  {
   "cell_type": "code",
   "execution_count": 6,
   "metadata": {},
   "outputs": [
    {
     "data": {
      "image/png": "[encoded data removed]",
      "text/plain": [
       "<Figure size 1152x288 with 1 Axes>"
      ]
     },
     "metadata": {
      "needs_background": "light"
     },
     "output_type": "display_data"
    }
   ],
   "source": [
    "# histgram of 113_cause_recode\n",
    "#df1 = data_2005[['113_cause_recode']]\n",
    "h1= data_2005.plot( y=['113_cause_recode'], bins=135, alpha=0.5, figsize=(16,4), kind='hist')"
   ]
  },
  {
   "cell_type": "code",
   "execution_count": 43,
   "metadata": {},
   "outputs": [],
   "source": [
    "# data info of df1\n",
    "#print(type(df1)) -- class 'pandas.core.frame.DataFrame'>\n",
    "#print(df1[0:10])\n",
    "#print(df1.ndim) -- 2\n",
    "#print(df1.shape)# -- (2452506, 1)"
   ]
  },
  {
   "cell_type": "code",
   "execution_count": 7,
   "metadata": {},
   "outputs": [
    {
     "name": "stdout",
     "output_type": "stream",
     "text": [
      "63     228656\n",
      "111    217898\n",
      "27     159405\n",
      "59     151312\n",
      "70     143789\n",
      "86     112239\n",
      "68     109736\n",
      "46      75207\n",
      "52      71611\n",
      "62      63082\n",
      "43      62926\n",
      "78      61285\n",
      "67      58962\n",
      "23      53315\n",
      "114     45711\n",
      "100     42909\n",
      "29      41546\n",
      "10      34190\n",
      "25      32793\n",
      "110     32162\n",
      "56      29363\n",
      "33      28923\n",
      "89      27085\n",
      "69      24926\n",
      "122     23705\n",
      "40      21679\n",
      "39      20909\n",
      "118     19713\n",
      "51      19550\n",
      "123     18794\n",
      "88      17289\n",
      "125     17013\n",
      "24      16116\n",
      "126     15695\n",
      "32      14800\n",
      "95      14630\n",
      "108     14577\n",
      "84      14017\n",
      "73      13905\n",
      "44      13729\n",
      "21      13516\n",
      "35      13257\n",
      "36      13175\n",
      "94      12959\n",
      "16      12597\n",
      "34      12530\n",
      "128     12402\n",
      "71      11848\n",
      "22      11545\n",
      "41      11215\n",
      "109     10457\n",
      "74       9789\n",
      "28       8354\n",
      "20       7783\n",
      "18       7750\n",
      "31       7104\n",
      "129      5813\n",
      "3        5672\n",
      "15       5556\n",
      "75       4825\n",
      "45       4631\n",
      "133      4556\n",
      "30       3933\n",
      "85       3891\n",
      "26       3802\n",
      "120      3670\n",
      "60       3573\n",
      "90       3488\n",
      "55       3368\n",
      "121      3209\n",
      "57       3175\n",
      "96       3081\n",
      "48       3007\n",
      "135      2659\n",
      "116      1892\n",
      "77       1813\n",
      "92       1641\n",
      "38       1276\n",
      "115      1257\n",
      "65       1210\n",
      "87       1007\n",
      "99        868\n",
      "83        866\n",
      "66        864\n",
      "119       789\n",
      "102       768\n",
      "107       733\n",
      "50        672\n",
      "103       525\n",
      "5         485\n",
      "91        440\n",
      "130       417\n",
      "80        283\n",
      "132       222\n",
      "49        180\n",
      "6         168\n",
      "98        138\n",
      "9         124\n",
      "81        121\n",
      "104       120\n",
      "42         60\n",
      "11         47\n",
      "106        34\n",
      "7          31\n",
      "1          30\n",
      "101        29\n",
      "134        27\n",
      "2          10\n",
      "17          7\n",
      "13          6\n",
      "8           3\n",
      "14          1\n",
      "Name: 113_cause_recode, dtype: int64\n"
     ]
    }
   ],
   "source": [
    "# Display Frequency\n",
    "#https://note.nkmk.me/python-pandas-value-counts/ -- Japanese web site\n",
    "#u = data_2005['113_cause_recode'].unique() : Unique values\n",
    "#print(u)\n",
    "#[ 28  84  70  46  27  86  43 110  23  89 123 133  62 125  44 111  22  24\n",
    "# 100  68 126  78  15  52  25  29  73 109  95  63  32  69  67  21 102   3\n",
    "# 33  20 118  59 116  94  39 108 122  56 121 128  51  55  10  48  74 114\n",
    "#  18   6  40  45  31 129  16  35  77  34  36  41  85   9 120  57  30  60\n",
    "#   5 135 101  26  71  65  88  50  75  90  99  96 115 132  66   7 119  38\n",
    "#  98  87  81  80  92  91  49  83 107 104 103 130   1  42 134   2 106   8\n",
    "#  17  11  13  14]\n",
    "#print(len(u)) -- 112\n",
    "pd.set_option('display.max_rows', 200)\n",
    "frq = data_2005['113_cause_recode'].value_counts()\n",
    "print(frq)"
   ]
  },
  {
   "cell_type": "code",
   "execution_count": null,
   "metadata": {},
   "outputs": [],
   "source": [
    "# From above results, the top 5 of '113_cause_recode' in 2005 data are\n",
    "# 1st:  63 : 228656 --- All other forms of chronic ischemic heart disease (I20,I25.1-I25.9)\n",
    "# 2nd 111 : 217898 --- All other diseases (Residual) (D65-E07,E15-E34,E65-F99,G04-G12,G23-G25,G31-H93, K00-K22,K29-K31,K50-K66,K71-K72,K75-K76,K83-M99, N13.0-N13.5,N13.7-N13.9, N14,N15.0,N15.8-N15.9,N20-N23,N28-N39,N41-N64,N80-N98)\n",
    "# 3rd 27 : 159405 --- Malignant neoplasms of trachea, bronchus and lung (C33-C34)\n",
    "# 4th 59 : 151312 --- Acute myocardial infarction (I21-I22)\n",
    "# 5th 70 : 143789 --- Cerebrovascular diseases (I60-I69)\n",
    "# 6th 86 : 112239\n",
    "# 7th 68 : 109736\n",
    "# 8th 46 :  75207\n",
    "# 9th 52 :  71611\n",
    "# 10th 62 : 63082"
   ]
  },
  {
   "cell_type": "code",
   "execution_count": 25,
   "metadata": {},
   "outputs": [
    {
     "name": "stdout",
     "output_type": "stream",
     "text": [
      "111    238526\n",
      "63     210552\n",
      "27     158889\n",
      "70     136193\n",
      "59     133255\n",
      "68     114258\n",
      "86     111098\n",
      "52      74648\n",
      "46      71459\n",
      "43      63292\n",
      "62      59336\n",
      "67      56597\n",
      "23      53648\n",
      "78      52370\n",
      "114     44299\n",
      "100     43307\n",
      "29      41018\n",
      "10      34893\n",
      "25      34148\n",
      "110     33660\n",
      "56      30882\n",
      "122     29932\n",
      "33      29120\n",
      "89      28544\n",
      "69      23992\n",
      "118     22680\n",
      "40      21884\n",
      "39      20560\n",
      "51      20065\n",
      "125     17374\n",
      "126     17317\n",
      "123     17240\n",
      "24      17186\n",
      "88      17002\n",
      "95      14800\n",
      "108     14650\n",
      "32      14636\n",
      "94      14453\n",
      "44      14227\n",
      "35      13857\n",
      "21      13601\n",
      "36      13255\n",
      "73      13028\n",
      "84      12800\n",
      "34      12716\n",
      "128     12698\n",
      "22      11407\n",
      "41      11335\n",
      "16      11332\n",
      "109     10459\n",
      "74       8963\n",
      "28       8468\n",
      "71       8239\n",
      "20       8078\n",
      "31       7466\n",
      "15       7445\n",
      "3        6761\n",
      "18       5846\n",
      "129      5791\n",
      "133      5139\n",
      "45       4835\n",
      "75       4117\n",
      "60       4097\n",
      "30       4033\n",
      "26       3639\n",
      "120      3547\n",
      "85       3455\n",
      "121      3303\n",
      "96       3241\n",
      "55       3205\n",
      "90       3055\n",
      "57       2988\n",
      "99       2961\n",
      "48       2647\n",
      "135      2600\n",
      "116      1846\n",
      "92       1701\n",
      "38       1273\n",
      "65       1229\n",
      "115      1110\n",
      "87        915\n",
      "66        871\n",
      "107       740\n",
      "83        668\n",
      "50        659\n",
      "102       630\n",
      "119       615\n",
      "103       491\n",
      "5         429\n",
      "91        428\n",
      "130       414\n",
      "77        413\n",
      "132       277\n",
      "80        215\n",
      "49        208\n",
      "98        206\n",
      "6         132\n",
      "104       116\n",
      "9          87\n",
      "42         60\n",
      "11         42\n",
      "81         42\n",
      "106        32\n",
      "1          30\n",
      "134        22\n",
      "101        21\n",
      "7           9\n",
      "17          5\n",
      "2           4\n",
      "13          3\n",
      "8           3\n",
      "Name: 113_cause_recode, dtype: int64\n"
     ]
    }
   ],
   "source": [
    "# data 2007\n",
    "data_2007 = pd.read_csv( './mortality-data/2007_data.csv', na_values=['NA','?'])\n",
    "pd.set_option('display.max_rows', 200)\n",
    "frq = data_2007['113_cause_recode'].value_counts()\n",
    "print(frq)"
   ]
  },
  {
   "cell_type": "code",
   "execution_count": null,
   "metadata": {},
   "outputs": [],
   "source": [
    " #From above results, the top 10 of '113_cause_recode' in 2007 data are\n",
    "# 1st - 111    238526 \n",
    "# 2nd -  63     210552\n",
    "# 3rd - 27     158889\n",
    "# 4th - 70     136193\n",
    "# 5th - 59     133255\n",
    "# 6th - 68     114258\n",
    "# 7th - 86     111098\n",
    "# 8th - 52      74648\n",
    "# 9th - 46      71459\n",
    "# 10th - 43      63292"
   ]
  },
  {
   "cell_type": "code",
   "execution_count": 26,
   "metadata": {},
   "outputs": [
    {
     "name": "stdout",
     "output_type": "stream",
     "text": [
      "111    253115\n",
      "63     200067\n",
      "27     158269\n",
      "70     129037\n",
      "59     125700\n",
      "86     122502\n",
      "68     115547\n",
      "52      79018\n",
      "46      68776\n",
      "43      64323\n",
      "62      57291\n",
      "67      56435\n",
      "23      52444\n",
      "78      50851\n",
      "100     43862\n",
      "29      41116\n",
      "110     40024\n",
      "114     36473\n",
      "10      35694\n",
      "25      35663\n",
      "56      33254\n",
      "122     31858\n",
      "89      30568\n",
      "33      28115\n",
      "69      25763\n",
      "118     24855\n",
      "40      22653\n",
      "51      20569\n",
      "39      20421\n",
      "24      19393\n",
      "125     18749\n",
      "126     18257\n",
      "88      15955\n",
      "123     15802\n",
      "95      15403\n",
      "94      15224\n",
      "44      14627\n",
      "32      14449\n",
      "35      14211\n",
      "36      14189\n",
      "21      13922\n",
      "108     13150\n",
      "34      13006\n",
      "128     11537\n",
      "22      11208\n",
      "41      11107\n",
      "84      10887\n",
      "73      10635\n",
      "3       10257\n",
      "109      9925\n",
      "16       9444\n",
      "28       9206\n",
      "74       8666\n",
      "20       7936\n",
      "31       7723\n",
      "15       7716\n",
      "71       7380\n",
      "18       5860\n",
      "129      5348\n",
      "99       4911\n",
      "133      4814\n",
      "45       4697\n",
      "75       4130\n",
      "60       4007\n",
      "30       3916\n",
      "26       3633\n",
      "120      3608\n",
      "85       3391\n",
      "96       3304\n",
      "55       3239\n",
      "90       2965\n",
      "77       2928\n",
      "57       2874\n",
      "121      2777\n",
      "48       2683\n",
      "135      2623\n",
      "116      1822\n",
      "92       1804\n",
      "38       1254\n",
      "65       1170\n",
      "115      1042\n",
      "107       926\n",
      "66        851\n",
      "87        841\n",
      "50        651\n",
      "83        639\n",
      "102       605\n",
      "119       555\n",
      "103       446\n",
      "91        426\n",
      "5         411\n",
      "130       400\n",
      "80        235\n",
      "132       232\n",
      "49        170\n",
      "98        159\n",
      "104       134\n",
      "6         126\n",
      "9         100\n",
      "42         69\n",
      "81         38\n",
      "106        34\n",
      "11         34\n",
      "101        27\n",
      "1          26\n",
      "134        25\n",
      "7          15\n",
      "8           5\n",
      "2           4\n",
      "17          4\n",
      "13          2\n",
      "14          2\n",
      "Name: 113_cause_recode, dtype: int64\n"
     ]
    }
   ],
   "source": [
    "# data 2009\n",
    "data_2009 = pd.read_csv( './mortality-data/2009_data.csv', na_values=['NA','?'])\n",
    "pd.set_option('display.max_rows', 200)\n",
    "frq = data_2009['113_cause_recode'].value_counts()\n",
    "print(frq)"
   ]
  },
  {
   "cell_type": "code",
   "execution_count": 28,
   "metadata": {},
   "outputs": [
    {
     "name": "stdout",
     "output_type": "stream",
     "text": [
      "111    270110\n",
      "63     196116\n",
      "27     158425\n",
      "70     129683\n",
      "86     124083\n",
      "59     122281\n",
      "68     119175\n",
      "52      83510\n",
      "46      69154\n",
      "43      64897\n",
      "67      57778\n",
      "62      57720\n",
      "23      52677\n",
      "78      49660\n",
      "100     44388\n",
      "29      41477\n",
      "110     38613\n",
      "25      36926\n",
      "114     35590\n",
      "10      34865\n",
      "56      33797\n",
      "122     33141\n",
      "89      31233\n",
      "33      28596\n",
      "69      26666\n",
      "118     26080\n",
      "40      22623\n",
      "51      22035\n",
      "24      20342\n",
      "39      20322\n",
      "125     19408\n",
      "126     19033\n",
      "88      17021\n",
      "123     16892\n",
      "94      16026\n",
      "95      15945\n",
      "44      14945\n",
      "35      14743\n",
      "32      14584\n",
      "21      14506\n",
      "36      14184\n",
      "34      13228\n",
      "108     12156\n",
      "41      11439\n",
      "22      11415\n",
      "128     11113\n",
      "73      10464\n",
      "3       10290\n",
      "84      10048\n",
      "109      9696\n",
      "28       9166\n",
      "74       8765\n",
      "20       8484\n",
      "31       8413\n",
      "16       8406\n",
      "15       7579\n",
      "71       7233\n",
      "99       5900\n",
      "18       5820\n",
      "129      5199\n",
      "45       4864\n",
      "133      4681\n",
      "75       4260\n",
      "60       4180\n",
      "30       3944\n",
      "120      3862\n",
      "26       3695\n",
      "85       3412\n",
      "96       3337\n",
      "55       2989\n",
      "90       2983\n",
      "57       2811\n",
      "121      2793\n",
      "48       2790\n",
      "135      2496\n",
      "92       1834\n",
      "116      1624\n",
      "38       1234\n",
      "65       1106\n",
      "115      1043\n",
      "87        845\n",
      "107       792\n",
      "66        776\n",
      "83        621\n",
      "50        610\n",
      "102       609\n",
      "119       608\n",
      "77        501\n",
      "103       489\n",
      "5         428\n",
      "91        415\n",
      "130       414\n",
      "132       253\n",
      "98        203\n",
      "80        177\n",
      "49        158\n",
      "6         147\n",
      "104       137\n",
      "9          80\n",
      "42         68\n",
      "106        37\n",
      "81         36\n",
      "1          28\n",
      "11         28\n",
      "7          26\n",
      "101        17\n",
      "17         11\n",
      "13          9\n",
      "134         9\n",
      "8           3\n",
      "2           3\n",
      "14          2\n",
      "Name: 113_cause_recode, dtype: int64\n"
     ]
    }
   ],
   "source": [
    "# data 2010\n",
    "data_2010 = pd.read_csv( './mortality-data/2010_data.csv', na_values=['NA','?'])\n",
    "pd.set_option('display.max_rows', 200)\n",
    "frq = data_2010['113_cause_recode'].value_counts()\n",
    "print(frq)"
   ]
  },
  {
   "cell_type": "code",
   "execution_count": 29,
   "metadata": {},
   "outputs": [
    {
     "name": "stdout",
     "output_type": "stream",
     "text": [
      "111    305506\n",
      "63     190869\n",
      "27     157647\n",
      "86     130920\n",
      "70     128766\n",
      "68     123986\n",
      "59     118169\n",
      "52      83653\n",
      "46      74010\n",
      "43      66501\n",
      "67      60360\n",
      "62      59478\n",
      "23      52078\n",
      "78      49608\n",
      "100     45035\n",
      "110     42334\n",
      "29      41612\n",
      "25      38846\n",
      "114     36679\n",
      "122     36473\n",
      "10      35890\n",
      "56      35203\n",
      "89      33325\n",
      "69      29137\n",
      "118     28815\n",
      "33      27273\n",
      "51      23827\n",
      "40      23227\n",
      "24      23019\n",
      "125     20682\n",
      "39      20416\n",
      "126     20003\n",
      "88      17913\n",
      "95      17593\n",
      "94      17461\n",
      "123     17306\n",
      "36      15293\n",
      "35      15258\n",
      "44      15083\n",
      "21      14665\n",
      "32      14423\n",
      "34      13533\n",
      "41      12245\n",
      "108     11968\n",
      "128     11667\n",
      "22      11209\n",
      "3       10632\n",
      "73       9832\n",
      "109      9665\n",
      "28       9258\n",
      "20       8930\n",
      "31       8927\n",
      "74       8885\n",
      "84       8493\n",
      "15       8089\n",
      "16       7246\n",
      "71       6950\n",
      "18       5976\n",
      "45       5203\n",
      "129      5104\n",
      "133      4517\n",
      "75       4456\n",
      "30       4078\n",
      "57       3930\n",
      "60       3807\n",
      "26       3666\n",
      "120      3651\n",
      "85       3536\n",
      "96       3324\n",
      "55       3099\n",
      "48       3017\n",
      "90       2900\n",
      "135      2605\n",
      "121      2473\n",
      "92       1912\n",
      "116      1664\n",
      "65       1217\n",
      "38       1132\n",
      "77       1106\n",
      "115      1006\n",
      "107       976\n",
      "66        808\n",
      "87        765\n",
      "83        617\n",
      "102       616\n",
      "50        552\n",
      "130       551\n",
      "119       548\n",
      "103       519\n",
      "91        384\n",
      "5         381\n",
      "98        359\n",
      "132       261\n",
      "99        255\n",
      "80        201\n",
      "49        181\n",
      "6         138\n",
      "104       123\n",
      "42         84\n",
      "9          76\n",
      "1          44\n",
      "81         38\n",
      "11         37\n",
      "101        22\n",
      "134        18\n",
      "106        17\n",
      "7          17\n",
      "2           8\n",
      "17          7\n",
      "13          5\n",
      "8           4\n",
      "14          2\n",
      "Name: 113_cause_recode, dtype: int64\n"
     ]
    }
   ],
   "source": [
    "# data 2012\n",
    "data_2012 = pd.read_csv( './mortality-data/2012_data.csv', na_values=['NA','?'])\n",
    "pd.set_option('display.max_rows', 200)\n",
    "frq = data_2012['113_cause_recode'].value_counts()\n",
    "print(frq)"
   ]
  },
  {
   "cell_type": "code",
   "execution_count": 30,
   "metadata": {},
   "outputs": [
    {
     "name": "stdout",
     "output_type": "stream",
     "text": [
      "111    320369\n",
      "63     190265\n",
      "27     156369\n",
      "86     136700\n",
      "68     129402\n",
      "70     129194\n",
      "59     117021\n",
      "52      84782\n",
      "46      75663\n",
      "43      66767\n",
      "67      65160\n",
      "62      59780\n",
      "78      53340\n",
      "23      52305\n",
      "100     46463\n",
      "29      41371\n",
      "25      39033\n",
      "122     38997\n",
      "10      38209\n",
      "110     38021\n",
      "56      37253\n",
      "114     35650\n",
      "89      35271\n",
      "69      30800\n",
      "118     30288\n",
      "33      27706\n",
      "51      25206\n",
      "24      24074\n",
      "40      23479\n",
      "125     21190\n",
      "39      20146\n",
      "126     20056\n",
      "88      18598\n",
      "95      18326\n",
      "94      18187\n",
      "123     17057\n",
      "35      15763\n",
      "36      15355\n",
      "44      15248\n",
      "21      14709\n",
      "32      14296\n",
      "34      13919\n",
      "41      12241\n",
      "108     12123\n",
      "22      11280\n",
      "128     11230\n",
      "3       10601\n",
      "73       9880\n",
      "109      9605\n",
      "28       9403\n",
      "31       9334\n",
      "74       9125\n",
      "20       8859\n",
      "84       8294\n",
      "15       8174\n",
      "16       6999\n",
      "71       6690\n",
      "18       6025\n",
      "129      4957\n",
      "45       4904\n",
      "75       4466\n",
      "133      4337\n",
      "30       4225\n",
      "57       4037\n",
      "60       3942\n",
      "26       3732\n",
      "77       3702\n",
      "85       3636\n",
      "120      3496\n",
      "96       3385\n",
      "55       3268\n",
      "48       3228\n",
      "90       2995\n",
      "135      2773\n",
      "121      2770\n",
      "92       1935\n",
      "116      1591\n",
      "65       1261\n",
      "107      1115\n",
      "38       1091\n",
      "115      1014\n",
      "66        877\n",
      "87        806\n",
      "83        666\n",
      "102       641\n",
      "50        587\n",
      "103       560\n",
      "130       518\n",
      "119       506\n",
      "5         410\n",
      "98        400\n",
      "91        372\n",
      "132       282\n",
      "99        254\n",
      "80        226\n",
      "49        158\n",
      "6         151\n",
      "104       129\n",
      "42         79\n",
      "9          59\n",
      "81         59\n",
      "11         49\n",
      "1          41\n",
      "101        34\n",
      "106        27\n",
      "134        15\n",
      "17         12\n",
      "7          12\n",
      "2           6\n",
      "13          4\n",
      "8           1\n",
      "Name: 113_cause_recode, dtype: int64\n"
     ]
    }
   ],
   "source": [
    "# data 2013\n",
    "data_2013 = pd.read_csv( './mortality-data/2013_data.csv', na_values=['NA','?'])\n",
    "pd.set_option('display.max_rows', 200)\n",
    "frq = data_2013['113_cause_recode'].value_counts()\n",
    "print(frq)"
   ]
  },
  {
   "cell_type": "code",
   "execution_count": 31,
   "metadata": {},
   "outputs": [
    {
     "name": "stdout",
     "output_type": "stream",
     "text": [
      "111    322705\n",
      "63     186696\n",
      "27     155749\n",
      "86     135504\n",
      "70     133320\n",
      "68     132731\n",
      "59     114262\n",
      "52      93567\n",
      "46      76590\n",
      "43      68807\n",
      "67      68662\n",
      "62      60471\n",
      "23      52301\n",
      "78      50703\n",
      "100     47396\n",
      "122     42188\n",
      "29      41727\n",
      "25      40475\n",
      "10      39005\n",
      "56      38854\n",
      "89      36243\n",
      "114     35688\n",
      "110     32513\n",
      "118     32029\n",
      "69      30246\n",
      "33      28373\n",
      "51      26156\n",
      "24      24743\n",
      "40      23500\n",
      "126     21532\n",
      "125     21345\n",
      "39      20426\n",
      "94      19444\n",
      "95      18822\n",
      "88      18801\n",
      "123     17551\n",
      "44      16062\n",
      "36      16026\n",
      "35      15790\n",
      "21      14956\n",
      "32      14212\n",
      "34      13929\n",
      "41      12543\n",
      "108     11943\n",
      "22      11337\n",
      "128     10982\n",
      "73       9896\n",
      "3        9784\n",
      "31       9743\n",
      "109      9636\n",
      "20       9417\n",
      "28       9344\n",
      "74       9342\n",
      "15       8099\n",
      "84       7459\n",
      "16       6755\n",
      "71       6363\n",
      "18       6264\n",
      "45       5235\n",
      "129      4906\n",
      "77       4618\n",
      "75       4570\n",
      "57       4409\n",
      "133      4346\n",
      "30       4126\n",
      "60       4013\n",
      "48       3934\n",
      "26       3764\n",
      "85       3662\n",
      "120      3524\n",
      "96       3472\n",
      "55       3285\n",
      "90       3045\n",
      "121      2714\n",
      "135      2545\n",
      "92       1981\n",
      "116      1571\n",
      "65       1302\n",
      "107      1103\n",
      "38       1083\n",
      "115      1006\n",
      "66        903\n",
      "87        737\n",
      "102       712\n",
      "119       586\n",
      "83        563\n",
      "103       550\n",
      "50        539\n",
      "130       519\n",
      "98        472\n",
      "91        391\n",
      "5         342\n",
      "99        289\n",
      "132       271\n",
      "80        233\n",
      "49        177\n",
      "6         156\n",
      "104       129\n",
      "42         95\n",
      "81         57\n",
      "1          45\n",
      "9          44\n",
      "11         43\n",
      "106        28\n",
      "101        22\n",
      "7          14\n",
      "134        14\n",
      "17          8\n",
      "2           8\n",
      "13          3\n",
      "Name: 113_cause_recode, dtype: int64\n"
     ]
    }
   ],
   "source": [
    "# data 2014\n",
    "data_2014 = pd.read_csv( './mortality-data/2014_data.csv', na_values=['NA','?'])\n",
    "pd.set_option('display.max_rows', 200)\n",
    "frq = data_2014['113_cause_recode'].value_counts()\n",
    "print(frq)"
   ]
  },
  {
   "cell_type": "code",
   "execution_count": 32,
   "metadata": {},
   "outputs": [
    {
     "name": "stdout",
     "output_type": "stream",
     "text": [
      "111    319287\n",
      "63     188413\n",
      "27     153952\n",
      "86     143675\n",
      "70     140589\n",
      "68     139731\n",
      "59     114282\n",
      "52     110586\n",
      "46      79622\n",
      "67      75310\n",
      "43      70007\n",
      "62      60971\n",
      "23      53249\n",
      "78      51908\n",
      "100     49168\n",
      "122     47713\n",
      "29      42029\n",
      "56      41844\n",
      "25      41675\n",
      "10      40847\n",
      "89      38350\n",
      "114     38093\n",
      "118     33482\n",
      "110     32378\n",
      "69      32242\n",
      "33      28875\n",
      "51      27985\n",
      "24      25802\n",
      "40      22722\n",
      "126     22264\n",
      "125     22060\n",
      "94      21085\n",
      "39      20192\n",
      "88      19824\n",
      "95      19343\n",
      "123     18656\n",
      "44      16301\n",
      "36      16290\n",
      "35      16270\n",
      "21      15230\n",
      "34      14469\n",
      "32      13949\n",
      "128     13023\n",
      "41      12716\n",
      "108     11753\n",
      "22      11361\n",
      "31      10112\n",
      "3       10074\n",
      "109     10048\n",
      "73      10027\n",
      "20       9766\n",
      "74       9591\n",
      "28       8893\n",
      "15       7484\n",
      "84       7260\n",
      "18       6708\n",
      "16       6503\n",
      "71       6095\n",
      "45       5265\n",
      "77       5260\n",
      "48       5015\n",
      "57       4979\n",
      "129      4859\n",
      "133      4650\n",
      "75       4551\n",
      "30       4190\n",
      "60       4128\n",
      "96       3769\n",
      "26       3769\n",
      "120      3708\n",
      "85       3626\n",
      "55       3381\n",
      "90       3067\n",
      "135      2689\n",
      "121      2656\n",
      "92       2110\n",
      "116      1663\n",
      "65       1340\n",
      "107      1124\n",
      "38       1122\n",
      "115      1074\n",
      "66        931\n",
      "87        728\n",
      "102       717\n",
      "83        618\n",
      "103       572\n",
      "50        559\n",
      "130       538\n",
      "98        528\n",
      "119       489\n",
      "91        372\n",
      "5         351\n",
      "99        290\n",
      "132       284\n",
      "80        273\n",
      "49        213\n",
      "6         128\n",
      "104       126\n",
      "42         90\n",
      "1          54\n",
      "11         45\n",
      "9          43\n",
      "81         36\n",
      "101        30\n",
      "106        20\n",
      "17         12\n",
      "7           7\n",
      "134         6\n",
      "2           4\n",
      "13          3\n",
      "8           2\n",
      "Name: 113_cause_recode, dtype: int64\n"
     ]
    }
   ],
   "source": [
    "# data 2015\n",
    "data_2015 = pd.read_csv( './mortality-data/2015_data.csv', na_values=['NA','?'])\n",
    "pd.set_option('display.max_rows', 200)\n",
    "frq = data_2015['113_cause_recode'].value_counts()\n",
    "print(frq)"
   ]
  },
  {
   "cell_type": "code",
   "execution_count": 8,
   "metadata": {},
   "outputs": [],
   "source": [
    "# Getting rid of annoying warning. \n",
    "warnings.filterwarnings('ignore')\n",
    "\n",
    "# Importing Professor Provided data. \n",
    "#medical_transcriptons_data = genfromtxt('./data-from-canvas/medicaltranscriptions.csv', delimiter=',', skip_header=1)\n",
    "\n",
    "# Importing CDC data. Make sure you have the files in the right folder on your machine.\n",
    "#data_2005 = pd.read_csv( './mortality-data/2005_data.csv', na_values=['NA','?'])\n",
    "data_2006 = pd.read_csv( './mortality-data/2006_data.csv', na_values=['NA','?'])\n",
    "data_2007 = pd.read_csv( './mortality-data/2007_data.csv', na_values=['NA','?'])\n",
    "data_2008 = pd.read_csv( './mortality-data/2008_data.csv', na_values=['NA','?'])\n",
    "data_2009 = pd.read_csv( './mortality-data/2009_data.csv', na_values=['NA','?'])\n",
    "data_2010 = pd.read_csv( './mortality-data/2010_data.csv', na_values=['NA','?'])\n",
    "data_2011 = pd.read_csv( './mortality-data/2011_data.csv', na_values=['NA','?'])\n",
    "data_2012 = pd.read_csv( './mortality-data/2012_data.csv', na_values=['NA','?'])\n",
    "data_2013 = pd.read_csv( './mortality-data/2013_data.csv', na_values=['NA','?'])\n",
    "data_2014 = pd.read_csv( './mortality-data/2014_data.csv', na_values=['NA','?'])\n",
    "data_2015 = pd.read_csv( './mortality-data/2015_data.csv', na_values=['NA','?'])"
   ]
  },
  {
   "cell_type": "code",
   "execution_count": 9,
   "metadata": {},
   "outputs": [
    {
     "name": "stdout",
     "output_type": "stream",
     "text": [
      "111    3028258\n",
      "63     2212520\n",
      "27     1733447\n",
      "70     1471444\n",
      "59     1392415\n",
      "86     1378763\n",
      "68     1327848\n",
      "52      921265\n",
      "46      807571\n",
      "43      719789\n",
      "67      674844\n",
      "62      657654\n",
      "78      582254\n",
      "23      581347\n",
      "100     494823\n",
      "29      455641\n",
      "114     429525\n",
      "25      405728\n",
      "110     400774\n",
      "10      399667\n",
      "122     379301\n",
      "56      376585\n",
      "89      351058\n",
      "33      311877\n",
      "69      301297\n",
      "118     290436\n",
      "40      249271\n",
      "51      248572\n",
      "24      227130\n",
      "39      224769\n",
      "125     212980\n",
      "126     208154\n",
      "88      194128\n",
      "123     192160\n",
      "95      181464\n",
      "94      179664\n",
      "44      163860\n",
      "35      161714\n",
      "32      158964\n",
      "36      158911\n",
      "21      156984\n",
      "34      146193\n",
      "108     142847\n",
      "128     130828\n",
      "41      128871\n",
      "22      124569\n",
      "73      122186\n",
      "84      113638\n",
      "109     110071\n",
      "74       99973\n",
      "3        99651\n",
      "16       99513\n",
      "28       98315\n",
      "20       93677\n",
      "31       92552\n",
      "71       84243\n",
      "15       82942\n",
      "18       67846\n",
      "129      58724\n",
      "45       53657\n",
      "133      51353\n",
      "75       47818\n",
      "30       44535\n",
      "60       43905\n",
      "26       41028\n",
      "120      40043\n",
      "85       38978\n",
      "57       38658\n",
      "96       36834\n",
      "55       35364\n",
      "48       34475\n",
      "90       33924\n",
      "121      31493\n",
      "135      28708\n",
      "77       24455\n",
      "99       22018\n",
      "92       20262\n",
      "116      19216\n",
      "65       13412\n",
      "38       13142\n",
      "115      11880\n",
      "107       9922\n",
      "66        9353\n",
      "87        9249\n",
      "83        7349\n",
      "102       7260\n",
      "50        6715\n",
      "119       6526\n",
      "103       5690\n",
      "130       5089\n",
      "5         4578\n",
      "91        4463\n",
      "98        3100\n",
      "132       2825\n",
      "80        2508\n",
      "49        2022\n",
      "6         1591\n",
      "104       1397\n",
      "9          908\n",
      "42         815\n",
      "81         592\n",
      "11         442\n",
      "1          423\n",
      "106        317\n",
      "101        280\n",
      "134        200\n",
      "7          168\n",
      "17          87\n",
      "2           67\n",
      "13          47\n",
      "8           30\n",
      "14           7\n",
      "Name: 113_cause_recode, dtype: int64\n"
     ]
    }
   ],
   "source": [
    "# Frequency of ALL data\n",
    "dt_05 = data_2005['113_cause_recode']\n",
    "dt_06 = data_2006['113_cause_recode']\n",
    "dt_07 = data_2007['113_cause_recode']\n",
    "dt_08 = data_2008['113_cause_recode']\n",
    "dt_09 = data_2009['113_cause_recode']\n",
    "dt_10 = data_2010['113_cause_recode']\n",
    "dt_11 = data_2011['113_cause_recode']\n",
    "dt_12 = data_2012['113_cause_recode']\n",
    "dt_13 = data_2013['113_cause_recode']\n",
    "dt_14 = data_2014['113_cause_recode']\n",
    "dt_15 = data_2015['113_cause_recode']\n",
    "\n",
    "# concatenate all data\n",
    "dt_all = pd.concat([dt_05, dt_06, dt_07, dt_08, dt_09, dt_10, dt_11, dt_12, dt_13, dt_14, dt_15])\n",
    "\n",
    "frq_all = dt_all.value_counts()\n",
    "print(frq_all)"
   ]
  },
  {
   "cell_type": "code",
   "execution_count": null,
   "metadata": {},
   "outputs": [],
   "source": [
    "# From above results, the top 5 of '113_cause_recode' in ALL data are\n",
    "# 1st 111 :  3028258 -- All other diseases (Residual) (D65-E07,E15-E34,E65-F99,G04-G12,G23-G25,G31-H93, K00-K22,K29-K31,K50-K66,K71-K72,K75-K76,K83-M99, N13.0-N13.5,N13.7-N13.9, N14,N15.0,N15.8-N15.9,N20-N23,N28-N39,N41-N64,N80-N98)\n",
    "# 2nd:  63 :  2212520 -- All other forms of chronic ischemic heart disease (I20,I25.1-I25.9)\n",
    "# 3rd 27 : 1733447 -- Malignant neoplasms of trachea, bronchus and lung (C33-C34)\n",
    "# 4th 70 : 1471444 -- Cerebrovascular diseases (I60-I69)\n",
    "# 5th 59 : 1392415 -- Acute myocardial infarction (I21-I22)\n",
    "# 6th 86 : 1378763 -- Other chronic lower respiratory diseases (J44,J47)\n",
    "# 7th 68 : 1327848 -- All other forms of heart disease (I26-I28,I34-I38,I42-I49,I51)\n",
    "# 8th 52 : 921265 -- Alzheimer's disease (G30)\n",
    "# 9th 46 : 807571 -- Diabetes mellitus (E10-E14)\n",
    "#10th 43 : 719789 -- All other and unspecified malignant neoplasms (C17,C23-C24,C26-C31,C37-C41, C44-C49,C51-C52,C57-C60,C62-C63,C66,C68-C69,C73-C80,C97)"
   ]
  },
  {
   "cell_type": "code",
   "execution_count": 10,
   "metadata": {},
   "outputs": [
    {
     "data": {
      "image/png": "[encoded data removed]",
      "text/plain": [
       "<Figure size 1152x288 with 1 Axes>"
      ]
     },
     "metadata": {
      "needs_background": "light"
     },
     "output_type": "display_data"
    }
   ],
   "source": [
    "# Histogram of  '113_cause_recode' in ALL data\n",
    "hall= dt_all.plot( y=['113_cause_recode'], bins=135, alpha=0.5, figsize=(16,4), kind='hist')"
   ]
  },
  {
   "cell_type": "code",
   "execution_count": 16,
   "metadata": {},
   "outputs": [
    {
     "name": "stdout",
     "output_type": "stream",
     "text": [
      "0           28\n",
      "1           84\n",
      "2           70\n",
      "3           46\n",
      "4           27\n",
      "          ... \n",
      "2718193    108\n",
      "2718194     63\n",
      "2718195    111\n",
      "2718196     62\n",
      "2718197     56\n",
      "Name: 113_cause_recode, Length: 27720673, dtype: int64\n"
     ]
    }
   ],
   "source": [
    "print(dt_all)"
   ]
  },
  {
   "cell_type": "code",
   "execution_count": 17,
   "metadata": {},
   "outputs": [
    {
     "name": "stdout",
     "output_type": "stream",
     "text": [
      "count    2.772067e+07\n",
      "mean     6.766977e+01\n",
      "std      3.137384e+01\n",
      "min      1.000000e+00\n",
      "25%      4.300000e+01\n",
      "50%      6.300000e+01\n",
      "75%      8.900000e+01\n",
      "max      1.350000e+02\n",
      "Name: 113_cause_recode, dtype: float64\n"
     ]
    }
   ],
   "source": [
    "print(dt_all.describe())"
   ]
  },
  {
   "cell_type": "code",
   "execution_count": 21,
   "metadata": {},
   "outputs": [
    {
     "data": {
      "text/html": [
       "<div>\n",
       "<style scoped>\n",
       "    .dataframe tbody tr th:only-of-type {\n",
       "        vertical-align: middle;\n",
       "    }\n",
       "\n",
       "    .dataframe tbody tr th {\n",
       "        vertical-align: top;\n",
       "    }\n",
       "\n",
       "    .dataframe thead th {\n",
       "        text-align: right;\n",
       "    }\n",
       "</style>\n",
       "<table border=\"1\" class=\"dataframe\">\n",
       "  <thead>\n",
       "    <tr style=\"text-align: right;\">\n",
       "      <th></th>\n",
       "      <th>113_cause_recode</th>\n",
       "    </tr>\n",
       "  </thead>\n",
       "  <tbody>\n",
       "    <tr>\n",
       "      <td>0</td>\n",
       "      <td>28</td>\n",
       "    </tr>\n",
       "    <tr>\n",
       "      <td>1</td>\n",
       "      <td>84</td>\n",
       "    </tr>\n",
       "    <tr>\n",
       "      <td>2</td>\n",
       "      <td>70</td>\n",
       "    </tr>\n",
       "    <tr>\n",
       "      <td>3</td>\n",
       "      <td>46</td>\n",
       "    </tr>\n",
       "    <tr>\n",
       "      <td>4</td>\n",
       "      <td>27</td>\n",
       "    </tr>\n",
       "    <tr>\n",
       "      <td>...</td>\n",
       "      <td>...</td>\n",
       "    </tr>\n",
       "    <tr>\n",
       "      <td>2452501</td>\n",
       "      <td>59</td>\n",
       "    </tr>\n",
       "    <tr>\n",
       "      <td>2452502</td>\n",
       "      <td>108</td>\n",
       "    </tr>\n",
       "    <tr>\n",
       "      <td>2452503</td>\n",
       "      <td>108</td>\n",
       "    </tr>\n",
       "    <tr>\n",
       "      <td>2452504</td>\n",
       "      <td>108</td>\n",
       "    </tr>\n",
       "    <tr>\n",
       "      <td>2452505</td>\n",
       "      <td>63</td>\n",
       "    </tr>\n",
       "  </tbody>\n",
       "</table>\n",
       "<p>2452506 rows × 1 columns</p>\n",
       "</div>"
      ],
      "text/plain": [
       "         113_cause_recode\n",
       "0                      28\n",
       "1                      84\n",
       "2                      70\n",
       "3                      46\n",
       "4                      27\n",
       "...                   ...\n",
       "2452501                59\n",
       "2452502               108\n",
       "2452503               108\n",
       "2452504               108\n",
       "2452505                63\n",
       "\n",
       "[2452506 rows x 1 columns]"
      ]
     },
     "metadata": {},
     "output_type": "display_data"
    }
   ],
   "source": [
    "display(data_2005[['113_cause_recode']])"
   ]
  },
  {
   "cell_type": "code",
   "execution_count": 5,
   "metadata": {},
   "outputs": [],
   "source": [
    "data63 = data_2005[data_2005['113_cause_recode'].isin([63])]\n",
    "data111 = data_2005[data_2005['113_cause_recode'].isin([111])]\n",
    "data27 = data_2005[data_2005['113_cause_recode'].isin([27])]\n",
    "data59 = data_2005[data_2005['113_cause_recode'].isin([59])]\n",
    "data70 = data_2005[data_2005['113_cause_recode'].isin([70])]\n",
    "#display(data63)"
   ]
  },
  {
   "cell_type": "code",
   "execution_count": null,
   "metadata": {},
   "outputs": [],
   "source": [
    "# 1st:  63 : 228656 --- All other forms of chronic ischemic heart disease (I20,I25.1-I25.9)\n",
    "# 2nd 111 : 217898 --- All other diseases (Residual) (D65-E07,E15-E34,E65-F99,G04-G12,G23-G25,G31-H93, K00-K22,K29-K31,K50-K66,K71-K72,K75-K76,K83-M99, N13.0-N13.5,N13.7-N13.9, N14,N15.0,N15.8-N15.9,N20-N23,N28-N39,N41-N64,N80-N98)\n",
    "# 3rd 27 : 159405 --- Malignant neoplasms of trachea, bronchus and lung (C33-C34)\n",
    "# 4th 59 : 151312 --- Acute myocardial infarction (I21-I22)\n",
    "# 5th 70 : 143789 --- Cerebrovascular diseases (I60-I69)\n",
    "#x = data_2005['age_recode_27'].values"
   ]
  },
  {
   "cell_type": "code",
   "execution_count": 7,
   "metadata": {},
   "outputs": [
    {
     "data": {
      "image/png": "[encoded data removed]",
      "text/plain": [
       "<Figure size 432x288 with 1 Axes>"
      ]
     },
     "metadata": {
      "needs_background": "light"
     },
     "output_type": "display_data"
    }
   ],
   "source": [
    "# Plot of No.63: All other forms of chronic ischemic heart disease\n",
    "x63 = data63['age_recode_27'].values\n",
    "plt.title(\"Histogram of All other forms of chronic ischemic heart disease\")\n",
    "#binblock = np.arange(650, 2950, 100)\n",
    "plt.hist(x63 ,bins = 'auto', rwidth=0.9)\n",
    "plt.xlabel(\"age_recode_27\")\n",
    "plt.ylabel(\"Numbers\")\n",
    "plt.show()"
   ]
  },
  {
   "cell_type": "code",
   "execution_count": 34,
   "metadata": {},
   "outputs": [
    {
     "data": {
      "image/png": "[encoded data removed]",
      "text/plain": [
       "<Figure size 432x288 with 1 Axes>"
      ]
     },
     "metadata": {
      "needs_background": "light"
     },
     "output_type": "display_data"
    }
   ],
   "source": [
    "# Plot of No.63: All other forms of chronic ischemic heart disease\n",
    "xsex = data63['sex'].values\n",
    "plt.title(\"Histogram of All other forms of chronic ischemic heart disease\")\n",
    "#binblock = np.arange(650, 2950, 100)\n",
    "plt.hist(xsex, bins = 'auto', rwidth=0.9)\n",
    "plt.xlabel(\"sex\")\n",
    "plt.ylabel(\"Numbers\")\n",
    "plt.show()\n",
    "#name = [1, 2, 3, 4]\n",
    "#value = [54, 67, 89, 103]\n",
    "#label = ['Monday', 'Tuesday', 'Wednesday', 'Thursday']\n",
    "#plt.bar(name, value, color='#effef0', edgecolor='#9ffea0', linewidth=5, width=0.7, tick_label=label)\n",
    "#plt.show()"
   ]
  },
  {
   "cell_type": "code",
   "execution_count": 37,
   "metadata": {},
   "outputs": [
    {
     "data": {
      "image/png": "[encoded data removed]",
      "text/plain": [
       "<Figure size 432x288 with 1 Axes>"
      ]
     },
     "metadata": {
      "needs_background": "light"
     },
     "output_type": "display_data"
    }
   ],
   "source": [
    "# Plot of No.63: All other forms of chronic ischemic heart disease\n",
    "xrace = data63['race'].values\n",
    "plt.title(\"Histogram of All other forms of chronic ischemic heart disease\")\n",
    "#binblock = np.arange(650, 2950, 100)\n",
    "#plt.hist(xrace, bins = 'auto', rwidth=0.8, range=(0, 10))\n",
    "plt.hist(xrace, bins = 'auto', rwidth=0.8)\n",
    "plt.xlabel(\"race\")\n",
    "plt.ylabel(\"Numbers\")\n",
    "plt.show()"
   ]
  },
  {
   "cell_type": "code",
   "execution_count": 39,
   "metadata": {},
   "outputs": [
    {
     "data": {
      "image/png": "[encoded data removed]",
      "text/plain": [
       "<Figure size 432x288 with 1 Axes>"
      ]
     },
     "metadata": {
      "needs_background": "light"
     },
     "output_type": "display_data"
    }
   ],
   "source": [
    "# Plot of No.63: All other forms of chronic ischemic heart disease\n",
    "# Range is only 0 -10\n",
    "xrace = data63['race'].values\n",
    "plt.title(\"Histogram of All other forms of chronic ischemic heart disease\")\n",
    "#binblock = np.arange(650, 2950, 100)\n",
    "plt.hist(xrace, bins = 'auto', rwidth=0.5, range=(0, 10))\n",
    "plt.xlabel(\"race\")\n",
    "plt.ylabel(\"Numbers\")\n",
    "plt.show()\n",
    "# race No.1 : White, 2 : Black"
   ]
  },
  {
   "cell_type": "code",
   "execution_count": 41,
   "metadata": {},
   "outputs": [
    {
     "data": {
      "text/plain": [
       "array([ 1,  2,  3,  4,  5,  6,  7, 18, 28, 38, 48, 58, 68, 78])"
      ]
     },
     "execution_count": 41,
     "metadata": {},
     "output_type": "execute_result"
    }
   ],
   "source": [
    "np.unique(xrace)"
   ]
  },
  {
   "cell_type": "code",
   "execution_count": 31,
   "metadata": {},
   "outputs": [
    {
     "data": {
      "image/png": "[encoded data removed]",
      "text/plain": [
       "<Figure size 432x288 with 1 Axes>"
      ]
     },
     "metadata": {
      "needs_background": "light"
     },
     "output_type": "display_data"
    }
   ],
   "source": [
    "# Plot of No.111: All other diseases (Residual) (D65-E07,E15-E34,E65-F99,G04-G12,G23-G25,G31-H93, K00-K22,K29-K31,K50-K66,K71-K72,K75-K76,K83-M99, N13.0-N13.5,N13.7-N13.9, N14,N15.0,N15.8-N15.9,N20-N23,N28-N39,N41-N64,N80-N98)\n",
    "x111 = data111['age_recode_27'].values\n",
    "plt.title(\"Histogram of All other diseases\")\n",
    "plt.hist(x111 ,bins = 'auto', rwidth=0.9)\n",
    "plt.xlabel(\"age_recode_27\")\n",
    "plt.ylabel(\"Numbers\")\n",
    "plt.show()"
   ]
  },
  {
   "cell_type": "code",
   "execution_count": 12,
   "metadata": {},
   "outputs": [
    {
     "data": {
      "image/png": "[encoded data removed]",
      "text/plain": [
       "<Figure size 432x288 with 1 Axes>"
      ]
     },
     "metadata": {
      "needs_background": "light"
     },
     "output_type": "display_data"
    }
   ],
   "source": [
    "# Plot of No.111: All other diseases (Residual) \n",
    "xsex = data111['sex'].values\n",
    "plt.title(\"Histogram of All other diseases\")\n",
    "#binblock = np.arange(650, 2950, 100)\n",
    "plt.hist(xsex ,bins = 'auto', rwidth=0.9)\n",
    "plt.xlabel(\"sex\")\n",
    "plt.ylabel(\"Numbers\")\n",
    "plt.show()"
   ]
  },
  {
   "cell_type": "code",
   "execution_count": 43,
   "metadata": {},
   "outputs": [
    {
     "data": {
      "image/png": "[encoded data removed]",
      "text/plain": [
       "<Figure size 432x288 with 1 Axes>"
      ]
     },
     "metadata": {
      "needs_background": "light"
     },
     "output_type": "display_data"
    }
   ],
   "source": [
    "# Plot of No.111: All other diseases (Residual) \n",
    "xrace = data111['race'].values\n",
    "plt.title(\"Histogram of All other diseases\")\n",
    "#binblock = np.arange(650, 2950, 100)\n",
    "#plt.hist(xrace, bins = 'auto', rwidth=0.8, range=(0, 10))\n",
    "plt.hist(xrace, bins = 'auto', rwidth=0.8)\n",
    "plt.xlabel(\"race\")\n",
    "plt.ylabel(\"Numbers\")\n",
    "plt.show()"
   ]
  },
  {
   "cell_type": "code",
   "execution_count": 46,
   "metadata": {},
   "outputs": [
    {
     "data": {
      "image/png": "[encoded data removed]",
      "text/plain": [
       "<Figure size 432x288 with 1 Axes>"
      ]
     },
     "metadata": {
      "needs_background": "light"
     },
     "output_type": "display_data"
    }
   ],
   "source": [
    "# Range is only 0 -10\n",
    "xrace = data111['race'].values\n",
    "plt.title(\"Histogram of All other diseases\")\n",
    "plt.hist(xrace, bins = 'auto', rwidth=0.5, range=(0, 10))\n",
    "plt.xlabel(\"race\")\n",
    "plt.ylabel(\"Numbers\")\n",
    "plt.show()\n",
    "# race No.1 : White, 2 : Black"
   ]
  },
  {
   "cell_type": "code",
   "execution_count": 37,
   "metadata": {},
   "outputs": [
    {
     "data": {
      "image/png": "[encoded data removed]",
      "text/plain": [
       "<Figure size 432x288 with 1 Axes>"
      ]
     },
     "metadata": {
      "needs_background": "light"
     },
     "output_type": "display_data"
    }
   ],
   "source": [
    "# Plot of No. 27: Malignant neoplasms of trachea, bronchus and lung (C33-C34)\n",
    "x27 = data27['age_recode_27'].values\n",
    "plt.title(\"Histogram of Malignant neoplasms of trachea, bronchus and lung\")\n",
    "plt.hist(x27 ,bins = 'auto', rwidth=0.9)\n",
    "plt.xlabel(\"age_recode_27\")\n",
    "plt.ylabel(\"Numbers\")\n",
    "plt.show()"
   ]
  },
  {
   "cell_type": "code",
   "execution_count": 11,
   "metadata": {},
   "outputs": [
    {
     "data": {
      "image/png": "[encoded data removed]",
      "text/plain": [
       "<Figure size 432x288 with 1 Axes>"
      ]
     },
     "metadata": {
      "needs_background": "light"
     },
     "output_type": "display_data"
    }
   ],
   "source": [
    "# Plot of No. 27: Malignant neoplasms of trachea, bronchus and lung (C33-C34)\n",
    "xsex = data27['sex'].values\n",
    "plt.title(\"Histogram of Malignant neoplasms of trachea, bronchus and lung\")\n",
    "#binblock = np.arange(650, 2950, 100)\n",
    "plt.hist(xsex ,bins = 'auto', rwidth=0.9)\n",
    "plt.xlabel(\"sex\")\n",
    "plt.ylabel(\"Numbers\")\n",
    "plt.show()"
   ]
  },
  {
   "cell_type": "code",
   "execution_count": 47,
   "metadata": {},
   "outputs": [
    {
     "data": {
      "image/png": "[encoded data removed]",
      "text/plain": [
       "<Figure size 432x288 with 1 Axes>"
      ]
     },
     "metadata": {
      "needs_background": "light"
     },
     "output_type": "display_data"
    }
   ],
   "source": [
    "# Plot of No. 27: Malignant neoplasms of trachea, bronchus and lung\n",
    "xrace = data27['race'].values\n",
    "plt.title(\"Histogram of Malignant neoplasms of trachea, bronchus and lung\")\n",
    "plt.hist(xrace, bins = 'auto', rwidth=0.8)\n",
    "plt.xlabel(\"race\")\n",
    "plt.ylabel(\"Numbers\")\n",
    "plt.show()"
   ]
  },
  {
   "cell_type": "code",
   "execution_count": 48,
   "metadata": {},
   "outputs": [
    {
     "data": {
      "image/png": "[encoded data removed]",
      "text/plain": [
       "<Figure size 432x288 with 1 Axes>"
      ]
     },
     "metadata": {
      "needs_background": "light"
     },
     "output_type": "display_data"
    }
   ],
   "source": [
    "# Range is only 0 -10\n",
    "xrace = data27['race'].values\n",
    "plt.title(\"Histogram of Malignant neoplasms of trachea, bronchus and lung\")\n",
    "plt.hist(xrace, bins = 'auto', rwidth=0.5, range=(0, 10))\n",
    "plt.xlabel(\"race\")\n",
    "plt.ylabel(\"Numbers\")\n",
    "plt.show()\n",
    "# race No.1 : White, 2 : Black"
   ]
  },
  {
   "cell_type": "code",
   "execution_count": 36,
   "metadata": {
    "scrolled": true
   },
   "outputs": [
    {
     "data": {
      "image/png": "[encoded data removed]",
      "text/plain": [
       "<Figure size 432x288 with 1 Axes>"
      ]
     },
     "metadata": {
      "needs_background": "light"
     },
     "output_type": "display_data"
    }
   ],
   "source": [
    "# Plot of No. 59: Acute myocardial infarction (I21-I22)\n",
    "x59 = data59['age_recode_27'].values\n",
    "plt.title(\"Histogram of Acute myocardial infarction \")\n",
    "plt.hist(x59 ,bins = 'auto', rwidth=0.9)\n",
    "plt.xlabel(\"age_recode_27\")\n",
    "plt.ylabel(\"Numbers\")\n",
    "plt.show()"
   ]
  },
  {
   "cell_type": "code",
   "execution_count": 13,
   "metadata": {
    "scrolled": true
   },
   "outputs": [
    {
     "data": {
      "image/png": "[encoded data removed]",
      "text/plain": [
       "<Figure size 432x288 with 1 Axes>"
      ]
     },
     "metadata": {
      "needs_background": "light"
     },
     "output_type": "display_data"
    }
   ],
   "source": [
    "# Plot of No. 59: Acute myocardial infarction (I21-I22)\n",
    "xsex = data59['sex'].values\n",
    "plt.title(\"Histogram of Acute myocardial infarction\")\n",
    "#binblock = np.arange(650, 2950, 100)\n",
    "plt.hist(xsex ,bins = 'auto', rwidth=0.9)\n",
    "plt.xlabel(\"sex\")\n",
    "plt.ylabel(\"Numbers\")\n",
    "plt.show()"
   ]
  },
  {
   "cell_type": "code",
   "execution_count": 49,
   "metadata": {},
   "outputs": [
    {
     "data": {
      "image/png": "[encoded data removed]",
      "text/plain": [
       "<Figure size 432x288 with 1 Axes>"
      ]
     },
     "metadata": {
      "needs_background": "light"
     },
     "output_type": "display_data"
    }
   ],
   "source": [
    "# Plot of No. 59: Acute myocardial infarction\n",
    "xrace = data59['race'].values\n",
    "plt.title(\"Histogram of Acute myocardial infarction\")\n",
    "plt.hist(xrace, bins = 'auto', rwidth=0.8)\n",
    "plt.xlabel(\"race\")\n",
    "plt.ylabel(\"Numbers\")\n",
    "plt.show()"
   ]
  },
  {
   "cell_type": "code",
   "execution_count": 50,
   "metadata": {},
   "outputs": [
    {
     "data": {
      "image/png": "[encoded data removed]",
      "text/plain": [
       "<Figure size 432x288 with 1 Axes>"
      ]
     },
     "metadata": {
      "needs_background": "light"
     },
     "output_type": "display_data"
    }
   ],
   "source": [
    "# Range is only 0 -10\n",
    "xrace = data59['race'].values\n",
    "plt.title(\"Histogram of Acute myocardial infarction\")\n",
    "plt.hist(xrace, bins = 'auto', rwidth=0.5, range=(0, 10))\n",
    "plt.xlabel(\"race\")\n",
    "plt.ylabel(\"Numbers\")\n",
    "plt.show()\n",
    "# race No.1 : White, 2 : Black"
   ]
  },
  {
   "cell_type": "code",
   "execution_count": 35,
   "metadata": {},
   "outputs": [
    {
     "data": {
      "image/png": "[encoded data removed]",
      "text/plain": [
       "<Figure size 432x288 with 1 Axes>"
      ]
     },
     "metadata": {
      "needs_background": "light"
     },
     "output_type": "display_data"
    }
   ],
   "source": [
    "# Plot of No. 70 : Cerebrovascular diseases (I60-I69)\n",
    "x70 = data70['age_recode_27'].values\n",
    "plt.title(\"Histogram of Cerebrovascular diseases\")\n",
    "plt.hist(x70 ,bins = 'auto', rwidth=0.9)\n",
    "plt.xlabel(\"age_recode_27\")\n",
    "plt.ylabel(\"Numbers\")\n",
    "plt.show()"
   ]
  },
  {
   "cell_type": "code",
   "execution_count": 4,
   "metadata": {},
   "outputs": [
    {
     "data": {
      "image/png": "[encoded data removed]",
      "text/plain": [
       "<Figure size 432x288 with 1 Axes>"
      ]
     },
     "metadata": {
      "needs_background": "light"
     },
     "output_type": "display_data"
    }
   ],
   "source": [
    "# Plot of No. 70 : Cerebrovascular diseases\n",
    "xsex = data70['sex'].values\n",
    "plt.title(\"Histogram of Cerebrovascular diseases\")\n",
    "#binblock = np.arange(650, 2950, 100)\n",
    "plt.hist(xsex ,bins = 'auto', rwidth=0.9)\n",
    "plt.xlabel(\"sex\")\n",
    "plt.ylabel(\"Numbers\")\n",
    "plt.show()"
   ]
  },
  {
   "cell_type": "code",
   "execution_count": 51,
   "metadata": {},
   "outputs": [
    {
     "data": {
      "image/png": "[encoded data removed]",
      "text/plain": [
       "<Figure size 432x288 with 1 Axes>"
      ]
     },
     "metadata": {
      "needs_background": "light"
     },
     "output_type": "display_data"
    }
   ],
   "source": [
    "# Plot of No. 70: Cerebrovascular diseases\n",
    "xrace = data70['race'].values\n",
    "plt.title(\"Histogram of Cerebrovascular diseases\")\n",
    "plt.hist(xrace, bins = 'auto', rwidth=0.8)\n",
    "plt.xlabel(\"race\")\n",
    "plt.ylabel(\"Numbers\")\n",
    "plt.show()"
   ]
  },
  {
   "cell_type": "code",
   "execution_count": 52,
   "metadata": {},
   "outputs": [
    {
     "data": {
      "image/png": "[encoded data removed]",
      "text/plain": [
       "<Figure size 432x288 with 1 Axes>"
      ]
     },
     "metadata": {
      "needs_background": "light"
     },
     "output_type": "display_data"
    }
   ],
   "source": [
    "# Range is only 0 -10\n",
    "xrace = data70['race'].values\n",
    "plt.title(\"Histogram of Cerebrovascular diseases\")\n",
    "plt.hist(xrace, bins = 'auto', rwidth=0.5, range=(0, 10))\n",
    "plt.xlabel(\"race\")\n",
    "plt.ylabel(\"Numbers\")\n",
    "plt.show()\n",
    "# race No.1 : White, 2 : Black"
   ]
  },
  {
   "cell_type": "code",
   "execution_count": 53,
   "metadata": {},
   "outputs": [],
   "source": [
    "data_suicide = data_2005[data_2005['manner_of_death'].isin([2])]"
   ]
  },
  {
   "cell_type": "code",
   "execution_count": 5,
   "metadata": {},
   "outputs": [
    {
     "data": {
      "image/png": "[encoded data removed]",
      "text/plain": [
       "<Figure size 432x288 with 1 Axes>"
      ]
     },
     "metadata": {
      "needs_background": "light"
     },
     "output_type": "display_data"
    }
   ],
   "source": [
    "# Plot of Suicide\n",
    "x_suicide = data_suicide['age_recode_27'].values\n",
    "plt.title(\"Histogram of Suicide\")\n",
    "plt.hist(x_suicide ,bins = 'auto', rwidth=0.9)\n",
    "plt.xlabel(\"age_recode_27\")\n",
    "plt.ylabel(\"Numbers\")\n",
    "plt.show()"
   ]
  },
  {
   "cell_type": "code",
   "execution_count": 8,
   "metadata": {},
   "outputs": [
    {
     "data": {
      "image/png": "[encoded data removed]",
      "text/plain": [
       "<Figure size 432x288 with 1 Axes>"
      ]
     },
     "metadata": {
      "needs_background": "light"
     },
     "output_type": "display_data"
    }
   ],
   "source": [
    "# Plot of Suicide\n",
    "xsex = data_suicide['sex'].values\n",
    "plt.title(\"Histogram of Suicide\")\n",
    "#binblock = np.arange(650, 2950, 100)\n",
    "plt.hist(xsex ,bins = 'auto', rwidth=0.9)\n",
    "plt.xlabel(\"sex\")\n",
    "plt.ylabel(\"Numbers\")\n",
    "plt.show()"
   ]
  },
  {
   "cell_type": "code",
   "execution_count": 54,
   "metadata": {},
   "outputs": [
    {
     "data": {
      "image/png": "[encoded data removed]",
      "text/plain": [
       "<Figure size 432x288 with 1 Axes>"
      ]
     },
     "metadata": {
      "needs_background": "light"
     },
     "output_type": "display_data"
    }
   ],
   "source": [
    "# Plot of Suicide\n",
    "xrace = data_suicide['race'].values\n",
    "plt.title(\"Histogram of Suicide\")\n",
    "plt.hist(xrace, bins = 'auto', rwidth=0.8)\n",
    "plt.xlabel(\"race\")\n",
    "plt.ylabel(\"Numbers\")\n",
    "plt.show()"
   ]
  },
  {
   "cell_type": "code",
   "execution_count": 55,
   "metadata": {},
   "outputs": [
    {
     "data": {
      "image/png": "[encoded data removed]",
      "text/plain": [
       "<Figure size 432x288 with 1 Axes>"
      ]
     },
     "metadata": {
      "needs_background": "light"
     },
     "output_type": "display_data"
    }
   ],
   "source": [
    "# Range is only 0 -10\n",
    "xrace = data_suicide['race'].values\n",
    "plt.title(\"Histogram of Suicide\")\n",
    "plt.hist(xrace, bins = 'auto', rwidth=0.5, range=(0, 10))\n",
    "plt.xlabel(\"race\")\n",
    "plt.ylabel(\"Numbers\")\n",
    "plt.show()\n",
    "# race No.1 : White, 2 : Black"
   ]
  },
  {
   "cell_type": "code",
   "execution_count": 56,
   "metadata": {},
   "outputs": [],
   "source": [
    "data_accident = data_2005[data_2005['manner_of_death'].isin([1])]"
   ]
  },
  {
   "cell_type": "code",
   "execution_count": 8,
   "metadata": {},
   "outputs": [
    {
     "data": {
      "image/png": "[encoded data removed]",
      "text/plain": [
       "<Figure size 432x288 with 1 Axes>"
      ]
     },
     "metadata": {
      "needs_background": "light"
     },
     "output_type": "display_data"
    }
   ],
   "source": [
    "# Plot of Accident\n",
    "x_accident = data_accident['age_recode_27'].values\n",
    "plt.title(\"Histogram of Accident\")\n",
    "plt.hist(x_accident ,bins = 'auto', rwidth=0.9)\n",
    "plt.xlabel(\"age_recode_27\")\n",
    "plt.ylabel(\"Numbers\")\n",
    "plt.show()"
   ]
  },
  {
   "cell_type": "code",
   "execution_count": 61,
   "metadata": {},
   "outputs": [
    {
     "data": {
      "image/png": "[encoded data removed]",
      "text/plain": [
       "<Figure size 432x288 with 1 Axes>"
      ]
     },
     "metadata": {
      "needs_background": "light"
     },
     "output_type": "display_data"
    }
   ],
   "source": [
    "# Plot of Accident\n",
    "xsex = data_accident['sex'].values\n",
    "plt.title(\"Histogram of Accident\")\n",
    "#binblock = np.arange(650, 2950, 100)\n",
    "plt.hist(xsex ,bins = 'auto', rwidth=0.9)\n",
    "plt.xlabel(\"sex\")\n",
    "plt.ylabel(\"Numbers\")\n",
    "plt.show()"
   ]
  },
  {
   "cell_type": "code",
   "execution_count": 57,
   "metadata": {},
   "outputs": [
    {
     "data": {
      "image/png": "[encoded data removed]",
      "text/plain": [
       "<Figure size 432x288 with 1 Axes>"
      ]
     },
     "metadata": {
      "needs_background": "light"
     },
     "output_type": "display_data"
    }
   ],
   "source": [
    "# Plot of Accident\n",
    "xrace = data_accident['race'].values\n",
    "plt.title(\"Histogram of Accident\")\n",
    "plt.hist(xrace, bins = 'auto', rwidth=0.8)\n",
    "plt.xlabel(\"race\")\n",
    "plt.ylabel(\"Numbers\")\n",
    "plt.show()"
   ]
  },
  {
   "cell_type": "code",
   "execution_count": 60,
   "metadata": {},
   "outputs": [
    {
     "data": {
      "image/png": "[encoded data removed]",
      "text/plain": [
       "<Figure size 432x288 with 1 Axes>"
      ]
     },
     "metadata": {
      "needs_background": "light"
     },
     "output_type": "display_data"
    }
   ],
   "source": [
    "# Range is only 0 -10\n",
    "xrace = data_accident['race'].values\n",
    "plt.title(\"Histogram of Accident\")\n",
    "plt.hist(xrace, bins = 'auto', rwidth=0.5, range=(0, 10))\n",
    "plt.xlabel(\"race\")\n",
    "plt.ylabel(\"Numbers\")\n",
    "plt.show()\n",
    "# race No.1 : White, 2 : Black"
   ]
  },
  {
   "cell_type": "code",
   "execution_count": 75,
   "metadata": {},
   "outputs": [],
   "source": [
    "data_homicide = data_2005[data_2005['manner_of_death'].isin([3])]\n",
    "#data_homicide = data_2005['manner_of_death'].isin([3])"
   ]
  },
  {
   "cell_type": "code",
   "execution_count": 76,
   "metadata": {},
   "outputs": [
    {
     "data": {
      "image/png": "[encoded data removed]",
      "text/plain": [
       "<Figure size 432x288 with 1 Axes>"
      ]
     },
     "metadata": {
      "needs_background": "light"
     },
     "output_type": "display_data"
    }
   ],
   "source": [
    "# Plot of Homicide\n",
    "x_homicide = data_homicide['age_recode_27'].values\n",
    "plt.title(\"Histogram of Homicide\")\n",
    "plt.hist(x_homicide ,bins = 'auto', rwidth=0.9)\n",
    "plt.xlabel(\"age_recode_27\")\n",
    "plt.ylabel(\"Numbers\")\n",
    "plt.show()"
   ]
  },
  {
   "cell_type": "code",
   "execution_count": 77,
   "metadata": {},
   "outputs": [
    {
     "data": {
      "image/png": "[encoded data removed]",
      "text/plain": [
       "<Figure size 432x288 with 1 Axes>"
      ]
     },
     "metadata": {
      "needs_background": "light"
     },
     "output_type": "display_data"
    }
   ],
   "source": [
    "# Plot of Homicide\n",
    "xsex = data_homicide['sex'].values\n",
    "plt.title(\"Histogram of Homicide\")\n",
    "#binblock = np.arange(650, 2950, 100)\n",
    "plt.hist(xsex ,bins = 'auto', rwidth=0.9)\n",
    "plt.xlabel(\"sex\")\n",
    "plt.ylabel(\"Numbers\")\n",
    "plt.show()"
   ]
  },
  {
   "cell_type": "code",
   "execution_count": 83,
   "metadata": {},
   "outputs": [
    {
     "data": {
      "image/png": "[encoded data removed]",
      "text/plain": [
       "<Figure size 432x288 with 1 Axes>"
      ]
     },
     "metadata": {
      "needs_background": "light"
     },
     "output_type": "display_data"
    }
   ],
   "source": [
    "# Plot of Accident\n",
    "xrace = data_homicide['race'].values\n",
    "plt.title(\"Histogram of Homicide\")\n",
    "plt.hist(xrace, bins = 16, rwidth=0.8)\n",
    "plt.xlabel(\"race\")\n",
    "plt.ylabel(\"Numbers\")\n",
    "plt.show()"
   ]
  },
  {
   "cell_type": "code",
   "execution_count": 84,
   "metadata": {},
   "outputs": [
    {
     "data": {
      "image/png": "[encoded data removed]",
      "text/plain": [
       "<Figure size 432x288 with 1 Axes>"
      ]
     },
     "metadata": {
      "needs_background": "light"
     },
     "output_type": "display_data"
    }
   ],
   "source": [
    "# Range is only 0 -10\n",
    "xrace = data_homicide['race'].values\n",
    "plt.title(\"Histogram of Accident\")\n",
    "plt.hist(xrace, bins = 9, rwidth=0.5, range=(0, 10))\n",
    "plt.xlabel(\"race\")\n",
    "plt.ylabel(\"Numbers\")\n",
    "plt.show()\n",
    "# race No.1 : White, 2 : Black"
   ]
  },
  {
   "cell_type": "code",
   "execution_count": 85,
   "metadata": {},
   "outputs": [],
   "source": [
    "data_natural = data_2005[data_2005['manner_of_death'].isin([7])]"
   ]
  },
  {
   "cell_type": "code",
   "execution_count": 14,
   "metadata": {},
   "outputs": [
    {
     "data": {
      "image/png": "[encoded data removed]",
      "text/plain": [
       "<Figure size 432x288 with 1 Axes>"
      ]
     },
     "metadata": {
      "needs_background": "light"
     },
     "output_type": "display_data"
    }
   ],
   "source": [
    "# Plot of Natural\n",
    "x_natural = data_natural['age_recode_27'].values\n",
    "plt.title(\"Histogram of Natural\")\n",
    "plt.hist(x_natural ,bins = 'auto', rwidth=0.9)\n",
    "plt.xlabel(\"age_recode_27\")\n",
    "plt.ylabel(\"Numbers\")\n",
    "plt.show()"
   ]
  },
  {
   "cell_type": "code",
   "execution_count": 17,
   "metadata": {},
   "outputs": [
    {
     "data": {
      "image/png": "[encoded data removed]",
      "text/plain": [
       "<Figure size 432x288 with 1 Axes>"
      ]
     },
     "metadata": {
      "needs_background": "light"
     },
     "output_type": "display_data"
    }
   ],
   "source": [
    "# Plot of Natural\n",
    "xsex = data_natural['sex'].values\n",
    "plt.title(\"Histogram of Natural\")\n",
    "#binblock = np.arange(650, 2950, 100)\n",
    "plt.hist(xsex, bins = 'auto', rwidth=0.9)\n",
    "plt.xlabel(\"sex\")\n",
    "plt.ylabel(\"Numbers\")\n",
    "plt.show()"
   ]
  },
  {
   "cell_type": "code",
   "execution_count": 86,
   "metadata": {},
   "outputs": [
    {
     "data": {
      "image/png": "[encoded data removed]",
      "text/plain": [
       "<Figure size 432x288 with 1 Axes>"
      ]
     },
     "metadata": {
      "needs_background": "light"
     },
     "output_type": "display_data"
    }
   ],
   "source": [
    "# Plot of Natural\n",
    "xrace = data_natural['race'].values\n",
    "plt.title(\"Histogram of Natural\")\n",
    "plt.hist(xrace, bins = 'auto', rwidth=0.8)\n",
    "plt.xlabel(\"race\")\n",
    "plt.ylabel(\"Numbers\")\n",
    "plt.show()"
   ]
  },
  {
   "cell_type": "code",
   "execution_count": 87,
   "metadata": {},
   "outputs": [
    {
     "data": {
      "image/png": "[encoded data removed]",
      "text/plain": [
       "<Figure size 432x288 with 1 Axes>"
      ]
     },
     "metadata": {
      "needs_background": "light"
     },
     "output_type": "display_data"
    }
   ],
   "source": [
    "# Range is only 0 -10\n",
    "xrace = data_natural['race'].values\n",
    "plt.title(\"Histogram of Natural\")\n",
    "plt.hist(xrace, bins = 'auto', rwidth=0.5, range=(0, 10))\n",
    "plt.xlabel(\"race\")\n",
    "plt.ylabel(\"Numbers\")\n",
    "plt.show()\n",
    "# race No.1 : White, 2 : Black"
   ]
  },
  {
   "cell_type": "code",
   "execution_count": 88,
   "metadata": {},
   "outputs": [],
   "source": [
    "data_pend = data_2005[data_2005['manner_of_death'].isin([4])]"
   ]
  },
  {
   "cell_type": "code",
   "execution_count": 17,
   "metadata": {},
   "outputs": [
    {
     "data": {
      "image/png": "[encoded data removed]",
      "text/plain": [
       "<Figure size 432x288 with 1 Axes>"
      ]
     },
     "metadata": {
      "needs_background": "light"
     },
     "output_type": "display_data"
    }
   ],
   "source": [
    "# Plot of Pending Investigation\n",
    "x_pend = data_pend['age_recode_27'].values\n",
    "plt.title(\"Histogram of Pending Investigation\")\n",
    "plt.hist(x_pend ,bins = 'auto', rwidth=0.9)\n",
    "plt.xlabel(\"age_recode_27\")\n",
    "plt.ylabel(\"Numbers\")\n",
    "plt.show()"
   ]
  },
  {
   "cell_type": "code",
   "execution_count": 18,
   "metadata": {},
   "outputs": [
    {
     "data": {
      "image/png": "[encoded data removed]",
      "text/plain": [
       "<Figure size 432x288 with 1 Axes>"
      ]
     },
     "metadata": {
      "needs_background": "light"
     },
     "output_type": "display_data"
    }
   ],
   "source": [
    "# Plot of Pending Investigation\n",
    "xsex = data_pend['sex'].values\n",
    "plt.title(\"Histogram of Pending Investigation\")\n",
    "#binblock = np.arange(650, 2950, 100)\n",
    "plt.hist(xsex, bins = 'auto', rwidth=0.9)\n",
    "plt.xlabel(\"sex\")\n",
    "plt.ylabel(\"Numbers\")\n",
    "plt.show()"
   ]
  },
  {
   "cell_type": "code",
   "execution_count": 89,
   "metadata": {},
   "outputs": [
    {
     "data": {
      "image/png": "[encoded data removed]",
      "text/plain": [
       "<Figure size 432x288 with 1 Axes>"
      ]
     },
     "metadata": {
      "needs_background": "light"
     },
     "output_type": "display_data"
    }
   ],
   "source": [
    "# Plot of Pending Investigation\n",
    "xrace = data_pend['race'].values\n",
    "plt.title(\"Histogram of Pending Investigation\")\n",
    "plt.hist(xrace, bins = 'auto', rwidth=0.8)\n",
    "plt.xlabel(\"race\")\n",
    "plt.ylabel(\"Numbers\")\n",
    "plt.show()"
   ]
  },
  {
   "cell_type": "code",
   "execution_count": 90,
   "metadata": {},
   "outputs": [
    {
     "data": {
      "image/png": "[encoded data removed]",
      "text/plain": [
       "<Figure size 432x288 with 1 Axes>"
      ]
     },
     "metadata": {
      "needs_background": "light"
     },
     "output_type": "display_data"
    }
   ],
   "source": [
    "# Range is only 0 -10\n",
    "xrace = data_pend['race'].values\n",
    "plt.title(\"Histogram of Pending Investigation\")\n",
    "plt.hist(xrace, bins = 'auto', rwidth=0.5, range=(0, 10))\n",
    "plt.xlabel(\"race\")\n",
    "plt.ylabel(\"Numbers\")\n",
    "plt.show()\n",
    "# race No.1 : White, 2 : Black"
   ]
  },
  {
   "cell_type": "code",
   "execution_count": 91,
   "metadata": {},
   "outputs": [],
   "source": [
    "data_couldnot = data_2005[data_2005['manner_of_death'].isin([5])]"
   ]
  },
  {
   "cell_type": "code",
   "execution_count": 19,
   "metadata": {},
   "outputs": [
    {
     "data": {
      "image/png": "[encoded data removed]",
      "text/plain": [
       "<Figure size 432x288 with 1 Axes>"
      ]
     },
     "metadata": {
      "needs_background": "light"
     },
     "output_type": "display_data"
    }
   ],
   "source": [
    "# Plot of Could not determine\n",
    "x_couldnot = data_couldnot['age_recode_27'].values\n",
    "plt.title(\"Histogram of Could not determine\")\n",
    "plt.hist(x_couldnot ,bins = 'auto', rwidth=0.9)\n",
    "plt.xlabel(\"age_recode_27\")\n",
    "plt.ylabel(\"Numbers\")\n",
    "plt.show()"
   ]
  },
  {
   "cell_type": "code",
   "execution_count": 20,
   "metadata": {},
   "outputs": [
    {
     "data": {
      "image/png": "[encoded data removed]",
      "text/plain": [
       "<Figure size 432x288 with 1 Axes>"
      ]
     },
     "metadata": {
      "needs_background": "light"
     },
     "output_type": "display_data"
    }
   ],
   "source": [
    "# Plot of Could not determine\n",
    "xsex = data_couldnot['sex'].values\n",
    "plt.title(\"Histogram of Could not determine\")\n",
    "#binblock = np.arange(650, 2950, 100)\n",
    "plt.hist(xsex, bins = 'auto', rwidth=0.9)\n",
    "plt.xlabel(\"sex\")\n",
    "plt.ylabel(\"Numbers\")\n",
    "plt.show()"
   ]
  },
  {
   "cell_type": "code",
   "execution_count": 92,
   "metadata": {},
   "outputs": [
    {
     "data": {
      "image/png": "[encoded data removed]",
      "text/plain": [
       "<Figure size 432x288 with 1 Axes>"
      ]
     },
     "metadata": {
      "needs_background": "light"
     },
     "output_type": "display_data"
    }
   ],
   "source": [
    "# Plot of Could not determine\n",
    "xrace = data_couldnot['race'].values\n",
    "plt.title(\"Histogram of Could not determine\")\n",
    "plt.hist(xrace, bins = 'auto', rwidth=0.8)\n",
    "plt.xlabel(\"race\")\n",
    "plt.ylabel(\"Numbers\")\n",
    "plt.show()"
   ]
  },
  {
   "cell_type": "code",
   "execution_count": 93,
   "metadata": {},
   "outputs": [
    {
     "data": {
      "image/png": "[encoded data removed]",
      "text/plain": [
       "<Figure size 432x288 with 1 Axes>"
      ]
     },
     "metadata": {
      "needs_background": "light"
     },
     "output_type": "display_data"
    }
   ],
   "source": [
    "# Range is only 0 -10\n",
    "xrace = data_couldnot['race'].values\n",
    "plt.title(\"Histogram of Could not determine\")\n",
    "plt.hist(xrace, bins = 'auto', rwidth=0.5, range=(0, 10))\n",
    "plt.xlabel(\"race\")\n",
    "plt.ylabel(\"Numbers\")\n",
    "plt.show()\n",
    "# race No.1 : White, 2 : Black"
   ]
  },
  {
   "cell_type": "code",
   "execution_count": 22,
   "metadata": {},
   "outputs": [],
   "source": [
    "data_selfinflicted = data_2005[data_2005['manner_of_death'].isin([6])]"
   ]
  },
  {
   "cell_type": "code",
   "execution_count": 23,
   "metadata": {},
   "outputs": [
    {
     "data": {
      "image/png": "[encoded data removed]",
      "text/plain": [
       "<Figure size 432x288 with 1 Axes>"
      ]
     },
     "metadata": {
      "needs_background": "light"
     },
     "output_type": "display_data"
    }
   ],
   "source": [
    "# Plot of Self-Inflicted → data empty\n",
    "x_selfinflicted = data_selfinflicted['age_recode_27'].values\n",
    "plt.title(\"Histogram of Self-Inflicted\")\n",
    "plt.hist(x_selfinflicted, bins = 'auto', rwidth=0.9)\n",
    "plt.xlabel(\"age_recode_27\")\n",
    "plt.ylabel(\"Numbers\")\n",
    "plt.show()"
   ]
  },
  {
   "cell_type": "code",
   "execution_count": 32,
   "metadata": {},
   "outputs": [],
   "source": [
    "#df2[df2['E'].isin(['two','four'])]\n",
    "data_age_04 = data_2005[data_2005['age_recode_27'].isin(['01','02','03','04','05','06'])]"
   ]
  },
  {
   "cell_type": "code",
   "execution_count": 33,
   "metadata": {},
   "outputs": [
    {
     "name": "stdout",
     "output_type": "stream",
     "text": [
      "108    14509\n",
      "109     6102\n",
      "110     3827\n",
      "111     1815\n",
      "123     1049\n",
      "       ...  \n",
      "2          1\n",
      "62         1\n",
      "49         1\n",
      "33         1\n",
      "14         1\n",
      "Name: 113_cause_recode, Length: 84, dtype: int64\n"
     ]
    }
   ],
   "source": [
    "# data_age_04 - 0 to 4 years old\n",
    "#pd.set_option('display.max_rows', 100)\n",
    "frq = data_age_04['113_cause_recode'].value_counts()\n",
    "print(frq)"
   ]
  },
  {
   "cell_type": "code",
   "execution_count": 30,
   "metadata": {},
   "outputs": [],
   "source": [
    "data_age7 = data_2005[data_2005['age_recode_27'].isin(['07'])]"
   ]
  },
  {
   "cell_type": "code",
   "execution_count": 31,
   "metadata": {},
   "outputs": [
    {
     "name": "stdout",
     "output_type": "stream",
     "text": [
      "114    628\n",
      "111    366\n",
      "109    198\n",
      "36     192\n",
      "121    137\n",
      "      ... \n",
      "96       1\n",
      "87       1\n",
      "95       1\n",
      "99       1\n",
      "55       1\n",
      "Name: 113_cause_recode, Length: 71, dtype: int64\n"
     ]
    }
   ],
   "source": [
    "# data_age7 -- 5-9\n",
    "#pd.set_option('display.max_rows', 100)\n",
    "frq = data_age7['113_cause_recode'].value_counts()\n",
    "print(frq)"
   ]
  },
  {
   "cell_type": "code",
   "execution_count": 26,
   "metadata": {},
   "outputs": [],
   "source": [
    "data_age8 = data_2005[data_2005['age_recode_27'].isin([8])]"
   ]
  },
  {
   "cell_type": "code",
   "execution_count": 27,
   "metadata": {},
   "outputs": [
    {
     "name": "stdout",
     "output_type": "stream",
     "text": [
      "114    834\n",
      "111    494\n",
      "109    202\n",
      "126    186\n",
      "43     163\n",
      "      ... \n",
      "15       1\n",
      "11       1\n",
      "90       1\n",
      "7        1\n",
      "6        1\n",
      "Name: 113_cause_recode, Length: 75, dtype: int64\n"
     ]
    }
   ],
   "source": [
    "# data_age8 -- 10-14\n",
    "#pd.set_option('display.max_rows', 100)\n",
    "frq = data_age8['113_cause_recode'].value_counts()\n",
    "print(frq)"
   ]
  },
  {
   "cell_type": "code",
   "execution_count": 24,
   "metadata": {},
   "outputs": [],
   "source": [
    "data_age9 = data_2005[data_2005['age_recode_27'].isin([9])]"
   ]
  },
  {
   "cell_type": "code",
   "execution_count": 25,
   "metadata": {},
   "outputs": [
    {
     "name": "stdout",
     "output_type": "stream",
     "text": [
      "114    4992\n",
      "128    1745\n",
      "126     877\n",
      "111     839\n",
      "125     738\n",
      "       ... \n",
      "30        1\n",
      "102       1\n",
      "101       1\n",
      "60        1\n",
      "90        1\n",
      "Name: 113_cause_recode, Length: 87, dtype: int64\n"
     ]
    }
   ],
   "source": [
    "# data_age9 -- 15-19\n",
    "#pd.set_option('display.max_rows', 100)\n",
    "frq = data_age9['113_cause_recode'].value_counts()\n",
    "print(frq)"
   ]
  },
  {
   "cell_type": "code",
   "execution_count": null,
   "metadata": {},
   "outputs": [],
   "source": []
  },
  {
   "cell_type": "code",
   "execution_count": 39,
   "metadata": {},
   "outputs": [],
   "source": [
    "data_age8_9 = data_2005[data_2005['age_recode_27'].isin(['08','09'])]"
   ]
  },
  {
   "cell_type": "code",
   "execution_count": 40,
   "metadata": {},
   "outputs": [
    {
     "name": "stdout",
     "output_type": "stream",
     "text": [
      "114    5826\n",
      "128    1889\n",
      "111    1333\n",
      "126    1063\n",
      "125     822\n",
      "       ... \n",
      "33        1\n",
      "31        1\n",
      "7         1\n",
      "101       1\n",
      "56        1\n",
      "Name: 113_cause_recode, Length: 90, dtype: int64\n"
     ]
    }
   ],
   "source": [
    "# data_age8&9 -- 10-19\n",
    "frq = data_age8_9['113_cause_recode'].value_counts()\n",
    "print(frq)"
   ]
  },
  {
   "cell_type": "code",
   "execution_count": 33,
   "metadata": {},
   "outputs": [],
   "source": [
    "data_age10 = data_2005[data_2005['age_recode_27'].isin([10])]"
   ]
  },
  {
   "cell_type": "code",
   "execution_count": 42,
   "metadata": {},
   "outputs": [
    {
     "name": "stdout",
     "output_type": "stream",
     "text": [
      "114    6000\n",
      "128    2768\n",
      "122    1855\n",
      "126    1380\n",
      "111    1226\n",
      "125    1224\n",
      "129     638\n",
      "110     531\n",
      "68      511\n",
      "123     461\n",
      "120     354\n",
      "43      308\n",
      "133     286\n",
      "109     251\n",
      "40      247\n",
      "118     165\n",
      "107     139\n",
      "46      135\n",
      "16      132\n",
      "116     123\n",
      "70      120\n",
      "36      116\n",
      "121     106\n",
      "119     105\n",
      "78       98\n",
      "115      98\n",
      "10       88\n",
      "39       81\n",
      "85       80\n",
      "89       63\n",
      "45       63\n",
      "130      61\n",
      "132      54\n",
      "59       54\n",
      "63       53\n",
      "100      51\n",
      "38       50\n",
      "18       48\n",
      "44       43\n",
      "56       37\n",
      "23       35\n",
      "28       33\n",
      "67       30\n",
      "75       25\n",
      "24       22\n",
      "73       22\n",
      "88       22\n",
      "22       18\n",
      "20       16\n",
      "66       16\n",
      "50       16\n",
      "69       15\n",
      "135      15\n",
      "74       14\n",
      "32       14\n",
      "62       14\n",
      "30       13\n",
      "95       12\n",
      "29       12\n",
      "27       12\n",
      "9        11\n",
      "15        9\n",
      "34        9\n",
      "102       8\n",
      "6         7\n",
      "90        7\n",
      "65        7\n",
      "96        7\n",
      "94        7\n",
      "77        6\n",
      "99        6\n",
      "91        6\n",
      "55        6\n",
      "86        5\n",
      "57        5\n",
      "5         5\n",
      "108       4\n",
      "83        3\n",
      "134       3\n",
      "31        3\n",
      "71        2\n",
      "25        2\n",
      "21        2\n",
      "106       2\n",
      "80        2\n",
      "92        2\n",
      "60        2\n",
      "104       1\n",
      "41        1\n",
      "81        1\n",
      "3         1\n",
      "17        1\n",
      "51        1\n",
      "48        1\n",
      "Name: 113_cause_recode, dtype: int64\n"
     ]
    }
   ],
   "source": [
    "# data_age10 -- 20-24\n",
    "#pd.set_option('display.max_rows', 100)\n",
    "frq = data_age10['113_cause_recode'].value_counts()\n",
    "print(frq)"
   ]
  },
  {
   "cell_type": "code",
   "execution_count": 43,
   "metadata": {},
   "outputs": [],
   "source": [
    "data_age11 = data_2005[data_2005['age_recode_27'].isin([11])]"
   ]
  },
  {
   "cell_type": "code",
   "execution_count": 45,
   "metadata": {},
   "outputs": [
    {
     "name": "stdout",
     "output_type": "stream",
     "text": [
      "114    3965\n",
      "128    2216\n",
      "122    2128\n",
      "111    1416\n",
      "126    1265\n",
      "       ... \n",
      "33        1\n",
      "42        1\n",
      "51        1\n",
      "83        1\n",
      "11        1\n",
      "Name: 113_cause_recode, Length: 102, dtype: int64\n"
     ]
    }
   ],
   "source": [
    "# data_age11 -- 25-29\n",
    "#pd.set_option('display.max_rows', 100)\n",
    "frq = data_age11['113_cause_recode'].value_counts()\n",
    "print(frq)"
   ]
  },
  {
   "cell_type": "code",
   "execution_count": 41,
   "metadata": {},
   "outputs": [],
   "source": [
    "data_age10_11 = data_2005[data_2005['age_recode_27'].isin(['10','11'])]"
   ]
  },
  {
   "cell_type": "code",
   "execution_count": 42,
   "metadata": {},
   "outputs": [
    {
     "name": "stdout",
     "output_type": "stream",
     "text": [
      "114    9965\n",
      "128    4984\n",
      "122    3983\n",
      "126    2645\n",
      "111    2642\n",
      "       ... \n",
      "42        1\n",
      "17        1\n",
      "49        1\n",
      "33        1\n",
      "26        1\n",
      "Name: 113_cause_recode, Length: 103, dtype: int64\n"
     ]
    }
   ],
   "source": [
    "# data_age 10&11 -- 20-29\n",
    "frq = data_age10_11['113_cause_recode'].value_counts()\n",
    "print(frq)"
   ]
  },
  {
   "cell_type": "code",
   "execution_count": 47,
   "metadata": {},
   "outputs": [],
   "source": [
    "data_age12 = data_2005[data_2005['age_recode_27'].isin([12])]"
   ]
  },
  {
   "cell_type": "code",
   "execution_count": 48,
   "metadata": {},
   "outputs": [
    {
     "name": "stdout",
     "output_type": "stream",
     "text": [
      "114    3340\n",
      "122    2272\n",
      "111    1755\n",
      "128    1581\n",
      "126    1477\n",
      "       ... \n",
      "17        1\n",
      "80        1\n",
      "13        1\n",
      "98        1\n",
      "134       1\n",
      "Name: 113_cause_recode, Length: 102, dtype: int64\n"
     ]
    }
   ],
   "source": [
    "# data_age12 -- 30-34\n",
    "#pd.set_option('display.max_rows', 100)\n",
    "frq = data_age12['113_cause_recode'].value_counts()\n",
    "print(frq)"
   ]
  },
  {
   "cell_type": "code",
   "execution_count": 49,
   "metadata": {},
   "outputs": [],
   "source": [
    "data_age13 = data_2005[data_2005['age_recode_27'].isin([13])]"
   ]
  },
  {
   "cell_type": "code",
   "execution_count": 50,
   "metadata": {},
   "outputs": [
    {
     "name": "stdout",
     "output_type": "stream",
     "text": [
      "114    3209\n",
      "111    2931\n",
      "122    2839\n",
      "16     1701\n",
      "126    1655\n",
      "       ... \n",
      "108       1\n",
      "42        1\n",
      "104       1\n",
      "101       1\n",
      "98        1\n",
      "Name: 113_cause_recode, Length: 104, dtype: int64\n"
     ]
    }
   ],
   "source": [
    "# data_age13 -- 35-39\n",
    "#pd.set_option('display.max_rows', 100)\n",
    "frq = data_age13['113_cause_recode'].value_counts()\n",
    "print(frq)"
   ]
  },
  {
   "cell_type": "code",
   "execution_count": 43,
   "metadata": {},
   "outputs": [],
   "source": [
    "data_age12_13 = data_2005[data_2005['age_recode_27'].isin(['12','13'])]"
   ]
  },
  {
   "cell_type": "code",
   "execution_count": 44,
   "metadata": {},
   "outputs": [
    {
     "name": "stdout",
     "output_type": "stream",
     "text": [
      "114    6549\n",
      "122    5111\n",
      "111    4686\n",
      "126    3132\n",
      "128    2652\n",
      "       ... \n",
      "101       1\n",
      "42        1\n",
      "1         1\n",
      "13        1\n",
      "49        1\n",
      "Name: 113_cause_recode, Length: 107, dtype: int64\n"
     ]
    }
   ],
   "source": [
    "# data_age12 &13 -- 30-39\n",
    "frq = data_age12_13['113_cause_recode'].value_counts()\n",
    "print(frq)"
   ]
  },
  {
   "cell_type": "code",
   "execution_count": 51,
   "metadata": {},
   "outputs": [],
   "source": [
    "data_age14 = data_2005[data_2005['age_recode_27'].isin([14])]"
   ]
  },
  {
   "cell_type": "code",
   "execution_count": 52,
   "metadata": {},
   "outputs": [
    {
     "name": "stdout",
     "output_type": "stream",
     "text": [
      "111    5220\n",
      "122    3910\n",
      "114    3594\n",
      "16     2683\n",
      "68     2347\n",
      "       ... \n",
      "87        1\n",
      "134       1\n",
      "17        1\n",
      "49        1\n",
      "1         1\n",
      "Name: 113_cause_recode, Length: 105, dtype: int64\n"
     ]
    }
   ],
   "source": [
    "# data_age14 -- 40-44\n",
    "#pd.set_option('display.max_rows', 100)\n",
    "frq = data_age14['113_cause_recode'].value_counts()\n",
    "print(frq)"
   ]
  },
  {
   "cell_type": "code",
   "execution_count": 53,
   "metadata": {},
   "outputs": [],
   "source": [
    "data_age15 = data_2005[data_2005['age_recode_27'].isin([15])]"
   ]
  },
  {
   "cell_type": "code",
   "execution_count": 54,
   "metadata": {},
   "outputs": [
    {
     "name": "stdout",
     "output_type": "stream",
     "text": [
      "111    7572\n",
      "27     4603\n",
      "122    4109\n",
      "59     3901\n",
      "68     3501\n",
      "       ... \n",
      "49        2\n",
      "42        1\n",
      "106       1\n",
      "134       1\n",
      "17        1\n",
      "Name: 113_cause_recode, Length: 103, dtype: int64\n"
     ]
    }
   ],
   "source": [
    "# data_age15 -- 45-49\n",
    "#pd.set_option('display.max_rows', 100)\n",
    "frq = data_age15['113_cause_recode'].value_counts()\n",
    "print(frq)"
   ]
  },
  {
   "cell_type": "code",
   "execution_count": 45,
   "metadata": {},
   "outputs": [],
   "source": [
    "data_age14_15 = data_2005[data_2005['age_recode_27'].isin(['14','15'])]"
   ]
  },
  {
   "cell_type": "code",
   "execution_count": 46,
   "metadata": {},
   "outputs": [
    {
     "name": "stdout",
     "output_type": "stream",
     "text": [
      "111    12792\n",
      "122     8019\n",
      "114     7051\n",
      "27      6488\n",
      "59      5898\n",
      "       ...  \n",
      "101        2\n",
      "134        2\n",
      "17         2\n",
      "106        1\n",
      "1          1\n",
      "Name: 113_cause_recode, Length: 106, dtype: int64\n"
     ]
    }
   ],
   "source": [
    "# data_age14&15 -- 40-49\n",
    "frq = data_age14_15['113_cause_recode'].value_counts()\n",
    "print(frq)"
   ]
  },
  {
   "cell_type": "code",
   "execution_count": 55,
   "metadata": {},
   "outputs": [],
   "source": [
    "data_age16 = data_2005[data_2005['age_recode_27'].isin([16])]"
   ]
  },
  {
   "cell_type": "code",
   "execution_count": 56,
   "metadata": {},
   "outputs": [
    {
     "name": "stdout",
     "output_type": "stream",
     "text": [
      "111    9592\n",
      "27     8039\n",
      "59     6190\n",
      "63     5555\n",
      "68     4254\n",
      "       ... \n",
      "1         2\n",
      "101       1\n",
      "42        1\n",
      "2         1\n",
      "106       1\n",
      "Name: 113_cause_recode, Length: 104, dtype: int64\n"
     ]
    }
   ],
   "source": [
    "# data_age16 -- 50-54\n",
    "#pd.set_option('display.max_rows', 100)\n",
    "frq = data_age16['113_cause_recode'].value_counts()\n",
    "print(frq)"
   ]
  },
  {
   "cell_type": "code",
   "execution_count": 57,
   "metadata": {},
   "outputs": [],
   "source": [
    "data_age17 = data_2005[data_2005['age_recode_27'].isin([17])]"
   ]
  },
  {
   "cell_type": "code",
   "execution_count": 58,
   "metadata": {},
   "outputs": [
    {
     "name": "stdout",
     "output_type": "stream",
     "text": [
      "27     12825\n",
      "111    10485\n",
      "59      8330\n",
      "63      7815\n",
      "68      5169\n",
      "       ...  \n",
      "2          2\n",
      "1          2\n",
      "13         1\n",
      "17         1\n",
      "108        1\n",
      "Name: 113_cause_recode, Length: 108, dtype: int64\n"
     ]
    }
   ],
   "source": [
    "# data_age17 -- 55-59\n",
    "#pd.set_option('display.max_rows', 100)\n",
    "frq = data_age17['113_cause_recode'].value_counts()\n",
    "print(frq)"
   ]
  },
  {
   "cell_type": "code",
   "execution_count": 47,
   "metadata": {},
   "outputs": [],
   "source": [
    "data_age16_17 = data_2005[data_2005['age_recode_27'].isin(['16','17'])]"
   ]
  },
  {
   "cell_type": "code",
   "execution_count": 48,
   "metadata": {},
   "outputs": [
    {
     "name": "stdout",
     "output_type": "stream",
     "text": [
      "27     20864\n",
      "111    20077\n",
      "59     14520\n",
      "63     13370\n",
      "68      9423\n",
      "       ...  \n",
      "2          3\n",
      "81         3\n",
      "13         1\n",
      "17         1\n",
      "106        1\n",
      "Name: 113_cause_recode, Length: 109, dtype: int64\n"
     ]
    }
   ],
   "source": [
    "# data_age16 & 17 -- 50-59\n",
    "frq = data_age16_17['113_cause_recode'].value_counts()\n",
    "print(frq)"
   ]
  },
  {
   "cell_type": "code",
   "execution_count": 4,
   "metadata": {},
   "outputs": [],
   "source": [
    "data_age18 = data_2005[data_2005['age_recode_27'].isin([18])]"
   ]
  },
  {
   "cell_type": "code",
   "execution_count": 5,
   "metadata": {},
   "outputs": [
    {
     "name": "stdout",
     "output_type": "stream",
     "text": [
      "27     18568\n",
      "111    10663\n",
      "63     10423\n",
      "59     10298\n",
      "86      6744\n",
      "       ...  \n",
      "81         3\n",
      "101        2\n",
      "13         1\n",
      "108        1\n",
      "107        1\n",
      "Name: 113_cause_recode, Length: 105, dtype: int64\n"
     ]
    }
   ],
   "source": [
    "# data_age18 -- 60-64\n",
    "#pd.set_option('display.max_rows', 100)\n",
    "frq = data_age18['113_cause_recode'].value_counts()\n",
    "print(frq)"
   ]
  },
  {
   "cell_type": "code",
   "execution_count": 6,
   "metadata": {},
   "outputs": [],
   "source": [
    "data_age19 = data_2005[data_2005['age_recode_27'].isin([19])]"
   ]
  },
  {
   "cell_type": "code",
   "execution_count": 7,
   "metadata": {},
   "outputs": [
    {
     "name": "stdout",
     "output_type": "stream",
     "text": [
      "27     22169\n",
      "63     13337\n",
      "111    11737\n",
      "59     11696\n",
      "86     10193\n",
      "       ...  \n",
      "2          2\n",
      "1          2\n",
      "81         2\n",
      "11         1\n",
      "107        1\n",
      "Name: 113_cause_recode, Length: 104, dtype: int64\n"
     ]
    }
   ],
   "source": [
    "# data_age19 -- 65-69\n",
    "#pd.set_option('display.max_rows', 100)\n",
    "frq = data_age19['113_cause_recode'].value_counts()\n",
    "print(frq)"
   ]
  },
  {
   "cell_type": "code",
   "execution_count": 49,
   "metadata": {},
   "outputs": [],
   "source": [
    "data_age18_19 = data_2005[data_2005['age_recode_27'].isin(['18','19'])]"
   ]
  },
  {
   "cell_type": "code",
   "execution_count": 50,
   "metadata": {},
   "outputs": [
    {
     "name": "stdout",
     "output_type": "stream",
     "text": [
      "27     40737\n",
      "63     23760\n",
      "111    22400\n",
      "59     21994\n",
      "86     16937\n",
      "       ...  \n",
      "101        4\n",
      "107        2\n",
      "2          2\n",
      "13         1\n",
      "108        1\n",
      "Name: 113_cause_recode, Length: 106, dtype: int64\n"
     ]
    }
   ],
   "source": [
    "# data_age18 &19 -- 60-69\n",
    "frq = data_age18_19['113_cause_recode'].value_counts()\n",
    "print(frq)"
   ]
  },
  {
   "cell_type": "code",
   "execution_count": 8,
   "metadata": {},
   "outputs": [],
   "source": [
    "data_age20 = data_2005[data_2005['age_recode_27'].isin([20])]"
   ]
  },
  {
   "cell_type": "code",
   "execution_count": 9,
   "metadata": {},
   "outputs": [
    {
     "name": "stdout",
     "output_type": "stream",
     "text": [
      "27     26247\n",
      "63     19348\n",
      "111    15552\n",
      "86     15383\n",
      "59     15071\n",
      "       ...  \n",
      "9          2\n",
      "134        2\n",
      "7          1\n",
      "17         1\n",
      "1          1\n",
      "Name: 113_cause_recode, Length: 105, dtype: int64\n"
     ]
    }
   ],
   "source": [
    "# data_age20 -- 70-74\n",
    "#pd.set_option('display.max_rows', 100)\n",
    "frq = data_age20['113_cause_recode'].value_counts()\n",
    "print(frq)"
   ]
  },
  {
   "cell_type": "code",
   "execution_count": 10,
   "metadata": {},
   "outputs": [],
   "source": [
    "data_age21 = data_2005[data_2005['age_recode_27'].isin([21])]"
   ]
  },
  {
   "cell_type": "code",
   "execution_count": 11,
   "metadata": {},
   "outputs": [
    {
     "name": "stdout",
     "output_type": "stream",
     "text": [
      "63     30030\n",
      "27     27607\n",
      "111    23238\n",
      "86     21321\n",
      "59     20207\n",
      "       ...  \n",
      "101        3\n",
      "134        3\n",
      "132        2\n",
      "13         1\n",
      "108        1\n",
      "Name: 113_cause_recode, Length: 105, dtype: int64\n"
     ]
    }
   ],
   "source": [
    "# data_age21 -- 75-79\n",
    "#pd.set_option('display.max_rows', 100)\n",
    "frq = data_age21['113_cause_recode'].value_counts()\n",
    "print(frq)"
   ]
  },
  {
   "cell_type": "code",
   "execution_count": 51,
   "metadata": {},
   "outputs": [],
   "source": [
    "data_age20_21 = data_2005[data_2005['age_recode_27'].isin(['20','21'])]"
   ]
  },
  {
   "cell_type": "code",
   "execution_count": 52,
   "metadata": {},
   "outputs": [
    {
     "name": "stdout",
     "output_type": "stream",
     "text": [
      "63     30030\n",
      "27     27607\n",
      "111    23238\n",
      "86     21321\n",
      "59     20207\n",
      "       ...  \n",
      "101        3\n",
      "134        3\n",
      "132        2\n",
      "13         1\n",
      "108        1\n",
      "Name: 113_cause_recode, Length: 105, dtype: int64\n"
     ]
    }
   ],
   "source": [
    "# data_age 20 & 21 -- 70-79\n",
    "frq = data_age21['113_cause_recode'].value_counts()\n",
    "print(frq)"
   ]
  },
  {
   "cell_type": "code",
   "execution_count": 12,
   "metadata": {},
   "outputs": [],
   "source": [
    "data_age22 = data_2005[data_2005['age_recode_27'].isin([22])]"
   ]
  },
  {
   "cell_type": "code",
   "execution_count": 13,
   "metadata": {},
   "outputs": [
    {
     "name": "stdout",
     "output_type": "stream",
     "text": [
      "63     41809\n",
      "111    33506\n",
      "70     28077\n",
      "59     25316\n",
      "86     22715\n",
      "       ...  \n",
      "101        3\n",
      "9          2\n",
      "2          2\n",
      "132        1\n",
      "7          1\n",
      "Name: 113_cause_recode, Length: 104, dtype: int64\n"
     ]
    }
   ],
   "source": [
    "# data_age22 -- 80-84\n",
    "#pd.set_option('display.max_rows', 100)\n",
    "frq = data_age22['113_cause_recode'].value_counts()\n",
    "print(frq)"
   ]
  },
  {
   "cell_type": "code",
   "execution_count": 14,
   "metadata": {},
   "outputs": [],
   "source": [
    "data_age23 = data_2005[data_2005['age_recode_27'].isin([23])]"
   ]
  },
  {
   "cell_type": "code",
   "execution_count": 15,
   "metadata": {},
   "outputs": [
    {
     "name": "stdout",
     "output_type": "stream",
     "text": [
      "63     43677\n",
      "111    36158\n",
      "70     28927\n",
      "59     23696\n",
      "52     19873\n",
      "       ...  \n",
      "1          3\n",
      "11         3\n",
      "132        2\n",
      "101        2\n",
      "134        1\n",
      "Name: 113_cause_recode, Length: 102, dtype: int64\n"
     ]
    }
   ],
   "source": [
    "# data_age23 -- 85-89\n",
    "#pd.set_option('display.max_rows', 100)\n",
    "frq = data_age23['113_cause_recode'].value_counts()\n",
    "print(frq)"
   ]
  },
  {
   "cell_type": "code",
   "execution_count": 16,
   "metadata": {},
   "outputs": [],
   "source": [
    "data_age24 = data_2005[data_2005['age_recode_27'].isin([24])]"
   ]
  },
  {
   "cell_type": "code",
   "execution_count": 17,
   "metadata": {},
   "outputs": [
    {
     "name": "stdout",
     "output_type": "stream",
     "text": [
      "63     33202\n",
      "111    28285\n",
      "70     20451\n",
      "59     16183\n",
      "52     16058\n",
      "       ...  \n",
      "119        3\n",
      "11         2\n",
      "101        2\n",
      "8          1\n",
      "9          1\n",
      "Name: 113_cause_recode, Length: 100, dtype: int64\n"
     ]
    }
   ],
   "source": [
    "# data_age24-- 90-94\n",
    "#pd.set_option('display.max_rows', 100)\n",
    "frq = data_age24['113_cause_recode'].value_counts()\n",
    "print(frq)"
   ]
  },
  {
   "cell_type": "code",
   "execution_count": 18,
   "metadata": {},
   "outputs": [],
   "source": [
    "data_age25 = data_2005[data_2005['age_recode_27'].isin([25])]"
   ]
  },
  {
   "cell_type": "code",
   "execution_count": 19,
   "metadata": {},
   "outputs": [
    {
     "name": "stdout",
     "output_type": "stream",
     "text": [
      "63     13689\n",
      "111    12387\n",
      "70      7407\n",
      "52      6772\n",
      "59      5979\n",
      "       ...  \n",
      "6          1\n",
      "8          1\n",
      "9          1\n",
      "11         1\n",
      "50         1\n",
      "Name: 113_cause_recode, Length: 98, dtype: int64\n"
     ]
    }
   ],
   "source": [
    "# data_age25-- 95-99\n",
    "#pd.set_option('display.max_rows', 100)\n",
    "frq = data_age25['113_cause_recode'].value_counts()\n",
    "print(frq)"
   ]
  },
  {
   "cell_type": "code",
   "execution_count": 20,
   "metadata": {},
   "outputs": [],
   "source": [
    "data_age26 = data_2005[data_2005['age_recode_27'].isin([26])]"
   ]
  },
  {
   "cell_type": "code",
   "execution_count": 21,
   "metadata": {},
   "outputs": [
    {
     "name": "stdout",
     "output_type": "stream",
     "text": [
      "63     3131\n",
      "111    2648\n",
      "70     1422\n",
      "67     1278\n",
      "59     1217\n",
      "       ... \n",
      "128       1\n",
      "125       1\n",
      "133       1\n",
      "126       1\n",
      "16        1\n",
      "Name: 113_cause_recode, Length: 85, dtype: int64\n"
     ]
    }
   ],
   "source": [
    "# data_age26-- 100 years and over\n",
    "#pd.set_option('display.max_rows', 100)\n",
    "frq = data_age26['113_cause_recode'].value_counts()\n",
    "print(frq)"
   ]
  },
  {
   "cell_type": "code",
   "execution_count": 53,
   "metadata": {},
   "outputs": [],
   "source": [
    "data_age22_26 = data_2005[data_2005['age_recode_27'].isin(['22','23','24','25','26'])]"
   ]
  },
  {
   "cell_type": "code",
   "execution_count": 54,
   "metadata": {},
   "outputs": [
    {
     "name": "stdout",
     "output_type": "stream",
     "text": [
      "63     135508\n",
      "111    112984\n",
      "70      86284\n",
      "59      72391\n",
      "52      59457\n",
      "        ...  \n",
      "101         7\n",
      "132         3\n",
      "8           2\n",
      "2           2\n",
      "7           1\n",
      "Name: 113_cause_recode, Length: 105, dtype: int64\n"
     ]
    }
   ],
   "source": [
    "# data_age 22 to 26-- 80 years and over\n",
    "#pd.set_option('display.max_rows', 100)\n",
    "frq = data_age22_26['113_cause_recode'].value_counts()\n",
    "print(frq)"
   ]
  },
  {
   "cell_type": "code",
   "execution_count": 22,
   "metadata": {},
   "outputs": [],
   "source": [
    "data_age27 = data_2005[data_2005['age_recode_27'].isin([27])]"
   ]
  },
  {
   "cell_type": "code",
   "execution_count": 23,
   "metadata": {},
   "outputs": [
    {
     "name": "stdout",
     "output_type": "stream",
     "text": [
      "110    98\n",
      "123    19\n",
      "120    19\n",
      "129    18\n",
      "62     18\n",
      "133    16\n",
      "111    13\n",
      "114    11\n",
      "128    11\n",
      "126     9\n",
      "122     8\n",
      "63      8\n",
      "121     7\n",
      "68      7\n",
      "56      4\n",
      "86      4\n",
      "115     4\n",
      "70      4\n",
      "78      4\n",
      "27      3\n",
      "59      3\n",
      "10      3\n",
      "125     3\n",
      "108     3\n",
      "118     3\n",
      "89      3\n",
      "94      2\n",
      "23      2\n",
      "84      1\n",
      "16      1\n",
      "24      1\n",
      "25      1\n",
      "26      1\n",
      "50      1\n",
      "43      1\n",
      "46      1\n",
      "52      1\n",
      "116     1\n",
      "109     1\n",
      "95      1\n",
      "87      1\n",
      "Name: 113_cause_recode, dtype: int64\n"
     ]
    }
   ],
   "source": [
    "# data_age27-- Age not stated\n",
    "#pd.set_option('display.max_rows', 100)\n",
    "frq = data_age27['113_cause_recode'].value_counts()\n",
    "print(frq)"
   ]
  },
  {
   "cell_type": "markdown",
   "metadata": {},
   "source": [
    "### Scatter Plot"
   ]
  },
  {
   "cell_type": "code",
   "execution_count": 13,
   "metadata": {},
   "outputs": [
    {
     "data": {
      "image/png": "[encoded data removed]",
      "text/plain": [
       "<Figure size 432x288 with 1 Axes>"
      ]
     },
     "metadata": {
      "needs_background": "light"
     },
     "output_type": "display_data"
    }
   ],
   "source": [
    "# Plot of No.63: All other forms of chronic ischemic heart disease\n",
    "age63 = data63['age_recode_27'].values\n",
    "plt.scatter(age63, data63['113_cause_recode'])\n",
    "plt.show()"
   ]
  },
  {
   "cell_type": "code",
   "execution_count": 14,
   "metadata": {},
   "outputs": [
    {
     "data": {
      "image/png": "[encoded data removed]",
      "text/plain": [
       "<Figure size 432x288 with 1 Axes>"
      ]
     },
     "metadata": {
      "needs_background": "light"
     },
     "output_type": "display_data"
    }
   ],
   "source": [
    "age = data_2005['age_recode_27'].values\n",
    "plt.scatter(age, data_2005['113_cause_recode'])\n",
    "plt.xlabel('age')\n",
    "plt.ylabel('113_cause_recode')\n",
    "plt.show()"
   ]
  },
  {
   "cell_type": "code",
   "execution_count": 15,
   "metadata": {},
   "outputs": [
    {
     "data": {
      "image/png": "[encoded data removed]",
      "text/plain": [
       "<Figure size 432x288 with 1 Axes>"
      ]
     },
     "metadata": {
      "needs_background": "light"
     },
     "output_type": "display_data"
    }
   ],
   "source": [
    "x = data_2005['sex'].values\n",
    "plt.scatter(x, data_2005['113_cause_recode'])\n",
    "plt.xlabel('sex')\n",
    "plt.ylabel('113_cause_recode')\n",
    "plt.show()"
   ]
  },
  {
   "cell_type": "code",
   "execution_count": 16,
   "metadata": {},
   "outputs": [
    {
     "data": {
      "image/png": "[encoded data removed]",
      "text/plain": [
       "<Figure size 432x288 with 1 Axes>"
      ]
     },
     "metadata": {
      "needs_background": "light"
     },
     "output_type": "display_data"
    }
   ],
   "source": [
    "x = data_2005['race'].values\n",
    "plt.scatter(x, data_2005['113_cause_recode'])\n",
    "plt.xlabel('race')\n",
    "plt.ylabel('113_cause_recode')\n",
    "plt.show()"
   ]
  },
  {
   "cell_type": "markdown",
   "metadata": {},
   "source": [
    "## Model"
   ]
  },
  {
   "cell_type": "markdown",
   "metadata": {},
   "source": [
    "### Single Linear Regression"
   ]
  },
  {
   "cell_type": "code",
   "execution_count": 35,
   "metadata": {},
   "outputs": [],
   "source": [
    "from sklearn.linear_model import LinearRegression"
   ]
  },
  {
   "cell_type": "code",
   "execution_count": 103,
   "metadata": {},
   "outputs": [],
   "source": [
    "X1 = data_2005['age_recode_27']\n",
    "#X2 = data_2005['sex']\n",
    "dummies = pd.get_dummies(data_2005['sex'],prefix='sex')\n",
    "X2 = dummies\n",
    "X3 = data_2005['race']\n",
    "\n",
    "X  = pd.concat([X1, X2, X3], axis=1).values\n",
    "Y  = data_2005['113_cause_recode'].as_matrix()\n",
    "Y  = Y.reshape((2452506,1))"
   ]
  },
  {
   "cell_type": "code",
   "execution_count": 99,
   "metadata": {},
   "outputs": [],
   "source": [
    "#X.shape #(2452506, 4)\n",
    "#Y.shape #(2452506,)\n",
    "#Y.reshape((2452506,1)).shape #(2452506, 1)"
   ]
  },
  {
   "cell_type": "code",
   "execution_count": 105,
   "metadata": {},
   "outputs": [
    {
     "name": "stdout",
     "output_type": "stream",
     "text": [
      "[[15]\n",
      " [18]\n",
      " [21]\n",
      " ...\n",
      " [ 1]\n",
      " [ 1]\n",
      " [23]]\n"
     ]
    }
   ],
   "source": [
    "X1 = data_2005['age_recode_27'].as_matrix()\n",
    "X1.shape\n",
    "X1 = X1.reshape((2452506,1))\n",
    "print(X1)"
   ]
  },
  {
   "cell_type": "code",
   "execution_count": 106,
   "metadata": {},
   "outputs": [
    {
     "name": "stdout",
     "output_type": "stream",
     "text": [
      "[[ 28]\n",
      " [ 84]\n",
      " [ 70]\n",
      " ...\n",
      " [108]\n",
      " [108]\n",
      " [ 63]]\n"
     ]
    }
   ],
   "source": [
    "print(Y)"
   ]
  },
  {
   "cell_type": "code",
   "execution_count": 110,
   "metadata": {},
   "outputs": [
    {
     "name": "stdout",
     "output_type": "stream",
     "text": [
      "[[-1.36845645]] [93.81658955]\n"
     ]
    }
   ],
   "source": [
    "reg = LinearRegression().fit(X1, Y)\n",
    "print (reg.coef_, reg.intercept_)"
   ]
  },
  {
   "cell_type": "markdown",
   "metadata": {},
   "source": [
    "### Multivariate Linear Regression"
   ]
  },
  {
   "cell_type": "code",
   "execution_count": 111,
   "metadata": {},
   "outputs": [],
   "source": [
    "X1 = data_2005['age_recode_27']\n",
    "#X2 = data_2005['sex']\n",
    "dummies = pd.get_dummies(data_2005['sex'],prefix='sex')\n",
    "X2 = dummies\n",
    "X3 = data_2005['race']\n",
    "\n",
    "X  = pd.concat([X1, X2, X3], axis=1).values\n",
    "Y  = data_2005['113_cause_recode'].values\n",
    "Y  = Y.reshape((2452506,1))"
   ]
  },
  {
   "cell_type": "code",
   "execution_count": 113,
   "metadata": {},
   "outputs": [
    {
     "data": {
      "text/plain": [
       "(2452506, 4)"
      ]
     },
     "execution_count": 113,
     "metadata": {},
     "output_type": "execute_result"
    }
   ],
   "source": [
    "X.shape"
   ]
  },
  {
   "cell_type": "code",
   "execution_count": 114,
   "metadata": {},
   "outputs": [
    {
     "name": "stdout",
     "output_type": "stream",
     "text": [
      "[array([[-1.40036557,  0.59615798, -0.59615798, -0.05838948]]), array([94.53839356])]\n"
     ]
    }
   ],
   "source": [
    "reg = LinearRegression().fit(X, Y)\n",
    "print([reg.coef_, reg.intercept_])"
   ]
  },
  {
   "cell_type": "code",
   "execution_count": null,
   "metadata": {},
   "outputs": [],
   "source": [
    "#hello"
   ]
  }
 ],
 "metadata": {
  "kernelspec": {
   "display_name": "Python 3",
   "language": "python",
   "name": "python3"
  },
  "language_info": {
   "codemirror_mode": {
    "name": "ipython",
    "version": 3
   },
   "file_extension": ".py",
   "mimetype": "text/x-python",
   "name": "python",
   "nbconvert_exporter": "python",
   "pygments_lexer": "ipython3",
   "version": "3.7.2"
  },
  "nbdime-conflicts": {
   "local_diff": [
    {
     "diff": [
      {
       "diff": [
        {
         "key": 0,
         "op": "addrange",
         "valuelist": [
          "3.7.2"
         ]
        },
        {
         "key": 0,
         "length": 1,
         "op": "removerange"
        }
       ],
       "key": "version",
       "op": "patch"
      }
     ],
     "key": "language_info",
     "op": "patch"
    }
   ],
   "remote_diff": [
    {
     "diff": [
      {
       "diff": [
        {
         "key": 0,
         "op": "addrange",
         "valuelist": [
          "3.7.4"
         ]
        },
        {
         "key": 0,
         "length": 1,
         "op": "removerange"
        }
       ],
       "key": "version",
       "op": "patch"
      }
     ],
     "key": "language_info",
     "op": "patch"
    }
   ]
  }
 },
 "nbformat": 4,
 "nbformat_minor": 2
}
