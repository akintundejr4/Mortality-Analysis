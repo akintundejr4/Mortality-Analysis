{
 "cells": [
  {
   "cell_type": "code",
   "execution_count": 1,
   "metadata": {},
   "outputs": [],
   "source": [
    "import sys\n",
    "import warnings\n",
    "import numpy as np\n",
    "import pandas as pd\n",
    "from numpy import genfromtxt\n",
    "#from tabulate import tabulate\n",
    "import numpy.linalg as linalg\n",
    "import matplotlib.pyplot as plt\n",
    "#from prettytable import PrettyTable\n",
    "from sklearn.linear_model import LinearRegression\n",
    "from sklearn.linear_model import LogisticRegression"
   ]
  },
  {
   "cell_type": "code",
   "execution_count": 2,
   "metadata": {},
   "outputs": [],
   "source": [
    "# Getting rid of annoying warning. \n",
    "warnings.filterwarnings('ignore')\n",
    "\n",
    "# Segun - 358_cause_recode\n",
    "# Kuni - 113_cause_recode\n",
    "# Gotham - 130_infact_cause_recode\n",
    "# Lukia - 39_cause_recode\n",
    "\n",
    "# Importing Professor Provided data. \n",
    "#medical_transcriptons_data = genfromtxt('./data-from-canvas/medicaltranscriptions.csv', delimiter=',', skip_header=1)\n",
    "\n",
    "# Importing CDC data. Make sure you have the files in the right folder on your machine.\n",
    "data_2005 = pd.read_csv( './mortality-data/2005_data.csv', na_values=['NA','?'])\n",
    "#data_2006 = pd.read_csv( './mortality-data/2006_data.csv', na_values=['NA','?'])\n",
    "#data_2007 = pd.read_csv( './mortality-data/2007_data.csv', na_values=['NA','?'])\n",
    "#data_2008 = pd.read_csv( './mortality-data/2008_data.csv', na_values=['NA','?'])\n",
    "#data_2009 = pd.read_csv( './mortality-data/2009_data.csv', na_values=['NA','?'])\n",
    "#data_2010 = pd.read_csv( './mortality-data/2010_data.csv', na_values=['NA','?'])\n",
    "#data_2011 = pd.read_csv( './mortality-data/2011_data.csv', na_values=['NA','?'])\n",
    "#data_2012 = pd.read_csv( './mortality-data/2012_data.csv', na_values=['NA','?'])\n",
    "#data_2013 = pd.read_csv( './mortality-data/2013_data.csv', na_values=['NA','?'])\n",
    "#data_2014 = pd.read_csv( './mortality-data/2014_data.csv', na_values=['NA','?'])\n",
    "#data_2015 = pd.read_csv( './mortality-data/2015_data.csv', na_values=['NA','?'])"
   ]
  },
  {
   "cell_type": "code",
   "execution_count": 6,
   "metadata": {},
   "outputs": [
    {
     "data": {
      "image/png": "[encoded data removed]",
      "text/plain": [
       "<Figure size 1152x288 with 1 Axes>"
      ]
     },
     "metadata": {
      "needs_background": "light"
     },
     "output_type": "display_data"
    }
   ],
   "source": [
    "# histgram of 113_cause_recode\n",
    "#df1 = data_2005[['113_cause_recode']]\n",
    "h1= data_2005.plot( y=['113_cause_recode'], bins=135, alpha=0.5, figsize=(16,4), kind='hist')"
   ]
  },
  {
   "cell_type": "code",
   "execution_count": 43,
   "metadata": {},
   "outputs": [],
   "source": [
    "# data info of df1\n",
    "#print(type(df1)) -- class 'pandas.core.frame.DataFrame'>\n",
    "#print(df1[0:10])\n",
    "#print(df1.ndim) -- 2\n",
    "#print(df1.shape)# -- (2452506, 1)"
   ]
  },
  {
   "cell_type": "code",
   "execution_count": 7,
   "metadata": {},
   "outputs": [
    {
     "name": "stdout",
     "output_type": "stream",
     "text": [
      "63     228656\n",
      "111    217898\n",
      "27     159405\n",
      "59     151312\n",
      "70     143789\n",
      "86     112239\n",
      "68     109736\n",
      "46      75207\n",
      "52      71611\n",
      "62      63082\n",
      "43      62926\n",
      "78      61285\n",
      "67      58962\n",
      "23      53315\n",
      "114     45711\n",
      "100     42909\n",
      "29      41546\n",
      "10      34190\n",
      "25      32793\n",
      "110     32162\n",
      "56      29363\n",
      "33      28923\n",
      "89      27085\n",
      "69      24926\n",
      "122     23705\n",
      "40      21679\n",
      "39      20909\n",
      "118     19713\n",
      "51      19550\n",
      "123     18794\n",
      "88      17289\n",
      "125     17013\n",
      "24      16116\n",
      "126     15695\n",
      "32      14800\n",
      "95      14630\n",
      "108     14577\n",
      "84      14017\n",
      "73      13905\n",
      "44      13729\n",
      "21      13516\n",
      "35      13257\n",
      "36      13175\n",
      "94      12959\n",
      "16      12597\n",
      "34      12530\n",
      "128     12402\n",
      "71      11848\n",
      "22      11545\n",
      "41      11215\n",
      "109     10457\n",
      "74       9789\n",
      "28       8354\n",
      "20       7783\n",
      "18       7750\n",
      "31       7104\n",
      "129      5813\n",
      "3        5672\n",
      "15       5556\n",
      "75       4825\n",
      "45       4631\n",
      "133      4556\n",
      "30       3933\n",
      "85       3891\n",
      "26       3802\n",
      "120      3670\n",
      "60       3573\n",
      "90       3488\n",
      "55       3368\n",
      "121      3209\n",
      "57       3175\n",
      "96       3081\n",
      "48       3007\n",
      "135      2659\n",
      "116      1892\n",
      "77       1813\n",
      "92       1641\n",
      "38       1276\n",
      "115      1257\n",
      "65       1210\n",
      "87       1007\n",
      "99        868\n",
      "83        866\n",
      "66        864\n",
      "119       789\n",
      "102       768\n",
      "107       733\n",
      "50        672\n",
      "103       525\n",
      "5         485\n",
      "91        440\n",
      "130       417\n",
      "80        283\n",
      "132       222\n",
      "49        180\n",
      "6         168\n",
      "98        138\n",
      "9         124\n",
      "81        121\n",
      "104       120\n",
      "42         60\n",
      "11         47\n",
      "106        34\n",
      "7          31\n",
      "1          30\n",
      "101        29\n",
      "134        27\n",
      "2          10\n",
      "17          7\n",
      "13          6\n",
      "8           3\n",
      "14          1\n",
      "Name: 113_cause_recode, dtype: int64\n"
     ]
    }
   ],
   "source": [
    "# Display Frequency\n",
    "#https://note.nkmk.me/python-pandas-value-counts/ -- Japanese web site\n",
    "#u = data_2005['113_cause_recode'].unique() : Unique values\n",
    "#print(u)\n",
    "#[ 28  84  70  46  27  86  43 110  23  89 123 133  62 125  44 111  22  24\n",
    "# 100  68 126  78  15  52  25  29  73 109  95  63  32  69  67  21 102   3\n",
    "# 33  20 118  59 116  94  39 108 122  56 121 128  51  55  10  48  74 114\n",
    "#  18   6  40  45  31 129  16  35  77  34  36  41  85   9 120  57  30  60\n",
    "#   5 135 101  26  71  65  88  50  75  90  99  96 115 132  66   7 119  38\n",
    "#  98  87  81  80  92  91  49  83 107 104 103 130   1  42 134   2 106   8\n",
    "#  17  11  13  14]\n",
    "#print(len(u)) -- 112\n",
    "pd.set_option('display.max_rows', 200)\n",
    "frq = data_2005['113_cause_recode'].value_counts()\n",
    "print(frq)"
   ]
  },
  {
   "cell_type": "code",
   "execution_count": null,
   "metadata": {},
   "outputs": [],
   "source": [
    "# From above results, the top 5 of '113_cause_recode' in 2005 data are\n",
    "# 1st:  63 : 228656 --- All other forms of chronic ischemic heart disease (I20,I25.1-I25.9)\n",
    "# 2nd 111 : 217898 --- All other diseases (Residual) (D65-E07,E15-E34,E65-F99,G04-G12,G23-G25,G31-H93, K00-K22,K29-K31,K50-K66,K71-K72,K75-K76,K83-M99, N13.0-N13.5,N13.7-N13.9, N14,N15.0,N15.8-N15.9,N20-N23,N28-N39,N41-N64,N80-N98)\n",
    "# 3rd 27 : 159405 --- Malignant neoplasms of trachea, bronchus and lung (C33-C34)\n",
    "# 4th 59 : 151312 --- Acute myocardial infarction (I21-I22)\n",
    "# 5th 70 : 143789 --- Cerebrovascular diseases (I60-I69)"
   ]
  },
  {
   "cell_type": "code",
   "execution_count": 8,
   "metadata": {},
   "outputs": [],
   "source": [
    "# Getting rid of annoying warning. \n",
    "warnings.filterwarnings('ignore')\n",
    "\n",
    "# Importing Professor Provided data. \n",
    "#medical_transcriptons_data = genfromtxt('./data-from-canvas/medicaltranscriptions.csv', delimiter=',', skip_header=1)\n",
    "\n",
    "# Importing CDC data. Make sure you have the files in the right folder on your machine.\n",
    "#data_2005 = pd.read_csv( './mortality-data/2005_data.csv', na_values=['NA','?'])\n",
    "data_2006 = pd.read_csv( './mortality-data/2006_data.csv', na_values=['NA','?'])\n",
    "data_2007 = pd.read_csv( './mortality-data/2007_data.csv', na_values=['NA','?'])\n",
    "data_2008 = pd.read_csv( './mortality-data/2008_data.csv', na_values=['NA','?'])\n",
    "data_2009 = pd.read_csv( './mortality-data/2009_data.csv', na_values=['NA','?'])\n",
    "data_2010 = pd.read_csv( './mortality-data/2010_data.csv', na_values=['NA','?'])\n",
    "data_2011 = pd.read_csv( './mortality-data/2011_data.csv', na_values=['NA','?'])\n",
    "data_2012 = pd.read_csv( './mortality-data/2012_data.csv', na_values=['NA','?'])\n",
    "data_2013 = pd.read_csv( './mortality-data/2013_data.csv', na_values=['NA','?'])\n",
    "data_2014 = pd.read_csv( './mortality-data/2014_data.csv', na_values=['NA','?'])\n",
    "data_2015 = pd.read_csv( './mortality-data/2015_data.csv', na_values=['NA','?'])"
   ]
  },
  {
   "cell_type": "code",
   "execution_count": 9,
   "metadata": {},
   "outputs": [
    {
     "name": "stdout",
     "output_type": "stream",
     "text": [
      "111    3028258\n",
      "63     2212520\n",
      "27     1733447\n",
      "70     1471444\n",
      "59     1392415\n",
      "86     1378763\n",
      "68     1327848\n",
      "52      921265\n",
      "46      807571\n",
      "43      719789\n",
      "67      674844\n",
      "62      657654\n",
      "78      582254\n",
      "23      581347\n",
      "100     494823\n",
      "29      455641\n",
      "114     429525\n",
      "25      405728\n",
      "110     400774\n",
      "10      399667\n",
      "122     379301\n",
      "56      376585\n",
      "89      351058\n",
      "33      311877\n",
      "69      301297\n",
      "118     290436\n",
      "40      249271\n",
      "51      248572\n",
      "24      227130\n",
      "39      224769\n",
      "125     212980\n",
      "126     208154\n",
      "88      194128\n",
      "123     192160\n",
      "95      181464\n",
      "94      179664\n",
      "44      163860\n",
      "35      161714\n",
      "32      158964\n",
      "36      158911\n",
      "21      156984\n",
      "34      146193\n",
      "108     142847\n",
      "128     130828\n",
      "41      128871\n",
      "22      124569\n",
      "73      122186\n",
      "84      113638\n",
      "109     110071\n",
      "74       99973\n",
      "3        99651\n",
      "16       99513\n",
      "28       98315\n",
      "20       93677\n",
      "31       92552\n",
      "71       84243\n",
      "15       82942\n",
      "18       67846\n",
      "129      58724\n",
      "45       53657\n",
      "133      51353\n",
      "75       47818\n",
      "30       44535\n",
      "60       43905\n",
      "26       41028\n",
      "120      40043\n",
      "85       38978\n",
      "57       38658\n",
      "96       36834\n",
      "55       35364\n",
      "48       34475\n",
      "90       33924\n",
      "121      31493\n",
      "135      28708\n",
      "77       24455\n",
      "99       22018\n",
      "92       20262\n",
      "116      19216\n",
      "65       13412\n",
      "38       13142\n",
      "115      11880\n",
      "107       9922\n",
      "66        9353\n",
      "87        9249\n",
      "83        7349\n",
      "102       7260\n",
      "50        6715\n",
      "119       6526\n",
      "103       5690\n",
      "130       5089\n",
      "5         4578\n",
      "91        4463\n",
      "98        3100\n",
      "132       2825\n",
      "80        2508\n",
      "49        2022\n",
      "6         1591\n",
      "104       1397\n",
      "9          908\n",
      "42         815\n",
      "81         592\n",
      "11         442\n",
      "1          423\n",
      "106        317\n",
      "101        280\n",
      "134        200\n",
      "7          168\n",
      "17          87\n",
      "2           67\n",
      "13          47\n",
      "8           30\n",
      "14           7\n",
      "Name: 113_cause_recode, dtype: int64\n"
     ]
    }
   ],
   "source": [
    "# Frequency of ALL data\n",
    "dt_05 = data_2005['113_cause_recode']\n",
    "dt_06 = data_2006['113_cause_recode']\n",
    "dt_07 = data_2007['113_cause_recode']\n",
    "dt_08 = data_2008['113_cause_recode']\n",
    "dt_09 = data_2009['113_cause_recode']\n",
    "dt_10 = data_2010['113_cause_recode']\n",
    "dt_11 = data_2011['113_cause_recode']\n",
    "dt_12 = data_2012['113_cause_recode']\n",
    "dt_13 = data_2013['113_cause_recode']\n",
    "dt_14 = data_2014['113_cause_recode']\n",
    "dt_15 = data_2015['113_cause_recode']\n",
    "\n",
    "# concatenate all data\n",
    "dt_all = pd.concat([dt_05, dt_06, dt_07, dt_08, dt_09, dt_10, dt_11, dt_12, dt_13, dt_14, dt_15])\n",
    "\n",
    "frq_all = dt_all.value_counts()\n",
    "print(frq_all)"
   ]
  },
  {
   "cell_type": "code",
   "execution_count": null,
   "metadata": {},
   "outputs": [],
   "source": [
    "# From above results, the top 5 of '113_cause_recode' in ALL data are\n",
    "# 1st 111 :  3028258 -- All other diseases (Residual) (D65-E07,E15-E34,E65-F99,G04-G12,G23-G25,G31-H93, K00-K22,K29-K31,K50-K66,K71-K72,K75-K76,K83-M99, N13.0-N13.5,N13.7-N13.9, N14,N15.0,N15.8-N15.9,N20-N23,N28-N39,N41-N64,N80-N98)\n",
    "# 2nd:  63 :  2212520 -- All other forms of chronic ischemic heart disease (I20,I25.1-I25.9)\n",
    "# 3rd 27 : 1733447 -- Malignant neoplasms of trachea, bronchus and lung (C33-C34)\n",
    "# 4th 70 : 1471444 -- Cerebrovascular diseases (I60-I69)\n",
    "# 5th 59 : 1392415 -- Acute myocardial infarction (I21-I22)"
   ]
  },
  {
   "cell_type": "code",
   "execution_count": 10,
   "metadata": {},
   "outputs": [
    {
     "data": {
      "image/png": "[encoded data removed]",
      "text/plain": [
       "<Figure size 1152x288 with 1 Axes>"
      ]
     },
     "metadata": {
      "needs_background": "light"
     },
     "output_type": "display_data"
    }
   ],
   "source": [
    "# Histogram of  '113_cause_recode' in ALL data\n",
    "hall= dt_all.plot( y=['113_cause_recode'], bins=135, alpha=0.5, figsize=(16,4), kind='hist')"
   ]
  },
  {
   "cell_type": "code",
   "execution_count": 16,
   "metadata": {},
   "outputs": [
    {
     "name": "stdout",
     "output_type": "stream",
     "text": [
      "0           28\n",
      "1           84\n",
      "2           70\n",
      "3           46\n",
      "4           27\n",
      "          ... \n",
      "2718193    108\n",
      "2718194     63\n",
      "2718195    111\n",
      "2718196     62\n",
      "2718197     56\n",
      "Name: 113_cause_recode, Length: 27720673, dtype: int64\n"
     ]
    }
   ],
   "source": [
    "print(dt_all)"
   ]
  },
  {
   "cell_type": "code",
   "execution_count": 17,
   "metadata": {},
   "outputs": [
    {
     "name": "stdout",
     "output_type": "stream",
     "text": [
      "count    2.772067e+07\n",
      "mean     6.766977e+01\n",
      "std      3.137384e+01\n",
      "min      1.000000e+00\n",
      "25%      4.300000e+01\n",
      "50%      6.300000e+01\n",
      "75%      8.900000e+01\n",
      "max      1.350000e+02\n",
      "Name: 113_cause_recode, dtype: float64\n"
     ]
    }
   ],
   "source": [
    "print(dt_all.describe())"
   ]
  },
  {
   "cell_type": "code",
   "execution_count": 21,
   "metadata": {},
   "outputs": [
    {
     "data": {
      "text/html": [
       "<div>\n",
       "<style scoped>\n",
       "    .dataframe tbody tr th:only-of-type {\n",
       "        vertical-align: middle;\n",
       "    }\n",
       "\n",
       "    .dataframe tbody tr th {\n",
       "        vertical-align: top;\n",
       "    }\n",
       "\n",
       "    .dataframe thead th {\n",
       "        text-align: right;\n",
       "    }\n",
       "</style>\n",
       "<table border=\"1\" class=\"dataframe\">\n",
       "  <thead>\n",
       "    <tr style=\"text-align: right;\">\n",
       "      <th></th>\n",
       "      <th>113_cause_recode</th>\n",
       "    </tr>\n",
       "  </thead>\n",
       "  <tbody>\n",
       "    <tr>\n",
       "      <td>0</td>\n",
       "      <td>28</td>\n",
       "    </tr>\n",
       "    <tr>\n",
       "      <td>1</td>\n",
       "      <td>84</td>\n",
       "    </tr>\n",
       "    <tr>\n",
       "      <td>2</td>\n",
       "      <td>70</td>\n",
       "    </tr>\n",
       "    <tr>\n",
       "      <td>3</td>\n",
       "      <td>46</td>\n",
       "    </tr>\n",
       "    <tr>\n",
       "      <td>4</td>\n",
       "      <td>27</td>\n",
       "    </tr>\n",
       "    <tr>\n",
       "      <td>...</td>\n",
       "      <td>...</td>\n",
       "    </tr>\n",
       "    <tr>\n",
       "      <td>2452501</td>\n",
       "      <td>59</td>\n",
       "    </tr>\n",
       "    <tr>\n",
       "      <td>2452502</td>\n",
       "      <td>108</td>\n",
       "    </tr>\n",
       "    <tr>\n",
       "      <td>2452503</td>\n",
       "      <td>108</td>\n",
       "    </tr>\n",
       "    <tr>\n",
       "      <td>2452504</td>\n",
       "      <td>108</td>\n",
       "    </tr>\n",
       "    <tr>\n",
       "      <td>2452505</td>\n",
       "      <td>63</td>\n",
       "    </tr>\n",
       "  </tbody>\n",
       "</table>\n",
       "<p>2452506 rows × 1 columns</p>\n",
       "</div>"
      ],
      "text/plain": [
       "         113_cause_recode\n",
       "0                      28\n",
       "1                      84\n",
       "2                      70\n",
       "3                      46\n",
       "4                      27\n",
       "...                   ...\n",
       "2452501                59\n",
       "2452502               108\n",
       "2452503               108\n",
       "2452504               108\n",
       "2452505                63\n",
       "\n",
       "[2452506 rows x 1 columns]"
      ]
     },
     "metadata": {},
     "output_type": "display_data"
    }
   ],
   "source": [
    "display(data_2005[['113_cause_recode']])"
   ]
  },
  {
   "cell_type": "code",
   "execution_count": 26,
   "metadata": {},
   "outputs": [],
   "source": [
    "data63 = data_2005[data_2005['113_cause_recode'].isin([63])]\n",
    "data111 = data_2005[data_2005['113_cause_recode'].isin([111])]\n",
    "data27 = data_2005[data_2005['113_cause_recode'].isin([27])]\n",
    "data59 = data_2005[data_2005['113_cause_recode'].isin([59])]\n",
    "data70 = data_2005[data_2005['113_cause_recode'].isin([70])]\n",
    "#display(data63)"
   ]
  },
  {
   "cell_type": "code",
   "execution_count": null,
   "metadata": {},
   "outputs": [],
   "source": [
    "# 1st:  63 : 228656 --- All other forms of chronic ischemic heart disease (I20,I25.1-I25.9)\n",
    "# 2nd 111 : 217898 --- All other diseases (Residual) (D65-E07,E15-E34,E65-F99,G04-G12,G23-G25,G31-H93, K00-K22,K29-K31,K50-K66,K71-K72,K75-K76,K83-M99, N13.0-N13.5,N13.7-N13.9, N14,N15.0,N15.8-N15.9,N20-N23,N28-N39,N41-N64,N80-N98)\n",
    "# 3rd 27 : 159405 --- Malignant neoplasms of trachea, bronchus and lung (C33-C34)\n",
    "# 4th 59 : 151312 --- Acute myocardial infarction (I21-I22)\n",
    "# 5th 70 : 143789 --- Cerebrovascular diseases (I60-I69)\n",
    "#x = data_2005['age_recode_27'].values"
   ]
  },
  {
   "cell_type": "code",
   "execution_count": 29,
   "metadata": {},
   "outputs": [
    {
     "data": {
      "image/png": "[encoded data removed]",
      "text/plain": [
       "<Figure size 432x288 with 1 Axes>"
      ]
     },
     "metadata": {
      "needs_background": "light"
     },
     "output_type": "display_data"
    }
   ],
   "source": [
    "# Plot of No.63: All other forms of chronic ischemic heart disease\n",
    "x63 = data63['age_recode_27'].values\n",
    "plt.title(\"Histogram of All other forms of chronic ischemic heart disease\")\n",
    "#binblock = np.arange(650, 2950, 100)\n",
    "plt.hist(x63 ,bins = 'auto', rwidth=0.9)\n",
    "plt.xlabel(\"age_recode_27\")\n",
    "plt.ylabel(\"Numbers\")\n",
    "plt.show()"
   ]
  },
  {
   "cell_type": "code",
   "execution_count": 31,
   "metadata": {},
   "outputs": [
    {
     "data": {
      "image/png": "[encoded data removed]",
      "text/plain": [
       "<Figure size 432x288 with 1 Axes>"
      ]
     },
     "metadata": {
      "needs_background": "light"
     },
     "output_type": "display_data"
    }
   ],
   "source": [
    "# Plot of No.111: All other diseases (Residual) (D65-E07,E15-E34,E65-F99,G04-G12,G23-G25,G31-H93, K00-K22,K29-K31,K50-K66,K71-K72,K75-K76,K83-M99, N13.0-N13.5,N13.7-N13.9, N14,N15.0,N15.8-N15.9,N20-N23,N28-N39,N41-N64,N80-N98)\n",
    "x111 = data111['age_recode_27'].values\n",
    "plt.title(\"Histogram of All other diseases\")\n",
    "plt.hist(x111 ,bins = 'auto', rwidth=0.9)\n",
    "plt.xlabel(\"age_recode_27\")\n",
    "plt.ylabel(\"Numbers\")\n",
    "plt.show()"
   ]
  },
  {
   "cell_type": "code",
   "execution_count": 37,
   "metadata": {},
   "outputs": [
    {
     "data": {
      "image/png": "[encoded data removed]",
      "text/plain": [
       "<Figure size 432x288 with 1 Axes>"
      ]
     },
     "metadata": {
      "needs_background": "light"
     },
     "output_type": "display_data"
    }
   ],
   "source": [
    "# Plot of No. 27: Malignant neoplasms of trachea, bronchus and lung (C33-C34)\n",
    "x27 = data27['age_recode_27'].values\n",
    "plt.title(\"Histogram of Malignant neoplasms of trachea, bronchus and lung\")\n",
    "plt.hist(x27 ,bins = 'auto', rwidth=0.9)\n",
    "plt.xlabel(\"age_recode_27\")\n",
    "plt.ylabel(\"Numbers\")\n",
    "plt.show()"
   ]
  },
  {
   "cell_type": "code",
   "execution_count": 36,
   "metadata": {},
   "outputs": [
    {
     "data": {
      "image/png": "[encoded data removed]",
      "text/plain": [
       "<Figure size 432x288 with 1 Axes>"
      ]
     },
     "metadata": {
      "needs_background": "light"
     },
     "output_type": "display_data"
    }
   ],
   "source": [
    "# Plot of No. 59: Acute myocardial infarction (I21-I22)\n",
    "x59 = data59['age_recode_27'].values\n",
    "plt.title(\"Histogram of Acute myocardial infarction \")\n",
    "plt.hist(x59 ,bins = 'auto', rwidth=0.9)\n",
    "plt.xlabel(\"age_recode_27\")\n",
    "plt.ylabel(\"Numbers\")\n",
    "plt.show()"
   ]
  },
  {
   "cell_type": "code",
   "execution_count": 35,
   "metadata": {},
   "outputs": [
    {
     "data": {
      "image/png": "[encoded data removed]",
      "text/plain": [
       "<Figure size 432x288 with 1 Axes>"
      ]
     },
     "metadata": {
      "needs_background": "light"
     },
     "output_type": "display_data"
    }
   ],
   "source": [
    "# Plot of No. 70 : Cerebrovascular diseases (I60-I69)\n",
    "x70 = data70['age_recode_27'].values\n",
    "plt.title(\"Histogram of Cerebrovascular diseases \")\n",
    "plt.hist(x70 ,bins = 'auto', rwidth=0.9)\n",
    "plt.xlabel(\"age_recode_27\")\n",
    "plt.ylabel(\"Numbers\")\n",
    "plt.show()"
   ]
  },
  {
   "cell_type": "code",
   "execution_count": 3,
   "metadata": {},
   "outputs": [],
   "source": [
    "data_suicide = data_2005[data_2005['manner_of_death'].isin([2])]"
   ]
  },
  {
   "cell_type": "code",
   "execution_count": 5,
   "metadata": {},
   "outputs": [
    {
     "data": {
      "image/png": "[encoded data removed]",
      "text/plain": [
       "<Figure size 432x288 with 1 Axes>"
      ]
     },
     "metadata": {
      "needs_background": "light"
     },
     "output_type": "display_data"
    }
   ],
   "source": [
    "# Plot of Suicide\n",
    "x_suicide = data_suicide['age_recode_27'].values\n",
    "plt.title(\"Histogram of Suicide\")\n",
    "plt.hist(x_suicide ,bins = 'auto', rwidth=0.9)\n",
    "plt.xlabel(\"age_recode_27\")\n",
    "plt.ylabel(\"Numbers\")\n",
    "plt.show()"
   ]
  },
  {
   "cell_type": "code",
   "execution_count": 7,
   "metadata": {},
   "outputs": [],
   "source": [
    "data_accident = data_2005[data_2005['manner_of_death'].isin([1])]"
   ]
  },
  {
   "cell_type": "code",
   "execution_count": 8,
   "metadata": {},
   "outputs": [
    {
     "data": {
      "image/png": "[encoded data removed]",
      "text/plain": [
       "<Figure size 432x288 with 1 Axes>"
      ]
     },
     "metadata": {
      "needs_background": "light"
     },
     "output_type": "display_data"
    }
   ],
   "source": [
    "# Plot of Suicide\n",
    "x_accident = data_accident['age_recode_27'].values\n",
    "plt.title(\"Histogram of Accident\")\n",
    "plt.hist(x_accident ,bins = 'auto', rwidth=0.9)\n",
    "plt.xlabel(\"age_recode_27\")\n",
    "plt.ylabel(\"Numbers\")\n",
    "plt.show()"
   ]
  },
  {
   "cell_type": "code",
   "execution_count": 10,
   "metadata": {},
   "outputs": [],
   "source": [
    "data_homicide = data_2005[data_2005['manner_of_death'].isin([3])]"
   ]
  },
  {
   "cell_type": "code",
   "execution_count": 12,
   "metadata": {},
   "outputs": [
    {
     "data": {
      "image/png": "[encoded data removed]",
      "text/plain": [
       "<Figure size 432x288 with 1 Axes>"
      ]
     },
     "metadata": {
      "needs_background": "light"
     },
     "output_type": "display_data"
    }
   ],
   "source": [
    "# Plot of Homicide\n",
    "x_homicide = data_homicide['age_recode_27'].values\n",
    "plt.title(\"Histogram of Homicide\")\n",
    "plt.hist(x_homicide ,bins = 'auto', rwidth=0.9)\n",
    "plt.xlabel(\"age_recode_27\")\n",
    "plt.ylabel(\"Numbers\")\n",
    "plt.show()"
   ]
  },
  {
   "cell_type": "code",
   "execution_count": 13,
   "metadata": {},
   "outputs": [],
   "source": [
    "data_natural = data_2005[data_2005['manner_of_death'].isin([7])]"
   ]
  },
  {
   "cell_type": "code",
   "execution_count": 14,
   "metadata": {},
   "outputs": [
    {
     "data": {
      "image/png": "[encoded data removed]",
      "text/plain": [
       "<Figure size 432x288 with 1 Axes>"
      ]
     },
     "metadata": {
      "needs_background": "light"
     },
     "output_type": "display_data"
    }
   ],
   "source": [
    "# Plot of Natural\n",
    "x_natural = data_natural['age_recode_27'].values\n",
    "plt.title(\"Histogram of Natural\")\n",
    "plt.hist(x_natural ,bins = 'auto', rwidth=0.9)\n",
    "plt.xlabel(\"age_recode_27\")\n",
    "plt.ylabel(\"Numbers\")\n",
    "plt.show()"
   ]
  },
  {
   "cell_type": "code",
   "execution_count": 15,
   "metadata": {},
   "outputs": [],
   "source": [
    "data_pend = data_2005[data_2005['manner_of_death'].isin([4])]"
   ]
  },
  {
   "cell_type": "code",
   "execution_count": 17,
   "metadata": {},
   "outputs": [
    {
     "data": {
      "image/png": "[encoded data removed]",
      "text/plain": [
       "<Figure size 432x288 with 1 Axes>"
      ]
     },
     "metadata": {
      "needs_background": "light"
     },
     "output_type": "display_data"
    }
   ],
   "source": [
    "# Plot of Pending Investigation\n",
    "x_pend = data_pend['age_recode_27'].values\n",
    "plt.title(\"Histogram of Pending Investigation\")\n",
    "plt.hist(x_pend ,bins = 'auto', rwidth=0.9)\n",
    "plt.xlabel(\"age_recode_27\")\n",
    "plt.ylabel(\"Numbers\")\n",
    "plt.show()"
   ]
  },
  {
   "cell_type": "code",
   "execution_count": 18,
   "metadata": {},
   "outputs": [],
   "source": [
    "data_couldnot = data_2005[data_2005['manner_of_death'].isin([5])]"
   ]
  },
  {
   "cell_type": "code",
   "execution_count": 19,
   "metadata": {},
   "outputs": [
    {
     "data": {
      "image/png": "[encoded data removed]",
      "text/plain": [
       "<Figure size 432x288 with 1 Axes>"
      ]
     },
     "metadata": {
      "needs_background": "light"
     },
     "output_type": "display_data"
    }
   ],
   "source": [
    "# Plot of Could not determine\n",
    "x_couldnot = data_couldnot['age_recode_27'].values\n",
    "plt.title(\"Histogram of Could not determine\")\n",
    "plt.hist(x_couldnot ,bins = 'auto', rwidth=0.9)\n",
    "plt.xlabel(\"age_recode_27\")\n",
    "plt.ylabel(\"Numbers\")\n",
    "plt.show()"
   ]
  },
  {
   "cell_type": "code",
   "execution_count": 22,
   "metadata": {},
   "outputs": [],
   "source": [
    "data_selfinflicted = data_2005[data_2005['manner_of_death'].isin([6])]"
   ]
  },
  {
   "cell_type": "code",
   "execution_count": 23,
   "metadata": {},
   "outputs": [
    {
     "data": {
      "image/png": "[encoded data removed]",
      "text/plain": [
       "<Figure size 432x288 with 1 Axes>"
      ]
     },
     "metadata": {
      "needs_background": "light"
     },
     "output_type": "display_data"
    }
   ],
   "source": [
    "# Plot of Self-Inflicted → data empty\n",
    "x_selfinflicted = data_selfinflicted['age_recode_27'].values\n",
    "plt.title(\"Histogram of Self-Inflicted\")\n",
    "plt.hist(x_selfinflicted ,bins = 'auto', rwidth=0.9)\n",
    "plt.xlabel(\"age_recode_27\")\n",
    "plt.ylabel(\"Numbers\")\n",
    "plt.show()"
   ]
  },
  {
   "cell_type": "code",
   "execution_count": null,
   "metadata": {},
   "outputs": [],
   "source": []
  }
 ],
 "metadata": {
  "kernelspec": {
   "display_name": "Python 3",
   "language": "python",
   "name": "python3"
  },
  "language_info": {
   "codemirror_mode": {
    "name": "ipython",
    "version": 3
   },
   "file_extension": ".py",
   "mimetype": "text/x-python",
   "name": "python",
   "nbconvert_exporter": "python",
   "pygments_lexer": "ipython3",
   "version": "3.7.4"
  },
  "nbdime-conflicts": {
   "local_diff": [
    {
     "diff": [
      {
       "diff": [
        {
         "key": 0,
         "op": "addrange",
         "valuelist": [
          "3.7.2"
         ]
        },
        {
         "key": 0,
         "length": 1,
         "op": "removerange"
        }
       ],
       "key": "version",
       "op": "patch"
      }
     ],
     "key": "language_info",
     "op": "patch"
    }
   ],
   "remote_diff": [
    {
     "diff": [
      {
       "diff": [
        {
         "key": 0,
         "op": "addrange",
         "valuelist": [
          "3.7.4"
         ]
        },
        {
         "key": 0,
         "length": 1,
         "op": "removerange"
        }
       ],
       "key": "version",
       "op": "patch"
      }
     ],
     "key": "language_info",
     "op": "patch"
    }
   ]
  }
 },
 "nbformat": 4,
 "nbformat_minor": 2
}
